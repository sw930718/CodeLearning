{
 "cells": [
  {
   "cell_type": "markdown",
   "metadata": {},
   "source": [
    "python : 1초에 20,000,000(2천만)번 연산        \n",
    "(if 시간제한 2초면, 40,000,000번 연산 가능)         \n",
    "N<=10000 일때, O(N^2)로 코드를 짜면, 100,000,000 => 시간초과         \n",
    "            , O(NlogN)으로 코드 짜면, 133,000 => pass          \n",
    "            , O(N)으로 코드를 짜면, 10,000 => pass     \n",
    "\n",
    "각 알고리즘 시간복잡도 정리    \n",
    "DP. 점화식 : Nlog(N)\n",
    "이분탐색 :   \n",
    "정렬(quick sort)    "
   ]
  },
  {
   "cell_type": "markdown",
   "metadata": {},
   "source": [
    "2초, N<=10,000"
   ]
  },
  {
   "cell_type": "code",
   "execution_count": 13,
   "metadata": {},
   "outputs": [
    {
     "name": "stdout",
     "output_type": "stream",
     "text": [
      "33\n"
     ]
    }
   ],
   "source": [
    "import sys\n",
    "sys.stdin = open(\"input.txt\",\"r\")\n",
    "input=sys.stdin.readline\n",
    "\n",
    "# input\n",
    "n = int(input()) # n<=10000 : 시간 복잡도 \n",
    "arr = []\n",
    "for _ in range(n):\n",
    "    arr.append(int(input()))\n",
    "    \n",
    "# solve \n",
    "def solution(arr, n):\n",
    "    if n<=2:\n",
    "        return sum(arr[:n])\n",
    "    else:  \n",
    "        df = [0]*(n+1)   # 초기화 \n",
    "        df[0] = arr[0]\n",
    "        df[1] = arr[0]+arr[1]   # df[n] : n잔까지에서 최대로 마실 수 있는 포도주의 양\n",
    "        df[2] = max(arr[0]+arr[1], arr[1]+arr[2], arr[0]+arr[2])\n",
    "        \n",
    "        for i in range(3, n):\n",
    "            df[i] = max(df[i-1], df[i-2]+arr[i], df[i-3]+arr[i-1]+arr[i])\n",
    "\n",
    "        return df[n-1]\n",
    "    \n",
    "print(solution(arr,n))"
   ]
  }
 ],
 "metadata": {
  "interpreter": {
   "hash": "7b34b089ce0dfc9935940e0a22050b2949fa617f7a2b73925623c261bed16aeb"
  },
  "kernelspec": {
   "display_name": "Python 3.8.5 ('base')",
   "language": "python",
   "name": "python3"
  },
  "language_info": {
   "codemirror_mode": {
    "name": "ipython",
    "version": 3
   },
   "file_extension": ".py",
   "mimetype": "text/x-python",
   "name": "python",
   "nbconvert_exporter": "python",
   "pygments_lexer": "ipython3",
   "version": "3.8.5"
  },
  "orig_nbformat": 4
 },
 "nbformat": 4,
 "nbformat_minor": 2
}
