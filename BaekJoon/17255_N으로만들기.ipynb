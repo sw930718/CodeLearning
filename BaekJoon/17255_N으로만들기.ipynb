{
 "cells": [
  {
   "cell_type": "markdown",
   "metadata": {},
   "source": [
    "문제링크     \n"
   ]
  },
  {
   "cell_type": "markdown",
   "metadata": {},
   "source": [
    "설명 코드 ) DFS로 탐색하고, 중복 제거 "
   ]
  },
  {
   "cell_type": "markdown",
   "metadata": {},
   "source": [
    "<img width=\"449\" alt=\"스크린샷 2024-04-18 오후 9 02 52\" src=\"https://github.com/sw930718/CodeLearning/assets/47911773/505688eb-72b4-4da1-8163-d807ed44fd70\">"
   ]
  },
  {
   "cell_type": "markdown",
   "metadata": {},
   "source": [
    "<img width=\"628\" alt=\"스크린샷 2024-04-18 오후 9 03 54\" src=\"https://github.com/sw930718/CodeLearning/assets/47911773/de90e491-3a0f-43c0-8e73-cc4d13c33419\">"
   ]
  },
  {
   "cell_type": "code",
   "execution_count": 1,
   "metadata": {},
   "outputs": [
    {
     "name": "stdout",
     "output_type": "stream",
     "text": [
      "1 번째 res 리스트 : {'552521'}\n",
      "2 번째 res 리스트 : {'252521', '552521', '221521'}\n",
      "3 번째 res 리스트 : {'252521', '121521', '552521', '221521'}\n",
      "4\n"
     ]
    }
   ],
   "source": [
    "N = list(input().rstrip())\n",
    "length = len(N)\n",
    "\n",
    "def dfs(left, right, cur, temp):\n",
    "    if len(cur) == length:\n",
    "        res.add(temp)\n",
    "        return\n",
    "    if left > 0:\n",
    "        dfs(left - 1, right, N[left - 1:right], temp + ''.join(N[left - 1:right]))\n",
    "    if right < length:\n",
    "        dfs(left, right + 1, N[left:right + 1], temp + ''.join(N[left:right + 1]))\n",
    "\n",
    "res = set()\n",
    "for i in range(length):\n",
    "    dfs(i, i, [], '')\n",
    "    print(str(i+1),'번째 res 리스트 :',res)\n",
    "\n",
    "print(len(res))"
   ]
  },
  {
   "cell_type": "markdown",
   "metadata": {},
   "source": [
    "제출 코드 "
   ]
  },
  {
   "cell_type": "code",
   "execution_count": null,
   "metadata": {},
   "outputs": [],
   "source": [
    "import sys\n",
    "input = sys.stdin.readline\n",
    "\n",
    "N = list(input().rstrip())\n",
    "length = len(N)\n",
    "\n",
    "def dfs(left, right, cur, temp):\n",
    "    if len(cur) == length:\n",
    "        res.add(temp)\n",
    "        return\n",
    "    if left > 0:\n",
    "        dfs(left - 1, right, N[left - 1:right], temp + ''.join(N[left - 1:right]))\n",
    "    if right < length:\n",
    "        dfs(left, right + 1, N[left:right + 1], temp + ''.join(N[left:right + 1]))\n",
    "\n",
    "res = set()\n",
    "for i in range(length):\n",
    "    dfs(i, i, [], '')\n",
    "\n",
    "print(len(res))"
   ]
  }
 ],
 "metadata": {
  "interpreter": {
   "hash": "7b34b089ce0dfc9935940e0a22050b2949fa617f7a2b73925623c261bed16aeb"
  },
  "kernelspec": {
   "display_name": "Python 3.8.5 ('base')",
   "language": "python",
   "name": "python3"
  },
  "language_info": {
   "codemirror_mode": {
    "name": "ipython",
    "version": 3
   },
   "file_extension": ".py",
   "mimetype": "text/x-python",
   "name": "python",
   "nbconvert_exporter": "python",
   "pygments_lexer": "ipython3",
   "version": "3.8.5"
  },
  "orig_nbformat": 4
 },
 "nbformat": 4,
 "nbformat_minor": 2
}
