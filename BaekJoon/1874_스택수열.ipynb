{
 "cells": [
  {
   "cell_type": "code",
   "execution_count": 14,
   "metadata": {},
   "outputs": [
    {
     "name": "stdout",
     "output_type": "stream",
     "text": [
      "NO\n"
     ]
    }
   ],
   "source": [
    "import sys\n",
    "sys.stdin = open(\"input.txt\",\"r\")\n",
    "input=sys.stdin.readline\n",
    "\n",
    "# input\n",
    "n = int(input()) # n<=10000 : 시간 복잡도 \n",
    "arr = []\n",
    "for _ in range(n):\n",
    "    arr.append(int(input()))\n",
    "    \n",
    "# solve\n",
    "def solution(n,arr):\n",
    "    num = []\n",
    "    answer_arr = []\n",
    "    cnt = 0\n",
    "    i = 1\n",
    "    answer=[]\n",
    "    \n",
    "    while len(answer_arr) < n:\n",
    "        # pop 되고나서, num의 마지막값이 answer에서 찾던 값인 경우\n",
    "        if (num) and (num[-1] == arr[cnt]):\n",
    "            answer_arr.append(num.pop())\n",
    "            answer.append(\"-\")\n",
    "            cnt+=1\n",
    "            continue\n",
    "        # num 에 숫자 계속 더하기 \n",
    "        num.append(i)\n",
    "        i+=1\n",
    "        answer.append(\"+\")\n",
    "        # 추가된 후, num의 마지막값이 answer에서 찾던 값인 경우\n",
    "        if num[-1] == arr[cnt]:\n",
    "            answer_arr.append(num.pop())\n",
    "            answer.append(\"-\") \n",
    "            cnt+=1  \n",
    "            \n",
    "        if i > (n+1) : # i=n까지 갔는데도 원하는 수열 못 만든 경우 \n",
    "            answer = []\n",
    "            break\n",
    "        \n",
    "    return answer\n",
    "\n",
    "ans = solution(n,arr)         \n",
    "if ans :\n",
    "    for i in ans:\n",
    "        print(i)\n",
    "else:\n",
    "    print(\"NO\")"
   ]
  }
 ],
 "metadata": {
  "interpreter": {
   "hash": "7b34b089ce0dfc9935940e0a22050b2949fa617f7a2b73925623c261bed16aeb"
  },
  "kernelspec": {
   "display_name": "Python 3.8.5 ('base')",
   "language": "python",
   "name": "python3"
  },
  "language_info": {
   "codemirror_mode": {
    "name": "ipython",
    "version": 3
   },
   "file_extension": ".py",
   "mimetype": "text/x-python",
   "name": "python",
   "nbconvert_exporter": "python",
   "pygments_lexer": "ipython3",
   "version": "3.8.5"
  },
  "orig_nbformat": 4
 },
 "nbformat": 4,
 "nbformat_minor": 2
}
