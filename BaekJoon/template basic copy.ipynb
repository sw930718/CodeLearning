{
 "cells": [
  {
   "cell_type": "markdown",
   "metadata": {},
   "source": [
    "문제링크     \n"
   ]
  },
  {
   "cell_type": "markdown",
   "metadata": {},
   "source": [
    "풀이1 ) //구현 아이디어"
   ]
  },
  {
   "cell_type": "code",
   "execution_count": 3,
   "metadata": {},
   "outputs": [],
   "source": [
    "import sys\n",
    "sys.stdin=open(\"input.txt\",\"r\")\n",
    "M, N = map(int, sys.stdin.readline().split())\n",
    "MList = list((sys.stdin.readline().split()))"
   ]
  },
  {
   "cell_type": "code",
   "execution_count": 7,
   "metadata": {},
   "outputs": [
    {
     "name": "stdout",
     "output_type": "stream",
     "text": [
      "4\n"
     ]
    }
   ],
   "source": [
    "import sys\n",
    "sys.stdin=open(\"input.txt\",\"r\")\n",
    "M, N = map(int, sys.stdin.readline().split())\n",
    "MList = list(map(int, sys.stdin.readline().split()))\n",
    "    \n",
    "start = 1\n",
    "end = max(MList)\n",
    "\n",
    "answer=0\n",
    "while start<=end :\n",
    "    if start < 1: # start < 1이 되면 mid가 0 or -1이 되서 나눗셈할때 문제 발생  \n",
    "        start = 1\n",
    "        \n",
    "    mid = (start+end)//2\n",
    "    cutN = sum(map(lambda i: i//mid, MList)) \n",
    "    \n",
    "    if N <= cutN: # 필요한 랜선수 N < 얻은 랜선수 cutN 이어도 OK\n",
    "        # if answer<mid: # 필요없는 이유) 위 조건문을 통과해 오는것이 mid가 커지는 방향이라  \n",
    "        answer=mid\n",
    "        start=mid+1\n",
    "    else:\n",
    "        end=mid-1\n",
    "\n",
    "print(answer)"
   ]
  },
  {
   "cell_type": "code",
   "execution_count": 8,
   "metadata": {},
   "outputs": [
    {
     "name": "stdout",
     "output_type": "stream",
     "text": [
      "8\n"
     ]
    }
   ],
   "source": [
    "import sys\n",
    "sys.stdin=open(\"input.txt\",\"r\")\n",
    "M, N = map(int, sys.stdin.readline().split())\n",
    "MList = list(map(int, sys.stdin.readline().split()))\n",
    "\n",
    "# mid 길이로 만들 수 있는 막대 과자 개수\n",
    "def check(mid):\n",
    "    cnt = 0\n",
    "    for length in MList:\n",
    "        cnt += length//mid\n",
    "    return cnt\n",
    "\n",
    "# 시작과 끝 값\n",
    "start, end = 1, max(MList)\n",
    "\n",
    "# 이진 탐색\n",
    "while start <= end:\n",
    "    mid = (start + end) // 2\n",
    "    if check(mid) >= M:\n",
    "        start = mid+1\n",
    "    else:\n",
    "        end = mid-1\n",
    "        \n",
    "print(end) # M명의 조카에게 줄 수 있는 막대 과자의 최대 길이"
   ]
  },
  {
   "cell_type": "code",
   "execution_count": null,
   "metadata": {},
   "outputs": [],
   "source": [
    "N = int(input())\n",
    "A = list(map(int, input().split()))\n",
    "Op = list(map(int, input().split()))\n",
    "\n",
    "Min = 1e9\n",
    "Max = -1e9\n",
    "\n",
    "\n",
    "def Recur(Add, Sub, Mul, Div, n, Res):\n",
    "    global Min,Max\n",
    "    if n < N-1:\n",
    "        if 0 < Add:\n",
    "            Recur(Add-1, Sub, Mul, Div, n+1, Res+A[n+1])\n",
    "        if 0 < Sub:\n",
    "            Recur(Add, Sub-1, Mul, Div, n+1, Res-A[n+1])\n",
    "        if 0 < Mul:\n",
    "            Recur(Add, Sub, Mul-1, Div, n+1, Res*A[n+1])\n",
    "        if 0 < Div:\n",
    "            Recur(Add, Sub, Mul, Div-1, n+1, int(Res/A[n+1]))\n",
    "    else:\n",
    "        Min = min(Min,Res)\n",
    "        Max = max(Max,Res)\n",
    "\n",
    "Recur(Op[0], Op[1], Op[2], Op[3], 0, A[0])\n",
    "print(Max)\n",
    "print(Min)"
   ]
  },
  {
   "cell_type": "code",
   "execution_count": null,
   "metadata": {},
   "outputs": [],
   "source": [
    "import sys\n",
    "N, M, y, x, K = map(int, sys.stdin.readline().split())\n",
    "board = [list(map(int, sys.stdin.readline().split())) for _ in range(N)]\n",
    "dice_move = list(map(int, sys.stdin.readline().split()))\n",
    "\n",
    "dice = [0, 0, 0, 0, 0, 0] # 가장 처음 주사위에는 모든 면이 0이라 했으므로 \n",
    "dy = [0, 0, -1, 1] \n",
    "dx = [1, -1, 0, 0]\n",
    "\n",
    "def roll(move): # 지도위에 윗면 1, 동쪽 3인 상태로 놓여있도록 하며 굴리기 \n",
    "    if move == 1: # 동쪽으로 굴리면\n",
    "        dice[0], dice[1], dice[2], dice[3], dice[4], dice[5] = dice[3], dice[1], dice[0], dice[5], dice[4], dice[2] \n",
    "    elif move == 2: # 서쪽으로 굴리면\n",
    "        dice[0], dice[1], dice[2], dice[3], dice[4], dice[5] = dice[2], dice[1], dice[5], dice[0], dice[4], dice[3] \n",
    "    elif move == 3: # 북쪽으로 굴리면\n",
    "        dice[0], dice[1], dice[2], dice[3], dice[4], dice[5] = dice[4], dice[0], dice[2], dice[3], dice[5], dice[1] \n",
    "    elif move == 4: # 남쪽으로 굴리면\n",
    "        dice[0], dice[1], dice[2], dice[3], dice[4], dice[5] = dice[1], dice[5], dice[2], dice[3], dice[0], dice[4] \n",
    "\n",
    "for i in dice_move:\n",
    "    if 0 <= y + dy[i-1] < N and 0 <= x + dx[i-1] < M: # 맵밖으로 나가면 동작 안한다 했으므로 \n",
    "        y = y + dy[i-1]\n",
    "        x = x + dx[i-1]\n",
    "        roll(i)\n",
    "        if board[y][x] == 0: # 이동한 칸에 쓰인 수가 0 -> 주사위 바닥면에 있는 수를 칸에 복사\n",
    "            board[y][x] = dice[5]\n",
    "        else : # 0이 아니면 -> 칸에 쓰인 수가 주사위 바닥면에 복사 & 칸에 쓰인 수는 0\n",
    "            dice[5] = board[y][x]\n",
    "            board[y][x] = 0\n",
    "            \n",
    "        print(dice[0]) # 주사위 상단값 출력 "
   ]
  }
 ],
 "metadata": {
  "kernelspec": {
   "display_name": "base",
   "language": "python",
   "name": "python3"
  },
  "language_info": {
   "codemirror_mode": {
    "name": "ipython",
    "version": 3
   },
   "file_extension": ".py",
   "mimetype": "text/x-python",
   "name": "python",
   "nbconvert_exporter": "python",
   "pygments_lexer": "ipython3",
   "version": "3.8.5"
  },
  "orig_nbformat": 4
 },
 "nbformat": 4,
 "nbformat_minor": 2
}
