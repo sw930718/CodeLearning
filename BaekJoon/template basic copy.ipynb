{
 "cells": [
  {
   "cell_type": "markdown",
   "metadata": {},
   "source": [
    "문제링크     \n"
   ]
  },
  {
   "cell_type": "markdown",
   "metadata": {},
   "source": [
    "풀이1 ) //구현 아이디어"
   ]
  },
  {
   "cell_type": "code",
   "execution_count": 3,
   "metadata": {},
   "outputs": [],
   "source": [
    "import sys\n",
    "sys.stdin=open(\"input.txt\",\"r\")\n",
    "M, N = map(int, sys.stdin.readline().split())\n",
    "MList = list((sys.stdin.readline().split()))"
   ]
  },
  {
   "cell_type": "code",
   "execution_count": 7,
   "metadata": {},
   "outputs": [
    {
     "name": "stdout",
     "output_type": "stream",
     "text": [
      "4\n"
     ]
    }
   ],
   "source": [
    "import sys\n",
    "sys.stdin=open(\"input.txt\",\"r\")\n",
    "M, N = map(int, sys.stdin.readline().split())\n",
    "MList = list(map(int, sys.stdin.readline().split()))\n",
    "    \n",
    "start = 1\n",
    "end = max(MList)\n",
    "\n",
    "answer=0\n",
    "while start<=end :\n",
    "    if start < 1: # start < 1이 되면 mid가 0 or -1이 되서 나눗셈할때 문제 발생  \n",
    "        start = 1\n",
    "        \n",
    "    mid = (start+end)//2\n",
    "    cutN = sum(map(lambda i: i//mid, MList)) \n",
    "    \n",
    "    if N <= cutN: # 필요한 랜선수 N < 얻은 랜선수 cutN 이어도 OK\n",
    "        # if answer<mid: # 필요없는 이유) 위 조건문을 통과해 오는것이 mid가 커지는 방향이라  \n",
    "        answer=mid\n",
    "        start=mid+1\n",
    "    else:\n",
    "        end=mid-1\n",
    "\n",
    "print(answer)"
   ]
  },
  {
   "cell_type": "code",
   "execution_count": 8,
   "metadata": {},
   "outputs": [
    {
     "name": "stdout",
     "output_type": "stream",
     "text": [
      "8\n"
     ]
    }
   ],
   "source": [
    "import sys\n",
    "sys.stdin=open(\"input.txt\",\"r\")\n",
    "M, N = map(int, sys.stdin.readline().split())\n",
    "MList = list(map(int, sys.stdin.readline().split()))\n",
    "\n",
    "# mid 길이로 만들 수 있는 막대 과자 개수\n",
    "def check(mid):\n",
    "    cnt = 0\n",
    "    for length in MList:\n",
    "        cnt += length//mid\n",
    "    return cnt\n",
    "\n",
    "# 시작과 끝 값\n",
    "start, end = 1, max(MList)\n",
    "\n",
    "# 이진 탐색\n",
    "while start <= end:\n",
    "    mid = (start + end) // 2\n",
    "    if check(mid) >= M:\n",
    "        start = mid+1\n",
    "    else:\n",
    "        end = mid-1\n",
    "        \n",
    "print(end) # M명의 조카에게 줄 수 있는 막대 과자의 최대 길이"
   ]
  },
  {
   "cell_type": "code",
   "execution_count": null,
   "metadata": {},
   "outputs": [],
   "source": []
  }
 ],
 "metadata": {
  "interpreter": {
   "hash": "7b34b089ce0dfc9935940e0a22050b2949fa617f7a2b73925623c261bed16aeb"
  },
  "kernelspec": {
   "display_name": "Python 3.8.5 ('base')",
   "language": "python",
   "name": "python3"
  },
  "language_info": {
   "codemirror_mode": {
    "name": "ipython",
    "version": 3
   },
   "file_extension": ".py",
   "mimetype": "text/x-python",
   "name": "python",
   "nbconvert_exporter": "python",
   "pygments_lexer": "ipython3",
   "version": "3.8.5"
  },
  "orig_nbformat": 4
 },
 "nbformat": 4,
 "nbformat_minor": 2
}
