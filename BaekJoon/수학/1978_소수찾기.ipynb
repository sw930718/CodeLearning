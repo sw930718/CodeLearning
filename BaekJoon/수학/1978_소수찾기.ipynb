{
 "cells": [
  {
   "cell_type": "markdown",
   "metadata": {},
   "source": [
    "### 문제    \n",
    "https://www.acmicpc.net/problem/1978    \n",
    "_    \n",
    "주어진 수 N개 중에서 소수가 몇 개인지 찾아서 출력하는 프로그램을 작성하시오.      \n",
    "\n",
    "#### 입력  \n",
    "첫 줄에 수의 개수 N이 주어진다. N은 100이하이다. 다음으로 N개의 수가 주어지는데 수는 1,000 이하의 자연수이다.    \n",
    "\n",
    "#### 출력  \n",
    "주어진 수들 중 소수의 개수를 출력한다.   \n",
    "\n",
    "#### 예제 \n",
    "[input]   \n",
    "4     \n",
    "1 3 5 7     \n",
    "\n",
    "[output]    \n",
    "3    \n",
    "\n",
    "#### 조건 \n",
    "- 시간제한 : 2초     \n",
    "- 메모리제한 : 128MB    \n",
    "\n",
    "#### 알고리즘 분류 \n",
    "수학, 정수론, 소수판정, 에라토스테네스의 체    "
   ]
  },
  {
   "cell_type": "markdown",
   "metadata": {},
   "source": [
    "풀이1) 하나의 소수 판별 - 브루트포스     \n",
    "- 시간복잡도 : O(N) "
   ]
  },
  {
   "cell_type": "code",
   "execution_count": 1,
   "metadata": {},
   "outputs": [],
   "source": [
    "def isprime1(num):\n",
    "    if num == 1:\n",
    "        return False\n",
    "    for i in range(2,num):\n",
    "        if num%i == 0:\n",
    "            return False\n",
    "    return True "
   ]
  },
  {
   "cell_type": "markdown",
   "metadata": {},
   "source": [
    "풀이1) 하나의 소수 판별 - 브루트포스 발전    \n",
    "- 시간복잡도 : O(N**0.5)"
   ]
  },
  {
   "cell_type": "code",
   "execution_count": null,
   "metadata": {},
   "outputs": [],
   "source": [
    "import math \n",
    "\n",
    "def isprime2(num):\n",
    "    if num == 1:\n",
    "        return False\n",
    "    for i in range(2,int(math.sqrt(num))+1):\n",
    "        if num%i == 0:\n",
    "            return False\n",
    "    return True"
   ]
  },
  {
   "cell_type": "markdown",
   "metadata": {},
   "source": [
    "풀이2 ) 범위 내 소수 모두 찾기 - 에라토스테네스의 체    \n",
    "- 시간복잡도 : O(nlogn)"
   ]
  },
  {
   "cell_type": "code",
   "execution_count": 5,
   "metadata": {},
   "outputs": [],
   "source": [
    "def allprime(n):\n",
    "    ns = list(range(2, n+1))\n",
    "    check = [True]*(n+1)\n",
    "    \n",
    "    prime=[]\n",
    "    for i in ns: \n",
    "        if check[i] :\n",
    "            prime.append(ns[i])\n",
    "            for j in range(i*2,n+1,i):\n",
    "                check[j] = False\n",
    "    return prime"
   ]
  },
  {
   "cell_type": "code",
   "execution_count": 9,
   "metadata": {},
   "outputs": [
    {
     "data": {
      "text/plain": [
       "1"
      ]
     },
     "execution_count": 9,
     "metadata": {},
     "output_type": "execute_result"
    }
   ],
   "source": [
    "4%3"
   ]
  },
  {
   "cell_type": "markdown",
   "metadata": {},
   "source": [
    "------------"
   ]
  },
  {
   "cell_type": "code",
   "execution_count": 2,
   "metadata": {},
   "outputs": [
    {
     "name": "stdout",
     "output_type": "stream",
     "text": [
      "3\n"
     ]
    }
   ],
   "source": [
    "N = int(input())\n",
    "number = list(map(int, input().split()))\n",
    "cnt=0\n",
    "\n",
    "for i in number:\n",
    "    if isprime1(i):\n",
    "        cnt+=1\n",
    "\n",
    "print(cnt)"
   ]
  }
 ],
 "metadata": {
  "interpreter": {
   "hash": "7b34b089ce0dfc9935940e0a22050b2949fa617f7a2b73925623c261bed16aeb"
  },
  "kernelspec": {
   "display_name": "Python 3 (ipykernel)",
   "language": "python",
   "name": "python3"
  },
  "language_info": {
   "codemirror_mode": {
    "name": "ipython",
    "version": 3
   },
   "file_extension": ".py",
   "mimetype": "text/x-python",
   "name": "python",
   "nbconvert_exporter": "python",
   "pygments_lexer": "ipython3",
   "version": "3.8.5"
  }
 },
 "nbformat": 4,
 "nbformat_minor": 2
}
