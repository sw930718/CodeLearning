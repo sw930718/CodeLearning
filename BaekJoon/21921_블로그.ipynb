{
 "cells": [
  {
   "cell_type": "markdown",
   "metadata": {},
   "source": [
    "### 문제    \n",
    "https://www.acmicpc.net/problem/21921"
   ]
  },
  {
   "cell_type": "markdown",
   "metadata": {},
   "source": [
    "풀이1 ) 시간초과 "
   ]
  },
  {
   "cell_type": "code",
   "execution_count": 4,
   "metadata": {},
   "outputs": [
    {
     "name": "stdout",
     "output_type": "stream",
     "text": [
      "SAD\n"
     ]
    }
   ],
   "source": [
    "N, X = map(int, input().split())\n",
    "visiter = list(map(int, input().split()))\n",
    "\n",
    "num = N-X+1\n",
    "max_visit = 0\n",
    "cnt = 1\n",
    "\n",
    "for i in range(num):\n",
    "    sum_visit = sum(visiter[i:i+X])\n",
    "    if max_visit < sum_visit:\n",
    "        cnt = 1 # cnt 초기화\n",
    "        max_visit = sum_visit\n",
    "    elif max_visit != 0 and max_visit == sum_visit:\n",
    "        cnt += 1\n",
    "    else:\n",
    "        continue\n",
    "\n",
    "# print\n",
    "if max_visit == 0:\n",
    "    print(\"SAD\")\n",
    "else:\n",
    "    print(max_visit)\n",
    "    print(cnt)\n",
    "    "
   ]
  },
  {
   "cell_type": "markdown",
   "metadata": {},
   "source": [
    "풀이 2 ) Bottom-up 방식 -> 정답. 58780KB, 164ms "
   ]
  },
  {
   "cell_type": "code",
   "execution_count": 3,
   "metadata": {},
   "outputs": [
    {
     "name": "stdout",
     "output_type": "stream",
     "text": [
      "SAD\n"
     ]
    }
   ],
   "source": [
    "N, X = map(int, input().split())\n",
    "visiter = list(map(int, input().split()))\n",
    "\n",
    "num = N-X+1\n",
    "d = [0]*(N-X+1) # X 기간 동안의 더한 값들 \n",
    "d[0] = sum(visiter[0:X])\n",
    "\n",
    "for i in range(1,num):\n",
    "    d[i]=d[i-1]+visiter[i+X-1]-visiter[i-1]\n",
    "\n",
    "if max(d) == 0:\n",
    "    print(\"SAD\")\n",
    "else:\n",
    "    max_vister = max(d)\n",
    "    print(max_vister)\n",
    "    print(d.count(max_vister))\n",
    "    "
   ]
  }
 ],
 "metadata": {
  "interpreter": {
   "hash": "7b34b089ce0dfc9935940e0a22050b2949fa617f7a2b73925623c261bed16aeb"
  },
  "kernelspec": {
   "display_name": "Python 3.8.5 ('base')",
   "language": "python",
   "name": "python3"
  },
  "language_info": {
   "codemirror_mode": {
    "name": "ipython",
    "version": 3
   },
   "file_extension": ".py",
   "mimetype": "text/x-python",
   "name": "python",
   "nbconvert_exporter": "python",
   "pygments_lexer": "ipython3",
   "version": "3.8.5"
  },
  "orig_nbformat": 4
 },
 "nbformat": 4,
 "nbformat_minor": 2
}
