{
 "cells": [
  {
   "cell_type": "markdown",
   "metadata": {},
   "source": [
    "문제링크     \n"
   ]
  },
  {
   "cell_type": "markdown",
   "metadata": {},
   "source": [
    "풀이1 ) //구현 아이디어"
   ]
  },
  {
   "cell_type": "markdown",
   "metadata": {},
   "source": [
    "음수 간선 -> 벨만 포드 알고리즘 "
   ]
  },
  {
   "cell_type": "code",
   "execution_count": null,
   "metadata": {},
   "outputs": [],
   "source": [
    "import sys\n",
    "input = sys.stdin.readline\n",
    "INF = float('inf')\n",
    "\n",
    "\n",
    "def bellmanford(start, n, m):\n",
    "    dist[start] = 0\n",
    "\n",
    "    for i in range(n): # 도시(정점)의 개수 \n",
    "        for j in range(m): # 도시별 버스노드(간선)의 개수 \n",
    "            cur, next_node, cost = edges[j]\n",
    "            if dist[cur] != INF and dist[next_node] > dist[cur] + cost: # 이전 비용보다 지금 노드 이동 비용이 저렴할 때\n",
    "                dist[next_node] = dist[cur] + cost # 최단거리 갱신 \n",
    "                if i == n - 1:\n",
    "                    return True\n",
    "\n",
    "    return False\n",
    "\n",
    "# input \n",
    "n, m = map(int, input().split())\n",
    "edges = []\n",
    "for _ in range(m):\n",
    "    cur, next_node, cost = map(int, input().split())\n",
    "    edges.append((cur, next_node, cost))\n",
    "\n",
    "dist = [INF] * (n + 1)\n",
    "\n",
    "if bellmanford(1, n, m):\n",
    "    print(-1)\n",
    "else:\n",
    "    for i in range(2, n + 1):\n",
    "        print(dist[i] if dist[i] != INF else -1)"
   ]
  }
 ],
 "metadata": {
  "interpreter": {
   "hash": "7b34b089ce0dfc9935940e0a22050b2949fa617f7a2b73925623c261bed16aeb"
  },
  "kernelspec": {
   "display_name": "Python 3.8.5 ('base')",
   "language": "python",
   "name": "python3"
  },
  "language_info": {
   "codemirror_mode": {
    "name": "ipython",
    "version": 3
   },
   "file_extension": ".py",
   "mimetype": "text/x-python",
   "name": "python",
   "nbconvert_exporter": "python",
   "pygments_lexer": "ipython3",
   "version": "3.8.5"
  },
  "orig_nbformat": 4
 },
 "nbformat": 4,
 "nbformat_minor": 2
}
