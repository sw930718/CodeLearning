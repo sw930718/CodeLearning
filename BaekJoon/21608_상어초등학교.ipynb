{
 "cells": [
  {
   "cell_type": "markdown",
   "metadata": {},
   "source": [
    "https://www.acmicpc.net/problem/21608"
   ]
  },
  {
   "cell_type": "markdown",
   "metadata": {},
   "source": [
    "풀이1 ) //구현 아이디어"
   ]
  },
  {
   "cell_type": "code",
   "execution_count": 3,
   "metadata": {},
   "outputs": [
    {
     "name": "stdout",
     "output_type": "stream",
     "text": [
      "54\n"
     ]
    }
   ],
   "source": [
    "import sys\n",
    "sys.stdin = open(\"input.txt\",\"r\") # 백준 제출전 삭제 \n",
    "input = sys.stdin.readline\n",
    "\n",
    "dr = [-1, 1, 0, 0]\n",
    "dc = [0, 0, -1, 1]\n",
    "\n",
    "## input ##  \n",
    "n = int(input()) \n",
    "arr = [[0]*n for _ in range(n)]\n",
    "students = [list(map(int, input().split())) for _ in range(n**2)]\n",
    "\n",
    "# 자리 앉히기\n",
    "for order in range(n**2):\n",
    "    student = students[order]\n",
    "    # 여기다가 가능한 자리를 다 담아서 정렬 후 앉힘\n",
    "    tmp = []\n",
    "    for i in range(n):\n",
    "        for j in range(n):\n",
    "            if arr[i][j] == 0:\n",
    "                like = 0\n",
    "                blank = 0\n",
    "                for k in range(4):\n",
    "                    nr, nc = i + dr[k], j + dc[k]\n",
    "                    if 0 <= nr < n and 0 <= nc < n:\n",
    "                        if arr[nr][nc] in student[1:]:\n",
    "                            like += 1\n",
    "                        if arr[nr][nc] == 0:\n",
    "                            blank += 1\n",
    "                tmp.append([like, blank, i, j])\n",
    "    # like, blank는 클 수록, 행과 열의 수는 작을수록. lambda 뒤의 조건 주의\n",
    "    tmp.sort(key= lambda x:(-x[0], -x[1], x[2], x[3]))\n",
    "    # 정렬 후 앞에 있는 리스트의 행과 열의 번호에 학생 앉히기 \n",
    "    arr[tmp[0][2]][tmp[0][3]] = student[0]\n",
    "\n",
    "result = 0\n",
    "# 점수를 매길 때는 학생 순서대로 점수 주기 위해 정렬\n",
    "students.sort()\n",
    "\n",
    "for i in range(n):\n",
    "    for j in range(n):\n",
    "        ans = 0\n",
    "        for k in range(4):\n",
    "            nr, nc = i + dr[k], j + dc[k]\n",
    "            if 0 <= nr < n and 0 <= nc < n:\n",
    "                if arr[nr][nc] in students[arr[i][j]-1]:\n",
    "                    ans += 1\n",
    "        if ans != 0:\n",
    "            result += 10 ** (ans-1)\n",
    "print(result)"
   ]
  }
 ],
 "metadata": {
  "interpreter": {
   "hash": "7b34b089ce0dfc9935940e0a22050b2949fa617f7a2b73925623c261bed16aeb"
  },
  "kernelspec": {
   "display_name": "Python 3.8.5 ('base')",
   "language": "python",
   "name": "python3"
  },
  "language_info": {
   "codemirror_mode": {
    "name": "ipython",
    "version": 3
   },
   "file_extension": ".py",
   "mimetype": "text/x-python",
   "name": "python",
   "nbconvert_exporter": "python",
   "pygments_lexer": "ipython3",
   "version": "3.8.5"
  },
  "orig_nbformat": 4
 },
 "nbformat": 4,
 "nbformat_minor": 2
}
