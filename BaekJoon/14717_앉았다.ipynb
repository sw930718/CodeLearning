{
 "cells": [
  {
   "cell_type": "code",
   "execution_count": null,
   "id": "eb6fb75d",
   "metadata": {},
   "outputs": [],
   "source": [
    "import sys\n",
    "\n",
    "input = sys.stdin.readline\n",
    "N, M = map(int, input().split())\n",
    "\n",
    "combi = (18*17)//2\n",
    "cnt=0\n",
    "if N == M :\n",
    "    cnt = combi-10+N\n",
    "else:\n",
    "    for i in range((N+M)%10):\n",
    "        if i&1:\n",
    "            cnt += 16\n",
    "        else:\n",
    "            cnt += 12\n",
    "            if (2*N)%10 == i:\n",
    "                cnt += 2\n",
    "            if (2*M)%10 == i:\n",
    "                cnt += 2\n",
    "                \n",
    "answer = cnt/combi\n",
    "print(f'{round(answer,3):.3f}')"
   ]
  }
 ],
 "metadata": {
  "language_info": {
   "name": "python"
  }
 },
 "nbformat": 4,
 "nbformat_minor": 5
}
