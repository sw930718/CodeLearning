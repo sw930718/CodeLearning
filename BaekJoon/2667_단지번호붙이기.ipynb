{
 "cells": [
  {
   "cell_type": "markdown",
   "metadata": {},
   "source": [
    "### 문제    \n",
    "https://www.acmicpc.net/problem/2667   \n",
    "_    \n",
    "<그림 1>과 같이 정사각형 모양의 지도가 있다. 1은 집이 있는 곳을, 0은 집이 없는 곳을 나타낸다.    \n",
    "철수는 이 지도를 가지고 연결된 집의 모임인 단지를 정의하고, 단지에 번호를 붙이려 한다.   \n",
    "여기서 연결되었다는 것은 어떤 집이 좌우, 혹은 아래위로 다른 집이 있는 경우를 말한다. 대각선상에 집이 있는 경우는 연결된 것이 아니다.   \n",
    "<그림 2>는 <그림 1>을 단지별로 번호를 붙인 것이다.  \n",
    "지도를 입력하여 단지수를 출력하고, 각 단지에 속하는 집의 수를 오름차순으로 정렬하여 출력하는 프로그램을 작성하시오.      \n",
    "<img width=\"483\" alt=\"스크린샷 2022-11-20 오후 9 49 04\" src=\"https://user-images.githubusercontent.com/47911773/202902703-f2f77c62-ce12-47e6-acee-f4c852ebcbc9.png\">  \n",
    " \n",
    "\n",
    "#### 입력  \n",
    "첫 번째 줄에는 지도의 크기 N(정사각형이므로 가로와 세로의 크기는 같으며 5≤N≤25)이 입력  \n",
    "그 다음 N개의 줄에는 각각 N개의 자료(0혹은 1)가 입력   \n",
    "\n",
    "#### 출력  \n",
    "첫 번째 줄에는 총 단지수를 출력    \n",
    "그리고 각 단지내 집의 수를 오름차순으로 정렬하여 한 줄에 하나씩 출력    \n",
    "\n",
    "#### 예제 \n",
    "[input]   \n",
    "7   \n",
    "0110100   \n",
    "0110101   \n",
    "1110101   \n",
    "0000111   \n",
    "0100000   \n",
    "0111110   \n",
    "0111000   \n",
    "\n",
    "[output]    \n",
    "3   \n",
    "7   \n",
    "8   \n",
    "9   \n",
    "\n",
    "#### 조건 \n",
    "- 시간제한 : 1초     \n",
    "- 메모리제한 : 128MB\n",
    "\n",
    "#### 알고리즘 분류 \n",
    "그래프이론, 그래프탐색, 너비우선탐색, 깊이우선탐색  "
   ]
  },
  {
   "cell_type": "markdown",
   "metadata": {},
   "source": [
    "풀이1 ) bfs/dfs를 이용해 단지내 아파트 수 계산, for문을 이용해 모든 단지 탐색 "
   ]
  },
  {
   "cell_type": "code",
   "execution_count": 3,
   "metadata": {},
   "outputs": [
    {
     "name": "stdout",
     "output_type": "stream",
     "text": [
      "<generator object <genexpr> at 0x7f996a819510>\n"
     ]
    }
   ],
   "source": [
    "from collections import deque\n",
    "\n",
    "N = int(input())\n",
    "graph=[]\n",
    "for _ in range(N):\n",
    "    graph.append(list(map(int, input())))\n",
    "\n",
    "direct=[(-1,0),(1,0),(0,-1),(0,1)] # 상하좌우 \n",
    "\n",
    "# bfs\n",
    "def bfs(x,y):\n",
    "    queue = deque()\n",
    "    queue.append((x,y))\n",
    "    graph[x][y] = 0\n",
    "    \n",
    "    apart=1\n",
    "    while queue:\n",
    "        x,y = queue.popleft()\n",
    "        for i in range(4):\n",
    "            x1 = x + direct[i][0]\n",
    "            y1 = y + direct[i][1]\n",
    "            \n",
    "            if x1<0 or y1<0 or x1>(N-1) or y1>(N-1):\n",
    "                continue\n",
    "            if graph[x1][y1]==0:\n",
    "                continue\n",
    "            if graph[x1][y1]==1:\n",
    "                apart+=1\n",
    "                graph[x1][y1] = 0\n",
    "                queue.append((x1,y1))\n",
    "                \n",
    "    return apart\n",
    "                                \n",
    "        \n",
    "aparts=[]\n",
    "for i in range(N):\n",
    "    for j in range(N):\n",
    "        if graph[i][j] == 1:\n",
    "            aparts.append(bfs(i,j))\n",
    "\n",
    "print(len(aparts))\n",
    "for cnt in sorted(aparts): print(cnt)  "
   ]
  }
 ],
 "metadata": {
  "interpreter": {
   "hash": "7b34b089ce0dfc9935940e0a22050b2949fa617f7a2b73925623c261bed16aeb"
  },
  "kernelspec": {
   "display_name": "Python 3.8.5 ('base')",
   "language": "python",
   "name": "python3"
  },
  "language_info": {
   "codemirror_mode": {
    "name": "ipython",
    "version": 3
   },
   "file_extension": ".py",
   "mimetype": "text/x-python",
   "name": "python",
   "nbconvert_exporter": "python",
   "pygments_lexer": "ipython3",
   "version": "3.8.5"
  },
  "orig_nbformat": 4
 },
 "nbformat": 4,
 "nbformat_minor": 2
}
