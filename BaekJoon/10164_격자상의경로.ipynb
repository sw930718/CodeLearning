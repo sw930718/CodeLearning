{
 "cells": [
  {
   "cell_type": "markdown",
   "metadata": {},
   "source": [
    "문제링크     \n"
   ]
  },
  {
   "cell_type": "markdown",
   "metadata": {},
   "source": [
    "풀이1 ) 최단 거리 문제 "
   ]
  },
  {
   "cell_type": "code",
   "execution_count": 12,
   "metadata": {},
   "outputs": [
    {
     "ename": "ValueError",
     "evalue": "factorial() not defined for negative values",
     "output_type": "error",
     "traceback": [
      "\u001b[0;31m---------------------------------------------------------------------------\u001b[0m",
      "\u001b[0;31mValueError\u001b[0m                                Traceback (most recent call last)",
      "\u001b[1;32m/Users/mac/CodeLearning/BaekJoon/_미분류/10164_격자상의경로.ipynb Cell 3'\u001b[0m in \u001b[0;36m<cell line: 10>\u001b[0;34m()\u001b[0m\n\u001b[1;32m     <a href='vscode-notebook-cell:/Users/mac/CodeLearning/BaekJoon/_%EB%AF%B8%EB%B6%84%EB%A5%98/10164_%EA%B2%A9%EC%9E%90%EC%83%81%EC%9D%98%EA%B2%BD%EB%A1%9C.ipynb#ch0000002?line=12'>13</a>\u001b[0m K_n \u001b[39m=\u001b[39m (K\u001b[39m/\u001b[39m\u001b[39m/\u001b[39mM) \u001b[39m# K의 행 값\u001b[39;00m\n\u001b[1;32m     <a href='vscode-notebook-cell:/Users/mac/CodeLearning/BaekJoon/_%EB%AF%B8%EB%B6%84%EB%A5%98/10164_%EA%B2%A9%EC%9E%90%EC%83%81%EC%9D%98%EA%B2%BD%EB%A1%9C.ipynb#ch0000002?line=13'>14</a>\u001b[0m K_m \u001b[39m=\u001b[39m (K\u001b[39m%\u001b[39mM)\u001b[39m-\u001b[39m\u001b[39m1\u001b[39m \u001b[39m# K의 열 값 \u001b[39;00m\n\u001b[0;32m---> <a href='vscode-notebook-cell:/Users/mac/CodeLearning/BaekJoon/_%EB%AF%B8%EB%B6%84%EB%A5%98/10164_%EA%B2%A9%EC%9E%90%EC%83%81%EC%9D%98%EA%B2%BD%EB%A1%9C.ipynb#ch0000002?line=14'>15</a>\u001b[0m \u001b[39mprint\u001b[39m(short(K_n,K_m)\u001b[39m*\u001b[39mshort(N\u001b[39m-\u001b[39mK_n\u001b[39m-\u001b[39m\u001b[39m1\u001b[39m,M\u001b[39m-\u001b[39mK_m\u001b[39m-\u001b[39m\u001b[39m1\u001b[39m))\n",
      "\u001b[1;32m/Users/mac/CodeLearning/BaekJoon/_미분류/10164_격자상의경로.ipynb Cell 3'\u001b[0m in \u001b[0;36mshort\u001b[0;34m(a, b)\u001b[0m\n\u001b[1;32m      <a href='vscode-notebook-cell:/Users/mac/CodeLearning/BaekJoon/_%EB%AF%B8%EB%B6%84%EB%A5%98/10164_%EA%B2%A9%EC%9E%90%EC%83%81%EC%9D%98%EA%B2%BD%EB%A1%9C.ipynb#ch0000002?line=6'>7</a>\u001b[0m \u001b[39mdef\u001b[39;00m \u001b[39mshort\u001b[39m(a, b):\n\u001b[0;32m----> <a href='vscode-notebook-cell:/Users/mac/CodeLearning/BaekJoon/_%EB%AF%B8%EB%B6%84%EB%A5%98/10164_%EA%B2%A9%EC%9E%90%EC%83%81%EC%9D%98%EA%B2%BD%EB%A1%9C.ipynb#ch0000002?line=7'>8</a>\u001b[0m     \u001b[39mreturn\u001b[39;00m (math\u001b[39m.\u001b[39mfactorial(a\u001b[39m+\u001b[39mb))\u001b[39m/\u001b[39m\u001b[39m/\u001b[39m(math\u001b[39m.\u001b[39mfactorial(a)\u001b[39m*\u001b[39mmath\u001b[39m.\u001b[39;49mfactorial(b))\n",
      "\u001b[0;31mValueError\u001b[0m: factorial() not defined for negative values"
     ]
    }
   ],
   "source": [
    "## 32점 \n",
    "import math\n",
    "# input\n",
    "N, M, K = map(int, input().split())\n",
    "     \n",
    "# solve \n",
    "def short(a, b):\n",
    "    return (math.factorial(a+b))//(math.factorial(a)*math.factorial(b))\n",
    "    \n",
    "if K == 0 | N*M == K:\n",
    "    print(short(N-1,M-1))\n",
    "else:\n",
    "    K_n = (K//M) # K의 행 값\n",
    "    K_m = (K%M)-1 # K의 열 값 \n",
    "    print(short(K_n,K_m)*short(N-K_n-1,M-K_m-1))"
   ]
  },
  {
   "cell_type": "code",
   "execution_count": null,
   "metadata": {},
   "outputs": [],
   "source": []
  }
 ],
 "metadata": {
  "interpreter": {
   "hash": "7b34b089ce0dfc9935940e0a22050b2949fa617f7a2b73925623c261bed16aeb"
  },
  "kernelspec": {
   "display_name": "Python 3.8.5 ('base')",
   "language": "python",
   "name": "python3"
  },
  "language_info": {
   "codemirror_mode": {
    "name": "ipython",
    "version": 3
   },
   "file_extension": ".py",
   "mimetype": "text/x-python",
   "name": "python",
   "nbconvert_exporter": "python",
   "pygments_lexer": "ipython3",
   "version": "3.8.5"
  },
  "orig_nbformat": 4
 },
 "nbformat": 4,
 "nbformat_minor": 2
}
