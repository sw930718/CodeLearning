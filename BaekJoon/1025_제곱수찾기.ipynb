{
 "cells": [
  {
   "cell_type": "markdown",
   "metadata": {},
   "source": [
    "문제링크     \n"
   ]
  },
  {
   "cell_type": "markdown",
   "metadata": {},
   "source": [
    "풀이1 ) //구현 아이디어"
   ]
  },
  {
   "cell_type": "code",
   "execution_count": null,
   "metadata": {},
   "outputs": [],
   "source": [
    "import sys\n",
    "from math import sqrt\n",
    "\n",
    "input=sys.stdin.readline\n",
    "N, M = map(int, input().split())\n",
    "maps = [ list(map(int, input())) for _ in range(N) ]\n",
    "\n",
    "answer=-1\n",
    "\n",
    "for i in range(N): # 행\n",
    "    for j in range(M): # 열 \n",
    "        for d1 in range(-N, N): # 행 공차 \n",
    "            for d2 in range(-M, M): # 열 공차 \n",
    "                x,y,num=i,j,''\n",
    "                while 0<=x<N and 0<=y<M:\n",
    "                    num+=str(maps[x][y]) # num에 이어 붙임  \n",
    "                    if d1==0 and d2==0: # 둘 다 0 이면 무한루프를 돌아서 break 처리  \n",
    "                        break\n",
    "                    if int(sqrt(int(num)))**2==int(num): # num의 제곱근의 제곱 값 = num 면 제곱 수\n",
    "                        answer=max(int(num),answer) # 기존값과 비교해서 큰값으로 갱신 \n",
    "                    # 공차만큼 행/열 변화\n",
    "                    x+=d1   \n",
    "                    y+=d2\n",
    "\n",
    "print(answer)"
   ]
  }
 ],
 "metadata": {
  "interpreter": {
   "hash": "7b34b089ce0dfc9935940e0a22050b2949fa617f7a2b73925623c261bed16aeb"
  },
  "kernelspec": {
   "display_name": "Python 3.8.5 ('base')",
   "language": "python",
   "name": "python3"
  },
  "language_info": {
   "codemirror_mode": {
    "name": "ipython",
    "version": 3
   },
   "file_extension": ".py",
   "mimetype": "text/x-python",
   "name": "python",
   "nbconvert_exporter": "python",
   "pygments_lexer": "ipython3",
   "version": "3.8.5"
  },
  "orig_nbformat": 4
 },
 "nbformat": 4,
 "nbformat_minor": 2
}
