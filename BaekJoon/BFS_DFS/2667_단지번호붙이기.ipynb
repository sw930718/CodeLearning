{
 "cells": [
  {
   "cell_type": "markdown",
   "metadata": {},
   "source": [
    "### 문제    \n",
    "//문제링크\n",
    "_    \n",
    "//문제설명    \n",
    "\n",
    "#### 입력  \n",
    "//입력설명 \n",
    "\n",
    "#### 출력  \n",
    "//출력설명 \n",
    "\n",
    "#### 예제 \n",
    "[input]   \n",
    "//입력값\n",
    "\n",
    "[output]    \n",
    "//출력값\n",
    "\n",
    "#### 조건 \n",
    "- 시간제한 : *초     \n",
    "- 메모리제한 : *MB\n",
    "\n",
    "#### 알고리즘 분류 \n",
    "그래프이론, 그래프탐색, 너비우선탐색, 깊이우선탐색  "
   ]
  },
  {
   "cell_type": "markdown",
   "metadata": {},
   "source": [
    "풀이1 ) //구현 아이디어"
   ]
  },
  {
   "cell_type": "code",
   "execution_count": 9,
   "metadata": {},
   "outputs": [
    {
     "name": "stdout",
     "output_type": "stream",
     "text": [
      "3\n",
      "7\n",
      "8\n",
      "9\n"
     ]
    }
   ],
   "source": [
    "N=int(input())\n",
    "aptArr=[]\n",
    "cnt=0\n",
    "\n",
    "for _ in range(N):\n",
    "    aptArr.append(list(map(int,input().strip())))\n",
    "\n",
    "def dfs(x, y):\n",
    "    global cnt\n",
    "    if (x<0) | (x>=N) | (y<0) | (y>=N):\n",
    "        return False\n",
    "    if aptArr[x][y] == 1:\n",
    "        cnt+=1\n",
    "        aptArr[x][y]=0 # 지나간 얘들은 0으로 바꿈 \n",
    "        \n",
    "        dfs(x-1, y)\n",
    "        dfs(x+1, y)\n",
    "        dfs(x, y-1)\n",
    "        dfs(x, y+1)\n",
    "        return True\n",
    "    return False \n",
    "\n",
    "aptCnt=[]\n",
    "for i in range(N):\n",
    "    for j in range(N):\n",
    "        if dfs(i,j) == True:\n",
    "            aptCnt.append(cnt)\n",
    "            cnt=0\n",
    "\n",
    "print(len(aptCnt))\n",
    "for num in aptCnt:\n",
    "    print(num)    "
   ]
  },
  {
   "cell_type": "code",
   "execution_count": null,
   "metadata": {},
   "outputs": [],
   "source": []
  }
 ],
 "metadata": {
  "interpreter": {
   "hash": "7b34b089ce0dfc9935940e0a22050b2949fa617f7a2b73925623c261bed16aeb"
  },
  "kernelspec": {
   "display_name": "Python 3.8.5 ('base')",
   "language": "python",
   "name": "python3"
  },
  "language_info": {
   "codemirror_mode": {
    "name": "ipython",
    "version": 3
   },
   "file_extension": ".py",
   "mimetype": "text/x-python",
   "name": "python",
   "nbconvert_exporter": "python",
   "pygments_lexer": "ipython3",
   "version": "3.8.5"
  },
  "orig_nbformat": 4
 },
 "nbformat": 4,
 "nbformat_minor": 2
}
