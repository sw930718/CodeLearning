{
 "cells": [
  {
   "cell_type": "markdown",
   "metadata": {},
   "source": [
    "### 문제    \n",
    "https://www.acmicpc.net/problem/1260  \n",
    "_    \n",
    "그래프를 DFS로 탐색한 결과와 BFS로 탐색한 결과를 출력하는 프로그램을 작성하시오.   \n",
    "단, 방문할 수 있는 정점이 여러 개인 경우에는 정점 번호가 작은 것을 먼저 방문하고, 더 이상 방문할 수 있는 점이 없는 경우 종료한다.    \n",
    "정점 번호는 1번부터 N번까지이다.   \n",
    "\n",
    "#### 입력  \n",
    "첫째 줄에 정점의 개수 N(1 ≤ N ≤ 1,000), 간선의 개수 M(1 ≤ M ≤ 10,000), 탐색을 시작할 정점의 번호 V가 주어진다.    \n",
    "다음 M개의 줄에는 간선이 연결하는 두 정점의 번호가 주어진다.    \n",
    "어떤 두 정점 사이에 여러 개의 간선이 있을 수 있다. 입력으로 주어지는 간선은 양방향이다.    \n",
    "\n",
    "#### 출력  \n",
    "첫째 줄에 DFS를 수행한 결과 출력.   \n",
    "그 다음 줄에는 BFS를 수행한 결과를 출력.   \n",
    "V부터 방문된 점을 순서대로 출력하면 된다.\n",
    "\n",
    "#### 예제 \n",
    "[input]   \n",
    "4 5 1   \n",
    "1 2    \n",
    "1 3    \n",
    "1 4    \n",
    "2 4    \n",
    "3 4    \n",
    "\n",
    "[output]    \n",
    "1 2 4 3   \n",
    "1 2 3 4   \n",
    "\n",
    "#### 조건 \n",
    "- 시간제한 : 2초     \n",
    "- 메모리제한 : 128MB    \n",
    "\n",
    "#### 알고리즘 분류 \n",
    "그래프이론, 그래프탐색, 너비우선탐색(BFS), 깊이우선탐색(DFS)  "
   ]
  },
  {
   "cell_type": "markdown",
   "metadata": {},
   "source": [
    "풀이1 ) 노드 연결 정보 먼저 만들고, 그에 따른 DFS와 BFS 탐색결과 출력 "
   ]
  },
  {
   "cell_type": "code",
   "execution_count": 46,
   "metadata": {},
   "outputs": [
    {
     "name": "stdout",
     "output_type": "stream",
     "text": [
      "1 2 4 3 ---\n",
      "1 deque([2])\n",
      "deque([2, 3])\n",
      "deque([2, 3, 4])\n",
      "2 deque([3, 4])\n",
      "deque([3, 4])\n",
      "3 deque([4])\n",
      "deque([4])\n",
      "4 deque([])\n",
      "deque([])\n",
      "deque([])\n"
     ]
    }
   ],
   "source": [
    "from collections import deque\n",
    "\n",
    "N,M,V=map(int,input().split())\n",
    "connect=[]\n",
    "for _ in range(M):\n",
    "    connect.append(list(map(int, input().split())))\n",
    "\n",
    "node=[set([]) for _ in range(N+1)]\n",
    "# 노드가 연결된 정보 만들기 \n",
    "for lst in connect:\n",
    "    i,j = map(int, lst)\n",
    "    node[i].add(j)\n",
    "    node[j].add(i)\n",
    "\n",
    "for i in range(len(node)): # python의 set은 원소를 정렬된 채로 가지고있지 않음 (-> ?)\n",
    "    node[i]=list(node[i])\n",
    "    \n",
    "#DFS\n",
    "def dfs(graph, v, visited):\n",
    "    visited[v] = True\n",
    "    print(v, end=' ')\n",
    "    for i in graph[v]:\n",
    "        if not visited[i]:\n",
    "            dfs(graph, i , visited)\n",
    "    \n",
    "#BFS\n",
    "def bfs(graph, start, visited):\n",
    "    queue = deque([start])\n",
    "    visited[start] = True\n",
    "    while queue:\n",
    "        v=queue.popleft()\n",
    "        print(v, end=' ')\n",
    "        for i in graph[v]:\n",
    "            if not visited[i]:\n",
    "                queue.append(i)\n",
    "                visited[i] = True\n",
    "                \n",
    "visited_dfs=[False]*(N+1) # 간선의개수+1 이 아니라 정점의개수+1 로 만들어줘야함\n",
    "visited_bfs=[False]*(N+1)\n",
    "\n",
    "dfs(node, V, visited_dfs)\n",
    "print()\n",
    "bfs(node, V, visited_bfs)"
   ]
  },
  {
   "cell_type": "code",
   "execution_count": null,
   "metadata": {},
   "outputs": [],
   "source": []
  }
 ],
 "metadata": {
  "interpreter": {
   "hash": "7b34b089ce0dfc9935940e0a22050b2949fa617f7a2b73925623c261bed16aeb"
  },
  "kernelspec": {
   "display_name": "Python 3.8.5 ('base')",
   "language": "python",
   "name": "python3"
  },
  "language_info": {
   "codemirror_mode": {
    "name": "ipython",
    "version": 3
   },
   "file_extension": ".py",
   "mimetype": "text/x-python",
   "name": "python",
   "nbconvert_exporter": "python",
   "pygments_lexer": "ipython3",
   "version": "3.8.5"
  },
  "orig_nbformat": 4
 },
 "nbformat": 4,
 "nbformat_minor": 2
}
