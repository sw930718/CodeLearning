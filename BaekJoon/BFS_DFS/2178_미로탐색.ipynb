{
 "cells": [
  {
   "cell_type": "markdown",
   "metadata": {},
   "source": [
    "### 문제    \n",
    "//문제링크\n",
    "_    \n",
    "//문제설명    \n",
    "\n",
    "#### 입력  \n",
    "//입력설명 \n",
    "\n",
    "#### 출력  \n",
    "//출력설명 \n",
    "\n",
    "#### 예제 \n",
    "[input]   \n",
    "//입력값\n",
    "\n",
    "[output]    \n",
    "//출력값\n",
    "\n",
    "#### 조건 \n",
    "- 시간제한 : *초     \n",
    "- 메모리제한 : *MB\n",
    "\n",
    "#### 알고리즘 분류 \n",
    "//태그 작성   "
   ]
  },
  {
   "cell_type": "markdown",
   "metadata": {},
   "source": [
    "풀이1 ) //구현 아이디어"
   ]
  },
  {
   "cell_type": "code",
   "execution_count": 5,
   "metadata": {},
   "outputs": [
    {
     "ename": "IndexError",
     "evalue": "list index out of range",
     "output_type": "error",
     "traceback": [
      "\u001b[0;31m---------------------------------------------------------------------------\u001b[0m",
      "\u001b[0;31mIndexError\u001b[0m                                Traceback (most recent call last)",
      "\u001b[1;32m/Users/mac/CodeLearning/BaekJoon/BFS_DFS/2178_미로탐색.ipynb Cell 3'\u001b[0m in \u001b[0;36m<cell line: 10>\u001b[0;34m()\u001b[0m\n\u001b[1;32m     <a href='vscode-notebook-cell:/Users/mac/CodeLearning/BaekJoon/BFS_DFS/2178_%EB%AF%B8%EB%A1%9C%ED%83%90%EC%83%89.ipynb#ch0000002?line=10'>11</a>\u001b[0m \u001b[39mif\u001b[39;00m x\u001b[39m==\u001b[39mN \u001b[39mand\u001b[39;00m y\u001b[39m==\u001b[39mM:\n\u001b[1;32m     <a href='vscode-notebook-cell:/Users/mac/CodeLearning/BaekJoon/BFS_DFS/2178_%EB%AF%B8%EB%A1%9C%ED%83%90%EC%83%89.ipynb#ch0000002?line=11'>12</a>\u001b[0m     \u001b[39mbreak\u001b[39;00m\n\u001b[0;32m---> <a href='vscode-notebook-cell:/Users/mac/CodeLearning/BaekJoon/BFS_DFS/2178_%EB%AF%B8%EB%A1%9C%ED%83%90%EC%83%89.ipynb#ch0000002?line=12'>13</a>\u001b[0m \u001b[39mif\u001b[39;00m  x\u001b[39m==\u001b[39mN \u001b[39mor\u001b[39;00m maze[(x\u001b[39m+\u001b[39;49m\u001b[39m1\u001b[39;49m)][y]\u001b[39m==\u001b[39m\u001b[39m0\u001b[39m :\n\u001b[1;32m     <a href='vscode-notebook-cell:/Users/mac/CodeLearning/BaekJoon/BFS_DFS/2178_%EB%AF%B8%EB%A1%9C%ED%83%90%EC%83%89.ipynb#ch0000002?line=13'>14</a>\u001b[0m     y\u001b[39m+\u001b[39m\u001b[39m=\u001b[39m\u001b[39m1\u001b[39m\n\u001b[1;32m     <a href='vscode-notebook-cell:/Users/mac/CodeLearning/BaekJoon/BFS_DFS/2178_%EB%AF%B8%EB%A1%9C%ED%83%90%EC%83%89.ipynb#ch0000002?line=14'>15</a>\u001b[0m \u001b[39melif\u001b[39;00m y\u001b[39m==\u001b[39mM \u001b[39mor\u001b[39;00m maze[x][(y\u001b[39m+\u001b[39m\u001b[39m1\u001b[39m)]\u001b[39m==\u001b[39m\u001b[39m0\u001b[39m :\n",
      "\u001b[0;31mIndexError\u001b[0m: list index out of range"
     ]
    }
   ],
   "source": [
    "N, M = map(int, input().split())\n",
    "maze=[]\n",
    "for _ in range(N):\n",
    "    arr=list(map(int,input()))\n",
    "    maze.append(arr)\n",
    "\n",
    "x=1\n",
    "y=1\n",
    "cnt=1\n",
    "for _ in range(N*M):\n",
    "    if x==N and y==M:\n",
    "        break\n",
    "    if  x==N or maze[(x+1)][y]==0 :\n",
    "        y+=1\n",
    "    elif y==M or maze[x][(y+1)]==0 :\n",
    "        x+=1\n",
    "    else:\n",
    "        print('err')\n",
    "    cnt+=1\n",
    "    \n",
    "print(cnt)"
   ]
  },
  {
   "cell_type": "code",
   "execution_count": null,
   "metadata": {},
   "outputs": [],
   "source": []
  }
 ],
 "metadata": {
  "interpreter": {
   "hash": "7b34b089ce0dfc9935940e0a22050b2949fa617f7a2b73925623c261bed16aeb"
  },
  "kernelspec": {
   "display_name": "Python 3.8.5 ('base')",
   "language": "python",
   "name": "python3"
  },
  "language_info": {
   "codemirror_mode": {
    "name": "ipython",
    "version": 3
   },
   "file_extension": ".py",
   "mimetype": "text/x-python",
   "name": "python",
   "nbconvert_exporter": "python",
   "pygments_lexer": "ipython3",
   "version": "3.8.5"
  },
  "orig_nbformat": 4
 },
 "nbformat": 4,
 "nbformat_minor": 2
}
