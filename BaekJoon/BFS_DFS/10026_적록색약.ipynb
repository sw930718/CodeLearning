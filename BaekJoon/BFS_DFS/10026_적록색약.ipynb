{
 "cells": [
  {
   "cell_type": "markdown",
   "metadata": {},
   "source": [
    "### 문제    \n",
    "https://www.acmicpc.net/problem/10026\n",
    "_    \n",
    "적록색약은 빨간색과 초록색의 차이를 거의 느끼지 못한다. 따라서, 적록색약인 사람이 보는 그림은 아닌 사람이 보는 그림과는 좀 다를 수 있다.   \n",
    "\n",
    "크기가 N×N인 그리드의 각 칸에 R(빨강), G(초록), B(파랑) 중 하나를 색칠한 그림이 있다. 그림은 몇 개의 구역으로 나뉘어져 있는데, 구역은 같은 색으로 이루어져 있다. 또, 같은 색상이 상하좌우로 인접해 있는 경우에 두 글자는 같은 구역에 속한다. (색상의 차이를 거의 느끼지 못하는 경우도 같은 색상이라 한다)   \n",
    "\n",
    "예를 들어, 그림이 아래와 같은 경우에   \n",
    "RRRBB   \n",
    "GGBBB   \n",
    "BBBRR   \n",
    "BBRRR   \n",
    "RRRRR   \n",
    "적록색약이 아닌 사람이 봤을 때 구역의 수는 총 4개이다. (빨강 2, 파랑 1, 초록 1) 하지만, 적록색약인 사람은 구역을 3개 볼 수 있다. (빨강-초록 2, 파랑 1)   \n",
    "\n",
    "그림이 입력으로 주어졌을 때, 적록색약인 사람이 봤을 때와 아닌 사람이 봤을 때 구역의 수를 구하는 프로그램을 작성하시오.     \n",
    "\n",
    "#### 입력  \n",
    "첫째 줄에 N이 주어진다. (1 ≤ N ≤ 100)   \n",
    "둘째 줄부터 N개 줄에는 그림(RGB배열)이 주어진다.  \n",
    "\n",
    "#### 출력  \n",
    "'적록색약이 아닌 사람이 봤을 때의 구역의 개수'와 '적록색약인 사람이 봤을 때의 구역의 수'를 공백으로 구분해 출력 \n",
    "\n",
    "#### 예제 \n",
    "[input]   \n",
    "5   \n",
    "RRRBB   \n",
    "GGBBB   \n",
    "BBBRR   \n",
    "BBRRR   \n",
    "RRRRR   \n",
    "\n",
    "[output]    \n",
    "4 3  \n",
    "\n",
    "#### 조건 \n",
    "- 시간제한 : 1초     \n",
    "- 메모리제한 : 128MB\n",
    "\n",
    "#### 알고리즘 분류    "
   ]
  },
  {
   "cell_type": "markdown",
   "metadata": {},
   "source": [
    "[오답] 런타임에러 (RecurisionError - 재귀에서 문제 발생)"
   ]
  },
  {
   "cell_type": "code",
   "execution_count": 8,
   "metadata": {},
   "outputs": [
    {
     "name": "stdout",
     "output_type": "stream",
     "text": [
      "4 3\n"
     ]
    }
   ],
   "source": [
    "# dfs \n",
    "import copy\n",
    "\n",
    "import sys # 런타임 에러 해결 코드 \n",
    "sys.setrecursionlimit(100000) # 런타임 에러 해결 코드 \n",
    "\n",
    "N = int(input())\n",
    "graph=[]\n",
    "for _ in range(N):\n",
    "    graph.append(list(map(str, input())))\n",
    "graph_rgm = copy.deepcopy(graph)\n",
    "# 적록색약용 배열 작성 \n",
    "for i in range(N):\n",
    "    for j in range(N):\n",
    "        if graph_rgm[i][j] == 'G':\n",
    "            graph_rgm[i][j] = 'R'\n",
    "        \n",
    "def dfs(x,y,RGB:str):\n",
    "    if x<0 or y<0 or x>(N-1) or y>(N-1):\n",
    "        return False\n",
    "    if graph[x][y] == RGB:\n",
    "        graph[x][y] = 'N'\n",
    "        \n",
    "        dfs(x-1,y,RGB)\n",
    "        dfs(x+1,y,RGB)\n",
    "        dfs(x,y-1,RGB)\n",
    "        dfs(x,y+1,RGB)\n",
    "        return True\n",
    "    return False\n",
    "\n",
    "def dfs_rgm(x,y,RGB:str):\n",
    "    if x<0 or y<0 or x>(N-1) or y>(N-1):\n",
    "        return False\n",
    "    if graph_rgm[x][y] == RGB:\n",
    "        graph_rgm[x][y] = 'N'\n",
    "        \n",
    "        dfs_rgm(x-1,y,RGB)\n",
    "        dfs_rgm(x+1,y,RGB)\n",
    "        dfs_rgm(x,y-1,RGB)\n",
    "        dfs_rgm(x,y+1,RGB)\n",
    "        return True\n",
    "    return False\n",
    "\n",
    "result=0\n",
    "result_rgm=0\n",
    "for i in range(N):\n",
    "    for j in range(N):\n",
    "        if (dfs(i,j,'R') == True) or (dfs(i,j,'G') == True) or (dfs(i,j,'B') == True):\n",
    "            result+=1\n",
    "        if (dfs_rgm(i,j,'R') == True) or (dfs_rgm(i,j,'B') == True):\n",
    "            result_rgm+=1\n",
    "\n",
    "print(result, result_rgm)"
   ]
  },
  {
   "cell_type": "markdown",
   "metadata": {},
   "source": [
    "풀이1 ) bfs를 이용해 일반 배열과 적록색약용 배열 각각 탐색하여 풀이 "
   ]
  },
  {
   "cell_type": "code",
   "execution_count": 3,
   "metadata": {},
   "outputs": [
    {
     "name": "stdout",
     "output_type": "stream",
     "text": [
      "4 3\n"
     ]
    }
   ],
   "source": [
    "# bfs\n",
    "import copy\n",
    "from collections import deque\n",
    "\n",
    "N = int(input())\n",
    "graph=[]\n",
    "for _ in range(N):\n",
    "    graph.append(list(map(str, input())))\n",
    "    \n",
    "# 적록색약용 배열 작성 \n",
    "graph_rgm = copy.deepcopy(graph)\n",
    "for i in range(N):\n",
    "    for j in range(N):\n",
    "        if graph_rgm[i][j] == 'G':\n",
    "            graph_rgm[i][j] = 'R'\n",
    " \n",
    "direct = [(-1,0),(1,0),(0,-1),(0,1)]           \n",
    "def bfs(x,y,RGB:str,arr):\n",
    "    queue=deque()\n",
    "    queue.append((x,y))\n",
    "    arr[x][y]='N'\n",
    "    \n",
    "    while queue:\n",
    "        x,y = queue.popleft()\n",
    "        for i in range(4):\n",
    "            x1=x+direct[i][0]\n",
    "            y1=y+direct[i][1]\n",
    "            \n",
    "            if x1<0 or y1<0 or x1>(N-1) or y1>(N-1):\n",
    "                continue\n",
    "            if arr[x1][y1] == RGB:\n",
    "                queue.append((x1,y1))\n",
    "                arr[x1][y1]='N'\n",
    "    \n",
    "cnt=0\n",
    "rgm_cnt=0\n",
    "for i in range(N):\n",
    "    for j in range(N):\n",
    "        if graph[i][j]!='N':\n",
    "            bfs(i,j,graph[i][j],graph)\n",
    "            cnt+=1\n",
    "        if graph_rgm[i][j]!='N':\n",
    "            bfs(i,j,graph_rgm[i][j],graph_rgm)\n",
    "            rgm_cnt+=1\n",
    "            \n",
    "            \n",
    "print(cnt, rgm_cnt)"
   ]
  },
  {
   "cell_type": "code",
   "execution_count": null,
   "metadata": {},
   "outputs": [],
   "source": []
  }
 ],
 "metadata": {
  "interpreter": {
   "hash": "7b34b089ce0dfc9935940e0a22050b2949fa617f7a2b73925623c261bed16aeb"
  },
  "kernelspec": {
   "display_name": "Python 3.8.5 ('base')",
   "language": "python",
   "name": "python3"
  },
  "language_info": {
   "codemirror_mode": {
    "name": "ipython",
    "version": 3
   },
   "file_extension": ".py",
   "mimetype": "text/x-python",
   "name": "python",
   "nbconvert_exporter": "python",
   "pygments_lexer": "ipython3",
   "version": "3.8.5"
  },
  "orig_nbformat": 4
 },
 "nbformat": 4,
 "nbformat_minor": 2
}
