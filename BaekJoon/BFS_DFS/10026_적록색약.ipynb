{
 "cells": [
  {
   "cell_type": "markdown",
   "metadata": {},
   "source": [
    "### 문제    \n",
    "//문제링크\n",
    "_    \n",
    "//문제설명    \n",
    "\n",
    "#### 입력  \n",
    "//입력설명 \n",
    "\n",
    "#### 출력  \n",
    "//출력설명 \n",
    "\n",
    "#### 예제 \n",
    "[input]   \n",
    "//입력값\n",
    "\n",
    "[output]    \n",
    "//출력값\n",
    "\n",
    "#### 조건 \n",
    "- 시간제한 : *초     \n",
    "- 메모리제한 : *MB\n",
    "\n",
    "#### 알고리즘 분류 \n",
    "//태그 작성   "
   ]
  },
  {
   "cell_type": "markdown",
   "metadata": {},
   "source": [
    "풀이1 ) //구현 아이디어"
   ]
  },
  {
   "cell_type": "code",
   "execution_count": 1,
   "metadata": {},
   "outputs": [
    {
     "name": "stdout",
     "output_type": "stream",
     "text": [
      "3 0\n"
     ]
    }
   ],
   "source": [
    "N = int(input())\n",
    "graph=[]\n",
    "graph_rgm = graph\n",
    "for _ in range(N):\n",
    "    graph.append(list(map(str, input())))\n",
    "# 적록색약용 배열 작성 \n",
    "for i in range(N):\n",
    "    for j in range(N):\n",
    "        if graph_rgm[i][j] == 'G':\n",
    "            graph_rgm[i][j] = 'R'\n",
    "        \n",
    "def dfs(x,y,RGB:str):\n",
    "    if x<0 or y<0 or x>(N-1) or y>(N-1):\n",
    "        return False\n",
    "    if graph[x][y] == RGB:\n",
    "        graph[x][y] = 'N'\n",
    "        \n",
    "        dfs(x-1,y,RGB)\n",
    "        dfs(x+1,y,RGB)\n",
    "        dfs(x,y-1,RGB)\n",
    "        dfs(x,y+1,RGB)\n",
    "        return True\n",
    "    return False\n",
    "\n",
    "def dfs_rgm(x,y,RGB:str):\n",
    "    if x<0 or y<0 or x>(N-1) or y>(N-1):\n",
    "        return False\n",
    "    if graph_rgm[x][y] == RGB:\n",
    "        graph_rgm[x][y] = 'N'\n",
    "        \n",
    "        dfs(x-1,y,RGB)\n",
    "        dfs(x+1,y,RGB)\n",
    "        dfs(x,y-1,RGB)\n",
    "        dfs(x,y+1,RGB)\n",
    "        return True\n",
    "    return False\n",
    "\n",
    "result=0\n",
    "result_rgm=0\n",
    "for i in range(N):\n",
    "    for j in range(N):\n",
    "        if (dfs(i,j,'R') == True) or (dfs(i,j,'G') == True) or (dfs(i,j,'B') == True):\n",
    "            result+=1\n",
    "        if (dfs_rgm(i,j,'R') == True) or (dfs_rgm(i,j,'B') == True):\n",
    "            result_rgm+=1\n",
    "\n",
    "print(result, result_rgm)"
   ]
  }
 ],
 "metadata": {
  "interpreter": {
   "hash": "7b34b089ce0dfc9935940e0a22050b2949fa617f7a2b73925623c261bed16aeb"
  },
  "kernelspec": {
   "display_name": "Python 3.8.5 ('base')",
   "language": "python",
   "name": "python3"
  },
  "language_info": {
   "codemirror_mode": {
    "name": "ipython",
    "version": 3
   },
   "file_extension": ".py",
   "mimetype": "text/x-python",
   "name": "python",
   "nbconvert_exporter": "python",
   "pygments_lexer": "ipython3",
   "version": "3.8.5"
  },
  "orig_nbformat": 4
 },
 "nbformat": 4,
 "nbformat_minor": 2
}
