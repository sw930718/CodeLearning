{
 "cells": [
  {
   "cell_type": "markdown",
   "metadata": {},
   "source": [
    "### 문제    \n",
    "//문제링크\n",
    "_    \n",
    "//문제설명    \n",
    "\n",
    "#### 입력  \n",
    "//입력설명 \n",
    "\n",
    "#### 출력  \n",
    "//출력설명 \n",
    "\n",
    "#### 예제 \n",
    "[input]   \n",
    "//입력값\n",
    "\n",
    "[output]    \n",
    "//출력값\n",
    "\n",
    "#### 조건 \n",
    "- 시간제한 : *초     \n",
    "- 메모리제한 : *MB\n",
    "\n",
    "#### 알고리즘 분류 \n",
    "//태그 작성   "
   ]
  },
  {
   "cell_type": "markdown",
   "metadata": {},
   "source": [
    "풀이1 ) 너비우선탐색(BFS)문제. "
   ]
  },
  {
   "cell_type": "code",
   "execution_count": 3,
   "metadata": {},
   "outputs": [
    {
     "data": {
      "text/plain": [
       "4"
      ]
     },
     "execution_count": 3,
     "metadata": {},
     "output_type": "execute_result"
    }
   ],
   "source": [
    "from collections import deque\n",
    "\n",
    "N=int(input()) # 컴퓨터의 수(정점) \n",
    "M=int(input()) # 컴퓨터간의 연결수(간선)\n",
    "\n",
    "connect=[]\n",
    "for i in range(M):\n",
    "    connect.append(list(map(int, input().split())))\n",
    "    \n",
    "node=[set([]) for _ in range(N+1)]\n",
    "# 노드 연결 정보 만들기 \n",
    "for lst in connect:\n",
    "    i,j = map(int, lst)\n",
    "    node[i].add(j)\n",
    "    node[j].add(i)\n",
    "\n",
    "for i in range(len(node)): \n",
    "    node[i]=list(node[i])\n",
    "\n",
    "\n",
    "def bfs(graph, start, visited):\n",
    "    queue = deque([start])\n",
    "    visited[start] = True\n",
    "    \n",
    "    cnt=0\n",
    "    while queue:\n",
    "        v=queue.popleft()\n",
    "        for i in graph[v]:\n",
    "            if not visited[i]:\n",
    "                queue.append(i)\n",
    "                visited[i] = True\n",
    "                cnt+=1\n",
    "    return cnt\n",
    "                \n",
    "visited_bfs=[False]*(N+1)\n",
    "bfs(node, 1, visited_bfs)"
   ]
  },
  {
   "cell_type": "code",
   "execution_count": null,
   "metadata": {},
   "outputs": [],
   "source": []
  }
 ],
 "metadata": {
  "interpreter": {
   "hash": "7b34b089ce0dfc9935940e0a22050b2949fa617f7a2b73925623c261bed16aeb"
  },
  "kernelspec": {
   "display_name": "Python 3.8.5 ('base')",
   "language": "python",
   "name": "python3"
  },
  "language_info": {
   "codemirror_mode": {
    "name": "ipython",
    "version": 3
   },
   "file_extension": ".py",
   "mimetype": "text/x-python",
   "name": "python",
   "nbconvert_exporter": "python",
   "pygments_lexer": "ipython3",
   "version": "3.8.5"
  },
  "orig_nbformat": 4
 },
 "nbformat": 4,
 "nbformat_minor": 2
}
