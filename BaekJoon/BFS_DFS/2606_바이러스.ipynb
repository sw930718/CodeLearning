{
 "cells": [
  {
   "cell_type": "markdown",
   "metadata": {},
   "source": [
    "### 문제    \n",
    "https://www.acmicpc.net/problem/2606  \n",
    "_    \n",
    "신종 바이러스인 웜 바이러스는 네트워크를 통해 전파된다. 한 컴퓨터가 웜 바이러스에 걸리면 그 컴퓨터와 네트워크 상에서 연결되어 있는 모든 컴퓨터는 웜 바이러스에 걸리게 된다.   \n",
    "\n",
    "예를 들어 7대의 컴퓨터가 <그림 1>과 같이 네트워크 상에서 연결되어 있다고 하자. 1번 컴퓨터가 웜 바이러스에 걸리면 웜 바이러스는 2번과 5번 컴퓨터를 거쳐 3번과 6번 컴퓨터까지 전파되어 2, 3, 5, 6 네 대의 컴퓨터는 웜 바이러스에 걸리게 된다. 하지만 4번과 7번 컴퓨터는 1번 컴퓨터와 네트워크상에서 연결되어 있지 않기 때문에 영향을 받지 않는다.       \n",
    "![zmMEZZ8ioN6rhCdHmcIT4a7](https://user-images.githubusercontent.com/47911773/200444485-57a72788-ce7d-43ed-8db7-4a4655d6a838.png)    \n",
    "\n",
    "어느 날 1번 컴퓨터가 웜 바이러스에 걸렸다. 컴퓨터의 수와 네트워크 상에서 서로 연결되어 있는 정보가 주어질 때, 1번 컴퓨터를 통해 웜 바이러스에 걸리게 되는 컴퓨터의 수를 출력하는 프로그램을 작성하시오.  \n",
    "   \n",
    "#### 입력  \n",
    "첫째 줄에는 컴퓨터의 수(N)가 주어짐(N<=100). 각 컴퓨터에는 1번 부터 차례대로 번호가 매겨진다.    \n",
    "둘째 줄에는 네트워크 상에서 직접 연결되어 있는 컴퓨터 쌍의 수(M)가 주어짐.   \n",
    "셋째 줄부터는 M만큼 한 줄에 한 쌍씩 네트워크 상에서 직접 연결되어 있는 컴퓨터의 번호 쌍이 주어진다.    \n",
    "\n",
    "#### 출력  \n",
    "1번 컴퓨터가 웜 바이러스에 걸렸을 때, 1번 컴퓨터를 통해 웜 바이러스에 걸리게 되는 컴퓨터의 수를 첫째 줄에 출력한다.  \n",
    "\n",
    "#### 예제 \n",
    "[input]   \n",
    "7     \n",
    "6     \n",
    "1 2     \n",
    "2 3     \n",
    "1 5     \n",
    "5 2     \n",
    "5 6     \n",
    "4 7     \n",
    "\n",
    "[output]    \n",
    "4     \n",
    "\n",
    "#### 조건 \n",
    "- 시간제한 : 1초     \n",
    "- 메모리제한 : 128MB\n",
    "\n",
    "#### 알고리즘 분류 \n",
    "그래프이론, 그래프 탐색, 너비우선탐색, 깊이우선탐색 "
   ]
  },
  {
   "cell_type": "markdown",
   "metadata": {},
   "source": [
    "풀이1 ) 노드 연결정보 만들고, 너비우선탐색(BFS)으로 풀기      \n",
    "-> bfs 호출시 오답 print(bfs)로 호출시 정답 : 이유 확인 필요"
   ]
  },
  {
   "cell_type": "code",
   "execution_count": 15,
   "metadata": {},
   "outputs": [
    {
     "name": "stdout",
     "output_type": "stream",
     "text": [
      "4\n"
     ]
    }
   ],
   "source": [
    "from collections import deque\n",
    "\n",
    "N=int(input()) # 컴퓨터의 수(정점) \n",
    "M=int(input()) # 컴퓨터간의 연결수(간선)\n",
    "\n",
    "connect=[]\n",
    "for i in range(M):\n",
    "    connect.append(list(map(int, input().split())))\n",
    "    \n",
    "node=[list() for _ in range(N+1)]\n",
    "# 노드 연결 정보 만들기 \n",
    "for lst in connect:\n",
    "    i,j = map(int, lst)\n",
    "    node[i].append(j)\n",
    "    node[j].append(i)\n",
    "\n",
    "for i in range(len(node)): \n",
    "    node[i]=sorted(node[i])\n",
    "\n",
    "\n",
    "def bfs(graph, start, visited):\n",
    "    queue = deque([start])\n",
    "    visited[start] = True\n",
    "    \n",
    "    cnt=0\n",
    "    while queue:\n",
    "        v=queue.popleft()\n",
    "        for i in graph[v]:\n",
    "            if not visited[i]:\n",
    "                queue.append(i)\n",
    "                visited[i] = True\n",
    "                cnt+=1\n",
    "    return cnt\n",
    "                \n",
    "visited_bfs=[False]*(N+1)\n",
    "print(bfs(node, 1, visited_bfs))"
   ]
  }
 ],
 "metadata": {
  "interpreter": {
   "hash": "7b34b089ce0dfc9935940e0a22050b2949fa617f7a2b73925623c261bed16aeb"
  },
  "kernelspec": {
   "display_name": "Python 3.8.5 ('base')",
   "language": "python",
   "name": "python3"
  },
  "language_info": {
   "codemirror_mode": {
    "name": "ipython",
    "version": 3
   },
   "file_extension": ".py",
   "mimetype": "text/x-python",
   "name": "python",
   "nbconvert_exporter": "python",
   "pygments_lexer": "ipython3",
   "version": "3.8.5"
  },
  "orig_nbformat": 4
 },
 "nbformat": 4,
 "nbformat_minor": 2
}
