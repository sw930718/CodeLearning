{
 "cells": [
  {
   "cell_type": "markdown",
   "metadata": {},
   "source": [
    "### 문제    \n",
    "//문제링크\n",
    "_    \n",
    "//문제설명    \n",
    "\n",
    "#### 입력  \n",
    "//입력설명 \n",
    "\n",
    "#### 출력  \n",
    "//출력설명 \n",
    "\n",
    "#### 예제 \n",
    "[input]   \n",
    "//입력값\n",
    "\n",
    "[output]    \n",
    "//출력값\n",
    "\n",
    "#### 조건 \n",
    "- 시간제한 : *초     \n",
    "- 메모리제한 : *MB\n",
    "\n",
    "#### 알고리즘 분류 \n",
    "//태그 작성   "
   ]
  },
  {
   "cell_type": "markdown",
   "metadata": {},
   "source": [
    "풀이1 ) //구현 아이디어"
   ]
  },
  {
   "cell_type": "code",
   "execution_count": null,
   "metadata": {},
   "outputs": [],
   "source": [
    "T=int(input())\n",
    "        \n",
    "def dfs(i,j,graph):\n",
    "    if i<0 or j<0 or i>(N-1) or j>(M-1):\n",
    "        return False\n",
    "    if graph[i][j]==1:\n",
    "        graph[i][j]=0\n",
    "        dfs(i-1,j)\n",
    "        dfs(i,j-1)\n",
    "        dfs(i+1,j)\n",
    "        dfs(i,j+1)\n",
    "        return True\n",
    "    return False\n",
    "\n",
    "for _ in range(T):\n",
    "    N, M, K = map(int, input().split())\n",
    "    graph=[[0]*M for _ in range(N)]\n",
    "    cnt=0\n",
    "    for _ in range(K):\n",
    "        X, Y = map(int, input().split())\n",
    "        graph[Y][X] = 1\n",
    "    \n",
    "    for i in range(N):\n",
    "        for j in range(M):\n",
    "            if dfs(i,j,graph):\n",
    "                cnt+=1\n",
    "    print(cnt)"
   ]
  }
 ],
 "metadata": {
  "interpreter": {
   "hash": "7b34b089ce0dfc9935940e0a22050b2949fa617f7a2b73925623c261bed16aeb"
  },
  "kernelspec": {
   "display_name": "Python 3.8.5 ('base')",
   "language": "python",
   "name": "python3"
  },
  "language_info": {
   "codemirror_mode": {
    "name": "ipython",
    "version": 3
   },
   "file_extension": ".py",
   "mimetype": "text/x-python",
   "name": "python",
   "nbconvert_exporter": "python",
   "pygments_lexer": "ipython3",
   "version": "3.8.5"
  },
  "orig_nbformat": 4
 },
 "nbformat": 4,
 "nbformat_minor": 2
}
