{
 "cells": [
  {
   "cell_type": "markdown",
   "metadata": {},
   "source": [
    "> 설명 정리\n",
    "https://github.com/sw930718/CodeLearning/blob/main/BaekJoon/%EC%9D%B4%EB%B6%84%ED%83%90%EC%83%89/12015_%EA%B0%80%EC%9E%A5%EA%B8%B4%EC%A6%9D%EA%B0%80%ED%95%98%EB%8A%94%EB%B6%80%EB%B6%84%EC%88%98%EC%97%B42.ipynb"
   ]
  },
  {
   "cell_type": "code",
   "execution_count": null,
   "metadata": {},
   "outputs": [],
   "source": [
    "N=int(input())\n",
    "NList=list(map(int,input().split()))\n",
    "\n",
    "d=[1]*N \n",
    "\n",
    "for i in range(1,N): \n",
    "    value=0\n",
    "    for j in range(i):  \n",
    "        if NList[i]>NList[j] and value<d[j]: \n",
    "            value=d[j]  \n",
    "    d[i]=value+1  \n",
    "\n",
    "print(max(d))"
   ]
  }
 ],
 "metadata": {
  "interpreter": {
   "hash": "7b34b089ce0dfc9935940e0a22050b2949fa617f7a2b73925623c261bed16aeb"
  },
  "kernelspec": {
   "display_name": "Python 3.8.5 ('base')",
   "language": "python",
   "name": "python3"
  },
  "language_info": {
   "codemirror_mode": {
    "name": "ipython",
    "version": 3
   },
   "file_extension": ".py",
   "mimetype": "text/x-python",
   "name": "python",
   "nbconvert_exporter": "python",
   "pygments_lexer": "ipython3",
   "version": "3.8.5"
  },
  "orig_nbformat": 4
 },
 "nbformat": 4,
 "nbformat_minor": 2
}
