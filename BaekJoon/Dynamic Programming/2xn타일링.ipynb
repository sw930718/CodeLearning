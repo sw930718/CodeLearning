{
 "cells": [
  {
   "cell_type": "markdown",
   "metadata": {},
   "source": [
    "### 문제    \n",
    "https://www.acmicpc.net/problem/11726  \n",
    "_    \n",
    "2×n 크기의 직사각형을 1×2, 2×1 타일로 채우는 방법의 수를 구하는 프로그램을 작성하시오.   \n",
    "\n",
    "아래 그림은 2×5 크기의 직사각형을 채운 한 가지 방법의 예이다.      \n",
    "\n",
    "#### 입력  \n",
    "첫째 줄에 n이 주어진다. (1 ≤ n ≤ 1,000)  \n",
    "\n",
    "#### 출력  \n",
    "첫째 줄에 2×n 크기의 직사각형을 채우는 방법의 수를 \"10,007로 나눈 나머지\"를 출력한다.  \n",
    "\n",
    "#### 예제 \n",
    "[input]   \n",
    "9   \n",
    "\n",
    "[output]    \n",
    "55  \n",
    "\n",
    "#### 조건 \n",
    "- 시간제한 : 1초     \n",
    "- 메모리제한 : 256MB\n",
    "\n",
    "#### 출처   "
   ]
  },
  {
   "cell_type": "markdown",
   "metadata": {},
   "source": [
    "풀이1 ) 세로길이는 고려하지 않고 가로길이를 1,2를 더해 구하는 경우의 수 문제로 생각 & Bottom-up방식으로 -1의 경우에 +1, - 2의 경우에 +2하면 현재 값의 케이스들이 나옴. 따라서 - 1의 경우의 수와 - 2의 경우의 수를 더해 현재의 경우의 수를 구하는 점화식으로 구성"
   ]
  },
  {
   "cell_type": "code",
   "execution_count": 23,
   "metadata": {},
   "outputs": [
    {
     "name": "stdout",
     "output_type": "stream",
     "text": [
      "55\n"
     ]
    }
   ],
   "source": [
    "N=int(input())\n",
    "dep=[0, 1, 2]\n",
    "for i in range(3, N+1):\n",
    "    dep.append(dep[i-2]+dep[i-1])\n",
    "\n",
    "print(dep[N]%10007)"
   ]
  }
 ],
 "metadata": {
  "interpreter": {
   "hash": "7b34b089ce0dfc9935940e0a22050b2949fa617f7a2b73925623c261bed16aeb"
  },
  "kernelspec": {
   "display_name": "Python 3.8.5 ('base')",
   "language": "python",
   "name": "python3"
  },
  "language_info": {
   "codemirror_mode": {
    "name": "ipython",
    "version": 3
   },
   "file_extension": ".py",
   "mimetype": "text/x-python",
   "name": "python",
   "nbconvert_exporter": "python",
   "pygments_lexer": "ipython3",
   "version": "3.8.5"
  },
  "orig_nbformat": 4
 },
 "nbformat": 4,
 "nbformat_minor": 2
}
