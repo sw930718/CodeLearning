{
 "cells": [
  {
   "cell_type": "markdown",
   "metadata": {},
   "source": [
    "### 문제    \n",
    "https://www.acmicpc.net/problem/9095   \n",
    "_     \n",
    "정수 4를 1, 2, 3의 합으로 나타내는 방법은 총 7가지가 있다. 합을 나타낼 때는 수를 1개 이상 사용해야 한다.    \n",
    "\n",
    "1+1+1+1     \n",
    "1+1+2   \n",
    "1+2+1   \n",
    "2+1+1   \n",
    "2+2     \n",
    "1+3     \n",
    "3+1     \n",
    "\n",
    "정수 n이 주어졌을 때, n을 1, 2, 3의 합으로 나타내는 방법의 수를 구하는 프로그램을 작성하시오.   \n",
    "\n",
    "#### 입력  \n",
    "첫째 줄에 테스트 케이스의 개수 T가 주어진다. 각 테스트 케이스는 한 줄로 이루어져 있고, 정수 n이 주어진다. n은 양수이며 11보다 작다.      \n",
    "\n",
    "#### 출력  \n",
    "각 테스트 케이스마다, n을 1, 2, 3의 합으로 나타내는 방법의 수를 출력한다.   \n",
    "\n",
    "#### 예제 \n",
    "[input]   \n",
    "3\n",
    "4\n",
    "7\n",
    "10 \n",
    "\n",
    "[output]    \n",
    "7\n",
    "44\n",
    "274  \n",
    "\n",
    "#### 조건 \n",
    "- 시간제한 : 1초      \n",
    "- 메모리제한 : 512MB  \n",
    "\n",
    "#### 출처 \n",
    "ICPC > Regionals > Asia Pacific > Korea > Asia Regional - Taejon 2001 PC번    "
   ]
  },
  {
   "cell_type": "markdown",
   "metadata": {},
   "source": [
    "풀이1 ) Bottom-up 방식. 1,2,3 만의 합으로 값 n을 나타내야하므로, 값 n의 -1,-2,-3의 방법 수를 더해야 함  \n",
    "값 n=4의 방법수 : seq[3] = seq[0] + seq[1] + seq[2] _ 총 '7개'  \n",
    "```\n",
    "- seq[0] 1개) 1 (+3) = 4    \n",
    "- seq[1] 2개) 1+1 (+2) = 4  \n",
    "              2 (+2) = 4  \n",
    "- seq[2] 4개) 1+1+1 (+1) = 4  \n",
    "              1+2 (+1) = 4  \n",
    "              2+1 (+1) = 4  \n",
    "              3 (+1) = 4  \n",
    "```"
   ]
  },
  {
   "cell_type": "code",
   "execution_count": 2,
   "metadata": {},
   "outputs": [
    {
     "name": "stdout",
     "output_type": "stream",
     "text": [
      "7\n",
      "44\n",
      "274\n"
     ]
    }
   ],
   "source": [
    "T=int(input())\n",
    "case=[]\n",
    "seq=[1,2,4]\n",
    "for _ in range(T):\n",
    "    case.append(int(input()))\n",
    "    \n",
    "for i in range(3,11):\n",
    "    seq.append(seq[i-3]+seq[i-2]+seq[i-1])\n",
    "\n",
    "for n in case:\n",
    "    print(seq[n-1])"
   ]
  }
 ],
 "metadata": {
  "interpreter": {
   "hash": "7b34b089ce0dfc9935940e0a22050b2949fa617f7a2b73925623c261bed16aeb"
  },
  "kernelspec": {
   "display_name": "Python 3.8.5 ('base')",
   "language": "python",
   "name": "python3"
  },
  "language_info": {
   "codemirror_mode": {
    "name": "ipython",
    "version": 3
   },
   "file_extension": ".py",
   "mimetype": "text/x-python",
   "name": "python",
   "nbconvert_exporter": "python",
   "pygments_lexer": "ipython3",
   "version": "3.8.5"
  },
  "orig_nbformat": 4
 },
 "nbformat": 4,
 "nbformat_minor": 2
}
