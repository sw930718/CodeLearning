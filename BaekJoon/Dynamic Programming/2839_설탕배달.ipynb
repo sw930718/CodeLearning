{
 "cells": [
  {
   "cell_type": "markdown",
   "metadata": {},
   "source": [
    "### 문제    \n",
    "https://www.acmicpc.net/problem/2839   \n",
    "_    \n",
    "상근이는 요즘 설탕공장에서 설탕을 배달하고 있다. 상근이는 지금 사탕가게에 설탕을 정확하게 N킬로그램을 배달해야 한다. 설탕공장에서 만드는 설탕은 봉지에 담겨져 있다. 봉지는 3킬로그램 봉지와 5킬로그램 봉지가 있다.\n",
    "\n",
    "상근이는 귀찮기 때문에, 최대한 적은 봉지를 들고 가려고 한다. 예를 들어, 18킬로그램 설탕을 배달해야 할 때, 3킬로그램 봉지 6개를 가져가도 되지만, 5킬로그램 3개와 3킬로그램 1개를 배달하면, 더 적은 개수의 봉지를 배달할 수 있다.\n",
    "\n",
    "상근이가 설탕을 정확하게 N킬로그램 배달해야 할 때, 봉지 몇 개를 가져가면 되는지 그 수를 구하는 프로그램을 작성하시오.    \n",
    "\n",
    "#### 입력  \n",
    "첫째 줄에 N이 주어진다. (3 ≤ N ≤ 5000)   \n",
    "\n",
    "#### 출력  \n",
    "상근이가 배달하는 봉지의 최소 개수를 출력한다. 만약, 정확하게 N킬로그램을 만들 수 없다면 -1을 출력한다.   \n",
    "\n",
    "#### 예제 \n",
    "[input]   \n",
    "18   \n",
    "\n",
    "[output]    \n",
    "4\n",
    "\n",
    "#### 조건 \n",
    "- 시간제한 : 1초     \n",
    "- 메모리제한 : 128MB\n",
    "\n",
    "#### 출처 \n",
    "Contest > Croatian Open Competition in Informatics > COCI 2010/2011 > Contest #7 1번"
   ]
  },
  {
   "cell_type": "code",
   "execution_count": 22,
   "metadata": {},
   "outputs": [],
   "source": [
    "N = int(input())\n",
    "\n",
    "for bag3 in range(N//3+1):\n",
    "    # 3kg씩 빼 나가면서 5kg로 나눠지는 경우 등장시 그때의 봉지수(3kg봉지수+5kg봉지수) 출력 & 3kg봉지로만 구성된 경우도 포함 \n",
    "    if (N - bag3*3) % 5 == 0: \n",
    "        bag5 = (N - bag3*3) // 5\n",
    "        print(bag3+bag5)\n",
    "        break\n",
    "    # 마지막 반복문인데 N - bag3*3 이 5 or 0 이 아닌 경우 -1 출력 \n",
    "    elif bag3 == (N//3):\n",
    "        print(-1)\n",
    "        break\n",
    "    else:\n",
    "        continue"
   ]
  }
 ],
 "metadata": {
  "interpreter": {
   "hash": "7b34b089ce0dfc9935940e0a22050b2949fa617f7a2b73925623c261bed16aeb"
  },
  "kernelspec": {
   "display_name": "Python 3.8.5 ('base')",
   "language": "python",
   "name": "python3"
  },
  "language_info": {
   "codemirror_mode": {
    "name": "ipython",
    "version": 3
   },
   "file_extension": ".py",
   "mimetype": "text/x-python",
   "name": "python",
   "nbconvert_exporter": "python",
   "pygments_lexer": "ipython3",
   "version": "3.8.5"
  },
  "orig_nbformat": 4
 },
 "nbformat": 4,
 "nbformat_minor": 2
}
