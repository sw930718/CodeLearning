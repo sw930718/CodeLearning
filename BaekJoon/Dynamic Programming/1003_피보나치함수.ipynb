{
 "cells": [
  {
   "cell_type": "markdown",
   "metadata": {},
   "source": [
    "### 문제    \n",
    "https://www.acmicpc.net/problem/1003   \n",
    "_    \n",
    "다음 소스는 N번째 피보나치 수를 구하는 C++ 함수이다.   \n",
    "\n",
    "<img src='/Users/mac/CodeLearning/z_image data/baekjoon01.png' width=300/> \n",
    "\n",
    "fibonacci(3)을 호출하면 다음과 같은 일이 일어난다.  \n",
    "\n",
    "- fibonacci(3)은 fibonacci(2)와 fibonacci(1) (첫 번째 호출)을 호출한다.   \n",
    "- fibonacci(2)는 fibonacci(1) (두 번째 호출)과 fibonacci(0)을 호출한다.   \n",
    "- 두 번째 호출한 fibonacci(1)은 1을 출력하고 1을 리턴한다.    \n",
    "- fibonacci(0)은 0을 출력하고, 0을 리턴한다.  \n",
    "- fibonacci(2)는 fibonacci(1)과 fibonacci(0)의 결과를 얻고, 1을 리턴한다.     \n",
    "- 첫 번째 호출한 fibonacci(1)은 1을 출력하고, 1을 리턴한다.   \n",
    "- fibonacci(3)은 fibonacci(2)와 fibonacci(1)의 결과를 얻고, 2를 리턴한다.     \n",
    "\n",
    "1은 2번 출력되고, 0은 1번 출력된다. N이 주어졌을 때, fibonacci(N)을 호출했을 때, 0과 1이 각각 몇 번 출력되는지 구하는 프로그램을 작성하시오.    \n",
    "\n",
    "#### 입력  \n",
    "첫째 줄에 테스트 케이스의 개수 T가 주어진다.    \n",
    "둘째 줄 부터 테스트 케이스 별 N이 주어진다. (0 <= N <= 40, N은 정수)  \n",
    "\n",
    "#### 출력  \n",
    "각 테스트 케이스마다 0이 출력되는 횟수와 1이 출력되는 횟수를 공백으로 구분해서 출력한다.   \n",
    "\n",
    "#### 예제 \n",
    "[input]   \n",
    "3   \n",
    "0   \n",
    "1   \n",
    "3   \n",
    "\n",
    "[output]    \n",
    "1 0     \n",
    "0 1     \n",
    "1 2     \n",
    "\n",
    "#### 조건 \n",
    "- 시간제한 : 0.25초     \n",
    "- 메모리제한 : 128MB\n",
    "\n",
    "#### 출처 "
   ]
  },
  {
   "cell_type": "markdown",
   "metadata": {},
   "source": [
    "풀이1 ) Bottom-up 방식으로 피보나치 호출시의 0의 출력횟수와 1의 출력횟수를 리스트에 저장 "
   ]
  },
  {
   "cell_type": "code",
   "execution_count": 9,
   "metadata": {},
   "outputs": [],
   "source": [
    "caseN = int(input()) # 예제입력\n",
    "fibocase=[]\n",
    "\n",
    "for _ in range(caseN): # 예제입력\n",
    "    fibocase.append(int(input()))  \n",
    "    \n",
    "fibo_0=[1, 0]\n",
    "fibo_1=[0, 1]  \n",
    "\n",
    "for i in range(2,max(fibocase)+1): # 0의 출력횟수와 1의 출력횟수 Bottom-up 방식으로 계산해 저장 \n",
    "    fibo_0.append(fibo_0[i-1]+fibo_0[i-2])\n",
    "    fibo_1.append(fibo_1[i-1]+fibo_1[i-2])\n",
    "    \n",
    "for i in fibocase: # 예제 출력 \n",
    "    print(fibo_0[i],fibo_1[i])"
   ]
  }
 ],
 "metadata": {
  "interpreter": {
   "hash": "7b34b089ce0dfc9935940e0a22050b2949fa617f7a2b73925623c261bed16aeb"
  },
  "kernelspec": {
   "display_name": "Python 3.8.5 ('base')",
   "language": "python",
   "name": "python3"
  },
  "language_info": {
   "codemirror_mode": {
    "name": "ipython",
    "version": 3
   },
   "file_extension": ".py",
   "mimetype": "text/x-python",
   "name": "python",
   "nbconvert_exporter": "python",
   "pygments_lexer": "ipython3",
   "version": "3.8.5"
  },
  "orig_nbformat": 4
 },
 "nbformat": 4,
 "nbformat_minor": 2
}
