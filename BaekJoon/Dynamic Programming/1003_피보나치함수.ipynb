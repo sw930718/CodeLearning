{
 "cells": [
  {
   "cell_type": "markdown",
   "metadata": {},
   "source": [
    "### 문제    \n",
    "//문제링크\n",
    "_    \n",
    "//문제설명    \n",
    "\n",
    "#### 입력  \n",
    "//입력설명 \n",
    "\n",
    "#### 출력  \n",
    "//출력설명 \n",
    "\n",
    "#### 예제 \n",
    "[input]   \n",
    "//입력값\n",
    "\n",
    "[output]    \n",
    "//출력값\n",
    "\n",
    "#### 조건 \n",
    "- 시간제한 : *초     \n",
    "- 메모리제한 : *MB\n",
    "\n",
    "#### 출처 \n",
    "//출처 작성   "
   ]
  },
  {
   "cell_type": "markdown",
   "metadata": {},
   "source": [
    "풀이1 ) //구현 아이디어"
   ]
  },
  {
   "cell_type": "code",
   "execution_count": 9,
   "metadata": {},
   "outputs": [],
   "source": [
    "caseN = int(input()) # 예제입력\n",
    "fibocase=[]\n",
    "\n",
    "for _ in range(caseN): # 예제입력\n",
    "    fibocase.append(int(input()))  \n",
    "    \n",
    "fibo_0=[1, 0]\n",
    "fibo_1=[0, 1]  \n",
    "\n",
    "for i in range(2,max(fibocase)+1): # 0의 출력횟수와 1의 출력횟수 Bottom-up 방식으로 계산해 저장 \n",
    "    fibo_0.append(fibo_0[i-1]+fibo_0[i-2])\n",
    "    fibo_1.append(fibo_1[i-1]+fibo_1[i-2])\n",
    "    \n",
    "for i in fibocase: # 예제 출력 \n",
    "    print(fibo_0[i],fibo_1[i])"
   ]
  }
 ],
 "metadata": {
  "interpreter": {
   "hash": "7b34b089ce0dfc9935940e0a22050b2949fa617f7a2b73925623c261bed16aeb"
  },
  "kernelspec": {
   "display_name": "Python 3.8.5 ('base')",
   "language": "python",
   "name": "python3"
  },
  "language_info": {
   "codemirror_mode": {
    "name": "ipython",
    "version": 3
   },
   "file_extension": ".py",
   "mimetype": "text/x-python",
   "name": "python",
   "nbconvert_exporter": "python",
   "pygments_lexer": "ipython3",
   "version": "3.8.5"
  },
  "orig_nbformat": 4
 },
 "nbformat": 4,
 "nbformat_minor": 2
}
