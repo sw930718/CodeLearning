{
 "cells": [
  {
   "cell_type": "code",
   "execution_count": null,
   "metadata": {},
   "outputs": [],
   "source": [
    "N = int(input())\n",
    "c = [0] + [1] * 9\n",
    "for _ in range(1, N):\n",
    "\tc = [sum(c[j] for j in (x + 1, x - 1) if 0 <= j < 10) % 1000000000 for x in range(10)]\n",
    "print(sum(c) % 1000000000)"
   ]
  }
 ],
 "metadata": {
  "language_info": {
   "name": "python"
  },
  "orig_nbformat": 4
 },
 "nbformat": 4,
 "nbformat_minor": 2
}
