{
 "cells": [
  {
   "cell_type": "markdown",
   "metadata": {},
   "source": [
    "45656이란 수를 보자.\n",
    "\n",
    "이 수는 인접한 모든 자리의 차이가 1이다. 이런 수를 계단 수라고 한다.\n",
    "\n",
    "N이 주어질 때, 길이가 N인 계단 수가 총 몇 개 있는지 구해보자. 0으로 시작하는 수는 계단수가 아니다."
   ]
  },
  {
   "cell_type": "code",
   "execution_count": null,
   "metadata": {},
   "outputs": [],
   "source": [
    "N = int(input())\n",
    "c = [0] + [1] * 9\n",
    "for _ in range(1, N):\n",
    "\tc = [sum(c[j] for j in (x + 1, x - 1) if 0 <= j < 10) % 1000000000 for x in range(10)]\n",
    "print(sum(c) % 1000000000)"
   ]
  },
  {
   "cell_type": "code",
   "execution_count": 1,
   "metadata": {},
   "outputs": [
    {
     "data": {
      "text/plain": [
       "[0, 1, 1, 1, 1, 1, 1, 1, 1, 1]"
      ]
     },
     "execution_count": 1,
     "metadata": {},
     "output_type": "execute_result"
    }
   ],
   "source": [
    "[0] + [1] * 9"
   ]
  },
  {
   "cell_type": "code",
   "execution_count": 3,
   "metadata": {},
   "outputs": [
    {
     "data": {
      "text/plain": [
       "[[0, 0, 0, 0, 0, 0, 0, 0, 0, 0], [0, 0, 0, 0, 0, 0, 0, 0, 0, 0]]"
      ]
     },
     "execution_count": 3,
     "metadata": {},
     "output_type": "execute_result"
    }
   ],
   "source": [
    "c = [[0] * 10 for _ in range (1 + 1)]\n",
    "c"
   ]
  },
  {
   "cell_type": "code",
   "execution_count": 4,
   "metadata": {},
   "outputs": [
    {
     "data": {
      "text/plain": [
       "[[0, 0, 0, 0, 0, 0, 0, 0, 0, 0], [0, 1, 1, 1, 1, 1, 1, 1, 1, 1]]"
      ]
     },
     "execution_count": 4,
     "metadata": {},
     "output_type": "execute_result"
    }
   ],
   "source": [
    "c[1] = [0] + [1] * 9\n",
    "c"
   ]
  },
  {
   "cell_type": "code",
   "execution_count": 6,
   "metadata": {},
   "outputs": [
    {
     "name": "stdout",
     "output_type": "stream",
     "text": [
      "9\n"
     ]
    }
   ],
   "source": [
    "N = int(input())\n",
    "c = [[0] * 10 for _ in range (1 + 1)]\n",
    "c[1] = [0] + [1] * 9\n",
    "for i in range(2, N + 1):\n",
    "\tc[i][0] = c[i - 1][1]\n",
    "\tc[i][1] = (c[i - 1][0] + c[i - 1][2]) % 1000000000\n",
    "\tc[i][2] = (c[i - 1][1] + c[i - 1][3]) % 1000000000\n",
    "\tc[i][3] = (c[i - 1][2] + c[i - 1][4]) % 1000000000\n",
    "\tc[i][4] = (c[i - 1][3] + c[i - 1][5]) % 1000000000\n",
    "\tc[i][5] = (c[i - 1][4] + c[i - 1][6]) % 1000000000\n",
    "\tc[i][6] = (c[i - 1][5] + c[i - 1][7]) % 1000000000\n",
    "\tc[i][7] = (c[i - 1][6] + c[i - 1][8]) % 1000000000\n",
    "\tc[i][8] = (c[i - 1][7] + c[i - 1][9]) % 1000000000\n",
    "\tc[i][9] = c[i - 1][8]\n",
    "print(sum(c[N]) % 1000000000)\n"
   ]
  },
  {
   "cell_type": "code",
   "execution_count": null,
   "metadata": {},
   "outputs": [],
   "source": []
  }
 ],
 "metadata": {
  "interpreter": {
   "hash": "7b34b089ce0dfc9935940e0a22050b2949fa617f7a2b73925623c261bed16aeb"
  },
  "kernelspec": {
   "display_name": "Python 3.8.5 ('base')",
   "language": "python",
   "name": "python3"
  },
  "language_info": {
   "codemirror_mode": {
    "name": "ipython",
    "version": 3
   },
   "file_extension": ".py",
   "mimetype": "text/x-python",
   "name": "python",
   "nbconvert_exporter": "python",
   "pygments_lexer": "ipython3",
   "version": "3.8.5"
  },
  "orig_nbformat": 4
 },
 "nbformat": 4,
 "nbformat_minor": 2
}
