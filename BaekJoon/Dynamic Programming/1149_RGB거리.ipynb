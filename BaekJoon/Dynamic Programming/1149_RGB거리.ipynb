{
 "cells": [
  {
   "cell_type": "markdown",
   "metadata": {},
   "source": [
    "### 문제    \n",
    "//문제링크\n",
    "_    \n",
    "//문제설명    \n",
    "\n",
    "#### 입력  \n",
    "//입력설명 \n",
    "\n",
    "#### 출력  \n",
    "//출력설명 \n",
    "\n",
    "#### 예제 \n",
    "[input]   \n",
    "//입력값\n",
    "\n",
    "[output]    \n",
    "//출력값\n",
    "\n",
    "#### 조건 \n",
    "- 시간제한 : *초     \n",
    "- 메모리제한 : *MB\n",
    "\n",
    "#### 알고리즘 분류 \n",
    "//태그 작성   "
   ]
  },
  {
   "cell_type": "markdown",
   "metadata": {},
   "source": [
    "풀이1 ) [오답]"
   ]
  },
  {
   "cell_type": "code",
   "execution_count": 14,
   "metadata": {},
   "outputs": [],
   "source": [
    "N = int(input())\n",
    "house=[]\n",
    "for _ in range(N):\n",
    "    RGB_prices = list(map(int, input().split()))\n",
    "    house.append(RGB_prices)\n",
    "    \n",
    "price=[house[0][0], house[0][1], house[0][2]] # 첫번째 집 R 선택시, 첫번째 집 G 선택시, 첫번째 집 B 선택시\n",
    "for c in range(3): # RGB\n",
    "    prior_min=c\n",
    "    for i in range(1,N):\n",
    "        rgb=[0,1,2]\n",
    "        rgb.remove(prior_min)\n",
    "        n_min = min([house[i][j] for j in rgb])\n",
    "        price[c]+= n_min\n",
    "        prior_min = house[i].index(n_min)\n",
    "        \n",
    "print(min(price))"
   ]
  }
 ],
 "metadata": {
  "interpreter": {
   "hash": "7b34b089ce0dfc9935940e0a22050b2949fa617f7a2b73925623c261bed16aeb"
  },
  "kernelspec": {
   "display_name": "Python 3.8.5 ('base')",
   "language": "python",
   "name": "python3"
  },
  "language_info": {
   "codemirror_mode": {
    "name": "ipython",
    "version": 3
   },
   "file_extension": ".py",
   "mimetype": "text/x-python",
   "name": "python",
   "nbconvert_exporter": "python",
   "pygments_lexer": "ipython3",
   "version": "3.8.5"
  },
  "orig_nbformat": 4
 },
 "nbformat": 4,
 "nbformat_minor": 2
}
