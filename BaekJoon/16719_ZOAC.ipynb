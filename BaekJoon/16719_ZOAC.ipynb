{
 "cells": [
  {
   "cell_type": "markdown",
   "metadata": {},
   "source": [
    "문제링크     \n"
   ]
  },
  {
   "cell_type": "markdown",
   "metadata": {},
   "source": [
    "풀이 ) heap을 이용해서 가장 작은 원소를 순서대로 추출하자     \n",
    "=> 오류 : 알파벳 순서로 보여주는게 아닌, 글자가 추가됨에 따라 사전순으로 가장 앞에 오는 문자열 반환 하는 문제였음"
   ]
  },
  {
   "cell_type": "code",
   "execution_count": 11,
   "metadata": {},
   "outputs": [
    {
     "name": "stdout",
     "output_type": "stream",
     "text": [
      "A\n",
      "BA\n",
      "BAC\n"
     ]
    }
   ],
   "source": [
    "import sys\n",
    "import heapq \n",
    "import copy\n",
    "\n",
    "#input=sys.stdin.readline\n",
    "words = list(input())\n",
    "output = copy.deepcopy(words)\n",
    "\n",
    "alphabets = []\n",
    "heapq.heapify(output)\n",
    "\n",
    "for i in range(len(words)):\n",
    "    alphabets.append(heapq.heappop(output))\n",
    "\n",
    "    answer = ''\n",
    "    for w in words:\n",
    "        if w in alphabets:\n",
    "            answer+=w\n",
    "    print(answer)"
   ]
  },
  {
   "cell_type": "markdown",
   "metadata": {},
   "source": [
    "풀이 ) 단어 개수를 늘려가며, 연결된 단어들을 뽑아서 정렬해서 사전 맨앞에 오는 조합을 print    \n",
    "=> 오류 : 연결된 단어만 추출하는게 아니라, 띄어진 단어들도 고려해야함 "
   ]
  },
  {
   "cell_type": "code",
   "execution_count": 16,
   "metadata": {},
   "outputs": [
    {
     "name": "stdout",
     "output_type": "stream",
     "text": [
      "A\n",
      "AR\n",
      "ART\n",
      "ARTL\n",
      "ARTLI\n",
      "ARTLIN\n",
      "ARTLINK\n",
      "STARTLIN\n",
      "STARTLINK\n"
     ]
    }
   ],
   "source": [
    "import sys\n",
    "import heapq \n",
    "\n",
    "#input=sys.stdin.readline\n",
    "words = input()\n",
    "\n",
    "for i in range(len(words)):\n",
    "    order = []\n",
    "    for j in range(len(words)-i):\n",
    "        order.append(words[j:(j+i+1)])\n",
    "    heapq.heapify(order)\n",
    "    print(heapq.heappop(order))  "
   ]
  },
  {
   "cell_type": "markdown",
   "metadata": {},
   "source": [
    "풀이 ) 순열로 뽑아서 정렬 \n",
    "=> 포기 : 시간복잡도 너무 오래 걸릴 것 같음"
   ]
  },
  {
   "cell_type": "code",
   "execution_count": null,
   "metadata": {},
   "outputs": [],
   "source": [
    "import sys\n",
    "import heapq \n",
    "from itertools import combinations\n",
    "\n",
    "#input=sys.stdin.readline\n",
    "words = list(input())\n",
    "\n",
    "for i in range(1,len(words)+1):\n",
    "    combinations(words, i)"
   ]
  },
  {
   "cell_type": "markdown",
   "metadata": {},
   "source": [
    "풀이 ) [풀이1번 수정] 기준 문자 뒤의 사전적으로 앞에 오는 알파벳을 출력 -> 재귀 이용"
   ]
  },
  {
   "cell_type": "code",
   "execution_count": 27,
   "metadata": {},
   "outputs": [
    {
     "name": "stdout",
     "output_type": "stream",
     "text": [
      "A\n",
      "----\n",
      "IK\n",
      "----\n",
      "AAK\n",
      "----\n",
      "LIII\n",
      "----\n",
      "NKKKK\n",
      "----\n",
      "RIIIII\n",
      "----\n",
      "SAAAAAA\n",
      "----\n",
      "TAAAAAAA\n",
      "----\n",
      "TAAAAAAAA\n",
      "----\n"
     ]
    }
   ],
   "source": [
    "import sys\n",
    "import heapq \n",
    "\n",
    "#input=sys.stdin.readline\n",
    "words = list(input())\n",
    "output = words.copy()\n",
    "\n",
    "alphabets = []\n",
    "    \n",
    "for i in range(len(words)): \n",
    "    answer = ''\n",
    "    alpha = heapq.heappop(output) # 원래 문자에서 알파벳 하나씩 추출 \n",
    "    idx = words.index(alpha)\n",
    "    answer += alpha\n",
    "    \n",
    "    for _ in range(i):\n",
    "        if words[idx+1:]:\n",
    "            cutlist = words[idx+1:]\n",
    "            heapq.heapify(cutlist)\n",
    "            plus = heapq.heappop(cutlist)\n",
    "            idx = words.index(plus)\n",
    "            answer+=plus\n",
    "        else:\n",
    "            cutlist = words[:idx]\n",
    "            heapq.heapify(cutlist)\n",
    "            plus = heapq.heappop(cutlist)\n",
    "            idx = words.index(plus)\n",
    "            answer=plus+answer\n",
    "            \n",
    "    print(answer)\n",
    "    print('----')"
   ]
  },
  {
   "cell_type": "code",
   "execution_count": 11,
   "metadata": {},
   "outputs": [
    {
     "ename": "TypeError",
     "evalue": "index expected at least 1 argument, got 0",
     "output_type": "error",
     "traceback": [
      "\u001b[0;31m---------------------------------------------------------------------------\u001b[0m",
      "\u001b[0;31mTypeError\u001b[0m                                 Traceback (most recent call last)",
      "\u001b[1;32m/Users/mac/CodeLearning/BaekJoon/16719_ZOAC.ipynb Cell 10'\u001b[0m in \u001b[0;36m<cell line: 1>\u001b[0;34m()\u001b[0m\n\u001b[0;32m----> <a href='vscode-notebook-cell:/Users/mac/CodeLearning/BaekJoon/16719_ZOAC.ipynb#ch0000012?line=0'>1</a>\u001b[0m a\u001b[39m.\u001b[39;49mindex()\n",
      "\u001b[0;31mTypeError\u001b[0m: index expected at least 1 argument, got 0"
     ]
    }
   ],
   "source": [
    "a.index()"
   ]
  },
  {
   "cell_type": "code",
   "execution_count": 1,
   "metadata": {},
   "outputs": [
    {
     "data": {
      "text/plain": [
       "['r']"
      ]
     },
     "execution_count": 1,
     "metadata": {},
     "output_type": "execute_result"
    }
   ],
   "source": [
    "a= ['s','t','a','r']\n",
    "a[-1:]\n"
   ]
  },
  {
   "cell_type": "code",
   "execution_count": 24,
   "metadata": {},
   "outputs": [
    {
     "data": {
      "text/plain": [
       "'a'"
      ]
     },
     "execution_count": 24,
     "metadata": {},
     "output_type": "execute_result"
    }
   ],
   "source": [
    "a.pop(2)"
   ]
  },
  {
   "cell_type": "code",
   "execution_count": 25,
   "metadata": {},
   "outputs": [
    {
     "data": {
      "text/plain": [
       "['s', 't', 'r']"
      ]
     },
     "execution_count": 25,
     "metadata": {},
     "output_type": "execute_result"
    }
   ],
   "source": [
    "a"
   ]
  },
  {
   "cell_type": "code",
   "execution_count": null,
   "metadata": {},
   "outputs": [],
   "source": [
    "# 원래 문자에서 사전 기준 가장 앞선 알파벳 하나씩 추출 \n",
    "alpha = heapq.heappop(output) \n",
    "idx = words.index(alpha)"
   ]
  },
  {
   "cell_type": "code",
   "execution_count": 38,
   "metadata": {},
   "outputs": [
    {
     "name": "stdout",
     "output_type": "stream",
     "text": [
      "*현재 스택 : [2]\n",
      "**현재 기준 idx : 2\n",
      "*** 뽑은 최소 단어 : A\n",
      "A\n",
      "-------\n",
      "*현재 스택 : [2, 2]\n",
      "**현재 기준 idx : 2\n",
      "*** 뽑은 최소 단어 : I\n",
      "AI\n",
      "-------\n",
      "*현재 스택 : [2, 2, 5]\n",
      "**현재 기준 idx : 5\n",
      "*** 뽑은 최소 단어 : K\n",
      "AIK\n",
      "-------\n",
      "*현재 스택 : [2, 2, 5, 6]\n",
      "special***\n",
      "**현재 기준 idx : 5\n",
      "*** 뽑은 최소 단어 : N\n",
      "AINK\n",
      "-------\n",
      "*현재 스택 : [2, 2, 5, 5]\n",
      "special***\n",
      "special***\n",
      "**현재 기준 idx : 2\n",
      "*** 뽑은 최소 단어 : L\n",
      "ALINK\n",
      "-------\n",
      "*현재 스택 : [2, 2, 4]\n",
      "special***\n",
      "**현재 기준 idx : 2\n",
      "*** 뽑은 최소 단어 : R\n",
      "ARLINK\n",
      "-------\n",
      "*현재 스택 : [2, 2, 2]\n",
      "**현재 기준 idx : 2\n",
      "*** 뽑은 최소 단어 : T\n",
      "TARLINK\n",
      "-------\n",
      "*현재 스택 : [2, 2, 2, 1]\n",
      "**현재 기준 idx : 1\n",
      "*** 뽑은 최소 단어 : T\n",
      "TTARLINK\n",
      "-------\n",
      "*현재 스택 : [2, 2, 2, 1, 1]\n",
      "special***\n",
      "special***\n",
      "special***\n",
      "special***\n",
      "special***\n"
     ]
    },
    {
     "ename": "IndexError",
     "evalue": "list index out of range",
     "output_type": "error",
     "traceback": [
      "\u001b[0;31m---------------------------------------------------------------------------\u001b[0m",
      "\u001b[0;31mIndexError\u001b[0m                                Traceback (most recent call last)",
      "\u001b[1;32m/Users/mac/CodeLearning/BaekJoon/16719_ZOAC.ipynb Cell 15'\u001b[0m in \u001b[0;36m<cell line: 11>\u001b[0;34m()\u001b[0m\n\u001b[1;32m     <a href='vscode-notebook-cell:/Users/mac/CodeLearning/BaekJoon/16719_ZOAC.ipynb#ch0000009?line=10'>11</a>\u001b[0m \u001b[39mfor\u001b[39;00m _ \u001b[39min\u001b[39;00m \u001b[39mrange\u001b[39m(\u001b[39mlen\u001b[39m(words)): \n\u001b[1;32m     <a href='vscode-notebook-cell:/Users/mac/CodeLearning/BaekJoon/16719_ZOAC.ipynb#ch0000009?line=11'>12</a>\u001b[0m     \u001b[39mprint\u001b[39m(\u001b[39m'\u001b[39m\u001b[39m*현재 스택 :\u001b[39m\u001b[39m'\u001b[39m,stack)\n\u001b[0;32m---> <a href='vscode-notebook-cell:/Users/mac/CodeLearning/BaekJoon/16719_ZOAC.ipynb#ch0000009?line=12'>13</a>\u001b[0m     \u001b[39mwhile\u001b[39;00m \u001b[39mnot\u001b[39;00m output[stack[\u001b[39m-\u001b[39;49m\u001b[39m1\u001b[39;49m]:]:\n\u001b[1;32m     <a href='vscode-notebook-cell:/Users/mac/CodeLearning/BaekJoon/16719_ZOAC.ipynb#ch0000009?line=13'>14</a>\u001b[0m         _ \u001b[39m=\u001b[39m stack\u001b[39m.\u001b[39mpop()\n\u001b[1;32m     <a href='vscode-notebook-cell:/Users/mac/CodeLearning/BaekJoon/16719_ZOAC.ipynb#ch0000009?line=14'>15</a>\u001b[0m         \u001b[39mprint\u001b[39m(\u001b[39m'\u001b[39m\u001b[39mspecial***\u001b[39m\u001b[39m'\u001b[39m)\n",
      "\u001b[0;31mIndexError\u001b[0m: list index out of range"
     ]
    }
   ],
   "source": [
    "import sys\n",
    "import heapq \n",
    "\n",
    "#input=sys.stdin.readline\n",
    "words = list(input()) \n",
    "output = words.copy() # 사용한 문자는 지워가며 사용 \n",
    "\n",
    "stack = [min(output)] #output에서의 문자 \n",
    "output_str = [] #word에서의 문자 \n",
    "\n",
    "for _ in range(len(words)): \n",
    "    print('*현재 스택 :',stack)\n",
    "    while not output[output.index(stack[-1]):]:\n",
    "        _ = stack.pop()\n",
    "        print('special***')\n",
    "    \n",
    "    print('**현재 기준 idx :',stack[-1])\n",
    "        \n",
    "    min_word = min(output[stack[-1]:])\n",
    "    print('*** 뽑은 최소 단어 :',min_word)\n",
    "    \n",
    "    words_min_idx = words.index(min_word)\n",
    "    output_str.append(words_min_idx)\n",
    "    \n",
    "    stack.append(min_word)\n",
    "    output.remove(min_word)\n",
    "    \n",
    "    output_str.sort()\n",
    "    print(''.join([words[i] for i in output_str]))\n",
    "    print('-------')"
   ]
  },
  {
   "cell_type": "markdown",
   "metadata": {},
   "source": [
    "고려해야할 사항    \n",
    "- 1. 알파벳 중복 등장 상황 (즉, 문자로 알파벳 위치 찾는거 불가)  \n",
    "- 2. 그냥 오른쪽만 보는건 X. 더이상 볼 오른쪽의 문자가 없는 경우 이전의 기준 문자 위치를 기준으로 다시 오른쪽을 봐야함. => 그래도 없으면 더 이전의 기준 문자 위치 보기 *inf  "
   ]
  },
  {
   "cell_type": "code",
   "execution_count": null,
   "metadata": {},
   "outputs": [],
   "source": [
    "import sys\n",
    "import heapq \n",
    "\n",
    "#input=sys.stdin.readline\n",
    "words = list(input()) \n",
    "output = words.copy() # 사용한 문자는 지워가며 사용 \n",
    "\n",
    "stack = [words.index(min(output))] #output에서의 문자의 index\n",
    "output_str = [] #word에서의 문자 \n",
    "\n",
    "for _ in range(len(words)): \n",
    "    min_word = min(words[stack[-1]+1:])\n",
    "    if words[stack[-1]+1:] and ( min_word not in output_str ) :\n",
    "        min_word\n",
    "                \n",
    "    else: \n",
    "        while not words[stack[-1]+1:]:\n",
    "            _ = stack.pop()\n",
    "        for w in words[stack[-1]+1:]:\n",
    "            if w not in output_str:\n",
    "                print('t')\n",
    "            \n",
    "    "
   ]
  },
  {
   "cell_type": "code",
   "execution_count": 21,
   "metadata": {},
   "outputs": [],
   "source": [
    "## [2] 넣고 시작 방식 \n",
    "import sys\n",
    "import heapq \n",
    "\n",
    "#input=sys.stdin.readline\n",
    "words = list(input()) \n",
    "output = words.copy() # 사용한 문자는 지워가며 사용 \n",
    "\n",
    "stack = [words.index(min(words))]\n",
    "output_idx = [words.index(min(words))]\n",
    "print(min(words))\n",
    "\n",
    "while stack:\n",
    "    #                                 [x for x in a if x not in b]\n",
    "    if words[stack[-1]+1:]:\n",
    "        left_words = [words[x] for x in range(stack[-1]+1,len(words)) if x not in output_idx ]\n",
    "        if left_words:\n",
    "            min_idx = words.index(min(left_words))\n",
    "            stack.append(min_idx)\n",
    "            output_idx.append(min_idx)\n",
    "            # print('*stack :',stack)\n",
    "            # print('**ouput_idx :',output_idx)\n",
    "            print(''.join([words[i] for i in sorted(output_idx)]))\n",
    "            print('-----')\n",
    "            continue\n",
    "        \n",
    "    stack.pop()\n",
    "    # print('-stack :',stack)\n",
    "    # print('-ouput_idx :',output_idx)\n",
    "    print('-----')\n",
    "        \n",
    "    \n",
    "        "
   ]
  },
  {
   "cell_type": "code",
   "execution_count": 20,
   "metadata": {},
   "outputs": [
    {
     "name": "stdout",
     "output_type": "stream",
     "text": [
      "A\n",
      "AI\n",
      "AIK\n",
      "AINK\n",
      "ALINK\n",
      "ARLINK\n",
      "ARTLINK\n",
      "SARTLINK\n",
      "STARTLINK\n"
     ]
    }
   ],
   "source": [
    "import heapq \n",
    "\n",
    "words = list(input()) \n",
    "output = words.copy() # 사용한 문자는 지워가며 사용 \n",
    "\n",
    "stack = [-1]\n",
    "output_idx = []\n",
    "\n",
    "while stack:\n",
    "    if words[stack[-1]+1:]:\n",
    "        left_idx = [x for x in range(stack[-1]+1,len(words)) if x not in output_idx ]\n",
    "        if left_idx:\n",
    "            min_idx = (stack[-1]+1) + (words[(stack[-1]+1):].index(min([words[x] for x in left_idx])))\n",
    "            stack.append(min_idx)\n",
    "            output_idx.append(min_idx)\n",
    "            print(''.join([words[i] for i in sorted(output_idx)]))\n",
    "            continue\n",
    "        \n",
    "    stack.pop()"
   ]
  },
  {
   "cell_type": "code",
   "execution_count": null,
   "metadata": {},
   "outputs": [],
   "source": []
  }
 ],
 "metadata": {
  "interpreter": {
   "hash": "7b34b089ce0dfc9935940e0a22050b2949fa617f7a2b73925623c261bed16aeb"
  },
  "kernelspec": {
   "display_name": "Python 3.8.5 ('base')",
   "language": "python",
   "name": "python3"
  },
  "language_info": {
   "codemirror_mode": {
    "name": "ipython",
    "version": 3
   },
   "file_extension": ".py",
   "mimetype": "text/x-python",
   "name": "python",
   "nbconvert_exporter": "python",
   "pygments_lexer": "ipython3",
   "version": "3.8.5"
  },
  "orig_nbformat": 4
 },
 "nbformat": 4,
 "nbformat_minor": 2
}
