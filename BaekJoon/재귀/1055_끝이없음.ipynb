{
 "cells": [
  {
   "cell_type": "markdown",
   "metadata": {},
   "source": [
    "### 문제    \n",
    "https://www.acmicpc.net/problem/1055   \n",
    "_    \n",
    "김지민이 Endless란 프로그램을 만들었다. 맨 처음 이 프로그램을 실행시킬 때는, 어떤 문자열을 입력으로 받는다. 그 이후에는 그 전 실행의 출력이 이번 실행의 입력이 된다.\n",
    "\n",
    "처음에 입력되는 문자열은 알파벳 소문자로만 이루어져 있다.\n",
    "\n",
    "이 Endless 프로그램이 하는 일은 다음과 같다. 어떤 문자열 S가 정의되어 있다. 이 문자열 S는 알파벳 소문자와 ‘$’로 이루어져 있다. 이제 S에서 ‘$’를 입력으로 들어온 문자열로 모두 바꾼 후에 출력한다.\n",
    "\n",
    "예를 들어, 처음 입력이 “a”이고, 문자열 S가 “$meric$”라고 하자.\n",
    "\n",
    "그럼 처음 실행될 때는 “america”가 출력된다. 그리고 그 다음 실행 될 때는 그 전의 출력된 문자열이 입력으로 쓰이므로, “americamericamerica”가 출력될 것이다.\n",
    "\n",
    "처음 입력 문자열과, 문자열 S, 그리고 이 프로그램을 실행 시킬 횟수가 주어질 때, min번째 문자부터 max번째 문자까지 출력하는 프로그램을 작성하시오.\n",
    "\n",
    "#### 입력  \n",
    "첫째 줄에 이 프로그램의 처음 입력이 주어진다. 길이는 최대 50이다. 둘째 줄에는 문자열 S가 주어진다. 길이는 2보다 크거나 같고, 50보다 작거나 같고, 가장 첫 문자는 항상 ‘$’이다. 셋째 줄에는 실행 시킬 횟수가 주어지며, 1,000,000,000보다 작거나 같은 자연수이다 마지막 줄에는 min과 max가 주어진다. min은 1,000,000,000보다 작거나 같은 자연수이고, max는 min보다 크거나 같고, min+99보다 작거나 같은 자연수이다. \n",
    "\n",
    "#### 출력  \n",
    "첫째 줄에 문제의 정답을 출력한다. 만약 해당하는 문자가 없을 때는 ‘-‘를 대신 출력한다.\n",
    "\n",
    "#### 예제 \n",
    "[input]   \n",
    "abc   \n",
    "$x$y$z$     \n",
    "10      \n",
    "30 50   \n",
    "\n",
    "[output]        \n",
    "bcyabcxabcyabczabczab   \n",
    "\n",
    "#### 조건 \n",
    "- 시간제한 : 2초     \n",
    "- 메모리제한 : 128MB\n",
    "\n",
    "#### 출처 \n",
    "x"
   ]
  },
  {
   "cell_type": "code",
   "execution_count": 2,
   "metadata": {},
   "outputs": [],
   "source": [
    "f = str(input()) # 처음 입력 문자열 \n",
    "s = str(input()) # 문자열 S\n",
    "n = int(input()) # 반복횟수\n",
    "min, max = map(int, input().split()) # 출력할 min번째 ~ max번째 문자열  "
   ]
  },
  {
   "cell_type": "code",
   "execution_count": 5,
   "metadata": {},
   "outputs": [
    {
     "name": "stdout",
     "output_type": "stream",
     "text": [
      "topcoder------------\n"
     ]
    }
   ],
   "source": [
    "f = str(input()) # 처음 입력 문자열 \n",
    "s = str(input()) # 문자열 S\n",
    "n = int(input()) # 반복횟수\n",
    "MIN, MAX = map(int, input().split()) # 출력할 min번째 ~ max번째 문자열  \n",
    "\n",
    "cntstr = s.count('$')\n",
    "def countcheck(cntstr, n):\n",
    "    for i in range(n): \n",
    "        if cntstr**(i+1) > (10**9 + 99):\n",
    "            return i\n",
    "    return 29\n",
    "        \n",
    "if cntstr < 2 :\n",
    "    num = n\n",
    "else:\n",
    "    num = countcheck(cntstr, n)\n",
    "    \n",
    "much = min(num,n)\n",
    "\n",
    "for i in range(much):\n",
    "    f = s.replace('$',f)\n",
    "    if f \n",
    "\n",
    "f=f.ljust(MAX,\"-\")\n",
    "print(f[(MIN-1):min(MAX,len(f))])"
   ]
  },
  {
   "cell_type": "markdown",
   "metadata": {},
   "source": [
    "### 변수 대치 방법  \n",
    "- 1. f-string format   \n",
    "    ex ) >> cnt = 10  >> print(f\"횟수: {cnt}\") >> 횟수: 10   \n",
    "- 2. 문자열 format code (%)   \n",
    "    ex ) >> cnt = 10  >> print(\"횟수: %d\"%cnt) >> 횟수: 10   \n",
    "- 3. format()  \n",
    "    ex ) >> cnt = 10  >> print(\"횟수: {0}\".format(cnt)) >> 횟수: 10  \n",
    "\n",
    "### 문자열 대치 방법  \n",
    "- 1. replace  \n",
    "    ex ) >> s = \"$aaa$\" >> s = s.replace(\"$\",'A') >> print(s) >> AaaaA "
   ]
  },
  {
   "cell_type": "markdown",
   "metadata": {},
   "source": []
  }
 ],
 "metadata": {
  "interpreter": {
   "hash": "7b34b089ce0dfc9935940e0a22050b2949fa617f7a2b73925623c261bed16aeb"
  },
  "kernelspec": {
   "display_name": "Python 3.8.5 ('base')",
   "language": "python",
   "name": "python3"
  },
  "language_info": {
   "codemirror_mode": {
    "name": "ipython",
    "version": 3
   },
   "file_extension": ".py",
   "mimetype": "text/x-python",
   "name": "python",
   "nbconvert_exporter": "python",
   "pygments_lexer": "ipython3",
   "version": "3.8.5"
  },
  "orig_nbformat": 4
 },
 "nbformat": 4,
 "nbformat_minor": 2
}
