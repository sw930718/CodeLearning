{
 "cells": [
  {
   "cell_type": "code",
   "execution_count": 70,
   "metadata": {},
   "outputs": [
    {
     "data": {
      "text/plain": [
       "[[0, 0, 0, 0, 0, 0],\n",
       " [0, 0, 0, 0, 0, 0],\n",
       " [0, 0, 0, 0, 0, 0],\n",
       " [0, 0, 0, 0, 0, 1]]"
      ]
     },
     "execution_count": 70,
     "metadata": {},
     "output_type": "execute_result"
    }
   ],
   "source": [
    "import sys\n",
    "sys.stdin = open('input.txt','r')\n",
    "m, n=list(map(int,sys.stdin.readline().rstrip().split()))\n",
    "\n",
    "data=[]\n",
    "start=[]\n",
    "for i in range(n):\n",
    "    lst=list(map(int,sys.stdin.readline().rstrip().split()))\n",
    "    data.append(lst)\n",
    "\n",
    "    for j in range(m):\n",
    "        if lst[j] == 1:\n",
    "            start.append((i,j))\n",
    "            \n",
    "data"
   ]
  },
  {
   "cell_type": "code",
   "execution_count": 80,
   "metadata": {},
   "outputs": [
    {
     "data": {
      "text/plain": [
       "[(3, 5)]"
      ]
     },
     "execution_count": 80,
     "metadata": {},
     "output_type": "execute_result"
    }
   ],
   "source": [
    "start"
   ]
  },
  {
   "cell_type": "code",
   "execution_count": 81,
   "metadata": {},
   "outputs": [
    {
     "data": {
      "text/plain": [
       "[[0, 0, 0, 0, 0, 0],\n",
       " [0, 0, 0, 0, 0, 0],\n",
       " [0, 0, 0, 0, 0, 1],\n",
       " [0, 0, 0, 0, 1, 1]]"
      ]
     },
     "execution_count": 81,
     "metadata": {},
     "output_type": "execute_result"
    }
   ],
   "source": [
    "from collections import deque\n",
    "\n",
    "queue = deque()\n",
    "for i, j in start:\n",
    "    days=0\n",
    "    queue.append((i, j, days))\n",
    "    \n",
    "dx=[-1,0,1,0]\n",
    "dy=[0,-1,0,1]\n",
    "days=0\n",
    "\n",
    "while queue:\n",
    "    now_i, now_j, days = queue.popleft()\n",
    "    curr_day=days\n",
    "    for d in range(len(dx)):\n",
    "        x, y = now_i+dx[d], now_j+dy[d]\n",
    "    \n",
    "        if x < 0 or x >= n or y < 0 or y >= m :\n",
    "            continue\n",
    "\n",
    "        if data[x][y] != -1 and data[x][y] != 1:\n",
    "            data[x][y]=1\n",
    "            queue.append((x,y,days+1)) \n",
    "  \n",
    "data          \n",
    "# for lst in data:\n",
    "#     if lst.count(0) > 0 : \n",
    "#         print(-1)\n",
    "        \n",
    "# print('answer1:',days,'answer2:',curr_day)\n"
   ]
  },
  {
   "cell_type": "code",
   "execution_count": 54,
   "metadata": {},
   "outputs": [
    {
     "data": {
      "text/plain": [
       "0"
      ]
     },
     "execution_count": 54,
     "metadata": {},
     "output_type": "execute_result"
    }
   ],
   "source": [
    "data.count(0)"
   ]
  },
  {
   "cell_type": "code",
   "execution_count": null,
   "metadata": {},
   "outputs": [],
   "source": [
    "tomato=[-1,0,1]\n",
    "\n",
    "# from collections import deque\n",
    "\n",
    "def solution(i,j):       \n",
    "    if data[i][j]==1:\n",
    "        if not i!=0 and data[i-1][j]==0:\n",
    "            data[i-1][j]+=1\n",
    "            solution(i-1,j)\n",
    "        if not i!=(n-1):\n",
    "            data[i+1][j]+=1\n",
    "            solution(i+1,j)\n",
    "        if not j!=0:\n",
    "            data[i][j-1]+=1\n",
    "            solution(i,j-1)\n",
    "        if not j!=(m-1):\n",
    "            data[i][j+1]+=1\n",
    "            solution(i,j+1)\n",
    "     "
   ]
  },
  {
   "cell_type": "code",
   "execution_count": null,
   "metadata": {},
   "outputs": [],
   "source": [
    "from collections import deque\n",
    "import sys\n",
    "sys.stdin = open(\"input.txt\",\"r\")\n",
    "input=sys.stdin.readline\n",
    "\n",
    "# input\n",
    "m,n = map(int, input().split())\n",
    "graph = []\n",
    "visited = [[0 for _ in range(m)] for _ in range(n)] \n",
    "\n",
    "for i in range(n):\n",
    "    graph.append(list(map(int, input().split())))\n",
    "    \n",
    "Q = deque()\n",
    "for i in range(n):\n",
    "    for j in range(m):\n",
    "        if graph[i][j] == 1:\n",
    "            Q.append((i,j))\n",
    "            visited[i][j] = 1\n",
    "\n",
    "dr = [-1,1,0,0]\n",
    "dc = [0,0,-1,1]\n",
    "day_cnt = 0\n",
    "\n",
    "def bfs():\n",
    "    global day_cnt\n",
    "    while Q:\n",
    "        for i  in range(len(Q)):\n",
    "            r,c = Q.popleft()\n",
    "            for i in range(4):\n",
    "                nr = r + dr[i]\n",
    "                nc = c + dc[i]\n",
    "                if nr < n and nc < m and nr >=0 and nc >=0 and graph[nr][nc] == 0 and visited[nr][nc] == 0:\n",
    "                    visited[nr][nc] = visited[r][c] + 1\n",
    "                    Q.append((nr,nc))   \n",
    "        day_cnt += 1\n",
    "        \n",
    "\n",
    "# 덜익은 토마토 check\n",
    "def check():\n",
    "    for i in range(n):\n",
    "        for j in range(m):\n",
    "            if visited[i][j] == 0 and graph[i][j]==0:\n",
    "                print(-1)\n",
    "                return\n",
    "    print(day_cnt-1)\n",
    "\n",
    "bfs()\n",
    "check()"
   ]
  }
 ],
 "metadata": {
  "interpreter": {
   "hash": "7b34b089ce0dfc9935940e0a22050b2949fa617f7a2b73925623c261bed16aeb"
  },
  "kernelspec": {
   "display_name": "Python 3.8.5 ('base')",
   "language": "python",
   "name": "python3"
  },
  "language_info": {
   "codemirror_mode": {
    "name": "ipython",
    "version": 3
   },
   "file_extension": ".py",
   "mimetype": "text/x-python",
   "name": "python",
   "nbconvert_exporter": "python",
   "pygments_lexer": "ipython3",
   "version": "3.8.5"
  },
  "orig_nbformat": 4
 },
 "nbformat": 4,
 "nbformat_minor": 2
}
