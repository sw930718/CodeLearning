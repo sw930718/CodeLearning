{
 "cells": [
  {
   "cell_type": "markdown",
   "metadata": {},
   "source": [
    "### 문제    \n",
    "//문제링크\n",
    "_    \n",
    "//문제설명    \n",
    "\n",
    "#### 입력  \n",
    "//입력설명 \n",
    "\n",
    "#### 출력  \n",
    "//출력설명 \n",
    "\n",
    "#### 예제 \n",
    "[input]   \n",
    "//입력값\n",
    "\n",
    "[output]    \n",
    "//출력값\n",
    "\n",
    "#### 조건 \n",
    "- 시간제한 : *초     \n",
    "- 메모리제한 : *MB\n",
    "\n",
    "#### 알고리즘 분류 \n",
    "//태그 작성   "
   ]
  },
  {
   "cell_type": "markdown",
   "metadata": {},
   "source": [
    "풀이1 ) //구현 아이디어"
   ]
  },
  {
   "cell_type": "code",
   "execution_count": null,
   "metadata": {},
   "outputs": [],
   "source": [
    "n = int(input())\n",
    "crane = list(map(int,input().split()))\n",
    "m = int(input())\n",
    "box = list(map(int,input().split()))\n",
    "\n",
    "def solve():\n",
    "    if max(crane) < max(box): # 박스를 모두 옮길 수 없을 때\n",
    "        return -1\n",
    "    else:\n",
    "        crane.sort(reverse=True) # 크레인 박스 모두 큰 수부터 정렬\n",
    "        box.sort(reverse=True)\n",
    "        cnt = 0 # 정답\n",
    "        while box: # 박스 배열이 존재할 때\n",
    "            for i in range(n): # 크레인 탐색할 반복문\n",
    "                for j in box: # 박스 배열 (remove때문에 총 인덱스가 변함)\n",
    "                    if crane[i] >= j: # 크레인의 무게가 박스무게보다 크다면\n",
    "                        box.remove(j) # 삭제해서 옮겨졌다고 간주한다.\n",
    "                        break\n",
    "            cnt += 1 # 한 번 반복이 끝날 때마다 1을 더해준다.\n",
    "        return cnt\n",
    "\n",
    "print(solve())"
   ]
  }
 ],
 "metadata": {
  "interpreter": {
   "hash": "7b34b089ce0dfc9935940e0a22050b2949fa617f7a2b73925623c261bed16aeb"
  },
  "kernelspec": {
   "display_name": "Python 3.8.5 ('base')",
   "language": "python",
   "name": "python3"
  },
  "language_info": {
   "codemirror_mode": {
    "name": "ipython",
    "version": 3
   },
   "file_extension": ".py",
   "mimetype": "text/x-python",
   "name": "python",
   "nbconvert_exporter": "python",
   "pygments_lexer": "ipython3",
   "version": "3.8.5"
  },
  "orig_nbformat": 4
 },
 "nbformat": 4,
 "nbformat_minor": 2
}
