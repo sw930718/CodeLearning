{
 "cells": [
  {
   "cell_type": "markdown",
   "metadata": {},
   "source": [
    "https://www.acmicpc.net/problem/1783\n",
    "\n",
    "문제 이해 주의! \n",
    "* 3번 이동까지는 4가지 이동 중복 가능\n",
    "* ex. 1번 이동시 방문하는 칸은 (시작칸 1개)+(이동후 칸 1개) -> 2칸 "
   ]
  },
  {
   "cell_type": "markdown",
   "metadata": {},
   "source": [
    "--------------------"
   ]
  },
  {
   "cell_type": "markdown",
   "metadata": {},
   "source": [
    "문제 풀이 )\n",
    "* column(N)=1이면 이동 불가하므로 방문칸 = 1  \n",
    "\n",
    "* column(N)=2이면, 3번 이동까지는 중복 가능이므로 ┌━,└━,┌━ 로 이동가능 이때 방문칸 = 4     \n",
    "    즉, 3번 이동 후 위치한 row(M)가 7 이고 row>7부터는 이동불가 이므로 최대 방문 가능칸 = 4  \n",
    "    row(M)<7이면 최대 방문칸이 row=1: 1칸, 2: 1칸, 3: 2칸, 4: 2칸, 5: 3칸, 6: 3칸 이므로 규칙을 찾으면 (M+1)//2 따라서, 4와 (M+1)//2 중 최솟값이 방문칸    \n",
    "\n",
    "* column(N)>=3 & row(M)<7이면, 3번 이동까지는 중복 가능이므로 최대 방문칸이 row=1: 1칸, 2: 2칸, 3: 3칸, 4: 4칸, 5: 4칸, 6: 4칸\n",
    "   따라서, 4와 M 중 최솟값이 방문칸    \n",
    "   \n",
    "* column(N)>=3 & row(M)=>7이면, 3번 이동이 무조건 넘으므로 4개의 이동을 최소한 한번씩 사용해야 함   \n",
    "   가장 많은 칸을 지나도록 하는 경우는 row=7 까지 ┌,└,┌━,└━ 이렇게 가능 경우이고, 이때 방문칸 = 5 이다.     \n",
    "   row>7부터는 ┌,└ 의 반복이 가장 많은 칸을 지나는 경우 이므로, 7에서 row가 한칸씩 커질수록 방문칸도 한칸씩 늘어서 방문칸 = 5 + (M-7)"
   ]
  },
  {
   "cell_type": "code",
   "execution_count": 1,
   "metadata": {},
   "outputs": [
    {
     "name": "stdout",
     "output_type": "stream",
     "text": [
      "2\n"
     ]
    }
   ],
   "source": [
    "N, M = map(int, input().split())\n",
    "\n",
    "if N == 1 :\n",
    "    answer = 1\n",
    "elif N == 2:\n",
    "    answer = min(4, (M+1)//2)\n",
    "elif M<7:\n",
    "    answer = min(4, M)\n",
    "else :\n",
    "    answer = 5 + (M-7)\n",
    "\n",
    "print(answer)"
   ]
  },
  {
   "cell_type": "code",
   "execution_count": null,
   "metadata": {},
   "outputs": [],
   "source": [
    "# N = 2, M = 4 => answer = 2       "
   ]
  }
 ],
 "metadata": {
  "interpreter": {
   "hash": "7b34b089ce0dfc9935940e0a22050b2949fa617f7a2b73925623c261bed16aeb"
  },
  "kernelspec": {
   "display_name": "Python 3.8.5 ('base')",
   "language": "python",
   "name": "python3"
  },
  "language_info": {
   "codemirror_mode": {
    "name": "ipython",
    "version": 3
   },
   "file_extension": ".py",
   "mimetype": "text/x-python",
   "name": "python",
   "nbconvert_exporter": "python",
   "pygments_lexer": "ipython3",
   "version": "3.8.5"
  },
  "orig_nbformat": 4
 },
 "nbformat": 4,
 "nbformat_minor": 2
}
