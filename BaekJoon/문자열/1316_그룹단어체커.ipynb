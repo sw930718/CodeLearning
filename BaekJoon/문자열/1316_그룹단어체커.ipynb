{
 "cells": [
  {
   "cell_type": "markdown",
   "metadata": {},
   "source": [
    "### 문제    \n",
    "//문제링크\n",
    "_    \n",
    "//문제설명    \n",
    "\n",
    "#### 입력  \n",
    "//입력설명 \n",
    "\n",
    "#### 출력  \n",
    "//출력설명 \n",
    "\n",
    "#### 예제 \n",
    "[input]   \n",
    "//입력값\n",
    "\n",
    "[output]    \n",
    "//출력값\n",
    "\n",
    "#### 조건 \n",
    "- 시간제한 : *초     \n",
    "- 메모리제한 : *MB\n",
    "\n",
    "#### 알고리즘 분류 \n",
    "//태그 작성   "
   ]
  },
  {
   "cell_type": "markdown",
   "metadata": {},
   "source": [
    "풀이1 ) //구현 아이디어"
   ]
  },
  {
   "cell_type": "code",
   "execution_count": 2,
   "metadata": {},
   "outputs": [],
   "source": [
    "N = int(input())\n",
    "mirror=[]\n",
    "for _ in range(N):\n",
    "    mirror.append(list(map(str, input())))\n",
    "K=int(input())\n",
    "\n",
    "# mirror 변형 \n",
    "if K==2:\n",
    "    for idx,lst in enumerate(mirror):\n",
    "        mirror[idx] = lst[::-1]\n",
    "elif K==3:\n",
    "    mirror=mirror[::-1]\n",
    "else:\n",
    "    pass\n",
    "\n",
    "# 출력 \n",
    "for i in mirror:\n",
    "    print(''.join(i))"
   ]
  },
  {
   "cell_type": "code",
   "execution_count": 3,
   "metadata": {},
   "outputs": [
    {
     "data": {
      "text/plain": [
       "[['O', 'O', 'O', 'O', 'O', 'O', 'O', 'O'],\n",
       " ['O', 'K', 'K', 'O', 'O', 'E', 'E', 'O'],\n",
       " ['O', 'K', 'K', 'O', 'O', 'E', 'E', 'O'],\n",
       " ['O', 'O', 'O', 'S', 'S', 'O', 'O', 'O'],\n",
       " ['O', 'O', 'O', 'S', 'S', 'O', 'O', 'O'],\n",
       " ['O', 'A', 'O', 'O', 'O', 'O', 'A', 'O'],\n",
       " ['O', 'O', 'A', 'A', 'A', 'A', 'O', 'O'],\n",
       " ['O', 'O', 'O', 'O', 'O', 'O', 'O', 'O']]"
      ]
     },
     "execution_count": 3,
     "metadata": {},
     "output_type": "execute_result"
    }
   ],
   "source": [
    "mirror"
   ]
  },
  {
   "cell_type": "code",
   "execution_count": 5,
   "metadata": {},
   "outputs": [
    {
     "data": {
      "text/plain": [
       "[['O', 'O', 'O', 'O', 'O', 'O', 'O', 'O'],\n",
       " ['O', 'O', 'A', 'A', 'A', 'A', 'O', 'O'],\n",
       " ['O', 'A', 'O', 'O', 'O', 'O', 'A', 'O'],\n",
       " ['O', 'O', 'O', 'S', 'S', 'O', 'O', 'O'],\n",
       " ['O', 'O', 'O', 'S', 'S', 'O', 'O', 'O'],\n",
       " ['O', 'K', 'K', 'O', 'O', 'E', 'E', 'O'],\n",
       " ['O', 'K', 'K', 'O', 'O', 'E', 'E', 'O'],\n",
       " ['O', 'O', 'O', 'O', 'O', 'O', 'O', 'O']]"
      ]
     },
     "execution_count": 5,
     "metadata": {},
     "output_type": "execute_result"
    }
   ],
   "source": [
    "mirror[::-1]"
   ]
  },
  {
   "cell_type": "code",
   "execution_count": 6,
   "metadata": {},
   "outputs": [
    {
     "data": {
      "text/plain": [
       "[['O', 'O', 'O', 'O', 'O', 'O', 'O', 'O'],\n",
       " ['O', 'E', 'E', 'O', 'O', 'K', 'K', 'O'],\n",
       " ['O', 'E', 'E', 'O', 'O', 'K', 'K', 'O'],\n",
       " ['O', 'O', 'O', 'S', 'S', 'O', 'O', 'O'],\n",
       " ['O', 'O', 'O', 'S', 'S', 'O', 'O', 'O'],\n",
       " ['O', 'A', 'O', 'O', 'O', 'O', 'A', 'O'],\n",
       " ['O', 'O', 'A', 'A', 'A', 'A', 'O', 'O'],\n",
       " ['O', 'O', 'O', 'O', 'O', 'O', 'O', 'O']]"
      ]
     },
     "execution_count": 6,
     "metadata": {},
     "output_type": "execute_result"
    }
   ],
   "source": [
    "for idx,lst in enumerate(mirror):\n",
    "    mirror[idx] = lst[::-1]\n",
    "mirror"
   ]
  }
 ],
 "metadata": {
  "interpreter": {
   "hash": "7b34b089ce0dfc9935940e0a22050b2949fa617f7a2b73925623c261bed16aeb"
  },
  "kernelspec": {
   "display_name": "Python 3.8.5 ('base')",
   "language": "python",
   "name": "python3"
  },
  "language_info": {
   "codemirror_mode": {
    "name": "ipython",
    "version": 3
   },
   "file_extension": ".py",
   "mimetype": "text/x-python",
   "name": "python",
   "nbconvert_exporter": "python",
   "pygments_lexer": "ipython3",
   "version": "3.8.5"
  },
  "orig_nbformat": 4
 },
 "nbformat": 4,
 "nbformat_minor": 2
}
