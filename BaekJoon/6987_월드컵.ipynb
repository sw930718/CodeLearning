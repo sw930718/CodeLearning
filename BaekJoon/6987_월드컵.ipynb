{
 "cells": [
  {
   "cell_type": "markdown",
   "metadata": {},
   "source": [
    "문제링크     \n"
   ]
  },
  {
   "cell_type": "markdown",
   "metadata": {},
   "source": [
    "풀이1 ) //구현 아이디어"
   ]
  },
  {
   "cell_type": "markdown",
   "metadata": {},
   "source": [
    "[ 문제 상황 check ]     \n",
    "- 6개국, 국가별 5번 경기, 결과 네가지 - 고정 "
   ]
  },
  {
   "cell_type": "markdown",
   "metadata": {},
   "source": [
    "[ 경기 가능할 조건 ]    \n",
    "- 1. 승 + 무//2  = 15 (6C2) & 무//2 + 패 = 15    \n",
    "- 2. '무'가 존재하는 나라의 수는 반드시 짝수    \n",
    "- 3. 나라 별 경기 횟수 5번   "
   ]
  },
  {
   "cell_type": "code",
   "execution_count": 9,
   "metadata": {},
   "outputs": [
    {
     "name": "stdout",
     "output_type": "stream",
     "text": [
      "1 1 1 1 "
     ]
    }
   ],
   "source": [
    "# functions \n",
    "def winCntCheck(match):\n",
    "    if (sum(list(zip(*match))[0]) + sum(list(zip(*match))[1])//2) == 15:\n",
    "        if (sum(list(zip(*match))[2]) + sum(list(zip(*match))[1])//2) == 15:\n",
    "            return True        \n",
    "    return False\n",
    "\n",
    "def drawEvenCheck(match):\n",
    "    cnt = 0 \n",
    "    for i in list(zip(*match))[1]:\n",
    "        if i:\n",
    "            cnt+=1\n",
    "\n",
    "    if cnt%2 == 0:\n",
    "        return True\n",
    "    return False\n",
    "\n",
    "def countryCntCheck(match):\n",
    "    for i in range(6):\n",
    "        if sum(match[i]) != 5:\n",
    "            return False\n",
    "    return True\n",
    "\n",
    "# input & output\n",
    "for _ in range(4):\n",
    "    line = list(map(int, input().split()))\n",
    "    match = [line[i:i+3] for i in range(0,16,3)]\n",
    "    \n",
    "    if winCntCheck(match) and drawEvenCheck(match) and countryCntCheck(match):\n",
    "        print(1, end=' ')\n",
    "    else:\n",
    "        print(0, end=' ')  "
   ]
  },
  {
   "cell_type": "markdown",
   "metadata": {},
   "source": [
    "! 궁금한점 : 한줄씩 받고 결과반환 후 다음줄 받는걸 반복하는게 빠를까 ? 아님      \n",
    "한번에 다 리스트로 받고, 호출해서 결과 반환하는게 더 적절할까?     \n",
    "( 시간,메모리측면 모두 고려 필요 ) "
   ]
  }
 ],
 "metadata": {
  "interpreter": {
   "hash": "7b34b089ce0dfc9935940e0a22050b2949fa617f7a2b73925623c261bed16aeb"
  },
  "kernelspec": {
   "display_name": "Python 3.8.5 ('base')",
   "language": "python",
   "name": "python3"
  },
  "language_info": {
   "codemirror_mode": {
    "name": "ipython",
    "version": 3
   },
   "file_extension": ".py",
   "mimetype": "text/x-python",
   "name": "python",
   "nbconvert_exporter": "python",
   "pygments_lexer": "ipython3",
   "version": "3.8.5"
  },
  "orig_nbformat": 4
 },
 "nbformat": 4,
 "nbformat_minor": 2
}
