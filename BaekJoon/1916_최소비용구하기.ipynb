{
 "cells": [
  {
   "cell_type": "markdown",
   "metadata": {},
   "source": [
    "문제링크     \n"
   ]
  },
  {
   "cell_type": "markdown",
   "metadata": {},
   "source": [
    "풀이1 ) //구현 아이디어"
   ]
  },
  {
   "cell_type": "code",
   "execution_count": 4,
   "metadata": {},
   "outputs": [
    {
     "name": "stdout",
     "output_type": "stream",
     "text": [
      "7\n"
     ]
    }
   ],
   "source": [
    "import heapq\n",
    "import sys\n",
    "# sys.stdin = open(\"input.txt\",\"r\")\n",
    "input=sys.stdin.readline\n",
    "\n",
    "## input ##\n",
    "N_city = int(input()) \n",
    "M_bus = int(input())\n",
    "graph = [[] for _ in range(N_city+1)]\n",
    "for _ in range(M_bus):\n",
    "    start, end, cost = map(int, input().split())\n",
    "    graph[start].append((end, cost)) # 저번주에 tuple이 훨씬 속도가 빠르다는거 확인 - tuple 사용\n",
    "answer_start, answer_end = map(int, input().split())\n",
    "\n",
    "## solve ## \n",
    "distance = [int(1e9)]*(N_city+1) # 버스비용 최대가 1e5, 최단거리 테이블 초기화\n",
    "\n",
    "# 다익스트라 함수 정의 \n",
    "def dijkstra(s):\n",
    "    q=[]\n",
    "    heapq.heappush(q, (0,s)) # 시작 노드로 가기위한 최단경로 0으로 설정하고, queue에 삽입 & heappush : 어떤 수를 넣어도 맨 앞은 최소값으로 유지 \n",
    "    distance[s] = 0 # 자기자신 \n",
    "    while q:\n",
    "        dist, now = heapq.heappop(q) # heappop : 가장 작은 원소를 heap에서 제거하고, 그 값 반환 \n",
    "        # 현재 노드가 처리된 적 있는 노드면 pass \n",
    "        if distance[now] < dist:\n",
    "            continue\n",
    "        # 현재 노드와 연결된 다른 노드들 확인 \n",
    "        for i in graph[now]:\n",
    "            # 다른노드를 거치는 경우가 더 짧은 경우, distance 값 갱신  \n",
    "            price = dist + i[1]\n",
    "            if price < distance[i[0]]:\n",
    "                distance[i[0]] = price \n",
    "                heapq.heappush(q, (price, i[0]))\n",
    "                \n",
    "dijkstra(answer_start) # 다익스트라 알고리즘 수행 \n",
    "print(distance[answer_end])"
   ]
  },
  {
   "cell_type": "code",
   "execution_count": null,
   "metadata": {},
   "outputs": [],
   "source": []
  }
 ],
 "metadata": {
  "interpreter": {
   "hash": "7b34b089ce0dfc9935940e0a22050b2949fa617f7a2b73925623c261bed16aeb"
  },
  "kernelspec": {
   "display_name": "Python 3.8.5 ('base')",
   "language": "python",
   "name": "python3"
  },
  "language_info": {
   "codemirror_mode": {
    "name": "ipython",
    "version": 3
   },
   "file_extension": ".py",
   "mimetype": "text/x-python",
   "name": "python",
   "nbconvert_exporter": "python",
   "pygments_lexer": "ipython3",
   "version": "3.8.5"
  },
  "orig_nbformat": 4
 },
 "nbformat": 4,
 "nbformat_minor": 2
}
