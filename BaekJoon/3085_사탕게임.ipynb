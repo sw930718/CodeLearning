{
 "cells": [
  {
   "cell_type": "markdown",
   "metadata": {},
   "source": [
    "문제링크     \n",
    "https://www.acmicpc.net/problem/3085"
   ]
  },
  {
   "cell_type": "markdown",
   "metadata": {},
   "source": [
    "풀이1 ) //구현 아이디어"
   ]
  },
  {
   "cell_type": "code",
   "execution_count": 12,
   "metadata": {},
   "outputs": [
    {
     "name": "stdout",
     "output_type": "stream",
     "text": [
      "4\n"
     ]
    }
   ],
   "source": [
    "# 입력\n",
    "N = int(input())\n",
    "board = []\n",
    "for _ in range(N):\n",
    "    board.append(list(map(str, input())))\n",
    "\n",
    "# 코드 \n",
    "\n",
    "def candy_count(): # 가장 긴 캔디색 수 \n",
    "    candy =1\n",
    "    # 행 \n",
    "    for i in range(N):\n",
    "        cnt = 1\n",
    "        for j in range(1,N):\n",
    "            if board[i][j] == board[i][j-1]:\n",
    "                cnt+=1\n",
    "            else: # 다른색 캔디 나오면 candy 개수 갱신 & cnt 초기화 \n",
    "                candy = max(candy, cnt)\n",
    "                cnt = 1 \n",
    "                \n",
    "        candy = max(candy, cnt) # candy 개수 갱신 (행 끝날때까지 다른 캔디색 못 만난 경우 처리)\n",
    "        \n",
    "    # 열 \n",
    "    for i in range(N):\n",
    "        cnt = 1\n",
    "        for j in range(1,N):\n",
    "            if board[i][j] == board[i-1][j]:\n",
    "                cnt+=1\n",
    "            else: # 다른색 캔디 나오면 candy 개수 갱신 & cnt 초기화 \n",
    "                candy = max(candy, cnt)\n",
    "                cnt = 1 \n",
    "                \n",
    "        candy = max(candy, cnt) # candy 개수 갱신 (행 끝날때까지 다른 캔디색 못 만난 경우 처리)\n",
    "\n",
    "    return candy\n",
    "\n",
    "for i in range(N):\n",
    "    for j in range(N):\n",
    "        if j >= (N-1) and i >= (N-1):\n",
    "            continue \n",
    "        elif j >= (N-1) :\n",
    "            # 아래 열과 교환 #\n",
    "            # if board[i][j] != board[i+1][j]:\n",
    "            board[i][j], board[i+1][j] = board[i+1][j], board[i][j] # swap \n",
    "            answer = max(answer, candy_count())\n",
    "            # 원위치 \n",
    "            board[i][j], board[i+1][j] = board[i+1][j], board[i][j] # swap \n",
    "        elif i >= (N-1) :\n",
    "            # 오른쪽 행과 교환 #\n",
    "            #if board[i][j] != board[i][j+1]:\n",
    "            board[i][j], board[i][j+1] = board[i][j+1], board[i][j] # swap \n",
    "            answer = max(answer, candy_count())\n",
    "            # 원위치 \n",
    "            board[i][j], board[i][j+1] = board[i][j+1], board[i][j] # swap \n",
    "        else: \n",
    "            # 오른쪽 행과 교환 #\n",
    "            #if board[i][j] != board[i][j+1]:\n",
    "            board[i][j], board[i][j+1] = board[i][j+1], board[i][j] # swap \n",
    "            answer = max(answer, candy_count())\n",
    "            # 원위치 \n",
    "            board[i][j], board[i][j+1] = board[i][j+1], board[i][j] # swap \n",
    "                \n",
    "            # 아래 열과 교환 #\n",
    "            #if board[i][j] != board[i+1][j]:\n",
    "            board[i][j], board[i+1][j] = board[i+1][j], board[i][j] # swap \n",
    "            answer = max(answer, candy_count())\n",
    "            # 원위치 \n",
    "            board[i][j], board[i+1][j] = board[i+1][j], board[i][j] # swap \n",
    "            \n",
    "print(answer)"
   ]
  },
  {
   "cell_type": "code",
   "execution_count": null,
   "metadata": {},
   "outputs": [],
   "source": [
    "\n",
    "    "
   ]
  }
 ],
 "metadata": {
  "interpreter": {
   "hash": "7b34b089ce0dfc9935940e0a22050b2949fa617f7a2b73925623c261bed16aeb"
  },
  "kernelspec": {
   "display_name": "Python 3.8.5 ('base')",
   "language": "python",
   "name": "python3"
  },
  "language_info": {
   "codemirror_mode": {
    "name": "ipython",
    "version": 3
   },
   "file_extension": ".py",
   "mimetype": "text/x-python",
   "name": "python",
   "nbconvert_exporter": "python",
   "pygments_lexer": "ipython3",
   "version": "3.8.5"
  },
  "orig_nbformat": 4
 },
 "nbformat": 4,
 "nbformat_minor": 2
}
