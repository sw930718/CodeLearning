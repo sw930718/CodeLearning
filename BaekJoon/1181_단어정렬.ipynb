{
 "cells": [
  {
   "cell_type": "code",
   "execution_count": 24,
   "metadata": {},
   "outputs": [
    {
     "name": "stdout",
     "output_type": "stream",
     "text": [
      "i\n",
      "im\n",
      "it\n",
      "no\n",
      "but\n",
      "more\n",
      "wait\n",
      "wont\n",
      "yours\n",
      "cannot\n",
      "hesitate\n"
     ]
    }
   ],
   "source": [
    "import sys\n",
    "sys.stdin = open(\"input.txt\",\"r\")\n",
    "input=sys.stdin.readline\n",
    "\n",
    "# input\n",
    "n = int(input()) # n<=20000 : 시간 복잡도 (문제 제한 40,000,000)\n",
    "arr = []\n",
    "for _ in range(n):\n",
    "    arr.append(input().rstrip('\\n'))\n",
    "    \n",
    "# solve\n",
    "def solution(arr, n):\n",
    "    # 단어 길이값 먼저 다 받기 \n",
    "    for i in range(n):\n",
    "        arr[i] = (len(arr[i]),arr[i])\n",
    "    # 정렬 \n",
    "    arr = sorted(set(arr), key=lambda x: (x[0], x[1])) # 중복 해결을 위해 set 함수 사용 \n",
    "            \n",
    "    return arr\n",
    "        \n",
    "for i in solution(arr, n):\n",
    "    print(i[1])"
   ]
  },
  {
   "cell_type": "code",
   "execution_count": null,
   "metadata": {},
   "outputs": [],
   "source": [
    "# 다른풀이 \n",
    "import sys\n",
    "\n",
    "n = int(sys.stdin.readline())\n",
    "words = set()\n",
    "\n",
    "for i in range(n):\n",
    "  words.add(sys.stdin.readline())\n",
    "\n",
    "words = list(words)\n",
    "words.sort(key = lambda x : (len(x), x))\n",
    "\n",
    "print(''.join(words))"
   ]
  }
 ],
 "metadata": {
  "interpreter": {
   "hash": "7b34b089ce0dfc9935940e0a22050b2949fa617f7a2b73925623c261bed16aeb"
  },
  "kernelspec": {
   "display_name": "Python 3.8.5 ('base')",
   "language": "python",
   "name": "python3"
  },
  "language_info": {
   "codemirror_mode": {
    "name": "ipython",
    "version": 3
   },
   "file_extension": ".py",
   "mimetype": "text/x-python",
   "name": "python",
   "nbconvert_exporter": "python",
   "pygments_lexer": "ipython3",
   "version": "3.8.5"
  },
  "orig_nbformat": 4
 },
 "nbformat": 4,
 "nbformat_minor": 2
}
