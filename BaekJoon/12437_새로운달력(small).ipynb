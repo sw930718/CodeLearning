{
 "cells": [
  {
   "cell_type": "markdown",
   "metadata": {},
   "source": [
    "### 문제    \n",
    "https://www.acmicpc.net/problem/12437"
   ]
  },
  {
   "cell_type": "markdown",
   "metadata": {},
   "source": [
    "풀이1 ) 직접 리스트에 넣은 후 리스트 길이를 세는 방법 "
   ]
  },
  {
   "cell_type": "code",
   "execution_count": null,
   "metadata": {},
   "outputs": [],
   "source": [
    "T = int(input()) # Test Case 개수 \n",
    "case = []\n",
    "for _ in range(T):\n",
    "    case.append(list(map(int, input().split()))) # 총월수, 월당알수, 주당일수 \n",
    "\n",
    "calendar = []    \n",
    "for total, month, week in case:\n",
    "    one_m = [0]*month\n",
    "    calendar.append([one_m[i:i+week] for i in range(month//4+1)])"
   ]
  },
  {
   "cell_type": "markdown",
   "metadata": {},
   "source": [
    "풀이2 ) 수학적 규칙을 이용해 줄 수만 계산하는 방법"
   ]
  },
  {
   "cell_type": "code",
   "execution_count": 11,
   "metadata": {},
   "outputs": [
    {
     "name": "stdout",
     "output_type": "stream",
     "text": [
      "11\n",
      "48\n",
      "40\n"
     ]
    }
   ],
   "source": [
    "T = int(input()) # Test Case 개수 3\n",
    "case = []\n",
    "for _ in range(T):\n",
    "    case.append(list(map(int, input().split()))) # 총월수, 월당알수, 주당일수 3 11 4\n",
    "\n",
    "for total, month, week in case: \n",
    "    cnt = 0\n",
    "    rest = 0 \n",
    "    for _ in range(total):\n",
    "        if week-rest:\n",
    "            cnt+=1\n",
    "        cnt+=((month-(week-rest))//week)\n",
    "        rest = (month-(week-rest))%week\n",
    "        if rest:\n",
    "            cnt+=1\n",
    "        \n",
    "    print(cnt)\n"
   ]
  }
 ],
 "metadata": {
  "interpreter": {
   "hash": "7b34b089ce0dfc9935940e0a22050b2949fa617f7a2b73925623c261bed16aeb"
  },
  "kernelspec": {
   "display_name": "Python 3.8.5 ('base')",
   "language": "python",
   "name": "python3"
  },
  "language_info": {
   "codemirror_mode": {
    "name": "ipython",
    "version": 3
   },
   "file_extension": ".py",
   "mimetype": "text/x-python",
   "name": "python",
   "nbconvert_exporter": "python",
   "pygments_lexer": "ipython3",
   "version": "3.8.5"
  },
  "orig_nbformat": 4
 },
 "nbformat": 4,
 "nbformat_minor": 2
}
