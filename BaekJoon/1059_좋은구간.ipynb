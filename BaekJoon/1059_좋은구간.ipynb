{
 "cells": [
  {
   "cell_type": "markdown",
   "metadata": {},
   "source": [
    "### 문제    \n",
    "https://www.acmicpc.net/problem/1059   \n",
    "_    \n",
    "정수 집합 S가 주어졌을때, 다음 조건을 만족하는 구간 [A, B]를 좋은 구간이라고 한다.   \n",
    "\n",
    "A와 B는 양의 정수이고, A < B를 만족한다.   \n",
    "A ≤ x ≤ B를 만족하는 모든 정수 x가 집합 S에 속하지 않는다.   \n",
    "집합 S와 n이 주어졌을 때, n을 포함하는 좋은 구간의 개수를 구해보자.     \n",
    "\n",
    "#### 입력  \n",
    "첫째 줄에 집합 S의 크기 L   \n",
    "둘째 줄에는 집합에 포함된 정수값들   \n",
    "셋째 줄에는 n값    \n",
    "\n",
    "#### 출력  \n",
    "첫째 줄에 n을 포함하는 좋은 구간의 개수를 출력   \n",
    "\n",
    "#### + 제한  \n",
    "- 1 ≤ L ≤ 50   \n",
    "- 집합 S에는 중복되는 정수가 없다.   \n",
    "- 집합 S에 포함된 모든 정수는 1보다 크거나 같고, 1,000보다 작거나 같다.   \n",
    "- 1 ≤ n ≤ (집합 S에서 가장 큰 정수)    \n",
    "\n",
    "#### 예제 \n",
    "[input1] #반례 - 집합S가 정렬이 안되어있는 경우    \n",
    "8   \n",
    "3 7 12 18 25 100 33 1000   \n",
    "59   \n",
    "\n",
    "[output1]    \n",
    "1065      \n",
    "     \n",
    "[input2] #반례 - n이 1~(sorted(S)[0]-1) 중 하나의 값인 경우    \n",
    "4    \n",
    "5 9 15 12    \n",
    "2   \n",
    "\n",
    "[output2]    \n",
    "5   \n",
    "    \n",
    "[input3] #반례 - for문(반복문) 돌때 range(L-1)쓰면 반복문이 돌지 않는 경우           \n",
    "1      \n",
    "500     \n",
    "1   \n",
    "\n",
    "[output3]   \n",
    "498      \n",
    "\n",
    "#### 조건 \n",
    "- 시간제한 : 2초     \n",
    "- 메모리제한 : 128MB   \n",
    "\n",
    "#### 알고리즘 분류 \n",
    "수학, 브루트포스 알고리즘, 정렬   "
   ]
  },
  {
   "cell_type": "markdown",
   "metadata": {},
   "source": [
    "풀이1 ) S의 값 구간별로 n의 유무 파악 -> 포함되어 있으면 식에 따라 구간 경우의수 구함  \n",
    "- 반례 고려하여 코드 수정 진행 (sort, insert(0,0), L=len(S) 등)"
   ]
  },
  {
   "cell_type": "code",
   "execution_count": 31,
   "metadata": {},
   "outputs": [
    {
     "name": "stdout",
     "output_type": "stream",
     "text": [
      "5\n"
     ]
    }
   ],
   "source": [
    "L=int(input())\n",
    "S=list(map(int,input().split()))\n",
    "n=int(input())\n",
    "\n",
    "S.sort() # 주어진 집합 정렬 안되어있음 -> 정렬필요 \n",
    "\n",
    "def case():\n",
    "    if n in S:  # n이 집합 S에 속한 값 일때\n",
    "        print(0)\n",
    "    else:  # n이 집합 S에 속한 값이 아닐때\n",
    "        L=len(S) # 입력받은 L=1일때, for문 미작동      \n",
    "        for i in range(L-1):\n",
    "            if (S[i]<n) and (S[i+1]>n):\n",
    "                print((n-S[i])*(S[i+1]-n)-1) # (n값 포함 왼쪽 가능값 갯수(xC1))*(n값 포함 오른쪽 가능값 갯수) - 구간이 n에서 시작해서 n으로 끝나는 경우\n",
    "                break\n",
    "            \n",
    "if S[0]!=1: # 1값 없을때 \n",
    "    S.insert(0,0) # S리스트의 0번째 위치에 0 삽입(구간에 1포함시켜야 하므로)\n",
    "case()"
   ]
  }
 ],
 "metadata": {
  "interpreter": {
   "hash": "7b34b089ce0dfc9935940e0a22050b2949fa617f7a2b73925623c261bed16aeb"
  },
  "kernelspec": {
   "display_name": "Python 3.8.5 ('base')",
   "language": "python",
   "name": "python3"
  },
  "language_info": {
   "codemirror_mode": {
    "name": "ipython",
    "version": 3
   },
   "file_extension": ".py",
   "mimetype": "text/x-python",
   "name": "python",
   "nbconvert_exporter": "python",
   "pygments_lexer": "ipython3",
   "version": "3.8.5"
  },
  "orig_nbformat": 4
 },
 "nbformat": 4,
 "nbformat_minor": 2
}
