{
 "cells": [
  {
   "cell_type": "markdown",
   "metadata": {},
   "source": [
    "### 문제    \n",
    "//문제링크\n",
    "_    \n",
    "//문제설명    \n",
    "\n",
    "#### 입력  \n",
    "//입력설명 \n",
    "\n",
    "#### 출력  \n",
    "//출력설명 \n",
    "\n",
    "#### 예제 \n",
    "[input]   \n",
    "//입력값\n",
    "\n",
    "[output]    \n",
    "//출력값\n",
    "\n",
    "#### 조건 \n",
    "- 시간제한 : *초     \n",
    "- 메모리제한 : *MB\n",
    "\n",
    "#### 알고리즘 분류 \n",
    "//태그 작성   "
   ]
  },
  {
   "cell_type": "markdown",
   "metadata": {},
   "source": [
    "풀이1 (런타임에러) "
   ]
  },
  {
   "cell_type": "code",
   "execution_count": 1,
   "metadata": {},
   "outputs": [
    {
     "name": "stdout",
     "output_type": "stream",
     "text": [
      "4\n"
     ]
    }
   ],
   "source": [
    "import sys \n",
    "sys.setrecursionlimit(1000000)\n",
    "\n",
    "def dfs(x, y):\n",
    "    global island\n",
    "    if x<0 or x>=h or y<0 or y>=w:\n",
    "        return False\n",
    "    if island[x][y] == 1:\n",
    "        # 해당 노드 방문 처리 \n",
    "        island[x][y] = 0\n",
    "        # 재귀적 호출 \n",
    "        dfs(x-1,y) # 상\n",
    "        dfs(x-1,y+1)\n",
    "        dfs(x,y+1) # 우\n",
    "        dfs(x+1,y+1)\n",
    "        dfs(x+1,y) # 하\n",
    "        dfs(x+1,y-1)\n",
    "        dfs(x,y-1) # 좌\n",
    "        dfs(x-1,y-1)\n",
    "        return True \n",
    "    return False \n",
    "      \n",
    "while True:\n",
    "    w, h = map(int, input().split())\n",
    "    if (w==0 and h==0): # 입력 끝이라는 표시  \n",
    "        break\n",
    "    \n",
    "    island=[]\n",
    "    for i in range(h):\n",
    "        island.append(list(map(int, input().split())))\n",
    "        \n",
    "    cnt=0\n",
    "    for i in range(h):\n",
    "        for j in range(w):\n",
    "            if dfs(i, j) == True:\n",
    "                cnt+=1\n",
    "\n",
    "    print(cnt)"
   ]
  },
  {
   "cell_type": "code",
   "execution_count": null,
   "metadata": {},
   "outputs": [],
   "source": []
  }
 ],
 "metadata": {
  "interpreter": {
   "hash": "7b34b089ce0dfc9935940e0a22050b2949fa617f7a2b73925623c261bed16aeb"
  },
  "kernelspec": {
   "display_name": "Python 3.8.5 ('base')",
   "language": "python",
   "name": "python3"
  },
  "language_info": {
   "codemirror_mode": {
    "name": "ipython",
    "version": 3
   },
   "file_extension": ".py",
   "mimetype": "text/x-python",
   "name": "python",
   "nbconvert_exporter": "python",
   "pygments_lexer": "ipython3",
   "version": "3.8.5"
  },
  "orig_nbformat": 4
 },
 "nbformat": 4,
 "nbformat_minor": 2
}
