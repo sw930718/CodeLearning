{
 "cells": [
  {
   "cell_type": "markdown",
   "metadata": {},
   "source": [
    "### 문제    \n",
    "//문제링크\n",
    "_    \n",
    "//문제설명    \n",
    "\n",
    "#### 입력  \n",
    "//입력설명 \n",
    "\n",
    "#### 출력  \n",
    "//출력설명 \n",
    "\n",
    "#### 예제 \n",
    "[input]   \n",
    "//입력값\n",
    "\n",
    "[output]    \n",
    "//출력값\n",
    "\n",
    "#### 조건 \n",
    "- 시간제한 : *초     \n",
    "- 메모리제한 : *MB\n",
    "\n",
    "#### 알고리즘 분류 \n",
    "//태그 작성   "
   ]
  },
  {
   "cell_type": "markdown",
   "metadata": {},
   "source": [
    "풀이1 ) //구현 아이디어"
   ]
  },
  {
   "cell_type": "code",
   "execution_count": 1,
   "metadata": {},
   "outputs": [
    {
     "name": "stdout",
     "output_type": "stream",
     "text": [
      "4\n"
     ]
    }
   ],
   "source": [
    "# 1697_숨바꼭질 \n",
    "from collections import deque\n",
    "\n",
    "N, K = map(int, input().split())\n",
    "visit = [0]*100001\n",
    "\n",
    "def bfs(start, end):\n",
    "    queue = deque()\n",
    "    queue.append(start)\n",
    "    while queue:\n",
    "        now = queue.popleft()\n",
    "        if start == end: # 만나면 반복문 탈출 \n",
    "            break\n",
    "        if 100000 >= now+1 >= 0 and visit[now+1] == 0: # X+1 위치에 시간 +1 추가  \n",
    "            visit[now+1] = visit[now] + 1\n",
    "            queue.append(now+1)\n",
    "        if 100000 >= now-1 >= 0 and visit[now-1] == 0: # X-1 위치에 시간 +1 추가   \n",
    "            visit[now-1] = visit[now] + 1\n",
    "            queue.append(now-1)\n",
    "        if 100000 >= 2*now >= 0 and visit[2*now] == 0: # 2X 위치에 시간 +1 추가   \n",
    "            visit[2*now] = visit[now] + 1\n",
    "            queue.append(2*now)\n",
    "        \n",
    "if N==K:\n",
    "    print(0) # 시작부터 같으면 0초후 만남\n",
    "else:\n",
    "    bfs(N,K)\n",
    "    print(visit[K])"
   ]
  },
  {
   "cell_type": "code",
   "execution_count": 10,
   "metadata": {},
   "outputs": [
    {
     "name": "stdout",
     "output_type": "stream",
     "text": [
      "1\n"
     ]
    }
   ],
   "source": [
    "# 숨바꼭질 3\n",
    "from collections import deque\n",
    "\n",
    "N, K = map(int, input().split())\n",
    "visit = [-1]*100001\n",
    "visit[N]=0\n",
    "\n",
    "def bfs(start, end):\n",
    "    queue = deque()\n",
    "    queue.append(start)\n",
    "    while queue:\n",
    "        now = queue.popleft()\n",
    "        if start == end:\n",
    "            break\n",
    "        if 100000 >= 2*now >= 0 and visit[2*now] == -1: # 2X 위치에 시간 추가 X    \n",
    "            visit[2*now] = visit[now]\n",
    "            queue.append(2*now)\n",
    "        if 100000 >= now-1 >= 0 and visit[now-1] == -1: # X-1 위치에 시간 +1 추가   \n",
    "            visit[now-1] = visit[now] + 1\n",
    "            queue.append(now-1)\n",
    "        if 100000 >= now+1 >= 0 and visit[now+1] == -1: # X+1 위치에 시간 +1 추가  \n",
    "            visit[now+1] = visit[now] + 1\n",
    "            queue.append(now+1)\n",
    "          \n",
    "if N==K:\n",
    "    print(0) # 시작부터 같으면 0초후 만남\n",
    "else:\n",
    "    bfs(N,K)\n",
    "    print(visit[K])"
   ]
  }
 ],
 "metadata": {
  "interpreter": {
   "hash": "7b34b089ce0dfc9935940e0a22050b2949fa617f7a2b73925623c261bed16aeb"
  },
  "kernelspec": {
   "display_name": "Python 3.8.5 ('base')",
   "language": "python",
   "name": "python3"
  },
  "language_info": {
   "codemirror_mode": {
    "name": "ipython",
    "version": 3
   },
   "file_extension": ".py",
   "mimetype": "text/x-python",
   "name": "python",
   "nbconvert_exporter": "python",
   "pygments_lexer": "ipython3",
   "version": "3.8.5"
  },
  "orig_nbformat": 4
 },
 "nbformat": 4,
 "nbformat_minor": 2
}
