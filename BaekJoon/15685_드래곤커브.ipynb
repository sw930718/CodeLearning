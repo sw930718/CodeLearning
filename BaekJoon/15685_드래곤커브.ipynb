{
 "cells": [
  {
   "cell_type": "markdown",
   "metadata": {},
   "source": [
    "문제링크     \n"
   ]
  },
  {
   "cell_type": "markdown",
   "metadata": {},
   "source": [
    "풀이1 ) //구현 아이디어"
   ]
  },
  {
   "cell_type": "markdown",
   "metadata": {},
   "source": []
  },
  {
   "cell_type": "code",
   "execution_count": null,
   "metadata": {},
   "outputs": [],
   "source": [
    "import sys\n",
    "N = int(sys.stdin.readline())\n",
    "dy = [1, 0, -1, 0]\n",
    "dx = [0, -1, 0, 1]\n",
    "board = [[0]*101 for _ in range(101)]\n",
    "\n",
    "for _ in range(N):\n",
    "    y, x, d, g = map(int, sys.stdin.readline().split())\n",
    "    board[y][x] = 1 # 시작 위치 \n",
    "    \n",
    "    # 커브 리스트 \n",
    "    curve = [d] # 조건 3 시작 방향 입력\n",
    "    for _ in range(g):\n",
    "        for i in range(len(curve)-1, -1, -1): # 조건 0 ~ 2-1 역순으로 90도 뒤집기 시작해야하니\n",
    "            curve.append((curve[i]+1) % 4) # 조건 2-2\n",
    "\n",
    "    # 드래곤 커브 \n",
    "    for i in range(len(curve)): # 커브 방향 동안\n",
    "        y, x = y + dy[curve[i]], x + dx[curve[i]]\n",
    "        board[y][x] = 1\n",
    "\n",
    "result = 0\n",
    "for i in range(100):\n",
    "    for j in range(100):\n",
    "        if board[i][j] and board[i+1][j] and board[i][j+1] and board[i+1][j+1]: # 조건 4\n",
    "            result += 1\n",
    "            \n",
    "print(result)"
   ]
  }
 ],
 "metadata": {
  "interpreter": {
   "hash": "7b34b089ce0dfc9935940e0a22050b2949fa617f7a2b73925623c261bed16aeb"
  },
  "kernelspec": {
   "display_name": "Python 3.8.5 ('base')",
   "language": "python",
   "name": "python3"
  },
  "language_info": {
   "codemirror_mode": {
    "name": "ipython",
    "version": 3
   },
   "file_extension": ".py",
   "mimetype": "text/x-python",
   "name": "python",
   "nbconvert_exporter": "python",
   "pygments_lexer": "ipython3",
   "version": "3.8.5"
  },
  "orig_nbformat": 4
 },
 "nbformat": 4,
 "nbformat_minor": 2
}
