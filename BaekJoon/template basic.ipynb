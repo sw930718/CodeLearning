{
 "cells": [
  {
   "cell_type": "markdown",
   "metadata": {},
   "source": [
    "문제링크     \n"
   ]
  },
  {
   "cell_type": "markdown",
   "metadata": {},
   "source": [
    "풀이1 ) //구현 아이디어"
   ]
  },
  {
   "cell_type": "code",
   "execution_count": null,
   "metadata": {},
   "outputs": [],
   "source": [
    "from sys import stdin\n",
    "input = stdin.readline\n",
    "\n",
    "num = int(input()) # abba\n",
    "for _ in range(num):\n",
    "    st = input().strip()\n",
    "    front, back = 0, len(st) - 1  # 포인터\n",
    "    check = 0\n",
    "\n",
    "    for _ in range(len(st)): # 앞과 뒤를 하나씩 비교하면서 반복문 돌기 \n",
    "        if front >= back:\n",
    "            break\n",
    "        if st[front] == st[back]:\n",
    "            front += 1\n",
    "            back -= 1\n",
    "            continue\n",
    "\n",
    "        # 뒷 문자 제거했을때, 회문 되는지 확인\n",
    "        if st[front] == st[back-1]:\n",
    "            temp = st[front:back]\n",
    "            if temp[:] == temp[::-1]:\n",
    "                check = 1\n",
    "                break\n",
    "        # 앞 문자 제거했을때, 회문 되는지 확인 \n",
    "        if st[front+1] == st[back]:\n",
    "            temp = st[front+1:back+1]\n",
    "            if temp[:] == temp[::-1]:\n",
    "                check = 1\n",
    "                break\n",
    "\n",
    "        check = 2\n",
    "        break\n",
    "\n",
    "    print(check)"
   ]
  },
  {
   "cell_type": "code",
   "execution_count": null,
   "metadata": {},
   "outputs": [],
   "source": [
    "word = list(input())\n",
    "wolf = ['f','l','o','w']\n",
    "alpha = wolf.pop()\n",
    "error = 0\n",
    "\n",
    "for i in word :\n",
    "    if error > 1:\n",
    "        print(0)\n",
    "        break\n",
    "    if i == alpha:\n",
    "        continue\n",
    "    else: \n",
    "        alpha = wolf.pop()\n",
    "        error += 1\n",
    "    "
   ]
  },
  {
   "cell_type": "markdown",
   "metadata": {},
   "source": [
    "------"
   ]
  },
  {
   "cell_type": "markdown",
   "metadata": {},
   "source": [
    "3,4,6\n",
    "\n",
    "346, 364, 436, 463, 634, 643"
   ]
  },
  {
   "cell_type": "code",
   "execution_count": 9,
   "metadata": {},
   "outputs": [
    {
     "name": "stdout",
     "output_type": "stream",
     "text": [
      "['346', '364', '436', '463', '634', '643']\n"
     ]
    }
   ],
   "source": [
    "from itertools import permutations\n",
    "\n",
    "N = list(input())\n",
    "lst = []\n",
    "for i in permutations(N,3):\n",
    "    lst.append(''.join(i))\n",
    "sortlst = sorted(lst)\n",
    "print(sortlst)"
   ]
  },
  {
   "cell_type": "code",
   "execution_count": 10,
   "metadata": {},
   "outputs": [
    {
     "data": {
      "text/plain": [
       "'436'"
      ]
     },
     "execution_count": 10,
     "metadata": {},
     "output_type": "execute_result"
    }
   ],
   "source": [
    "sortlst[sortlst.index(''.join(N))+1]"
   ]
  },
  {
   "cell_type": "code",
   "execution_count": null,
   "metadata": {},
   "outputs": [],
   "source": []
  }
 ],
 "metadata": {
  "kernelspec": {
   "display_name": "base",
   "language": "python",
   "name": "python3"
  },
  "language_info": {
   "codemirror_mode": {
    "name": "ipython",
    "version": 3
   },
   "file_extension": ".py",
   "mimetype": "text/x-python",
   "name": "python",
   "nbconvert_exporter": "python",
   "pygments_lexer": "ipython3",
   "version": "3.8.5"
  },
  "orig_nbformat": 4
 },
 "nbformat": 4,
 "nbformat_minor": 2
}
