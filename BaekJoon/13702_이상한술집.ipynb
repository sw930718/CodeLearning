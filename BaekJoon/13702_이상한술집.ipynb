{
 "cells": [
  {
   "cell_type": "markdown",
   "metadata": {},
   "source": [
    "python : 1초에 20,000,000(2천만)번 연산        \n",
    "(if 시간제한 2초면, 40,000,000번 연산 가능)         \n",
    "N<=10000 일때, O(N^2)로 코드를 짜면, 100,000,000 => 시간초과         \n",
    "            , O(NlogN)으로 코드 짜면, 133,000 => pass          \n",
    "            , O(N)으로 코드를 짜면, 10,000 => pass     \n",
    "\n",
    "- 각 알고리즘 시간복잡도 정리    \n",
    "DP. 점화식 : Nlog(N)\n",
    "이분탐색 :   \n",
    "정렬(quick sort) :   "
   ]
  },
  {
   "cell_type": "markdown",
   "metadata": {},
   "source": [
    "https://www.acmicpc.net/problem/13702"
   ]
  },
  {
   "cell_type": "markdown",
   "metadata": {},
   "source": [
    "1초, N <= 10,000, K <= 1,000,0000, 0 <= 막걸리용량 <= 2^31-1, N <= K    \n",
    "        \n",
    "풀이 1 ) K명을 N그룹으로 묶을 방법에 대해 생각해보자 -> 불가    "
   ]
  },
  {
   "cell_type": "markdown",
   "metadata": {},
   "source": [
    "풀이 2) 그러면 값 범위가 작은 N을 이용해야겠네? 가장 작은 용량의 막걸리 1개당 1명에게 나눠주는걸로 시작해서 가능할때까지 높여가기  "
   ]
  },
  {
   "cell_type": "code",
   "execution_count": null,
   "metadata": {},
   "outputs": [],
   "source": [
    "'''\n",
    "import sys\n",
    "sys.stdin = open(\"input.txt\",\"r\")\n",
    "input=sys.stdin.readline\n",
    "\n",
    "# input\n",
    "N, K = map(int, input().split())\n",
    "bottles = []\n",
    "for _ in range(N):\n",
    "    bottles.append(int(input()))\n",
    "    \n",
    "     \n",
    "# solve \n",
    "def solution(K,bottles):\n",
    "    max_ml = 0\n",
    "    bottles = sorted(bottles) # 오름차순 정렬 \n",
    "    bottles = [i for i in bottles if i != 0] # 막걸리 용량 0 인건 제거 \n",
    "    \n",
    "    for bottle in bottles:\n",
    "        for n in range(1, K):\n",
    "            ml = bottle // n\n",
    "            if ml < 1:\n",
    "                break\n",
    "            possible_n = sum([i//ml for i in bottles])\n",
    "            if K > possible_n :\n",
    "                n += 1\n",
    "                \n",
    "            else:\n",
    "                if ml > max_ml:\n",
    "                    max_ml = ml \n",
    "    \n",
    "    return max_ml\n",
    "\n",
    "solution(K,bottles)\n",
    "'''"
   ]
  },
  {
   "cell_type": "markdown",
   "metadata": {},
   "source": [
    "이분 탐색 문제 "
   ]
  },
  {
   "cell_type": "code",
   "execution_count": 17,
   "metadata": {},
   "outputs": [
    {
     "data": {
      "text/plain": [
       "205"
      ]
     },
     "execution_count": 17,
     "metadata": {},
     "output_type": "execute_result"
    }
   ],
   "source": [
    "import sys\n",
    "sys.stdin = open(\"input.txt\",\"r\")\n",
    "input=sys.stdin.readline\n",
    "\n",
    "# input\n",
    "N, K = map(int, input().split())\n",
    "bottles = []\n",
    "for _ in range(N):\n",
    "    bottles.append(int(input()))\n",
    "    \n",
    "     \n",
    "# solve \n",
    "def solution(K, bottles):\n",
    "    start = 1\n",
    "    end = max(bottles)\n",
    "    \n",
    "    max_ml = 0\n",
    "    while (start <= end):\n",
    "        mid = (start+end)//2\n",
    "        possible_n = sum([i//mid for i in bottles])\n",
    "        if K > possible_n: # 마실 수 있는 인원 미달인 경우 - 용량 줄여가기 \n",
    "            end = mid-1\n",
    "        else: # 마실 수 있는 인원 넉넉한 경우 - 용량 늘려가기  \n",
    "            max_ml = mid \n",
    "            start = mid+1\n",
    "            \n",
    "    return max_ml\n",
    "\n",
    "solution(K, bottles) # 31120, 440 "
   ]
  }
 ],
 "metadata": {
  "interpreter": {
   "hash": "7b34b089ce0dfc9935940e0a22050b2949fa617f7a2b73925623c261bed16aeb"
  },
  "kernelspec": {
   "display_name": "Python 3.8.5 ('base')",
   "language": "python",
   "name": "python3"
  },
  "language_info": {
   "codemirror_mode": {
    "name": "ipython",
    "version": 3
   },
   "file_extension": ".py",
   "mimetype": "text/x-python",
   "name": "python",
   "nbconvert_exporter": "python",
   "pygments_lexer": "ipython3",
   "version": "3.8.5"
  },
  "orig_nbformat": 4
 },
 "nbformat": 4,
 "nbformat_minor": 2
}
