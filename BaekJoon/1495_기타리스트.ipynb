{
 "cells": [
  {
   "cell_type": "markdown",
   "metadata": {},
   "source": [
    "문제링크     \n"
   ]
  },
  {
   "cell_type": "markdown",
   "metadata": {},
   "source": [
    "풀이1 ) //구현 아이디어"
   ]
  },
  {
   "cell_type": "markdown",
   "metadata": {},
   "source": [
    "<img width=\"788\" alt=\"스크린샷 2024-03-21 오후 9 02 17\" src=\"https://github.com/Audio-Visual-Speech-Recognition/AVSR_AI/assets/47911773/ee7939c4-581e-4fd6-80da-929adab30b8e\">"
   ]
  },
  {
   "cell_type": "markdown",
   "metadata": {},
   "source": [
    "<img width=\"784\" alt=\"스크린샷 2024-03-21 오후 9 03 30\" src=\"https://github.com/Audio-Visual-Speech-Recognition/AVSR_AI/assets/47911773/4765dd32-2ddb-46de-9040-43af621a1034\">"
   ]
  },
  {
   "cell_type": "code",
   "execution_count": null,
   "metadata": {},
   "outputs": [],
   "source": [
    "import sys\n",
    "input = sys.stdin.readline\n",
    "\n",
    "# input\n",
    "n, s, m = map(int, input().split())\n",
    "v = list(map(int, input().split()))\n",
    "dp = [[0] * (m+1) for _ in range(n+1)]\n",
    "dp[0][s] = 1\n",
    "\n",
    "# solve\n",
    "for i in range(n):\n",
    "    for j in range(m+1):\n",
    "        if dp[i][j] == 1:\n",
    "            if j+v[i] <= m:\n",
    "                dp[i+1][j+v[i]] = 1\n",
    "            if j-v[i] >= 0:\n",
    "                dp[i+1][j-v[i]] = 1\n",
    "\n",
    "ans = -1\n",
    "for i in range(m, -1, -1):\n",
    "    if dp[n][i]==1:\n",
    "        ans = i\n",
    "        break\n",
    "print(ans)"
   ]
  }
 ],
 "metadata": {
  "interpreter": {
   "hash": "7b34b089ce0dfc9935940e0a22050b2949fa617f7a2b73925623c261bed16aeb"
  },
  "kernelspec": {
   "display_name": "Python 3.8.5 ('base')",
   "language": "python",
   "name": "python3"
  },
  "language_info": {
   "codemirror_mode": {
    "name": "ipython",
    "version": 3
   },
   "file_extension": ".py",
   "mimetype": "text/x-python",
   "name": "python",
   "nbconvert_exporter": "python",
   "pygments_lexer": "ipython3",
   "version": "3.8.5"
  },
  "orig_nbformat": 4
 },
 "nbformat": 4,
 "nbformat_minor": 2
}
