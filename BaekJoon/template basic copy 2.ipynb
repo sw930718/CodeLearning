{
 "cells": [
  {
   "cell_type": "markdown",
   "metadata": {},
   "source": [
    "문제링크     \n"
   ]
  },
  {
   "cell_type": "markdown",
   "metadata": {},
   "source": [
    "풀이1 ) //구현 아이디어"
   ]
  },
  {
   "cell_type": "code",
   "execution_count": null,
   "metadata": {},
   "outputs": [],
   "source": [
    "import sys\n",
    "from collections import deque\n",
    "input = sys.stdin.readline\n",
    "\n",
    "## 구역 표시 ## \n",
    "graph = [[0 for _ in range(501)] for _ in range(501)]\n",
    "N = int(input())  # 위험한 구역 수 (움직일때마다 생명이 1씩 소모되는 구역)\n",
    "for _ in range(N):\n",
    "    x1, y1, x2, y2 = map(int, input().rstrip().split())\n",
    "    for row in range(min(x1, x2), max(x1, x2)+1):\n",
    "        for col in range(min(y1, y2), max(y1, y2)+1):\n",
    "            graph[row][col] = 1  # 위험한 구역은 1\n",
    "            \n",
    "M = int(input()) # 죽음의 구역수 (들어 갈 수 없는 구역)\n",
    "for _ in range(M):\n",
    "    x1, y1, x2, y2 = map(int, input().rstrip().split())\n",
    "    for row in range(min(x1, x2), max(x1, x2)+1):\n",
    "        for col in range(min(y1, y2), max(y1, y2)+1):\n",
    "            graph[row][col] = 2  # 죽음의 구역은 2로 표현\n",
    "\n",
    "## 이동 ## \n",
    "queue = deque() # 가중치가 적은 순으로 꺼내 탐색을 하므로 잃는 생명의 최솟값을 구함 \n",
    "queue.append((0, 0, 0))  # row, col, time\n",
    "dr = [-1, 1, 0, 0]\n",
    "dc = [0, 0, -1, 1]\n",
    "reach = False\n",
    "\n",
    "while queue:\n",
    "    row, col, time = queue.popleft()\n",
    "    if (row, col) == (500, 500):\n",
    "        reach = True\n",
    "        break\n",
    "    else:\n",
    "        for i in range(4):\n",
    "            now_row, now_col = row+dr[i], col+dc[i]\n",
    "            if now_row > 500 or now_row < 0 or now_col > 500 or now_col < 0:\n",
    "                continue\n",
    "            if graph[now_row][now_col] == 0:\n",
    "                graph[now_row][now_col] = 2\n",
    "                queue.appendleft((now_row, now_col, time))\n",
    "            elif graph[now_row][now_col] == 1:\n",
    "                graph[now_row][now_col] = 2\n",
    "                queue.append((now_row, now_col, time+1))\n",
    "if reach:\n",
    "    print(time)\n",
    "else:\n",
    "    print(-1)"
   ]
  },
  {
   "cell_type": "markdown",
   "metadata": {},
   "source": [
    "---------"
   ]
  },
  {
   "cell_type": "code",
   "execution_count": null,
   "metadata": {},
   "outputs": [],
   "source": [
    "from itertools import permutations\n",
    "from copy import deepcopy\n",
    "\n",
    "N, M, K = map(int, input().split()) # 배열A의 크기, 회전연산수 \n",
    "a = [list(map(int, input().split())) for _ in range(N)] # 배열 A \n",
    "rcs = [list(map(int, input().split())) for _ in range(K)] # 회전 연산 정보 \n",
    "\n",
    "ans = 1e9\n",
    "\n",
    "# 1. 회전 순서 정하기 (최대 6!=720)\n",
    "for p in permutations(rcs, K):\n",
    "    # 2. 회전\n",
    "    copy_a = deepcopy(a)\n",
    "    for r, c, s in p:\n",
    "        r -= 1\n",
    "        c -= 1\n",
    "        for n in range(s, 0, -1):\n",
    "            tmp = copy_a[r-n][c+n]\n",
    "            copy_a[r-n][c-n+1:c+n+1] = copy_a[r-n][c-n:c+n]  # '우'로 이동\n",
    "            for row in range(r-n, r+n):  # '위'로 이동 \n",
    "                copy_a[row][c-n] = copy_a[row+1][c-n]\n",
    "            copy_a[r+n][c-n:c+n] = copy_a[r+n][c-n+1:c+n+1]  # '좌'로 이동\n",
    "            for row in range(r+n, r-n, -1):  # '아래'로 이동\n",
    "                copy_a[row][c+n] = copy_a[row-1][c+n]\n",
    "            copy_a[r-n+1][c+n] = tmp\n",
    "\n",
    "    # 3. 각 행의 최소값 찾기\n",
    "    for row in copy_a:\n",
    "        ans = min(ans, sum(row))\n",
    "\n",
    "print(ans)"
   ]
  },
  {
   "cell_type": "markdown",
   "metadata": {},
   "source": [
    "------"
   ]
  },
  {
   "cell_type": "code",
   "execution_count": null,
   "metadata": {},
   "outputs": [],
   "source": [
    "n = int(input()) # 주어진 값  \n",
    "cases = [int(input()) for _ in range(n)]\n",
    "dp = [[0 for _ in range(2)] for _ in range(100001)]\n",
    "dp[1][1] = 1 # 1의 조합 중 홀수개의 수\n",
    "dp[2][0] = 1 # 2의 조합 중 짝수개의 수\n",
    "dp[2][1] = 1 # 2의 조합 중 홀수개의 수\n",
    "dp[3][0] = 2 # 3의 조합 중 짝수개의 수\n",
    "dp[3][1] = 2 # 3의 조합 중 홀수개의 수\n",
    "\n",
    "for i in range(4, 100001):\n",
    "    dp[i][0] = (dp[i - 1][1] + dp[i - 2][1] + dp[i - 3][1]) % 1000000009\n",
    "    dp[i][1] = (dp[i - 1][0] + dp[i - 2][0] + dp[i - 3][0]) % 1000000009\n",
    "\n",
    "for case in cases:\n",
    "    print(str(dp[case][1]) + \" \" + str(dp[case][0])) # n을 나타낼 때 사용한 수의 개수가 홀수인 방법의 수, 짝수인 방법의 수"
   ]
  },
  {
   "cell_type": "markdown",
   "metadata": {},
   "source": [
    "-------"
   ]
  },
  {
   "cell_type": "markdown",
   "metadata": {},
   "source": [
    "첫 번째 꽃집에서는 장미 A개를 B원에 팔고, 두 번째 꽃집에서는 장미 C개를 D원에 팔 때      \n",
    "2개의 꽃집에서 N개의 장미를 사기위한 최소 금액을 구하는 문제"
   ]
  },
  {
   "cell_type": "code",
   "execution_count": null,
   "metadata": {},
   "outputs": [],
   "source": [
    "import sys\n",
    "from math import ceil\n",
    "\n",
    "input = sys.stdin.readline\n",
    "\n",
    "N,A_cnt,A_price,B_cnt,B_price = map(int,input().split())\n",
    "\n",
    "if A_price*B_cnt < B_price*A_cnt: \n",
    "    A_cnt,A_price,B_cnt,B_price = B_cnt,B_price,A_cnt,A_price\n",
    "\n",
    "answer = float('inf')\n",
    "\n",
    "for A_COUNT in range(B_cnt):\n",
    "    B_COUNT = ceil((N - A_COUNT*A_cnt)/B_cnt)\n",
    "    isover = False\n",
    "    if B_COUNT < 0:\n",
    "        B_COUNT = 0\n",
    "        isover = True\n",
    "    answer = min(answer, A_COUNT*A_price + B_COUNT*B_price)\n",
    "    if isover:\n",
    "        break\n",
    "\n",
    "print(answer)"
   ]
  }
 ],
 "metadata": {
  "kernelspec": {
   "display_name": "base",
   "language": "python",
   "name": "python3"
  },
  "language_info": {
   "codemirror_mode": {
    "name": "ipython",
    "version": 3
   },
   "file_extension": ".py",
   "mimetype": "text/x-python",
   "name": "python",
   "nbconvert_exporter": "python",
   "pygments_lexer": "ipython3",
   "version": "3.8.5"
  },
  "orig_nbformat": 4
 },
 "nbformat": 4,
 "nbformat_minor": 2
}
