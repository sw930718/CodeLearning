{
 "cells": [
  {
   "cell_type": "markdown",
   "metadata": {},
   "source": [
    "### 문제    \n",
    "//문제링크\n",
    "_    \n",
    "준서가 여행에 필요하다고 생각하는 N개의 물건이 있다. 각 물건은 무게 W와 가치 V를 가지는데, 해당 물건을 배낭에 넣어서 가면 준서가 V만큼 즐길 수 있다. 아직 행군을 해본 적이 없는 준서는 최대 K만큼의 무게만을 넣을 수 있는 배낭만 들고 다닐 수 있다. 준서가 최대한 즐거운 여행을 하기 위해 배낭에 넣을 수 있는 물건들의 가치의 최댓값을 알려주자.  \n",
    "\n",
    "#### 입력  \n",
    "첫 줄에 물품의 수 N(1 ≤ N ≤ 100)과 준서가 버틸 수 있는 무게 K(1 ≤ K ≤ 100,000)가 주어진다. \n",
    "두 번째 줄부터 N개의 줄에 거쳐 각 물건의 무게 W(1 ≤ W ≤ 100,000)와 해당 물건의 가치 V(0 ≤ V ≤ 1,000)가 주어진다.\n",
    "\n",
    "입력으로 주어지는 모든 수는 정수이다.\n",
    "\n",
    "#### 출력  \n",
    "한 줄에 배낭에 넣을 수 있는 물건들의 가치합의 최댓값을 출력한다.\n",
    "\n",
    "\n",
    "#### 예제 \n",
    "[input]   \n",
    "4 7\n",
    "6 13\n",
    "4 8\n",
    "3 6\n",
    "5 12\n",
    "\n",
    "[output]    \n",
    "14\n",
    "\n",
    "#### 조건 \n",
    "- 시간제한 : 2초     \n",
    "- 메모리제한 : 512MB\n",
    "\n",
    "#### 알고리즘 분류 \n",
    "DP  "
   ]
  },
  {
   "cell_type": "markdown",
   "metadata": {},
   "source": [
    "object = [[0]*(8) for _ in range(4)]\n",
    "object"
   ]
  },
  {
   "cell_type": "code",
   "execution_count": 7,
   "metadata": {},
   "outputs": [
    {
     "data": {
      "text/plain": [
       "[[0, 0, 0, 0, 0, 0, 0, 0],\n",
       " [0, 0, 0, 0, 0, 0, 0, 0],\n",
       " [0, 0, 0, 0, 0, 0, 0, 0],\n",
       " [0, 0, 0, 0, 0, 0, 0, 0]]"
      ]
     },
     "execution_count": 7,
     "metadata": {},
     "output_type": "execute_result"
    }
   ],
   "source": [
    "object = [[0]*(8) for _ in range(4)]\n",
    "object"
   ]
  },
  {
   "cell_type": "markdown",
   "metadata": {},
   "source": [
    "풀이1 ) 메모리초과 "
   ]
  },
  {
   "cell_type": "code",
   "execution_count": 6,
   "metadata": {},
   "outputs": [
    {
     "name": "stdout",
     "output_type": "stream",
     "text": [
      "14\n"
     ]
    }
   ],
   "source": [
    "from itertools import combinations\n",
    "\n",
    "N, K = map(int, input().split())\n",
    "object=[]\n",
    "for _ in range(N):\n",
    "    wv=list(map(int, input().split()))\n",
    "    object.append(wv)\n",
    "    \n",
    "idx=[i for i in range(N)]\n",
    "answer=0\n",
    "for n in range(1,N+1):\n",
    "    for i in list(combinations(idx,n)):\n",
    "        weight = sum(object[j][0] for j in i) # 무게의 합 \n",
    "        value = sum(object[j][1] for j in i) # 가치의 합 \n",
    "        if weight<=K and value>=answer:\n",
    "            answer=value\n",
    "        \n",
    "print(answer)"
   ]
  },
  {
   "cell_type": "code",
   "execution_count": 2,
   "metadata": {},
   "outputs": [
    {
     "data": {
      "text/plain": [
       "[[6, 13], [4, 8], [3, 6], [5, 12]]"
      ]
     },
     "execution_count": 2,
     "metadata": {},
     "output_type": "execute_result"
    }
   ],
   "source": [
    "object"
   ]
  },
  {
   "cell_type": "code",
   "execution_count": 3,
   "metadata": {},
   "outputs": [
    {
     "data": {
      "text/plain": [
       "[4, 3]"
      ]
     },
     "execution_count": 3,
     "metadata": {},
     "output_type": "execute_result"
    }
   ],
   "source": [
    "[object[j][0] for j in (1,2)]"
   ]
  },
  {
   "cell_type": "code",
   "execution_count": null,
   "metadata": {},
   "outputs": [],
   "source": [
    "N, K = map(int, input().split())\n",
    "object = [[0]*(K+1) for _ in range(N)]\n",
    "\n",
    "for i in range(N):\n",
    "    w, v = map(int, input().split())\n",
    "    for idx in range(K+1):\n",
    "        if idx >= w:\n",
    "            object[i][idx] = max(object[i-1][idx], (object[i-1][idx - w] + v) )\n",
    "        else:\n",
    "            object[i][idx] = object[i-1][idx]\n",
    "            \n",
    "print(object[N-1][K])"
   ]
  }
 ],
 "metadata": {
  "interpreter": {
   "hash": "7b34b089ce0dfc9935940e0a22050b2949fa617f7a2b73925623c261bed16aeb"
  },
  "kernelspec": {
   "display_name": "Python 3.8.5 ('base')",
   "language": "python",
   "name": "python3"
  },
  "language_info": {
   "codemirror_mode": {
    "name": "ipython",
    "version": 3
   },
   "file_extension": ".py",
   "mimetype": "text/x-python",
   "name": "python",
   "nbconvert_exporter": "python",
   "pygments_lexer": "ipython3",
   "version": "3.8.5"
  },
  "orig_nbformat": 4
 },
 "nbformat": 4,
 "nbformat_minor": 2
}
