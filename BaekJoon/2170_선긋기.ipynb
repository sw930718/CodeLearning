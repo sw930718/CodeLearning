{
 "cells": [
  {
   "cell_type": "markdown",
   "metadata": {},
   "source": [
    "https://www.acmicpc.net/problem/2170"
   ]
  },
  {
   "cell_type": "markdown",
   "metadata": {},
   "source": [
    "풀이1 ) //구현 아이디어"
   ]
  },
  {
   "cell_type": "code",
   "execution_count": 9,
   "metadata": {},
   "outputs": [
    {
     "name": "stdout",
     "output_type": "stream",
     "text": [
      "3\n"
     ]
    }
   ],
   "source": [
    "import sys\n",
    "sys.stdin = open(\"input.txt\",\"r\")\n",
    "input = sys.stdin.readline\n",
    "\n",
    "# input\n",
    "N = int(input())\n",
    "lines = []\n",
    "for _ in range(N):\n",
    "    lines.append(tuple(map(int, input().split())))\n",
    "    \n",
    "# solve <= 20N\n",
    "lines = sorted(lines) # 6N \n",
    "start, end = lines[0][0], lines[0][1]\n",
    "length = 0\n",
    "\n",
    "for i in range(1, N):\n",
    "    if lines[i][0] > end:\n",
    "        length += (end - start)\n",
    "        start = lines[i][0]\n",
    "    else:\n",
    "        end = max(lines[i][1],end)\n",
    "        \n",
    "length += (end-start)\n",
    "\n",
    "print(length)"
   ]
  },
  {
   "cell_type": "code",
   "execution_count": null,
   "metadata": {},
   "outputs": [],
   "source": []
  }
 ],
 "metadata": {
  "interpreter": {
   "hash": "7b34b089ce0dfc9935940e0a22050b2949fa617f7a2b73925623c261bed16aeb"
  },
  "kernelspec": {
   "display_name": "Python 3.8.5 ('base')",
   "language": "python",
   "name": "python3"
  },
  "language_info": {
   "codemirror_mode": {
    "name": "ipython",
    "version": 3
   },
   "file_extension": ".py",
   "mimetype": "text/x-python",
   "name": "python",
   "nbconvert_exporter": "python",
   "pygments_lexer": "ipython3",
   "version": "3.8.5"
  },
  "orig_nbformat": 4
 },
 "nbformat": 4,
 "nbformat_minor": 2
}
