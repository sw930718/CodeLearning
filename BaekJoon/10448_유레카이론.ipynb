{
 "cells": [
  {
   "cell_type": "markdown",
   "metadata": {},
   "source": [
    "### 문제    \n",
    "https://www.acmicpc.net/problem/10448    \n",
    "_      \n",
    "삼각수 Tn(n ≥ 1)는 [그림]에서와 같이 기하학적으로 일정한 모양의 규칙을 갖는 점들의 모음으로 표현될 수 있다.     \n",
    "자연수 n에 대해 n ≥ 1의 삼각수 Tn는 명백한 공식이 있다.     \n",
    "      \n",
    "Tn = 1 + 2 + 3 + ... + n = n(n+1)/2    \n",
    "     \n",
    "1796년, 가우스는 모든 자연수가 최대 3개의 삼각수의 합으로 표현될 수 있다고 증명하였다. 예를 들어,    \n",
    "     \n",
    "4 = T1 + T2     \n",
    "5 = T1 + T1 + T2     \n",
    "6 = T2 + T2 or 6 = T3     \n",
    "10 = T1 + T2 + T3 or 10 = T4    \n",
    "이 결과는 증명을 기념하기 위해 그의 다이어리에 “Eureka! num = Δ + Δ + Δ” 라고 적은것에서 유레카 이론으로 알려졌다. 꿍은 몇몇 자연수가 정확히 3개의 삼각수의 합으로 표현될 수 있는지 궁금해졌다. 위의 예시에서, 5와 10은 정확히 3개의 삼각수의 합으로 표현될 수 있지만 4와 6은 그렇지 않다.    \n",
    "      \n",
    "자연수가 주어졌을 때, 그 정수가 정확히 3개의 삼각수의 합으로 표현될 수 있는지 없는지를 판단해주는 프로그램을 만들어라. 단, 3개의 삼각수가 모두 달라야 할 필요는 없다.    \n",
    "\n",
    "#### 입력  \n",
    "프로그램은 표준입력을 사용한다.      \n",
    "테스트케이스의 개수는 입력의 첫 번째 줄에 주어진다.     \n",
    "각 테스트케이스는 한 줄에 자연수 K (3 ≤ K ≤ 1,000)가 하나씩 포함되어있는 T개의 라인으로 구성되어있다.      \n",
    "       \n",
    "#### 출력  \n",
    "프로그램은 표준출력을 사용한다.    \n",
    "각 테스트케이스에대해 정확히 한 라인을 출력한다.     \n",
    "만약 K가 정확히 3개의 삼각수의 합으로 표현될수 있다면 1을, 그렇지 않다면 0을 출력한다.\n",
    "      \n",
    "#### 예제 \n",
    "[input]       \n",
    "3      \n",
    "10      \n",
    "20        \n",
    "1000      \n",
    "\n",
    "[output]    \n",
    "1      \n",
    "0      \n",
    "1      \n",
    "\n",
    "#### 조건 \n",
    "- 시간제한 : 1초     \n",
    "- 메모리제한 : 256MB\n",
    "\n",
    "#### 알고리즘 분류 \n",
    "수학, 브루트포스    "
   ]
  },
  {
   "cell_type": "code",
   "execution_count": 1,
   "metadata": {},
   "outputs": [
    {
     "name": "stdout",
     "output_type": "stream",
     "text": [
      "1\n",
      "0\n",
      "1\n"
     ]
    }
   ],
   "source": [
    "import sys\n",
    "\n",
    "# input = sys.stdin.readline\n",
    "N = int(input())\n",
    "lst = []\n",
    "for _ in range(N):\n",
    "    lst.append(int(input()))\n",
    "    \n",
    "## 주어진 범위 내에 삼각수값 모두 구하기 \n",
    "trianglelst = []\n",
    "for i in range(1,44): # n=44 일때가 1000보다 작은 가장 큰 삼각수 값인 990을 가지므로 \n",
    "    num = (i*(i+1))*0.5\n",
    "    trianglelst.append(num)\n",
    "\n",
    "# check \n",
    "def threetriangletf(x):  \n",
    "    for i in trianglelst:\n",
    "        for j in trianglelst:\n",
    "            for z in trianglelst:\n",
    "                if z>=x:\n",
    "                    break\n",
    "                if i+j+z == x:\n",
    "                    return 1\n",
    "            if j>=x:\n",
    "                break\n",
    "        if i>=x:\n",
    "            break\n",
    "    return 0\n",
    "    \n",
    "# answer \n",
    "for i in lst:\n",
    "    print(threetriangletf(i))"
   ]
  }
 ],
 "metadata": {
  "language_info": {
   "name": "python"
  }
 },
 "nbformat": 4,
 "nbformat_minor": 5
}
