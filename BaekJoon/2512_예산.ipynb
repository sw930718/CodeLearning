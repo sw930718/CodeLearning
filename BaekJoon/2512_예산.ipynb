{
 "cells": [
  {
   "cell_type": "markdown",
   "metadata": {},
   "source": [
    "### 문제    \n",
    "https://www.acmicpc.net/problem/2512  \n",
    "_    \n",
    "국가의 역할 중 하나는 여러 지방의 예산요청을 심사하여 국가의 예산을 분배하는 것이다. 국가예산의 총액은 미리 정해져 있어서 모든 예산요청을 배정해 주기는 어려울 수도 있다. 그래서 정해진 총액 이하에서 가능한 한 최대의 총 예산을 다음과 같은 방법으로 배정한다.  \n",
    "\n",
    "모든 요청이 배정될 수 있는 경우에는 요청한 금액을 그대로 배정한다.   \n",
    "모든 요청이 배정될 수 없는 경우에는 특정한 정수 상한액을 계산하여 그 이상인 예산요청에는 모두 상한액을 배정한다. 상한액 이하의 예산요청에 대해서는 요청한 금액을 그대로 배정한다.    \n",
    "예를 들어, 전체 국가예산이 485이고 4개 지방의 예산요청이 각각 120, 110, 140, 150이라고 하자. 이 경우, 상한액을 127로 잡으면, 위의 요청들에 대해서 각각 120, 110, 127, 127을 배정하고 그 합이 484로 가능한 최대가 된다.    \n",
    "\n",
    "여러 지방의 예산요청과 국가예산의 총액이 주어졌을 때, 위의 조건을 모두 만족하도록 예산을 배정하는 프로그램을 작성하세요.       \n",
    "\n",
    "#### 입력  \n",
    "첫째 줄에는 지방의 수를 의미하는 정수 N이 주어진다. N은 3 이상 10,000 이하이다. 다음 줄에는 각 지방의 예산요청을 표현하는 N개의 정수가 빈칸을 사이에 두고 주어진다. 이 값들은 모두 1 이상 100,000 이하이다. 그 다음 줄에는 총 예산을 나타내는 정수 M이 주어진다. M은 N 이상 1,000,000,000 이하이다.   \n",
    "\n",
    "#### 출력  \n",
    "첫째 줄에는 배정된 예산들 중 최댓값인 정수를 출력한다.   \n",
    "\n",
    "#### 예제 \n",
    "[input]   \n",
    "4   \n",
    "120 110 140 150   \n",
    "485   \n",
    "\n",
    "[output]    \n",
    "127   \n",
    "\n",
    "#### 조건 \n",
    "- 시간제한 : 1초     \n",
    "- 메모리제한 : 128MB\n",
    "\n",
    "#### 알고리즘 분류 \n",
    "이분탐색, 매개 변수 탐색    "
   ]
  },
  {
   "cell_type": "markdown",
   "metadata": {},
   "source": [
    "풀이1 ) 이분탐색, mid보다 작으면 그대로 mid보다 크거나같으면 mid를 더한 total과 예산을 비교  "
   ]
  },
  {
   "cell_type": "code",
   "execution_count": 15,
   "metadata": {},
   "outputs": [
    {
     "name": "stdout",
     "output_type": "stream",
     "text": [
      "127\n"
     ]
    }
   ],
   "source": [
    "N=int(input())\n",
    "NList=list(map(int, input().split()))\n",
    "M=int(input())\n",
    "\n",
    "NList.sort()\n",
    "start=1\n",
    "end=NList[-1]\n",
    "\n",
    "while start<=end:\n",
    "    mid=(start+end)//2\n",
    "    \n",
    "    total=0\n",
    "    for i in NList:\n",
    "        if i>=mid:\n",
    "            total+=mid\n",
    "        else:\n",
    "            total+=i\n",
    "   \n",
    "    if total <= M :\n",
    "        start=mid+1\n",
    "        answer=mid\n",
    "    else:\n",
    "        end=mid-1\n",
    "    \n",
    "print(answer)"
   ]
  }
 ],
 "metadata": {
  "interpreter": {
   "hash": "7b34b089ce0dfc9935940e0a22050b2949fa617f7a2b73925623c261bed16aeb"
  },
  "kernelspec": {
   "display_name": "Python 3.8.5 ('base')",
   "language": "python",
   "name": "python3"
  },
  "language_info": {
   "codemirror_mode": {
    "name": "ipython",
    "version": 3
   },
   "file_extension": ".py",
   "mimetype": "text/x-python",
   "name": "python",
   "nbconvert_exporter": "python",
   "pygments_lexer": "ipython3",
   "version": "3.8.5"
  },
  "orig_nbformat": 4
 },
 "nbformat": 4,
 "nbformat_minor": 2
}
