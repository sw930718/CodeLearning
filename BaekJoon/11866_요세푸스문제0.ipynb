{
 "cells": [
  {
   "cell_type": "markdown",
   "metadata": {},
   "source": [
    "### 문제    \n",
    "https://www.acmicpc.net/problem/11866  \n",
    "_    \n",
    "요세푸스 문제는 다음과 같다.\n",
    "\n",
    "1번부터 N번까지 N명의 사람이 원을 이루면서 앉아있고, 양의 정수 K(≤ N)가 주어진다. 이제 순서대로 K번째 사람을 제거한다. 한 사람이 제거되면 남은 사람들로 이루어진 원을 따라 이 과정을 계속해 나간다. 이 과정은 N명의 사람이 모두 제거될 때까지 계속된다. 원에서 사람들이 제거되는 순서를 (N, K)-요세푸스 순열이라고 한다.     \n",
    "예를 들어 (7, 3)-요세푸스 순열은 <3, 6, 2, 7, 5, 1, 4>이다.    \n",
    "\n",
    "N과 K가 주어지면 (N, K)-요세푸스 순열을 구하는 프로그램을 작성하시오.      \n",
    "\n",
    "#### 입력  \n",
    "첫째 줄에 N과 K가 빈 칸을 사이에 두고 순서대로 주어진다. (1 ≤ K ≤ N ≤ 1,000)   \n",
    "\n",
    "#### 출력  \n",
    "예제와 같이 요세푸스 순열을 출력한다.    \n",
    "\n",
    "#### 예제 \n",
    "[input]   \n",
    "7 3   \n",
    "\n",
    "[output]    \n",
    "<3, 6, 2, 7, 5, 1, 4>  \n",
    "\n",
    "#### 조건 \n",
    "- 시간제한 : 2초     \n",
    "- 메모리제한 : 512MB\n",
    "\n",
    "#### 출처 \n",
    "문제를 만든 사람: baekjoon   "
   ]
  },
  {
   "cell_type": "markdown",
   "metadata": {},
   "source": [
    "1. 풀이1 ) queue를 이용해서 popleft & append, K번째마다 popleft"
   ]
  },
  {
   "cell_type": "code",
   "execution_count": 1,
   "metadata": {},
   "outputs": [
    {
     "name": "stdout",
     "output_type": "stream",
     "text": [
      "<3, 6, 2, 7, 5, 1, 4>\n"
     ]
    }
   ],
   "source": [
    "from collections import deque\n",
    "\n",
    "N, K = map(int,input().split())\n",
    "queList=deque([i for i in range(1,N+1)])\n",
    "queKList=[]\n",
    "while queList:\n",
    "    for _ in range(K-1):\n",
    "        que=queList.popleft()\n",
    "        queList.append(que)\n",
    "    queK=queList.popleft()\n",
    "    queKList.append(str(queK))\n",
    "permut=', '.join(queKList)\n",
    "print(\"<\"+permut+\">\")"
   ]
  },
  {
   "cell_type": "markdown",
   "metadata": {},
   "source": [
    "2. 풀이2 ) 모든 원소를 1로 두고, K번째 1을 정답리스트에 추가 & 0으로 변경    \n",
    "-> 친구가 제안한 방법 : 시간초과 # 시간복잡도 큼 "
   ]
  },
  {
   "cell_type": "code",
   "execution_count": 2,
   "metadata": {},
   "outputs": [
    {
     "name": "stdout",
     "output_type": "stream",
     "text": [
      "<3, 6, 2, 7, 5, 1, 4>\n"
     ]
    }
   ],
   "source": [
    "N, K = map(int,input().split())\n",
    "\n",
    "peopleList=[1 for _ in range(N)]\n",
    "answerList=[]\n",
    "checkK=0\n",
    "idx=0\n",
    "\n",
    "while sum(peopleList): \n",
    "    if peopleList[idx] == 1:\n",
    "        checkK+=1\n",
    "\n",
    "    if checkK == K:\n",
    "        answerList.append(str(idx+1))\n",
    "        peopleList[idx] = 0\n",
    "        checkK=0\n",
    "        \n",
    "    idx=(idx+1)%N\n",
    "\n",
    "permut=', '.join(answerList)\n",
    "print(\"<\"+permut+\">\")"
   ]
  }
 ],
 "metadata": {
  "interpreter": {
   "hash": "7b34b089ce0dfc9935940e0a22050b2949fa617f7a2b73925623c261bed16aeb"
  },
  "kernelspec": {
   "display_name": "Python 3.8.5 ('base')",
   "language": "python",
   "name": "python3"
  },
  "language_info": {
   "codemirror_mode": {
    "name": "ipython",
    "version": 3
   },
   "file_extension": ".py",
   "mimetype": "text/x-python",
   "name": "python",
   "nbconvert_exporter": "python",
   "pygments_lexer": "ipython3",
   "version": "3.8.5"
  },
  "orig_nbformat": 4
 },
 "nbformat": 4,
 "nbformat_minor": 2
}
