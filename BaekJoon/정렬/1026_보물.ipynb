{
 "cells": [
  {
   "cell_type": "markdown",
   "metadata": {},
   "source": [
    "### 문제    \n",
    "https://www.acmicpc.net/problem/1026   \n",
    "_    \n",
    "길이가 N인 정수 배열 A와 B가 있다. 다음과 같이 함수 S를 정의하자.   \n",
    "\n",
    "S = A[0] × B[0] + ... + A[N-1] × B[N-1]     \n",
    "\n",
    "S의 값을 가장 작게 만들기 위해 A의 수를 재배열하자. (단, B에 있는 수는 재배열하면 안 된다)   \n",
    "S의 최솟값을 출력하는 프로그램을 작성하시오.    \n",
    "\n",
    "#### 입력  \n",
    "첫째 줄에 N이 주어진다 (N은 자연수, N<=50)     \n",
    "둘째 줄에는 A에 있는 N개의 수가 순서대로 주어진다 (0<=A<=100)    \n",
    "셋째 줄에는 B에 있는 수가 순서대로 주어진다 (0<=B<=100)   \n",
    "\n",
    "#### 출력  \n",
    "첫째 줄에 S의 최솟값을 출력     \n",
    "\n",
    "#### 예제 \n",
    "[input]   \n",
    "5    \n",
    "1 1 1 6 0    \n",
    "2 7 8 3 1    \n",
    "\n",
    "[output]    \n",
    "18    \n",
    "\n",
    "#### 조건 \n",
    "- 시간제한 : 2초     \n",
    "- 메모리제한 : 128MB  "
   ]
  },
  {
   "cell_type": "markdown",
   "metadata": {},
   "source": [
    "풀이1 ) 파이썬 기본 라이브러리 sort함수(팀소트:삽입정렬+병합정렬)사용     \n",
    "- 두 배열의 값들의 곱의 합이 최소가 되려면 각 배열의 값을 큰 순서 정렬, 작은 순서 정렬하면 된다"
   ]
  },
  {
   "cell_type": "code",
   "execution_count": 8,
   "metadata": {},
   "outputs": [
    {
     "name": "stdout",
     "output_type": "stream",
     "text": [
      "528\n"
     ]
    }
   ],
   "source": [
    "N=int(input())\n",
    "A=list(map(int,input().split()))\n",
    "B=list(map(int,input().split()))\n",
    "\n",
    "A.sort(reverse=True)\n",
    "B.sort()\n",
    "\n",
    "print(sum([A[i]*B[i] for i in range(N)]))"
   ]
  }
 ],
 "metadata": {
  "interpreter": {
   "hash": "7b34b089ce0dfc9935940e0a22050b2949fa617f7a2b73925623c261bed16aeb"
  },
  "kernelspec": {
   "display_name": "Python 3.8.5 ('base')",
   "language": "python",
   "name": "python3"
  },
  "language_info": {
   "codemirror_mode": {
    "name": "ipython",
    "version": 3
   },
   "file_extension": ".py",
   "mimetype": "text/x-python",
   "name": "python",
   "nbconvert_exporter": "python",
   "pygments_lexer": "ipython3",
   "version": "3.8.5"
  },
  "orig_nbformat": 4
 },
 "nbformat": 4,
 "nbformat_minor": 2
}
