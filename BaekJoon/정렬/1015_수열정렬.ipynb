{
 "cells": [
  {
   "cell_type": "markdown",
   "metadata": {},
   "source": [
    "### 문제    \n",
    "https://www.acmicpc.net/problem/1015   \n",
    "_    \n",
    "P[0], P[1], ...., P[N-1]은 0부터 N-1까지(포함)의 수를 한 번씩 포함하고 있는 수열이다. 수열 P를 길이가 N인 배열 A에 적용하면 길이가 N인 배열 B가 된다. 적용하는 방법은 B[P[i]] = A[i]이다.\n",
    "\n",
    "배열 A가 주어졌을 때, 수열 P를 적용한 결과가 비내림차순이 되는 수열을 찾는 프로그램을 작성하시오. 비내림차순이란, 각각의 원소가 바로 앞에 있는 원소보다 크거나 같을 경우를 말한다. 만약 그러한 수열이 여러개라면 사전순으로 앞서는 것을 출력한다.    \n",
    "\n",
    "#### 입력  \n",
    "첫째 줄에 배열 A의 크기 N 출력 (N<=50, 자연수)    \n",
    "둘째 줄에는 배열 A의 원소가 차례로 출력. (A[i]<=1000, 자연수)   \n",
    "\n",
    "#### 출력  \n",
    "첫째 줄에 비내림차순으로 만드는 수열 P를 출력   \n",
    "\n",
    "#### 예제 \n",
    "[input1]   \n",
    "3    \n",
    "2 3 1    \n",
    "    \n",
    "[output1]   \n",
    "1 2 0    \n",
    "\n",
    "[input2]   \n",
    "8   \n",
    "4 1 6 1 3 6 1 4    \n",
    "\n",
    "[output2]    \n",
    "4 0 6 1 3 7 2 5    \n",
    "\n",
    "#### 조건 \n",
    "- 시간제한 : 2초     \n",
    "- 메모리제한 : 128MB    \n",
    "\n",
    "#### 알고리즘 분류 \n",
    "정렬     "
   ]
  },
  {
   "cell_type": "markdown",
   "metadata": {},
   "source": [
    "풀이1 ) B[p[0]]=2, B[p[1]]=3, B[p[2]]=1 일때, 값이 비내림차순이 되도록 수열 정렬\n",
    "1. 수열 B를 값으로 정렬하면(1,2,3) -> B[p[2]],B[p[0]],B[p[1]]\n",
    "2. 그러면 p[2]=0, p[0]=1, p[1]=2임. so, 수열 p=[1,2,0]을 구함 "
   ]
  },
  {
   "cell_type": "code",
   "execution_count": 16,
   "metadata": {},
   "outputs": [
    {
     "name": "stdout",
     "output_type": "stream",
     "text": [
      "4 0 6 1 3 7 2 5 "
     ]
    }
   ],
   "source": [
    "from collections import OrderedDict\n",
    "\n",
    "N = int(input())\n",
    "A = list(map(int, input().split()))\n",
    "Adict={}\n",
    "for i in range(N):\n",
    "    Adict[i]=A[i]\n",
    "\n",
    "aa=OrderedDict(sorted(Adict.items(), key = lambda x:x[1]))\n",
    "\n",
    "Aidxdict={}\n",
    "for idx,i in enumerate(list(aa.keys())):\n",
    "    Aidxdict[idx]=i\n",
    "    \n",
    "bb=OrderedDict(sorted(Aidxdict.items(), key = lambda x:x[1]))\n",
    "\n",
    "for i in list(bb.keys()):\n",
    "    print(i, end=' ')"
   ]
  }
 ],
 "metadata": {
  "interpreter": {
   "hash": "7b34b089ce0dfc9935940e0a22050b2949fa617f7a2b73925623c261bed16aeb"
  },
  "kernelspec": {
   "display_name": "Python 3.8.5 ('base')",
   "language": "python",
   "name": "python3"
  },
  "language_info": {
   "codemirror_mode": {
    "name": "ipython",
    "version": 3
   },
   "file_extension": ".py",
   "mimetype": "text/x-python",
   "name": "python",
   "nbconvert_exporter": "python",
   "pygments_lexer": "ipython3",
   "version": "3.8.5"
  },
  "orig_nbformat": 4
 },
 "nbformat": 4,
 "nbformat_minor": 2
}
