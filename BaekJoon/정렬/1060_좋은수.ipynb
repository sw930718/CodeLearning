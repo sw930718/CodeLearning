{
 "cells": [
  {
   "cell_type": "markdown",
   "metadata": {},
   "source": [
    "### 문제    \n",
    "//문제링크\n",
    "_    \n",
    "//문제설명    \n",
    "\n",
    "#### 입력  \n",
    "//입력설명 \n",
    "\n",
    "#### 출력  \n",
    "//출력설명 \n",
    "\n",
    "#### 예제 \n",
    "[input]   \n",
    "//입력값\n",
    "\n",
    "[output]    \n",
    "//출력값\n",
    "\n",
    "#### 조건 \n",
    "- 시간제한 : *초     \n",
    "- 메모리제한 : *MB\n",
    "\n",
    "#### 알고리즘 분류 \n",
    "//태그 작성   "
   ]
  },
  {
   "cell_type": "markdown",
   "metadata": {},
   "source": [
    "풀이1 ) //구현 아이디어"
   ]
  },
  {
   "cell_type": "code",
   "execution_count": 3,
   "metadata": {},
   "outputs": [
    {
     "ename": "IndexError",
     "evalue": "list index out of range",
     "output_type": "error",
     "traceback": [
      "\u001b[0;31m---------------------------------------------------------------------------\u001b[0m",
      "\u001b[0;31mIndexError\u001b[0m                                Traceback (most recent call last)",
      "\u001b[1;32m/Users/mac/CodeLearning/BaekJoon/정렬/1060_좋은수.ipynb Cell 3'\u001b[0m in \u001b[0;36m<cell line: 18>\u001b[0;34m()\u001b[0m\n\u001b[1;32m     <a href='vscode-notebook-cell:/Users/mac/CodeLearning/BaekJoon/%EC%A0%95%EB%A0%AC/1060_%EC%A2%8B%EC%9D%80%EC%88%98.ipynb#ch0000002?line=15'>16</a>\u001b[0m         exceptS\u001b[39m.\u001b[39mappend(i)\n\u001b[1;32m     <a href='vscode-notebook-cell:/Users/mac/CodeLearning/BaekJoon/%EC%A0%95%EB%A0%AC/1060_%EC%A2%8B%EC%9D%80%EC%88%98.ipynb#ch0000002?line=17'>18</a>\u001b[0m \u001b[39mfor\u001b[39;00m idx, i \u001b[39min\u001b[39;00m \u001b[39menumerate\u001b[39m(exceptS):\n\u001b[0;32m---> <a href='vscode-notebook-cell:/Users/mac/CodeLearning/BaekJoon/%EC%A0%95%EB%A0%AC/1060_%EC%A2%8B%EC%9D%80%EC%88%98.ipynb#ch0000002?line=18'>19</a>\u001b[0m     dct[\u001b[39mstr\u001b[39m(i)]\u001b[39m=\u001b[39m(i\u001b[39m-\u001b[39mS[idx])\u001b[39m*\u001b[39m(S[idx\u001b[39m+\u001b[39;49m\u001b[39m1\u001b[39;49m]\u001b[39m-\u001b[39mi)\u001b[39m-\u001b[39m\u001b[39m1\u001b[39m\n\u001b[1;32m     <a href='vscode-notebook-cell:/Users/mac/CodeLearning/BaekJoon/%EC%A0%95%EB%A0%AC/1060_%EC%A2%8B%EC%9D%80%EC%88%98.ipynb#ch0000002?line=20'>21</a>\u001b[0m orderS\u001b[39m=\u001b[39mOrderedDict(\u001b[39msorted\u001b[39m(dct\u001b[39m.\u001b[39mitems()), key\u001b[39m=\u001b[39m\u001b[39mlambda\u001b[39;00m x:x[\u001b[39m1\u001b[39m], reverse\u001b[39m=\u001b[39m\u001b[39mTrue\u001b[39;00m) \n\u001b[1;32m     <a href='vscode-notebook-cell:/Users/mac/CodeLearning/BaekJoon/%EC%A0%95%EB%A0%AC/1060_%EC%A2%8B%EC%9D%80%EC%88%98.ipynb#ch0000002?line=21'>22</a>\u001b[0m \u001b[39mlist\u001b[39m(orderS\u001b[39m.\u001b[39mkeys())\n",
      "\u001b[0;31mIndexError\u001b[0m: list index out of range"
     ]
    }
   ],
   "source": [
    "from collections import OrderedDict\n",
    "\n",
    "L=int(input())\n",
    "S=list(map(int, input().split()))\n",
    "n=int(input())\n",
    "\n",
    "dct={}\n",
    "S.sort()\n",
    "exceptS=[]\n",
    "if S[0]!=1: # 1값 없을때 \n",
    "    S.insert(0,0)\n",
    "L=len(S)\n",
    "\n",
    "for i in range(1,max(S)+1):\n",
    "    if i not in S:\n",
    "        exceptS.append(i)\n",
    "        \n",
    "for i in exceptS:\n",
    "    \n",
    "    dct[i]=(i-S[idx])*(S[idx+1]-i)-1\n",
    "        \n",
    "orderS=OrderedDict(sorted(dct.items()), key=lambda x:x[1], reverse=True) \n",
    "list(orderS.keys())"
   ]
  },
  {
   "cell_type": "code",
   "execution_count": null,
   "metadata": {},
   "outputs": [],
   "source": []
  }
 ],
 "metadata": {
  "interpreter": {
   "hash": "7b34b089ce0dfc9935940e0a22050b2949fa617f7a2b73925623c261bed16aeb"
  },
  "kernelspec": {
   "display_name": "Python 3.8.5 ('base')",
   "language": "python",
   "name": "python3"
  },
  "language_info": {
   "codemirror_mode": {
    "name": "ipython",
    "version": 3
   },
   "file_extension": ".py",
   "mimetype": "text/x-python",
   "name": "python",
   "nbconvert_exporter": "python",
   "pygments_lexer": "ipython3",
   "version": "3.8.5"
  },
  "orig_nbformat": 4
 },
 "nbformat": 4,
 "nbformat_minor": 2
}
