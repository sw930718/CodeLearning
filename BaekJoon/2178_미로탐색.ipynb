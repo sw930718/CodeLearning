{
 "cells": [
  {
   "cell_type": "markdown",
   "metadata": {},
   "source": [
    "### 문제    \n",
    "https://www.acmicpc.net/problem/2178  \n",
    "_    \n",
    "N×M크기의 배열로 표현되는 미로가 있다.      \n",
    "| 1 | 0 | 1 | 1 | 1 | 1 |  \n",
    "|---|---|---|---|---|---|  \n",
    "| **1** | **0** | **1** | **0** | **1** | **0** |  \n",
    "| **1** | **0** | **1** | **0** | **1** | **1** |  \n",
    "| **1** | **1** | **1** | **0** | **1** | **1** |    \n",
    "\n",
    "미로에서 1은 이동할 수 있는 칸을 나타내고, 0은 이동할 수 없는 칸을 나타낸다.  \n",
    "이러한 미로가 주어졌을 때, (1, 1)에서 출발하여 (N, M)의 위치로 이동할 때 지나야 하는 최소의 칸 수를 구하는 프로그램을 작성하시오. 한 칸에서 다른 칸으로 이동할 때, 서로 인접한 칸으로만 이동할 수 있다.   \n",
    "\n",
    "위의 예에서는 15칸을 지나야 (N, M)의 위치로 이동할 수 있다. 칸을 셀 때에는 시작 위치와 도착 위치도 포함한다.   \n",
    "\n",
    "#### 입력  \n",
    "첫째 줄에 두 정수 N, M(2 ≤ N, M ≤ 100)이 주어진다.   \n",
    "다음 N개의 줄에는 M개의 정수로 미로가 주어진다.   \n",
    "(각각의 수들은 붙어서 입력으로 주어진다)(도착위치로 이동할 수 있는 경우만 입력으로 주어진다)   \n",
    "\n",
    "#### 출력  \n",
    "첫째 줄에 지나야 하는 최소의 칸 수를 출력한다. \n",
    "\n",
    "#### 예제 \n",
    "[input]   \n",
    "4 6    \n",
    "101111    \n",
    "101010    \n",
    "101011    \n",
    "111011    \n",
    "\n",
    "[output]    \n",
    "15     \n",
    "\n",
    "#### 조건 \n",
    "- 시간제한 : 1초     \n",
    "- 메모리제한 : 192MB\n",
    "\n",
    "#### 알고리즘 분류 \n",
    "그래프이론, 그래프탐색, 너비우선탐색  "
   ]
  },
  {
   "cell_type": "markdown",
   "metadata": {},
   "source": [
    "풀이1 ) //구현 아이디어"
   ]
  },
  {
   "cell_type": "code",
   "execution_count": 32,
   "metadata": {},
   "outputs": [
    {
     "name": "stdout",
     "output_type": "stream",
     "text": [
      "15\n"
     ]
    }
   ],
   "source": [
    "from collections import deque\n",
    "import sys\n",
    "# sys.stdin = open('/Users/mac/CodeLearning/BaekJoon/input.txt','r')\n",
    "N, M=map(int,sys.stdin.readline().rstrip().split())\n",
    "\n",
    "maze=[]\n",
    "for _ in range(N):\n",
    "    maze.append(list(map(int, sys.stdin.readline().rstrip())))\n",
    "direct=[(-1,-0),(1,0),(0,-1),(0,1)] # 상하좌우\n",
    "\n",
    "def bfs(x,y):\n",
    "    queue=deque()\n",
    "    queue.append((x,y))\n",
    "\n",
    "    while queue:\n",
    "        x,y = queue.popleft()\n",
    "        for i in range(4):\n",
    "            x1 = x+direct[i][0]\n",
    "            y1 = y+direct[i][1]\n",
    "            if x1<0 or y1<0 or x1>(N-1) or y1>(M-1):\n",
    "                continue\n",
    "            if maze[x1][y1]==0:\n",
    "                continue\n",
    "            if maze[x1][y1]==1:\n",
    "                maze[x1][y1]=maze[x][y]+1\n",
    "                queue.append((x1,y1))\n",
    "    \n",
    "    return maze[(N-1)][(M-1)]\n",
    "\n",
    "print(bfs(0,0))"
   ]
  }
 ],
 "metadata": {
  "interpreter": {
   "hash": "7b34b089ce0dfc9935940e0a22050b2949fa617f7a2b73925623c261bed16aeb"
  },
  "kernelspec": {
   "display_name": "Python 3.8.5 ('base')",
   "language": "python",
   "name": "python3"
  },
  "language_info": {
   "codemirror_mode": {
    "name": "ipython",
    "version": 3
   },
   "file_extension": ".py",
   "mimetype": "text/x-python",
   "name": "python",
   "nbconvert_exporter": "python",
   "pygments_lexer": "ipython3",
   "version": "3.8.5"
  },
  "orig_nbformat": 4
 },
 "nbformat": 4,
 "nbformat_minor": 2
}
