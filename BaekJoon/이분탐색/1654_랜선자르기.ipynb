{
 "cells": [
  {
   "cell_type": "markdown",
   "metadata": {},
   "source": [
    "### 문제    \n",
    "https://www.acmicpc.net/problem/1654  \n",
    "_    \n",
    "집에서 시간을 보내던 오영식은 박성원의 부름을 받고 급히 달려왔다. 박성원이 캠프 때 쓸 N개의 랜선을 만들어야 하는데 너무 바빠서 영식이에게 도움을 청했다.  \n",
    "\n",
    "이미 오영식은 자체적으로 K개의 랜선을 가지고 있다. 그러나 K개의 랜선은 길이가 제각각이다. 박성원은 랜선을 모두 N개의 같은 길이의 랜선으로 만들고 싶었기 때문에 K개의 랜선을 잘라서 만들어야 한다. 예를 들어 300cm 짜리 랜선에서 140cm 짜리 랜선을 두 개 잘라내면 20cm는 버려야 한다. (이미 자른 랜선은 붙일 수 없다.)  \n",
    "\n",
    "편의를 위해 랜선을 자르거나 만들 때 손실되는 길이는 없다고 가정하며, 기존의 K개의 랜선으로 N개의 랜선을 만들 수 없는 경우는 없다고 가정하자. 그리고 자를 때는 항상 센티미터 단위로 정수길이만큼 자른다고 가정하자. **N개보다 많이 만드는 것도 N개를 만드는 것에 포함**된다. 이때 만들 수 있는 최대 랜선의 길이를 구하는 프로그램을 작성하시오.     \n",
    "  \n",
    "#### 입력  \n",
    "첫째 줄에는 오영식이 이미 가지고 있는 랜선의 개수 K, 그리고 필요한 랜선의 개수 N이 입력된다. K는 1이상 10,000이하의 정수이고, N은 1이상 1,000,000이하의 정수이다. 그리고 항상 K ≦ N 이다. 그 후 K줄에 걸쳐 이미 가지고 있는 각 랜선의 길이가 센티미터 단위의 정수로 입력된다. 랜선의 길이는 231-1보다 작거나 같은 자연수이다.   \n",
    "\n",
    "#### 출력  \n",
    "첫째 줄에 N개를 만들 수 있는 **랜선의 최대 길이**를 센티미터 단위의 정수로 출력한다.    \n",
    "\n",
    "#### 예제 \n",
    "[input1]   \n",
    "4 11  \n",
    "802  \n",
    "743  \n",
    "457  \n",
    "539  \n",
    "\n",
    "[output1]    \n",
    "200  \n",
    "\n",
    "[input2]  \n",
    "4 1\n",
    "802\n",
    "743\n",
    "457\n",
    "539\n",
    "\n",
    "[output2]\n",
    "802\n",
    "\n",
    "#### 조건 \n",
    "- 시간제한 : 2초     \n",
    "- 메모리제한 : 128MB\n",
    "\n",
    "#### 출처  "
   ]
  },
  {
   "cell_type": "markdown",
   "metadata": {},
   "source": [
    "풀이1 ) //구현 아이디어\n",
    "- 조건확인 : N와 같거나 많이 만들어야 함 -> 여러 답 중 랜선의 길이가 가장 긴 것을 답으로 고르기   "
   ]
  },
  {
   "cell_type": "code",
   "execution_count": 5,
   "metadata": {},
   "outputs": [
    {
     "data": {
      "text/plain": [
       "2"
      ]
     },
     "execution_count": 5,
     "metadata": {},
     "output_type": "execute_result"
    }
   ],
   "source": [
    "805//400"
   ]
  },
  {
   "cell_type": "markdown",
   "metadata": {},
   "source": [
    "여러줄 입력받는 상황에서는 sys.stdin.readline() 써야 시간초과가 발생하지 X  (EX. BaekJoon 15552_빠른 A+B 문제 "
   ]
  },
  {
   "cell_type": "code",
   "execution_count": 25,
   "metadata": {},
   "outputs": [
    {
     "name": "stdout",
     "output_type": "stream",
     "text": [
      "1443\n"
     ]
    }
   ],
   "source": [
    "import sys\n",
    "sys.stdin=open(\"input_example.txt\",\"r\")\n",
    "K, N = map(int, sys.stdin.readline().split())\n",
    "KList = []\n",
    "for _ in range(K):\n",
    "    KList.append(int(sys.stdin.readline())) # vs. KList = [int(input()) for _ in range(K)] 중 어떤게 공간/시간 복잡도가 낮을까 ?\n",
    "    \n",
    "start = 0\n",
    "end = max(KList)\n",
    "\n",
    "answer=0\n",
    "while start<=end :\n",
    "    mid = (start+end)//2\n",
    "    \n",
    "    cutN = sum(map(lambda i: i//mid, KList))\n",
    "    if N <= cutN: # 필요한 랜선수 N < 얻은 랜선수 cutN 이어도 OK, 랜선의 길이 mid가 최대가 되도록\n",
    "        if answer<mid:\n",
    "            answer=mid\n",
    "        start=mid+1\n",
    "    else:\n",
    "        end=mid-1\n",
    "\n",
    "print(answer)"
   ]
  }
 ],
 "metadata": {
  "interpreter": {
   "hash": "7b34b089ce0dfc9935940e0a22050b2949fa617f7a2b73925623c261bed16aeb"
  },
  "kernelspec": {
   "display_name": "Python 3.8.5 ('base')",
   "language": "python",
   "name": "python3"
  },
  "language_info": {
   "codemirror_mode": {
    "name": "ipython",
    "version": 3
   },
   "file_extension": ".py",
   "mimetype": "text/x-python",
   "name": "python",
   "nbconvert_exporter": "python",
   "pygments_lexer": "ipython3",
   "version": "3.8.5"
  },
  "orig_nbformat": 4
 },
 "nbformat": 4,
 "nbformat_minor": 2
}
