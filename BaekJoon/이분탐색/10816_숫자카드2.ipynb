{
 "cells": [
  {
   "cell_type": "markdown",
   "metadata": {},
   "source": [
    "### 문제    \n",
    "https://www.acmicpc.net/problem/10816  \n",
    "_    \n",
    "숫자 카드는 정수 하나가 적혀져 있는 카드이다. 상근이는 숫자 카드 N개를 가지고 있다. 정수 M개가 주어졌을 때, 이 수가 적혀있는 숫자 카드를 상근이가 몇 개 가지고 있는지 구하는 프로그램을 작성하시오.    \n",
    "\n",
    "#### 입력  \n",
    "첫째 줄에 상근이가 가지고 있는 숫자 카드의 개수 N(1 ≤ N ≤ 500,000)이 주어진다. 둘째 줄에는 숫자 카드에 적혀있는 정수가 주어진다. 숫자 카드에 적혀있는 수는 -10,000,000보다 크거나 같고, 10,000,000보다 작거나 같다.    \n",
    "\n",
    "셋째 줄에는 M(1 ≤ M ≤ 500,000)이 주어진다. 넷째 줄에는 상근이가 몇 개 가지고 있는 숫자 카드인지 구해야 할 M개의 정수가 주어지며, 이 수는 공백으로 구분되어져 있다. 이 수도 -10,000,000보다 크거나 같고, 10,000,000보다 작거나 같다.  \n",
    "\n",
    "#### 출력  \n",
    "첫째 줄에 입력으로 주어진 M개의 수에 대해서, 각 수가 적힌 숫자 카드를 상근이가 몇 개 가지고 있는지를 공백으로 구분해 출력한다.  \n",
    "\n",
    "#### 예제 \n",
    "[input]   \n",
    "10   \n",
    "6 3 2 10 10 10 -10 -10 7 3   \n",
    "8   \n",
    "10 9 -5 2 3 4 5 -10   \n",
    "\n",
    "[output]    \n",
    "3 0 0 1 2 0 0 2  \n",
    "\n",
    "#### 조건 \n",
    "- 시간제한 : 1초     \n",
    "- 메모리제한 : 256MB\n",
    "\n",
    "#### 출처 "
   ]
  },
  {
   "cell_type": "markdown",
   "metadata": {},
   "source": [
    "풀이1 ) 이분탐색 조건을 만족하기 위해 정렬한 후 -> MList 하나씩 이분탐색 실행    \n",
    "주어진 값이 연속된 정수값이 아니므로 인덱스를 기준으로 이분탐색 진행  \n",
    "+ MList 요소가 NList내에 존재한다면 bisect_left와 bisect_right를 이용해 갯수 출력 "
   ]
  },
  {
   "cell_type": "code",
   "execution_count": 4,
   "metadata": {},
   "outputs": [
    {
     "name": "stdout",
     "output_type": "stream",
     "text": [
      "3 0 0 1 2 0 0 2 "
     ]
    }
   ],
   "source": [
    "from bisect import bisect_left, bisect_right\n",
    "N=int(input())\n",
    "NList=list(map(int, input().split()))\n",
    "M=int(input())\n",
    "MList=list(map(int, input().split()))\n",
    "\n",
    "NList.sort() # 이분탐색의 조건을 충족시키기 위해 정렬  \n",
    "\n",
    "def search(NList,x,N):\n",
    "    start=0\n",
    "    end=N-1\n",
    "    while start<=end:\n",
    "        mid = (start+end)//2\n",
    "        if NList[mid]==x: # NList안에 MList 요소가 들어있다면, 몇 개가 있는지 라이브러리 이용해 파악 \n",
    "            return (bisect_right(NList,x)-bisect_left(NList,x))\n",
    "        if NList[mid]>x:\n",
    "            end=mid-1\n",
    "        else:\n",
    "            start=mid+1\n",
    "    return 0\n",
    "\n",
    "for x in MList:\n",
    "    print(search(NList,x,N),end=' ')"
   ]
  }
 ],
 "metadata": {
  "interpreter": {
   "hash": "7b34b089ce0dfc9935940e0a22050b2949fa617f7a2b73925623c261bed16aeb"
  },
  "kernelspec": {
   "display_name": "Python 3.8.5 ('base')",
   "language": "python",
   "name": "python3"
  },
  "language_info": {
   "codemirror_mode": {
    "name": "ipython",
    "version": 3
   },
   "file_extension": ".py",
   "mimetype": "text/x-python",
   "name": "python",
   "nbconvert_exporter": "python",
   "pygments_lexer": "ipython3",
   "version": "3.8.5"
  },
  "orig_nbformat": 4
 },
 "nbformat": 4,
 "nbformat_minor": 2
}
