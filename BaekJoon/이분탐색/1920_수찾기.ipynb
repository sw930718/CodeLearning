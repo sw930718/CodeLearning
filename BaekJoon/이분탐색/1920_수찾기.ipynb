{
 "cells": [
  {
   "cell_type": "markdown",
   "metadata": {},
   "source": [
    "### 문제    \n",
    "https://www.acmicpc.net/problem/1920\n",
    "_    \n",
    "N개의 정수 A[1], A[2], …, A[N]이 주어져 있을 때, 이 안에 X라는 정수가 존재하는지 알아내는 프로그램을 작성하시오.      \n",
    "\n",
    "#### 입력  \n",
    "첫째 줄에 자연수 N(1 ≤ N ≤ 100,000)이 주어진다. 다음 줄에는 N개의 정수 A[1], A[2], …, A[N]이 주어진다. 다음 줄에는 M(1 ≤ M ≤ 100,000)이 주어진다. 다음 줄에는 M개의 수들이 주어지는데, 이 수들이 A안에 존재하는지 알아내면 된다. 모든 정수의 범위는 -231 보다 크거나 같고 231보다 작다.  \n",
    "\n",
    "#### 출력  \n",
    "M개의 줄에 답을 출력한다. 존재하면 1을, 존재하지 않으면 0을 출력한다.  \n",
    "\n",
    "#### 예제 \n",
    "[input]   \n",
    "5  \n",
    "4 1 5 2 3  \n",
    "5  \n",
    "1 3 7 9 5  \n",
    "  \n",
    "[output]    \n",
    "1  \n",
    "1  \n",
    "0  \n",
    "0  \n",
    "1  \n",
    "\n",
    "#### 조건 \n",
    "- 시간제한 : 1초     \n",
    "- 메모리제한 : 128MB\n",
    "\n",
    "#### 출처 "
   ]
  },
  {
   "cell_type": "markdown",
   "metadata": {},
   "source": [
    "풀이1 ) [메모리초과]"
   ]
  },
  {
   "cell_type": "code",
   "execution_count": 2,
   "metadata": {},
   "outputs": [
    {
     "data": {
      "text/plain": [
       "[4, 1, 5, 2, 3]"
      ]
     },
     "execution_count": 2,
     "metadata": {},
     "output_type": "execute_result"
    }
   ],
   "source": [
    "N=int(input())\n",
    "NList=list(map(int, input().split()))\n",
    "M=int(input())\n",
    "MList=list(map(int, input().split()))\n",
    "\n",
    "n_max=max(NList)\n",
    "n=[0]*(n_max+1)\n",
    "\n",
    "for i in NList:\n",
    "    n[i]=1\n",
    "    \n",
    "for i in MList:\n",
    "    if i>n_max or n[i]==0:\n",
    "        print(0)\n",
    "    else:\n",
    "        print(1)"
   ]
  },
  {
   "cell_type": "markdown",
   "metadata": {},
   "source": [
    "풀이2 ) 이분탐색 조건을 만족하기 위해 정렬한 후 -> M 배열 하나씩 이분탐색 실행   \n",
    "주어진 값이 연속된 정수값이 아니므로 인덱스를 기준으로 이분탐색 진행 "
   ]
  },
  {
   "cell_type": "code",
   "execution_count": 27,
   "metadata": {},
   "outputs": [
    {
     "name": "stdout",
     "output_type": "stream",
     "text": [
      "1\n"
     ]
    }
   ],
   "source": [
    "N=int(input())\n",
    "NList=list(map(int, input().split()))\n",
    "M=int(input())\n",
    "MList=list(map(int, input().split()))\n",
    "\n",
    "NList.sort()\n",
    "\n",
    "def search(lst,x,N):\n",
    "    start=0\n",
    "    end=N-1\n",
    "    if lst[end]<x:\n",
    "        return 0\n",
    "    while (start<=end):\n",
    "        mid=(start+end)//2\n",
    "        if lst[mid] == x :\n",
    "            return 1\n",
    "        if x < lst[mid]:\n",
    "            end=mid-1\n",
    "        else:\n",
    "            start=mid+1\n",
    "        \n",
    "    return 0     \n",
    "    \n",
    "for x in MList:\n",
    "    print(search(NList,x,N)) "
   ]
  }
 ],
 "metadata": {
  "interpreter": {
   "hash": "7b34b089ce0dfc9935940e0a22050b2949fa617f7a2b73925623c261bed16aeb"
  },
  "kernelspec": {
   "display_name": "Python 3.8.5 ('base')",
   "language": "python",
   "name": "python3"
  },
  "language_info": {
   "codemirror_mode": {
    "name": "ipython",
    "version": 3
   },
   "file_extension": ".py",
   "mimetype": "text/x-python",
   "name": "python",
   "nbconvert_exporter": "python",
   "pygments_lexer": "ipython3",
   "version": "3.8.5"
  },
  "orig_nbformat": 4
 },
 "nbformat": 4,
 "nbformat_minor": 2
}
