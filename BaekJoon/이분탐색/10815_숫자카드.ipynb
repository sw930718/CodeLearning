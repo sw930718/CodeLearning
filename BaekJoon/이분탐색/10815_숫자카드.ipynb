{
 "cells": [
  {
   "cell_type": "markdown",
   "metadata": {},
   "source": [
    "### 문제    \n",
    "https://www.acmicpc.net/problem/10815  \n",
    "_    \n",
    "숫자 카드는 정수 하나가 적혀져 있는 카드이다. 상근이는 숫자 카드 N개를 가지고 있다. 정수 M개가 주어졌을 때, 이 수가 적혀있는 숫자 카드를 상근이가 가지고 있는지 아닌지를 구하는 프로그램을 작성하시오.    \n",
    "\n",
    "#### 입력  \n",
    "첫째 줄에 상근이가 가지고 있는 숫자 카드의 개수 N(1 ≤ N ≤ 500,000)이 주어진다. 둘째 줄에는 숫자 카드에 적혀있는 정수가 주어진다. 숫자 카드에 적혀있는 수는 -10,000,000보다 크거나 같고, 10,000,000보다 작거나 같다. 두 숫자 카드에 같은 수가 적혀있는 경우는 없다.  \n",
    "\n",
    "셋째 줄에는 M(1 ≤ M ≤ 500,000)이 주어진다. 넷째 줄에는 상근이가 가지고 있는 숫자 카드인지 아닌지를 구해야 할 M개의 정수가 주어지며, 이 수는 공백으로 구분되어져 있다. 이 수도 -10,000,000보다 크거나 같고, 10,000,000보다 작거나 같다.  \n",
    "\n",
    "#### 출력  \n",
    "첫째 줄에 입력으로 주어진 M개의 수에 대해서, 각 수가 적힌 숫자 카드를 상근이가 가지고 있으면 1을, 아니면 0을 공백으로 구분해 출력한다.  \n",
    "\n",
    "#### 예제 \n",
    "[input]   \n",
    "5  \n",
    "6 3 2 10 -10  \n",
    "8  \n",
    "10 9 -5 2 3 4 5 -10  \n",
    "\n",
    "[output]    \n",
    "1 0 0 1 1 0 0 1  \n",
    "\n",
    "#### 조건 \n",
    "- 시간제한 : 2초     \n",
    "- 메모리제한 : 256MB\n",
    "\n",
    "#### 알고리즘 분류\n",
    "#자료구조 #정렬 #이분탐색 "
   ]
  },
  {
   "cell_type": "markdown",
   "metadata": {},
   "source": [
    "풀이1 ) 특정값이 리스트에 포함되어 있는지 확인하는 과정에서 이분탐색 이용해서 복잡도를 줄임  "
   ]
  },
  {
   "cell_type": "code",
   "execution_count": 1,
   "metadata": {},
   "outputs": [
    {
     "name": "stdout",
     "output_type": "stream",
     "text": [
      "1 0 0 1 1 0 0 1 "
     ]
    }
   ],
   "source": [
    "N = int(input())\n",
    "NList=list(map(int,input().split()))\n",
    "M = int(input())\n",
    "MList=list(map(int,input().split()))\n",
    "\n",
    "NList.sort()\n",
    "\n",
    "def checkK(NList,N,K): # K가 NList에 있는지 체크하는 함수\n",
    "    start=0\n",
    "    end=N-1\n",
    "    while start<=end:\n",
    "        mid=(start+end)//2\n",
    "        if NList[mid] == K : # 인덱스와 값 착각 주의  \n",
    "            return 1\n",
    "        if NList[mid] > K :\n",
    "            end=mid-1\n",
    "        else:\n",
    "            start=mid+1\n",
    "    return 0\n",
    "\n",
    "for k in MList:\n",
    "    print(checkK(NList,N,k), end=' ')"
   ]
  }
 ],
 "metadata": {
  "interpreter": {
   "hash": "7b34b089ce0dfc9935940e0a22050b2949fa617f7a2b73925623c261bed16aeb"
  },
  "kernelspec": {
   "display_name": "Python 3.8.5 ('base')",
   "language": "python",
   "name": "python3"
  },
  "language_info": {
   "codemirror_mode": {
    "name": "ipython",
    "version": 3
   },
   "file_extension": ".py",
   "mimetype": "text/x-python",
   "name": "python",
   "nbconvert_exporter": "python",
   "pygments_lexer": "ipython3",
   "version": "3.8.5"
  },
  "orig_nbformat": 4
 },
 "nbformat": 4,
 "nbformat_minor": 2
}
