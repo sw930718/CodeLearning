{
 "cells": [
  {
   "cell_type": "code",
   "execution_count": 1,
   "metadata": {},
   "outputs": [
    {
     "name": "stdout",
     "output_type": "stream",
     "text": [
      "[[0, 0], [0, 0], [0, 0]]\n"
     ]
    }
   ],
   "source": [
    "N = 3 \n",
    "young = [ [0,0] for _ in range(N)]\n",
    "print(young)"
   ]
  },
  {
   "cell_type": "code",
   "execution_count": 9,
   "metadata": {},
   "outputs": [
    {
     "ename": "IndexError",
     "evalue": "list index out of range",
     "output_type": "error",
     "traceback": [
      "\u001b[0;31m---------------------------------------------------------------------------\u001b[0m",
      "\u001b[0;31mIndexError\u001b[0m                                Traceback (most recent call last)",
      "Cell \u001b[0;32mIn[9], line 22\u001b[0m\n\u001b[1;32m     19\u001b[0m \u001b[38;5;66;03m# 젊은 날은 1부터 ~ K까지 \u001b[39;00m\n\u001b[1;32m     20\u001b[0m \u001b[38;5;28;01mfor\u001b[39;00m i \u001b[38;5;129;01min\u001b[39;00m \u001b[38;5;28mrange\u001b[39m(\u001b[38;5;241m1\u001b[39m,N\u001b[38;5;241m+\u001b[39m\u001b[38;5;241m1\u001b[39m):\n\u001b[1;32m     21\u001b[0m     \u001b[38;5;66;03m# 0이 들어오면 누락이기 때문에 예외처리 따로 해줌\u001b[39;00m\n\u001b[0;32m---> 22\u001b[0m     \u001b[38;5;28;01mif\u001b[39;00m (min_happy \u001b[38;5;241m>\u001b[39m \u001b[43mv\u001b[49m\u001b[43m[\u001b[49m\u001b[43mi\u001b[49m\u001b[43m]\u001b[49m[\u001b[38;5;241m0\u001b[39m]) \u001b[38;5;129;01mand\u001b[39;00m (v[i][\u001b[38;5;241m0\u001b[39m] \u001b[38;5;241m!=\u001b[39m \u001b[38;5;241m0\u001b[39m) : \n\u001b[1;32m     23\u001b[0m         min_happy \u001b[38;5;241m=\u001b[39m v[i][\u001b[38;5;241m0\u001b[39m]\n\u001b[1;32m     24\u001b[0m     \u001b[38;5;28;01mif\u001b[39;00m (max_tired \u001b[38;5;241m<\u001b[39m v[i][\u001b[38;5;241m1\u001b[39m]) \u001b[38;5;129;01mand\u001b[39;00m (v[i][\u001b[38;5;241m1\u001b[39m] \u001b[38;5;241m!=\u001b[39m \u001b[38;5;241m0\u001b[39m) :\n",
      "\u001b[0;31mIndexError\u001b[0m: list index out of range"
     ]
    }
   ],
   "source": [
    "# input \n",
    "import sys\n",
    "\n",
    "sys.stdin = open(\"input.txt\",\"r\") # 백준 제출전 삭제 \n",
    "input = sys.stdin.readline\n",
    "N = int(input())\n",
    "v = [list(map(int, input().split())) for _ in range(N)]\n",
    "\n",
    "young = [ [0,0] for _ in range(N+1)]\n",
    "old = [ [0,0] for _ in range(N+1)]\n",
    "\n",
    "\n",
    "max_happy = 0\n",
    "min_happy = int(1e9)\n",
    "max_tired = 0\n",
    "min_tired = int(1e9)\n",
    "\n",
    "    \n",
    "# 젊은 날은 1부터 ~ K까지 \n",
    "for i in range(1,N+1):\n",
    "    # 0이 들어오면 누락이기 때문에 예외처리 따로 해줌\n",
    "    if (min_happy > v[i][0]) and (v[i][0] != 0) : \n",
    "        min_happy = v[i][0]\n",
    "    if (max_tired < v[i][1]) and (v[i][1] != 0) :\n",
    "        max_tired = v[i][1]\n",
    "\n",
    "    young[i][0] = min_happy; # 행복도의 최솟값\n",
    "    young[i][1] = max_tired; # 피로도의 최댓값\n",
    "\n",
    "# 늙은 날은 N-1부터 비교해야함(K-1 ~ N까지)\n",
    "for i in range(N,0,-1):\n",
    "    # 0 누락 예외처리\n",
    "    if(max_happy < v[i][0]) and (v[i][0] != 0) :\n",
    "        max_happy = v[i][0]\n",
    "    if(min_tired > v[i][1]) and (v[i][1] != 0) :\n",
    "        min_tired = v[i][1]\n",
    "\n",
    "    old[i][0] = max_happy # 행복도의 최댓값\n",
    "    old[i][1] = min_tired # 피로도의 최솟값\n",
    "\n",
    "\n",
    "ans = 0\n",
    "for i in range(N-1):\n",
    "    # 조건에 부합하는 경우만 추출\n",
    "    if(young[i][0] > old[i+1][0] & young[i][1] < old[i+1][1]):\n",
    "        ans = i+1 # 인덱스 이므로 +1\n",
    "\n",
    "if (ans == 0) :\n",
    "    ans = -1 # 인덱스가 여전히 0이면 경우가 없는 것\n",
    "\n",
    "print(ans)"
   ]
  },
  {
   "cell_type": "code",
   "execution_count": null,
   "metadata": {},
   "outputs": [],
   "source": []
  }
 ],
 "metadata": {
  "interpreter": {
   "hash": "d70dc010d58f8e16f84cfefada5d11f16d485d3f17810ef751c3ea5808ebf750"
  },
  "kernelspec": {
   "display_name": "Python 3.9.16 64-bit ('3.9.16')",
   "language": "python",
   "name": "python3"
  },
  "language_info": {
   "codemirror_mode": {
    "name": "ipython",
    "version": 3
   },
   "file_extension": ".py",
   "mimetype": "text/x-python",
   "name": "python",
   "nbconvert_exporter": "python",
   "pygments_lexer": "ipython3",
   "version": "3.9.16"
  },
  "orig_nbformat": 4
 },
 "nbformat": 4,
 "nbformat_minor": 2
}
