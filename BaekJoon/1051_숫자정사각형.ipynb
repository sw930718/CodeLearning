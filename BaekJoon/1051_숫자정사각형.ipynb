{
 "cells": [
  {
   "cell_type": "code",
   "execution_count": 16,
   "id": "9b09fbbd",
   "metadata": {},
   "outputs": [
    {
     "name": "stdout",
     "output_type": "stream",
     "text": [
      "1\n"
     ]
    }
   ],
   "source": [
    "import sys\n",
    "\n",
    "# input = sys.stdin.readline\n",
    "N, M = map(int, input().split())\n",
    "rect = []\n",
    "for i in range(N):\n",
    "    rect.append(list(map(int, input().strip())))\n",
    "\n",
    "length = 1\n",
    "\n",
    "if min(N,M) == 1:\n",
    "    print(length)\n",
    "else:\n",
    "    for i in range(2, min(N,M)+1):\n",
    "        end = False\n",
    "        for row in range(N-i+1):\n",
    "            for col in range(M-i+1):\n",
    "                if rect[row][col] == rect[row][col+i-1] == rect[row+i-1][col] == rect[row+i-1][col+i-1]:\n",
    "                    length = i\n",
    "                    end = True\n",
    "                    break\n",
    "            if end:\n",
    "                break\n",
    "    print(length**2)"
   ]
  }
 ],
 "metadata": {
  "kernelspec": {
   "display_name": "fastai_kernel",
   "language": "python",
   "name": "conda"
  },
  "language_info": {
   "codemirror_mode": {
    "name": "ipython",
    "version": 3
   },
   "file_extension": ".py",
   "mimetype": "text/x-python",
   "name": "python",
   "nbconvert_exporter": "python",
   "pygments_lexer": "ipython3",
   "version": "3.12.0"
  }
 },
 "nbformat": 4,
 "nbformat_minor": 5
}
