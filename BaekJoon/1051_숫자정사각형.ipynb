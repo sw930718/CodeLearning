{
 "cells": [
  {
   "cell_type": "markdown",
   "id": "3fb92dee",
   "metadata": {},
   "source": [
    "### 문제    \n",
    "https://www.acmicpc.net/problem/1051     \n",
    "_       \n",
    "N×M크기의 직사각형이 있다. 각 칸에는 한 자리 숫자가 적혀 있다.      \n",
    "이 직사각형에서 꼭짓점에 쓰여 있는 수가 모두 같은 가장 큰 정사각형을 찾는 프로그램을 작성하시오.      \n",
    "이때, 정사각형은 행 또는 열에 평행해야 한다.     \n",
    "      \n",
    "#### 입력  \n",
    "첫째 줄에 N과 M이 주어진다. N과 M은 50보다 작거나 같은 자연수이다.    \n",
    "둘째 줄부터 N개의 줄에 수가 주어진다.      \n",
    "     \n",
    "#### 출력  \n",
    "첫째 줄에 정답 정사각형의 크기를 출력한다. (*넓이)   \n",
    "     \n",
    "#### 예제 \n",
    "[input]   \n",
    "3 5     \n",
    "42101     \n",
    "22100     \n",
    "22101     \n",
    "     \n",
    "[output]    \n",
    "9           \n",
    "     \n",
    "#### 조건 \n",
    "- 시간제한 : 2초     \n",
    "- 메모리제한 : 128MB\n",
    "\n",
    "#### 알고리즘 분류 \n",
    "구현, 브루트포스 알고리즘    "
   ]
  },
  {
   "cell_type": "code",
   "execution_count": 16,
   "id": "9b09fbbd",
   "metadata": {},
   "outputs": [
    {
     "name": "stdout",
     "output_type": "stream",
     "text": [
      "1\n"
     ]
    }
   ],
   "source": [
    "import sys\n",
    "\n",
    "# input = sys.stdin.readline\n",
    "N, M = map(int, input().split())\n",
    "rect = []\n",
    "for i in range(N):\n",
    "    rect.append(list(map(int, input().strip())))\n",
    "\n",
    "length = 1\n",
    "\n",
    "if min(N,M) == 1:\n",
    "    print(length)\n",
    "else:\n",
    "    for i in range(2, min(N,M)+1):\n",
    "        end = False\n",
    "        for row in range(N-i+1):\n",
    "            for col in range(M-i+1):\n",
    "                if rect[row][col] == rect[row][col+i-1] == rect[row+i-1][col] == rect[row+i-1][col+i-1]:\n",
    "                    length = i\n",
    "                    end = True\n",
    "                    break\n",
    "            if end:\n",
    "                break\n",
    "    print(length**2)"
   ]
  }
 ],
 "metadata": {
  "kernelspec": {
   "display_name": "fastai_kernel",
   "language": "python",
   "name": "conda"
  },
  "language_info": {
   "codemirror_mode": {
    "name": "ipython",
    "version": 3
   },
   "file_extension": ".py",
   "mimetype": "text/x-python",
   "name": "python",
   "nbconvert_exporter": "python",
   "pygments_lexer": "ipython3",
   "version": "3.12.0"
  }
 },
 "nbformat": 4,
 "nbformat_minor": 5
}
