{
 "cells": [
  {
   "cell_type": "markdown",
   "id": "b31373f7",
   "metadata": {},
   "source": [
    "### 문제    \n",
    "https://www.acmicpc.net/problem/2231    \n",
    "_    \n",
    "어떤 자연수 N이 있을 때, 그 자연수 N의 분해합은 N과 N을 이루는 각 자리수의 합을 의미한다.   \n",
    "어떤 자연수 M의 분해합이 N인 경우, M을 N의 생성자라 한다. 예를 들어, 245의 분해합은 256(=245+2+4+5)이 된다.    \n",
    "따라서 245는 256의 생성자가 된다. 물론, 어떤 자연수의 경우에는 생성자가 없을 수도 있다. 반대로, 생성자가 여러 개인 자연수도 있을 수 있다.    \n",
    "      \n",
    "자연수 N이 주어졌을 때, N의 가장 작은 생성자를 구해내는 프로그램을 작성하시오.      \n",
    "\n",
    "#### 입력  \n",
    "첫째 줄에 자연수 N(1 ≤ N ≤ 1,000,000)이 주어진다.   \n",
    "    \n",
    "#### 출력  \n",
    "첫째 줄에 답을 출력한다. 생성자가 없는 경우에는 0을 출력한다.    \n",
    "    \n",
    "#### 예제 \n",
    "[input]   \n",
    "216\n",
    "\n",
    "[output]    \n",
    "198\n",
    "\n",
    "#### 조건 \n",
    "- 시간제한 : 2초     \n",
    "- 메모리제한 : 192MB\n",
    "\n",
    "#### 알고리즘 분류 \n",
    "브루트포스"
   ]
  },
  {
   "cell_type": "code",
   "execution_count": null,
   "id": "c87713e1",
   "metadata": {},
   "outputs": [
    {
     "name": "stdout",
     "output_type": "stream",
     "text": [
      "198\n"
     ]
    }
   ],
   "source": [
    "import sys\n",
    "from itertools import combinations\n",
    "\n",
    "input=sys.stdin.readline\n",
    "xlist = []\n",
    "for _ in range(9):\n",
    "    xlist.append(int(input()))\n",
    "\n",
    "combi = list(combinations(xlist, 7))\n",
    "\n",
    "for lst in combi:\n",
    "if sum(lst)==100:\n",
    "    for i in sorted(list(lst)):\n",
    "        print(i)\n",
    "    break\n",
    "else:\n",
    "    continue\n",
    "    "
   ]
  }
 ],
 "metadata": {
  "kernelspec": {
   "display_name": "fastai_kernel",
   "language": "python",
   "name": "conda"
  },
  "language_info": {
   "codemirror_mode": {
    "name": "ipython",
    "version": 3
   },
   "file_extension": ".py",
   "mimetype": "text/x-python",
   "name": "python",
   "nbconvert_exporter": "python",
   "pygments_lexer": "ipython3",
   "version": "3.12.0"
  }
 },
 "nbformat": 4,
 "nbformat_minor": 5
}
