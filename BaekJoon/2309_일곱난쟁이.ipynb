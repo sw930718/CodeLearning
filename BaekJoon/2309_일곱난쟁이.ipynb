{
 "cells": [
  {
   "cell_type": "markdown",
   "id": "b31373f7",
   "metadata": {},
   "source": [
    "### 문제    \n",
    "https://www.acmicpc.net/problem/2309    \n",
    "_    \n",
    "왕비를 피해 일곱 난쟁이들과 함께 평화롭게 생활하고 있던 백설공주에게 위기가 찾아왔다.   \n",
    "일과를 마치고 돌아온 난쟁이가 일곱 명이 아닌 아홉 명이었던 것이다.    \n",
    "아홉 명의 난쟁이는 모두 자신이 백설 공주와 일곱 난쟁이의 주인공이라고 주장했다.     \n",
    "백설공주는, 다행스럽게도 일곱 난쟁이의 키의 합이 100이 됨을 기억해 냈다.      \n",
    "아홉 난쟁이의 키가 주어졌을 때, 백설공주를 도와 일곱 난쟁이를 찾는 프로그램을 작성하시오.      \n",
    "\n",
    "#### 입력  \n",
    "아홉 개의 줄에 걸쳐 난쟁이들의 키가 주어진다. 주어지는 키는 100을 넘지 않는 자연수이며, 아홉 난쟁이의 키는 모두 다르며, 가능한 정답이 여러 가지인 경우에는 아무거나 출력한다.   \n",
    "    \n",
    "#### 출력  \n",
    "일곱 난쟁이의 키를 오름차순으로 출력한다. 일곱 난쟁이를 찾을 수 없는 경우는 없다.    \n",
    "    \n",
    "#### 예제 \n",
    "[input]   \n",
    "20   \n",
    "7    \n",
    "23   \n",
    "19    \n",
    "10   \n",
    "15   \n",
    "25   \n",
    "8    \n",
    "13    \n",
    "\n",
    "[output]    \n",
    "7     \n",
    "8       \n",
    "10    \n",
    "13    \n",
    "19    \n",
    "20   \n",
    "23   \n",
    "\n",
    "#### 조건 \n",
    "- 시간제한 : 2초     \n",
    "- 메모리제한 : 192MB\n",
    "\n",
    "#### 알고리즘 분류 \n",
    "브루트포스"
   ]
  },
  {
   "cell_type": "code",
   "execution_count": null,
   "id": "c87713e1",
   "metadata": {},
   "outputs": [
    {
     "name": "stdout",
     "output_type": "stream",
     "text": [
      ""
     ]
    }
   ],
   "source": [
    "import sys\n",
    "from itertools import combinations\n",
    "\n",
    "input=sys.stdin.readline\n",
    "xlist = []\n",
    "for _ in range(9):\n",
    "    xlist.append(int(input()))\n",
    "\n",
    "combi = list(combinations(xlist, 7))\n",
    "\n",
    "for lst in combi:\n",
    "    if sum(lst)==100:\n",
    "        for i in sorted(list(lst)):\n",
    "            print(i)\n",
    "        break\n",
    "    else:\n",
    "        continue\n",
    "    "
   ]
  }
 ],
 "metadata": {
  "kernelspec": {
   "display_name": "fastai_kernel",
   "language": "python",
   "name": "conda"
  },
  "language_info": {
   "codemirror_mode": {
    "name": "ipython",
    "version": 3
   },
   "file_extension": ".py",
   "mimetype": "text/x-python",
   "name": "python",
   "nbconvert_exporter": "python",
   "pygments_lexer": "ipython3",
   "version": "3.12.0"
  }
 },
 "nbformat": 4,
 "nbformat_minor": 5
}
