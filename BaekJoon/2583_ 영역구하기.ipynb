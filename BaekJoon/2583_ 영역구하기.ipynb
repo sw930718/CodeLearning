{
 "cells": [
  {
   "cell_type": "markdown",
   "metadata": {},
   "source": [
    "https://www.acmicpc.net/problem/2583"
   ]
  },
  {
   "cell_type": "markdown",
   "metadata": {},
   "source": [
    "풀이1 ) 직사각형이 지나는 곳을 표시하고, BFS로 이동가능한 곳들 cnt*1(한칸의 직사각형넓이) 넓이 계산"
   ]
  },
  {
   "cell_type": "code",
   "execution_count": 2,
   "metadata": {},
   "outputs": [
    {
     "name": "stdout",
     "output_type": "stream",
     "text": [
      "3\n",
      "1 7 13 "
     ]
    }
   ],
   "source": [
    "import sys\n",
    "from collections import deque\n",
    "\n",
    "## input ##\n",
    "sys.stdin = open(\"input.txt\",\"r\") # 백준 제출전 삭제 \n",
    "\n",
    "input = sys.stdin.readline\n",
    "M, N, K = map(int, input().split()) \n",
    "dx = [0,0,1,-1]\n",
    "dy = [1,-1,0,0]\n",
    "answer = []\n",
    "graph = [[True for _ in range(N)] for _ in range(M)]\n",
    "\n",
    "## solve ##\n",
    "# 방문불가 영역 표시\n",
    "for i in range(K):\n",
    "    x1, y1, x2, y2 = map(int, input().split())\n",
    "    for i in range(x1,x2):\n",
    "        for j in range(y1,y2):\n",
    "            graph[j][i] = False\n",
    "\n",
    "# BFS 정의\n",
    "def BFS(x,y):\n",
    "    queue = deque()\n",
    "    queue.append([x,y])\n",
    "    graph[y][x] = False # 방문 처리\n",
    "\n",
    "    cnt = 1\n",
    "    while queue:\n",
    "        x, y = queue.popleft()\n",
    "        for i in range(4):\n",
    "            next_x = x + dx[i]\n",
    "            next_y = y + dy[i]\n",
    "            \n",
    "            if 0 <= next_x < N and 0 <= next_y < M: # 범위 확인\n",
    "                if graph[next_y][next_x] : # 방문 가능한지 확인\n",
    "                    graph[next_y][next_x] = False\n",
    "                    queue.append([next_x, next_y])\n",
    "                    cnt += 1\n",
    "    answer.append(cnt)\n",
    "\n",
    "# 모든 직사각형 돌며, 분리영역과 직사각형 넓이 계산 \n",
    "for i in range(N):\n",
    "    for j in range(M):\n",
    "        if graph[j][i] :\n",
    "            BFS(i, j)\n",
    "            \n",
    "answer.sort() # 각 영역의 넓이 오름차순 \n",
    "\n",
    "## answer ## \n",
    "print(len(answer)) # 나눠지는 영역 수 \n",
    "for cnt in answer:\n",
    "    print(cnt, end=' ') # 각 영역의 넓이 "
   ]
  }
 ],
 "metadata": {
  "interpreter": {
   "hash": "7b34b089ce0dfc9935940e0a22050b2949fa617f7a2b73925623c261bed16aeb"
  },
  "kernelspec": {
   "display_name": "Python 3.8.5 ('base')",
   "language": "python",
   "name": "python3"
  },
  "language_info": {
   "codemirror_mode": {
    "name": "ipython",
    "version": 3
   },
   "file_extension": ".py",
   "mimetype": "text/x-python",
   "name": "python",
   "nbconvert_exporter": "python",
   "pygments_lexer": "ipython3",
   "version": "3.8.5"
  },
  "orig_nbformat": 4
 },
 "nbformat": 4,
 "nbformat_minor": 2
}
