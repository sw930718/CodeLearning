{
 "cells": [
  {
   "cell_type": "markdown",
   "metadata": {},
   "source": [
    "### 문제    \n",
    "https://www.acmicpc.net/problem/12015  \n",
    "_    \n",
    "수열 A가 주어졌을 때, 가장 긴 증가하는 부분 수열을 구하는 프로그램을 작성하시오.  \n",
    "\n",
    "예를 들어, 수열 A = {10, 20, 10, 30, 20, 50} 인 경우에 가장 긴 증가하는 부분 수열은 A = {**10**, **20**, 10, **30**, 20, **50**} 이고, 길이는 4이다.     \n",
    "\n",
    "#### 입력  \n",
    "첫째 줄에 수열 A의 크기 N (1 ≤ N ≤ 1,000,000)이 주어진다.  \n",
    "둘째 줄에는 수열 A를 이루고 있는 Ai가 주어진다. (1 ≤ Ai ≤ 1,000,000)  \n",
    "\n",
    "#### 출력  \n",
    "첫째 줄에 수열 A의 가장 긴 증가하는 부분 수열의 길이를 출력한다.  \n",
    "\n",
    "#### 예제 \n",
    "[input1]   \n",
    "6  \n",
    "10 20 10 30 20 50  \n",
    "[output1]    \n",
    "4  \n",
    "\n",
    "[input2]  \n",
    "20  \n",
    "574 155 634 519 872 391 918 240 108 96 504 323 266 170 295 449 653 323 12 365  \n",
    "[output2]  \n",
    "6  \n",
    "\n",
    "[input3]   \n",
    "5   \n",
    "3 5 2 6 1   \n",
    "[output3]    \n",
    "3  \n",
    "\n",
    "#### 조건 \n",
    "- 시간제한 : 1초     \n",
    "- 메모리제한 : 512MB\n",
    "\n",
    "#### 알고리즘 분류 \n",
    "DP, 이분탐색   "
   ]
  },
  {
   "cell_type": "markdown",
   "metadata": {},
   "source": [
    "풀이1 ) [오답] 여러가지의 증가하는 부분수열이 존재하는데 해당 코드는 첫번째 값을 시작으로 값이 앞에것 보다 크면 카운트     \n",
    "- 반례   \n",
    "ex) N=20, NList=[574,155,634,519,872,391,918,240,108,96,504,323,266,170,295,449,653,323,12,365]      \n",
    "       \n",
    "    이 코드로 나오는 수열 : {574,634,872,918} / 길이=4        \n",
    "    정답 수열 : {155,240,266,295,323,365} / 길이=6    \n"
   ]
  },
  {
   "cell_type": "code",
   "execution_count": 3,
   "metadata": {},
   "outputs": [
    {
     "name": "stdout",
     "output_type": "stream",
     "text": [
      "4\n"
     ]
    }
   ],
   "source": [
    "N=int(input())\n",
    "NList=list(map(int,input().split()))\n",
    "\n",
    "value=0\n",
    "cnt=0\n",
    "\n",
    "for i in NList:\n",
    "    if i > value:\n",
    "        value=i\n",
    "        cnt+=1\n",
    "\n",
    "print(cnt)"
   ]
  },
  {
   "cell_type": "markdown",
   "metadata": {},
   "source": [
    "풀이2 ) [오답] 수학에서 말하는 등차수열 이여야 하는줄 알았음 & 위와 동일하게 여러 경우가 나온다는걸 고려X"
   ]
  },
  {
   "cell_type": "code",
   "execution_count": 4,
   "metadata": {},
   "outputs": [
    {
     "name": "stdout",
     "output_type": "stream",
     "text": [
      "3\n"
     ]
    }
   ],
   "source": [
    "from collections import Counter\n",
    "N=int(input())\n",
    "NList=list(map(int,input().split()))\n",
    "\n",
    "NList=list(set(NList))\n",
    "NList.sort()\n",
    "\n",
    "seq=[]\n",
    "    \n",
    "for i in range(len(NList)-1):\n",
    "    seq.append(NList[i+1]-NList[i])\n",
    "    \n",
    "cnt=Counter(seq).most_common()[0][1] # 가장 많은 값의 개수 \n",
    "print(cnt+1)"
   ]
  },
  {
   "cell_type": "markdown",
   "metadata": {},
   "source": [
    "풀이3 ) [시간초과/시간제한없으면정답] LIS(Longest Increasing Subsequence)문제를 푸는 방법 - DP _O(N^2)의 시간복잡도 알고리즘  \n",
    "-> 수열을 차례로 탐색 O(N) * 이전의 원소들을 차례로 탐색 O(N)   \n",
    "(풀이참고:https://rebro.kr/33)"
   ]
  },
  {
   "cell_type": "code",
   "execution_count": 58,
   "metadata": {},
   "outputs": [
    {
     "name": "stdout",
     "output_type": "stream",
     "text": [
      "input배열: [574, 155, 634, 519, 872, 391, 918, 240, 108, 96, 504, 323, 266, 170, 295, 449, 653, 323, 12, 365]\n",
      "배열내 원소들의 levels: [1, 1, 2, 2, 3, 2, 4, 2, 1, 1, 3, 3, 3, 2, 4, 5, 6, 5, 1, 6]\n",
      "6\n"
     ]
    }
   ],
   "source": [
    "N=int(input())\n",
    "NList=list(map(int,input().split()))\n",
    "\n",
    "# 1. 수열의 길이와 같은 DP 배열 생성 \n",
    "d=[1]*N \n",
    "\n",
    "# 2. 수열 탐색\n",
    "for i in range(1,N): # NList 원소 차례로 확인  \n",
    "    value=0\n",
    "    for j in range(i): # 해당 NList 원소보다 작고 중복되지않는 이전 원소들의 개수 파악  \n",
    "        if NList[i]>NList[j] and value<d[j]: # 이전 원소가 해당 원소보다 작으면서, level이 이전보다 높을때 \n",
    "            value=d[j]  \n",
    "    d[i]=value+1 # 그 이전 level 보다 +1 더한값을 level로 설정 \n",
    "    \n",
    "'''\n",
    "print(\"input배열:\",NList) \n",
    "print(\"배열내 원소들의 levels:\",d)\n",
    "'''\n",
    "# answer\n",
    "print(max(d))"
   ]
  },
  {
   "cell_type": "markdown",
   "metadata": {},
   "source": [
    "풀이4 ) LIS 문제를 푸는 방법(길이만) - DP+이분탐색 _O(NlogN)의 시간복잡도 알고리즘   \n",
    "-> lower_bound 방식 : 수열을 차례로 탐색하며 O(N)* 마지막 원소와 탐색값 비교하여 대체(이분탐색) O(logN)   \n",
    "(풀이참고:https://rebro.kr/33)   "
   ]
  },
  {
   "cell_type": "code",
   "execution_count": 37,
   "metadata": {},
   "outputs": [
    {
     "name": "stdout",
     "output_type": "stream",
     "text": [
      "input배열: [3, 5, 2, 6, 1]\n",
      "정답으로 구한 가장긴증가하는수열: [1, 5, 6]\n",
      "3\n"
     ]
    }
   ],
   "source": [
    "from bisect import bisect_left \n",
    "N=int(input())\n",
    "NList=list(map(int,input().split()))\n",
    "\n",
    "length=[NList[0]]\n",
    "for num in NList[1:]:\n",
    "    if num<=length[-1]:\n",
    "        length[bisect_left(length,num)]=num\n",
    "    else:\n",
    "        length.append(num)\n",
    "        \n",
    "\n",
    "print(\"input배열:\",NList) \n",
    "print(\"정답으로 구한 가장긴증가하는수열:\",length) # 길이는 정답이 맞지만, 수열은 정답이 아님 \n",
    "\n",
    "# answer     \n",
    "print(len(length))        "
   ]
  },
  {
   "cell_type": "markdown",
   "metadata": {},
   "source": [
    "풀이5 ) LIS 문제를 푸는 방법(길이&수열) - DP+이분탐색 _O(NlogN)의 시간복잡도 알고리즘     \n",
    "-> 풀이4와 동일하게 풀되, 각 원소의 length배열에서의 index값을 배열에 저장. 배열에서 ~ 2,1,0 뒤에서부터 순차에 따라 원래 원소값을 수열로 반환    \n",
    "(뒤에서부터 순차로 가야지 다음 예제와 같이 50 40 20 30 40의 level 배열이 [0,0,0,1,2]인 경우에서 정답수열이 [20,30,40]이 나옴)    \n",
    "(풀이참고:https://rebro.kr/33)   "
   ]
  },
  {
   "cell_type": "code",
   "execution_count": 46,
   "metadata": {},
   "outputs": [
    {
     "name": "stdout",
     "output_type": "stream",
     "text": [
      "index 배열: [1, 1, 2, 2, 3, 2, 4, 2, 1, 1, 3, 3, 3, 2, 4, 5, 6, 5, 1, 6]\n",
      "정답 수열: [155, 240, 266, 295, 323, 365]\n",
      "6\n"
     ]
    }
   ],
   "source": [
    "from bisect import bisect_left \n",
    "\n",
    "N=int(input())\n",
    "NList=list(map(int,input().split()))\n",
    "\n",
    "length=[NList[0]] # 길이만 정답인 수열 \n",
    "idx_seq=[1] # 당연히 값이 하나일때 그 값은 첫번째에 위치  \n",
    "\n",
    "for num in NList[1:]:\n",
    "    if num<=length[-1]:\n",
    "        idx=bisect_left(length,num)\n",
    "        length[idx]=num\n",
    "        idx_seq.append((idx+1))\n",
    "    else:\n",
    "        length.append(num)\n",
    "        idx_seq.append(len(length))\n",
    "\n",
    "print(\"index 배열:\", idx_seq)\n",
    "\n",
    "num = len(length)\n",
    "ansList=[]\n",
    "# index 배열 뒤에서부터 큰 값들을 내림차순으로 선택하고 그 위치의 값들이 우리가 구하고자 하는 LIS  \n",
    "for i in range(N-1,-1,-1): # N-1, N-2, ..., 0 \n",
    "    if idx_seq[i] == num:\n",
    "        ansList.append(NList[i])\n",
    "        num-=1\n",
    "\n",
    "answer_seq=list(reversed(ansList))\n",
    "print(\"정답 수열:\", answer_seq) # 정답인 수열   \n",
    "print(len(answer_seq))"
   ]
  }
 ],
 "metadata": {
  "interpreter": {
   "hash": "7b34b089ce0dfc9935940e0a22050b2949fa617f7a2b73925623c261bed16aeb"
  },
  "kernelspec": {
   "display_name": "Python 3 (ipykernel)",
   "language": "python",
   "name": "python3"
  },
  "language_info": {
   "codemirror_mode": {
    "name": "ipython",
    "version": 3
   },
   "file_extension": ".py",
   "mimetype": "text/x-python",
   "name": "python",
   "nbconvert_exporter": "python",
   "pygments_lexer": "ipython3",
   "version": "3.8.5"
  }
 },
 "nbformat": 4,
 "nbformat_minor": 2
}
