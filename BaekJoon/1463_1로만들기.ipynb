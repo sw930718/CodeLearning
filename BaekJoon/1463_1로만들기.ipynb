{
 "cells": [
  {
   "cell_type": "markdown",
   "metadata": {},
   "source": [
    "### 문제    \n",
    "https://www.acmicpc.net/problem/1463    \n",
    "_    \n",
    "정수 X에 사용할 수 있는 연산은 다음과 같이 세 가지 이다.     \n",
    "    \n",
    "1. X가 3으로 나누어 떨어지면, 3으로 나눈다.    \n",
    "2. X가 2로 나누어 떨어지면, 2로 나눈다.    \n",
    "3. 1을 뺀다.   \n",
    "정수 N이 주어졌을 때, 위와 같은 연산 세 개를 적절히 사용해서 1을 만들려고 한다. 연산을 사용하는 횟수의 최솟값을 출력하시오.      \n",
    "\n",
    "#### 입력  \n",
    "첫째 줄에 1보다 크거나 같고, 106보다 작거나 같은 정수 N이 주어진다.   \n",
    "\n",
    "#### 출력  \n",
    "첫째 줄에 연산을 하는 횟수의 최솟값을 출력한다.    \n",
    "\n",
    "#### 예제 \n",
    "[input]   \n",
    "10   \n",
    "\n",
    "[output]    \n",
    "3   \n",
    "\n",
    "#### 조건 \n",
    "- 시간제한 : 1.5초 (python3 기준)      \n",
    "- 메모리제한 : 128MB   \n",
    "\n",
    "#### 출처   "
   ]
  },
  {
   "cell_type": "markdown",
   "metadata": {},
   "source": [
    "풀이1 ) DP문제를 Bottom-up 방식으로 해결. 1 ~ N까지의 연산 사용 최소 횟수 구하여 N의 정답값 도출"
   ]
  },
  {
   "cell_type": "code",
   "execution_count": 6,
   "metadata": {},
   "outputs": [
    {
     "name": "stdout",
     "output_type": "stream",
     "text": [
      "3\n"
     ]
    }
   ],
   "source": [
    "N=int(input())\n",
    "\n",
    "d=[0]*(N+1) # d[0]은 안 씀  \n",
    "\n",
    "for i in range(2,N+1): # Bottom-up 방식으로 1~N까지의 연산사용 최소 횟수 구하기  \n",
    "    if (i%2 == 0 and i%3 != 0):\n",
    "        d[i] = min(d[i//2], d[i-1]) + 1 # 2로 나누었을때와 -1을 했을때 중 연산 최소 횟수에 1회 추가\n",
    "    elif (i%2 != 0 and i%3 == 0):\n",
    "        d[i] = min(d[i//3], d[i-1]) + 1 # 3로 나누었을때와 -1을 했을때 중 연산 최소 횟수에 1회 추가\n",
    "    elif (i%2 == 0 and i%3 == 0):\n",
    "        d[i] = min(d[i//3], d[i//2], d[i-1]) + 1 # 3 or 2로 나누었을때와 -1을 했을때 중 연산 최소 횟수에 1회 추가\n",
    "    else:\n",
    "        d[i] = d[i-1]+1 # -1을 했을때의 연산 횟수에 1회 추가\n",
    "        \n",
    "print(d[N])"
   ]
  }
 ],
 "metadata": {
  "interpreter": {
   "hash": "7b34b089ce0dfc9935940e0a22050b2949fa617f7a2b73925623c261bed16aeb"
  },
  "kernelspec": {
   "display_name": "Python 3.8.5 ('base')",
   "language": "python",
   "name": "python3"
  },
  "language_info": {
   "codemirror_mode": {
    "name": "ipython",
    "version": 3
   },
   "file_extension": ".py",
   "mimetype": "text/x-python",
   "name": "python",
   "nbconvert_exporter": "python",
   "pygments_lexer": "ipython3",
   "version": "3.8.5"
  },
  "orig_nbformat": 4
 },
 "nbformat": 4,
 "nbformat_minor": 2
}
