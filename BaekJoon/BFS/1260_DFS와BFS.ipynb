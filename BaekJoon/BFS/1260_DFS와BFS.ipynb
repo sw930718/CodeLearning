{
 "cells": [
  {
   "cell_type": "markdown",
   "metadata": {},
   "source": [
    "### 문제    \n",
    "//문제링크\n",
    "_    \n",
    "//문제설명    \n",
    "\n",
    "#### 입력  \n",
    "//입력설명 \n",
    "\n",
    "#### 출력  \n",
    "//출력설명 \n",
    "\n",
    "#### 예제 \n",
    "[input]   \n",
    "//입력값\n",
    "\n",
    "[output]    \n",
    "//출력값\n",
    "\n",
    "#### 조건 \n",
    "- 시간제한 : *초     \n",
    "- 메모리제한 : *MB\n",
    "\n",
    "#### 알고리즘 분류 \n",
    "//태그 작성   "
   ]
  },
  {
   "cell_type": "markdown",
   "metadata": {},
   "source": [
    "풀이1 ) //구현 아이디어"
   ]
  },
  {
   "cell_type": "code",
   "execution_count": 5,
   "metadata": {},
   "outputs": [
    {
     "name": "stdout",
     "output_type": "stream",
     "text": [
      "* [[], [5, 4], [5, 2], [1, 2], [3, 4], [3, 1]]\n",
      "3 1 5 4 2 3 1 2 5 4 "
     ]
    }
   ],
   "source": [
    "from collections import deque\n",
    "\n",
    "N,M,V=map(int,input().split())\n",
    "connect=[[]]\n",
    "for _ in range(M):\n",
    "    connect.append(list(map(int, input().split())))\n",
    "print(\"*\",connect)\n",
    "#DFS\n",
    "def dfs(graph, v, visited):\n",
    "    visited[v] = True\n",
    "    print(v, end=' ')\n",
    "    for i in graph[v]:\n",
    "        if not visited[i]:\n",
    "            dfs(graph, i , visited)\n",
    "    \n",
    "#BFS\n",
    "def bfs(graph, start, visited):\n",
    "    queue = deque([start])\n",
    "    visited[start] = True\n",
    "    while queue:\n",
    "        v=queue.popleft()\n",
    "        print(v, end=' ')\n",
    "        for i in graph[v]:\n",
    "            if not visited[i]:\n",
    "                queue.append(i)\n",
    "                visited[i] = True\n",
    "                \n",
    "visited_dfs=[False]*(M+1)\n",
    "visited_bfs=[False]*(M+1)\n",
    "\n",
    "dfs(connect, V, visited_dfs)\n",
    "bfs(connect, V, visited_bfs)"
   ]
  }
 ],
 "metadata": {
  "interpreter": {
   "hash": "7b34b089ce0dfc9935940e0a22050b2949fa617f7a2b73925623c261bed16aeb"
  },
  "kernelspec": {
   "display_name": "Python 3.8.5 ('base')",
   "language": "python",
   "name": "python3"
  },
  "language_info": {
   "codemirror_mode": {
    "name": "ipython",
    "version": 3
   },
   "file_extension": ".py",
   "mimetype": "text/x-python",
   "name": "python",
   "nbconvert_exporter": "python",
   "pygments_lexer": "ipython3",
   "version": "3.8.5"
  },
  "orig_nbformat": 4
 },
 "nbformat": 4,
 "nbformat_minor": 2
}
