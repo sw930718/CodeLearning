{
 "cells": [
  {
   "cell_type": "markdown",
   "metadata": {},
   "source": [
    "https://www.acmicpc.net/problem/16918"
   ]
  },
  {
   "cell_type": "markdown",
   "metadata": {},
   "source": [
    "풀이1 ) //구현 아이디어"
   ]
  },
  {
   "cell_type": "code",
   "execution_count": 57,
   "metadata": {},
   "outputs": [],
   "source": [
    "import sys\n",
    "sys.stdin = open(\"input.txt\",\"r\")\n",
    "input=sys.stdin.readline\n",
    "\n",
    "# input\n",
    "R, C, N = map(int, input().split())\n",
    "arr = [list(map(str, input().rstrip())) for _ in range(R)]"
   ]
  },
  {
   "cell_type": "code",
   "execution_count": 58,
   "metadata": {},
   "outputs": [
    {
     "name": "stdout",
     "output_type": "stream",
     "text": [
      "O.O.O.O\n",
      ".O.O.O.\n",
      "O.O.O.O\n",
      ".O.O.O.\n",
      "O.O.O.O\n",
      ".O.O.OO\n"
     ]
    }
   ],
   "source": [
    "import copy\n",
    "\n",
    "# solve\n",
    "all = [['O']*C for _ in range(R)]\n",
    "last = []\n",
    "\n",
    "def bomb(last):\n",
    "    new = copy.deepcopy(last)\n",
    "    # passing = list()\n",
    "    \n",
    "    for i in range(R):\n",
    "        for j in range(C):\n",
    "            if new[i][j] == '.':\n",
    "                new[i][j] = 'O'\n",
    "            else:\n",
    "                new[i][j] == '.'\n",
    "                if 0 <= j-1:\n",
    "                    new[i][j-1] = '.'\n",
    "                if j+1 < C:\n",
    "                    new[i][j+1] = '.'\n",
    "                if 0 <= i-1:\n",
    "                    new[i-1][j] = '.'\n",
    "                if i+1 < R:\n",
    "                    new[i+1][j] = '.' \n",
    "                # passing.append((i,j-1),..)\n",
    "                \n",
    "    return new\n",
    "    \n",
    "\n",
    "if N % 2 == 0:\n",
    "    answer = all \n",
    "else:\n",
    "    last = copy.deepcopy(arr)\n",
    "    for _ in range(1, N//2+1):\n",
    "        last = bomb(last)\n",
    "    answer = last\n",
    "    \n",
    "for i in range(R):\n",
    "    print(''.join(answer[i]))\n",
    "    "
   ]
  },
  {
   "cell_type": "code",
   "execution_count": 13,
   "metadata": {},
   "outputs": [
    {
     "data": {
      "text/plain": [
       "[['O', 'O', 'O', '.', '.', '.', '.'],\n",
       " ['O', 'O', 'O', 'O', '.', '.', '.'],\n",
       " ['O', 'O', 'O', '.', 'O', '.', '.'],\n",
       " ['.', 'O', 'O', '.', '.', '.', '.'],\n",
       " ['O', '.', 'O', '.', '.', '.', '.'],\n",
       " ['.', 'O', '.', '.', '.', '.', '.']]"
      ]
     },
     "execution_count": 13,
     "metadata": {},
     "output_type": "execute_result"
    }
   ],
   "source": [
    "arr"
   ]
  },
  {
   "cell_type": "code",
   "execution_count": 5,
   "metadata": {},
   "outputs": [
    {
     "data": {
      "text/plain": [
       "[[0, 0, 0, 0, 0, 0, 0],\n",
       " [0, 0, 1, 0, 0, 0, 0],\n",
       " [0, 0, 0, 0, 0, 0, 0],\n",
       " [0, 0, 0, 0, 0, 0, 0],\n",
       " [0, 0, 0, 0, 0, 0, 0],\n",
       " [0, 0, 0, 0, 0, 0, 0]]"
      ]
     },
     "execution_count": 5,
     "metadata": {},
     "output_type": "execute_result"
    }
   ],
   "source": []
  },
  {
   "cell_type": "code",
   "execution_count": null,
   "metadata": {},
   "outputs": [],
   "source": []
  }
 ],
 "metadata": {
  "interpreter": {
   "hash": "7b34b089ce0dfc9935940e0a22050b2949fa617f7a2b73925623c261bed16aeb"
  },
  "kernelspec": {
   "display_name": "Python 3.8.5 ('base')",
   "language": "python",
   "name": "python3"
  },
  "language_info": {
   "codemirror_mode": {
    "name": "ipython",
    "version": 3
   },
   "file_extension": ".py",
   "mimetype": "text/x-python",
   "name": "python",
   "nbconvert_exporter": "python",
   "pygments_lexer": "ipython3",
   "version": "3.8.5"
  },
  "orig_nbformat": 4
 },
 "nbformat": 4,
 "nbformat_minor": 2
}
