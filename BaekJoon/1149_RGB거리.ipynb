{
 "cells": [
  {
   "cell_type": "markdown",
   "metadata": {},
   "source": [
    "문제링크     \n"
   ]
  },
  {
   "cell_type": "markdown",
   "metadata": {},
   "source": [
    "풀이1 ) 코드 구현 "
   ]
  },
  {
   "cell_type": "markdown",
   "metadata": {},
   "source": [
    "문제사항 : 첫 번째 집의 색을 정한 후 이후의 전략을 다른 두 색 중 최솟값으로 지정하는 것이 최적이 되는 것은 아님     \n",
    "반례 :     \n",
    "4     \n",
    "1 1 1     \n",
    "1 1 1    \n",
    "2 1 2    \n",
    "9 1 9    \n",
    "      \n",
    "정답: 5     \n",
    "틀린답: 12"
   ]
  },
  {
   "cell_type": "code",
   "execution_count": 20,
   "metadata": {},
   "outputs": [
    {
     "name": "stdout",
     "output_type": "stream",
     "text": [
      "12\n"
     ]
    }
   ],
   "source": [
    "# input\n",
    "houseCnt = int(input())\n",
    "paintingCost = []\n",
    "for _ in range(houseCnt):\n",
    "    paintingCost.append(list(map(int, input().split())))\n",
    "    \n",
    "# solve\n",
    "min_cost=[]\n",
    "\n",
    "for i in range(3): # color 수 = 3\n",
    "    cost = 0\n",
    "    cost += paintingCost[0][i]\n",
    "    for j in range(1,houseCnt):\n",
    "        lst=[0,1,2]\n",
    "        lst.pop(i)\n",
    "        min_value = min(paintingCost[j][lst[0]], paintingCost[j][lst[1]])\n",
    "        cost += min_value\n",
    "        i = paintingCost[j].index(min_value) # i : 선택 color 갱신 \n",
    "        \n",
    "    min_cost.append(cost)\n",
    "    \n",
    "print(min(min_cost))"
   ]
  },
  {
   "cell_type": "markdown",
   "metadata": {},
   "source": [
    "풀이 2) DP로 풀기"
   ]
  },
  {
   "cell_type": "code",
   "execution_count": 2,
   "metadata": {},
   "outputs": [
    {
     "name": "stdout",
     "output_type": "stream",
     "text": [
      "5\n"
     ]
    }
   ],
   "source": [
    "# input\n",
    "houseCnt = int(input())\n",
    "paintingCost = []\n",
    "for _ in range(houseCnt):\n",
    "    paintingCost.append(list(map(int, input().split())))\n",
    "\n",
    "# solve   \n",
    "for i in range(1, houseCnt): # i와 i-1의 색이 달라함을 이용\n",
    "    paintingCost[i][0] = paintingCost[i][0] + min(paintingCost[i - 1][1], paintingCost[i - 1][2])\n",
    "    paintingCost[i][1] = paintingCost[i][1] + min(paintingCost[i - 1][0], paintingCost[i - 1][2])\n",
    "    paintingCost[i][2] = paintingCost[i][2] + min(paintingCost[i - 1][0], paintingCost[i - 1][1])\n",
    "\n",
    "print(min(paintingCost[(houseCnt-1)]))"
   ]
  }
 ],
 "metadata": {
  "interpreter": {
   "hash": "7b34b089ce0dfc9935940e0a22050b2949fa617f7a2b73925623c261bed16aeb"
  },
  "kernelspec": {
   "display_name": "Python 3.8.5 ('base')",
   "language": "python",
   "name": "python3"
  },
  "language_info": {
   "codemirror_mode": {
    "name": "ipython",
    "version": 3
   },
   "file_extension": ".py",
   "mimetype": "text/x-python",
   "name": "python",
   "nbconvert_exporter": "python",
   "pygments_lexer": "ipython3",
   "version": "3.8.5"
  },
  "orig_nbformat": 4
 },
 "nbformat": 4,
 "nbformat_minor": 2
}
