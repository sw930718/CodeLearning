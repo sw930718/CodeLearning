{
 "cells": [
  {
   "cell_type": "code",
   "execution_count": null,
   "id": "334e0012",
   "metadata": {},
   "outputs": [
    {
     "name": "stdout",
     "output_type": "stream",
     "text": [
      "1\n"
     ]
    }
   ],
   "source": [
    "import sys\n",
    "\n",
    "# input = sys.stdin.readline\n",
    "N, M = map(int, input().split())\n",
    "board = []\n",
    "for _ in range(N):\n",
    "   board.append(list(input()))\n",
    "\n",
    "right = [\n",
    "  'WBWBWBWB',\n",
    "  'BWBWBWBW',\n",
    "  'WBWBWBWB',\n",
    "  'BWBWBWBW',\n",
    "  'WBWBWBWB',\n",
    "  'BWBWBWBW',\n",
    "  'WBWBWBWB',\n",
    "  'BWBWBWBW'\n",
    "]\n",
    "\n",
    "def differcnt(origin, row, col):\n",
    "    cnt = 0\n",
    "    for i in range(8):\n",
    "       for j in range(8):\n",
    "          if origin[row+i][col+j] != right[i][j]:\n",
    "             cnt += 1\n",
    "    return min(cnt, 64 - cnt)\n",
    "\n",
    "maxcnt = 64\n",
    "for i in range(N - 7):\n",
    "   for j in range(M - 7):\n",
    "        change_cnt = differcnt(board, i, j)\n",
    "        maxcnt = min(maxcnt, change_cnt)\n",
    "\n",
    "print(maxcnt)"
   ]
  }
 ],
 "metadata": {
  "kernelspec": {
   "display_name": "fastai_kernel",
   "language": "python",
   "name": "conda"
  },
  "language_info": {
   "codemirror_mode": {
    "name": "ipython",
    "version": 3
   },
   "file_extension": ".py",
   "mimetype": "text/x-python",
   "name": "python",
   "nbconvert_exporter": "python",
   "pygments_lexer": "ipython3",
   "version": "3.12.0"
  }
 },
 "nbformat": 4,
 "nbformat_minor": 5
}
