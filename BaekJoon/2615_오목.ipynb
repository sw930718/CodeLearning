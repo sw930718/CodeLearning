{
 "cells": [
  {
   "cell_type": "code",
   "execution_count": 6,
   "metadata": {},
   "outputs": [
    {
     "name": "stdout",
     "output_type": "stream",
     "text": [
      "1\n",
      "3 2\n"
     ]
    }
   ],
   "source": [
    "import sys\n",
    "\n",
    "sys.stdin = open(\"input.txt\",\"r\") # 백준 제출전 삭제 \n",
    "input = sys.stdin.readline\n",
    "\n",
    "board = []\n",
    "for i in range(19):\n",
    "    board.append(list(map(int, input().split())))\n",
    "\n",
    "# → ↓ ↘ ↗\n",
    "dx = [0, 1, 1, -1]\n",
    "dy = [1, 0, 1, 1]\n",
    "\n",
    "for x in range(19):\n",
    "    for y in range(19):\n",
    "        if board[x][y] != 0:\n",
    "            focus = board[x][y]\n",
    "\n",
    "            for i in range(4):\n",
    "                cnt = 1\n",
    "                nx = x + dx[i]\n",
    "                ny = y + dy[i]\n",
    "\n",
    "                while 0 <= nx < 19 and 0 <= ny < 19 and board[nx][ny] == focus:\n",
    "                    cnt += 1\n",
    "\n",
    "                    if cnt == 5:\n",
    "                        # 육목 체크\n",
    "                        if 0 <= x - dx[i] < 19 and 0 <= y - dy[i] < 19 and board[x - dx[i]][y - dy[i]] == focus:\n",
    "                            break\n",
    "                        if 0 <= nx + dx[i] < 19 and 0 <= ny + dy[i] < 19 and board[nx + dx[i]][ny + dy[i]] == focus:\n",
    "                            break\n",
    "                        # 육목이 아니면 성공한거니까 종료\n",
    "                        print(focus)\n",
    "                        print(x + 1, y + 1)\n",
    "                        \n",
    "\n",
    "                    nx += dx[i]\n",
    "                    ny += dy[i]\n"
   ]
  },
  {
   "cell_type": "code",
   "execution_count": null,
   "metadata": {},
   "outputs": [],
   "source": []
  }
 ],
 "metadata": {
  "interpreter": {
   "hash": "d70dc010d58f8e16f84cfefada5d11f16d485d3f17810ef751c3ea5808ebf750"
  },
  "kernelspec": {
   "display_name": "Python 3.9.16 64-bit ('3.9.16')",
   "language": "python",
   "name": "python3"
  },
  "language_info": {
   "codemirror_mode": {
    "name": "ipython",
    "version": 3
   },
   "file_extension": ".py",
   "mimetype": "text/x-python",
   "name": "python",
   "nbconvert_exporter": "python",
   "pygments_lexer": "ipython3",
   "version": "3.9.16"
  },
  "orig_nbformat": 4
 },
 "nbformat": 4,
 "nbformat_minor": 2
}
