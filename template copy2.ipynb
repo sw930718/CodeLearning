{
 "cells": [
  {
   "cell_type": "markdown",
   "metadata": {},
   "source": [
    "### 문제    \n",
    "//문제링크\n",
    "_    \n",
    "//문제설명    \n",
    "\n",
    "#### 입력  \n",
    "//입력설명 \n",
    "\n",
    "#### 출력  \n",
    "//출력설명 \n",
    "\n",
    "#### 예제 \n",
    "[input]   \n",
    "//입력값\n",
    "\n",
    "[output]    \n",
    "//출력값\n",
    "\n",
    "#### 조건 \n",
    "- 시간제한 : *초     \n",
    "- 메모리제한 : *MB\n",
    "\n",
    "#### 알고리즘 분류 \n",
    "//태그 작성   "
   ]
  },
  {
   "cell_type": "markdown",
   "metadata": {},
   "source": [
    "풀이1 ) //구현 아이디어"
   ]
  },
  {
   "cell_type": "code",
   "execution_count": 32,
   "metadata": {},
   "outputs": [
    {
     "data": {
      "text/plain": [
       "[-3, -6, -7]"
      ]
     },
     "execution_count": 32,
     "metadata": {},
     "output_type": "execute_result"
    }
   ],
   "source": [
    "[ i*(-1) for i in [3,6,7]]"
   ]
  },
  {
   "cell_type": "markdown",
   "metadata": {},
   "source": [
    "3(4)7(8)15 31\n",
    "15=ㅁ*a+b\n",
    "7=ㅇ*a+b\n",
    "8=15-7 = (ㅁ-ㅇ)*a"
   ]
  },
  {
   "cell_type": "code",
   "execution_count": 44,
   "metadata": {},
   "outputs": [
    {
     "name": "stdout",
     "output_type": "stream",
     "text": [
      "[]\n",
      "B\n"
     ]
    }
   ],
   "source": [
    "N = int(input())\n",
    "numarr = list(map(int, input().split()))\n",
    "\n",
    "def prime_factors(n): # 소인수분해 \n",
    "    factors = []\n",
    "    i = 2\n",
    "    while i <= n:\n",
    "        if n % i == 0:\n",
    "            factors.append(i)\n",
    "            n = n / i\n",
    "        else:\n",
    "            i = i + 1\n",
    "    return factors\n",
    "\n",
    "def function1(possible, N):\n",
    "    answer = []\n",
    "    for ab in possible:\n",
    "        for i in range(N-1):\n",
    "            if numarr[i+1] != numarr[i]*ab[0]+ab[1] :\n",
    "                return list()\n",
    "        answer.append(ab)\n",
    "    return answer\n",
    "\n",
    "if N==1 or (N==2 and numarr[0]!=numarr[1]): # 주어진 숫자가 1개거나 2 숫자가 주어졌는데 값이 다른 경우\n",
    "    print(\"A\")\n",
    "elif numarr[0]==numarr[1]:\n",
    "    print(numarr[0])       \n",
    "else:\n",
    "    possible=[]\n",
    "    temp = list(set(prime_factors(abs(numarr[2]-numarr[1]))))\n",
    "    prime_nums = [-1,0,1] + temp + [i*(-1) for i in temp]\n",
    "    \n",
    "    for a in prime_nums:\n",
    "        b = numarr[2]-(numarr[1]*a)\n",
    "        if numarr[1] == (numarr[0]*a + b) :\n",
    "            possible.append((a, b))\n",
    "    print(possible)\n",
    "\n",
    "    if len(possible):\n",
    "        answer = list(set(function1(possible, N)))\n",
    "        \n",
    "        if len(answer) == 0 :\n",
    "            print(\"B\")\n",
    "        elif len(answer) == 1 : \n",
    "            print(numarr[-1]*answer[0][0]+answer[0][1])\n",
    "        else:\n",
    "            print(\"A\")\n",
    "    else:\n",
    "        print(\"B\")    "
   ]
  },
  {
   "cell_type": "code",
   "execution_count": 45,
   "metadata": {},
   "outputs": [
    {
     "data": {
      "text/plain": [
       "[2, 3, 13]"
      ]
     },
     "execution_count": 45,
     "metadata": {},
     "output_type": "execute_result"
    }
   ],
   "source": [
    "prime_factors(78)"
   ]
  },
  {
   "cell_type": "code",
   "execution_count": 7,
   "metadata": {},
   "outputs": [
    {
     "data": {
      "text/plain": [
       "[3]"
      ]
     },
     "execution_count": 7,
     "metadata": {},
     "output_type": "execute_result"
    }
   ],
   "source": [
    "list(set(prime_factors(9)))"
   ]
  },
  {
   "cell_type": "code",
   "execution_count": null,
   "metadata": {},
   "outputs": [],
   "source": []
  }
 ],
 "metadata": {
  "interpreter": {
   "hash": "7b34b089ce0dfc9935940e0a22050b2949fa617f7a2b73925623c261bed16aeb"
  },
  "kernelspec": {
   "display_name": "Python 3.8.5 ('base')",
   "language": "python",
   "name": "python3"
  },
  "language_info": {
   "codemirror_mode": {
    "name": "ipython",
    "version": 3
   },
   "file_extension": ".py",
   "mimetype": "text/x-python",
   "name": "python",
   "nbconvert_exporter": "python",
   "pygments_lexer": "ipython3",
   "version": "3.8.5"
  },
  "orig_nbformat": 4
 },
 "nbformat": 4,
 "nbformat_minor": 2
}
