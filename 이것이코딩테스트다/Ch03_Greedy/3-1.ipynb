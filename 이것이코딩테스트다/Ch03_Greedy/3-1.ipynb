{
 "cells": [
  {
   "cell_type": "code",
   "execution_count": 5,
   "metadata": {},
   "outputs": [],
   "source": [
    "# 본인이 작성한 코드 \n",
    "def solution(N):\n",
    "    won500=N//500 #500원 갯수\n",
    "    won100=(N%500)//100 #100원 갯수\n",
    "    won50=(N%500%100)//50 #50원 갯수\n",
    "    won10=(N%500%100%50)//10 #10원 갯수\n",
    "    \n",
    "    return (won500+won100+won50+won10)"
   ]
  },
  {
   "cell_type": "code",
   "execution_count": 8,
   "metadata": {},
   "outputs": [],
   "source": [
    "# 추천 코드\n",
    "def solution(N):\n",
    "    count=0\n",
    "    list = [500, 100, 50, 10]\n",
    "    \n",
    "    for won in list:\n",
    "       count += N//won\n",
    "       N %= won\n",
    "       \n",
    "    return count"
   ]
  }
 ],
 "metadata": {
  "interpreter": {
   "hash": "31f2aee4e71d21fbe5cf8b01ff0e069b9275f58929596ceb00d14d90e3e16cd6"
  },
  "kernelspec": {
   "display_name": "Python 3.8.2 64-bit",
   "language": "python",
   "name": "python3"
  },
  "language_info": {
   "codemirror_mode": {
    "name": "ipython",
    "version": 3
   },
   "file_extension": ".py",
   "mimetype": "text/x-python",
   "name": "python",
   "nbconvert_exporter": "python",
   "pygments_lexer": "ipython3",
   "version": "3.8.5"
  },
  "orig_nbformat": 4
 },
 "nbformat": 4,
 "nbformat_minor": 2
}
