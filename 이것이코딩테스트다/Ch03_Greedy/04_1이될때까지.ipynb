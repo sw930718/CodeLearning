{
 "cells": [
  {
   "cell_type": "code",
   "execution_count": null,
   "metadata": {},
   "outputs": [],
   "source": [
    "input=\"25 5\""
   ]
  },
  {
   "cell_type": "code",
   "execution_count": null,
   "metadata": {},
   "outputs": [],
   "source": [
    "def solution(input):\n",
    "    n, k = map(int, input.split())\n",
    "    l=[]\n",
    "    def operation(n,k,cnt=0):\n",
    "        if n!=1:\n",
    "            operation(n-1, k, cnt+1)\n",
    "            if n%k==0:\n",
    "                operation(n/k, k, cnt+1)\n",
    "        else:\n",
    "            l.append(cnt)\n",
    "    \n",
    "    operation(n,k)\n",
    "    return min(l) "
   ]
  },
  {
   "cell_type": "code",
   "execution_count": null,
   "metadata": {},
   "outputs": [],
   "source": [
    "solution(input)"
   ]
  }
 ],
 "metadata": {
  "language_info": {
   "name": "python"
  },
  "orig_nbformat": 4
 },
 "nbformat": 4,
 "nbformat_minor": 2
}
