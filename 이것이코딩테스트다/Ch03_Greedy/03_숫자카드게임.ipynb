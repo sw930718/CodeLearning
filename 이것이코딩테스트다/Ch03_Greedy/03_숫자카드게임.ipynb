{
 "cells": [
  {
   "cell_type": "code",
   "execution_count": 20,
   "metadata": {},
   "outputs": [],
   "source": [
    "#example\n",
    "mtx = \"2 4\""
   ]
  },
  {
   "cell_type": "code",
   "execution_count": 21,
   "metadata": {},
   "outputs": [],
   "source": [
    "#본인이 작성한 코드 \n",
    "def solution(mtx):\n",
    "    n, m = map(int, mtx.split())\n",
    "    n_num=[]\n",
    "    for i in range(n):\n",
    "        n1=list(map(int, input().split()))\n",
    "        n_num.append(n1)\n",
    "        \n",
    "    answer=[min(n_num[i]) for i in range(n)]\n",
    "    return max(answer)"
   ]
  }
 ],
 "metadata": {
  "interpreter": {
   "hash": "7b34b089ce0dfc9935940e0a22050b2949fa617f7a2b73925623c261bed16aeb"
  },
  "kernelspec": {
   "display_name": "Python 3.8.5 64-bit ('base': conda)",
   "language": "python",
   "name": "python3"
  },
  "language_info": {
   "codemirror_mode": {
    "name": "ipython",
    "version": 3
   },
   "file_extension": ".py",
   "mimetype": "text/x-python",
   "name": "python",
   "nbconvert_exporter": "python",
   "pygments_lexer": "ipython3",
   "version": "3.8.5"
  },
  "orig_nbformat": 4
 },
 "nbformat": 4,
 "nbformat_minor": 2
}
