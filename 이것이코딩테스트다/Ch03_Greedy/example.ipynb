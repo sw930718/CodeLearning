{
 "cells": [
  {
   "cell_type": "code",
   "execution_count": 1,
   "metadata": {},
   "outputs": [],
   "source": [
    "#example\n",
    "N = \"5 8 3\"\n",
    "dataArray = \"2 4 5 4 6\""
   ]
  },
  {
   "cell_type": "code",
   "execution_count": 2,
   "metadata": {},
   "outputs": [],
   "source": [
    "#본인이 작성한 코드 \n",
    "def solution(N,dataArray):\n",
    "    n, m, k = map(int, N.split())\n",
    "    data=list(map(int, dataArray.split()))\n",
    "    data.sort(reverse=True)\n",
    "    total=0\n",
    "    cnt=0\n",
    "    \n",
    "    for _ in range(m):\n",
    "        if cnt != k:\n",
    "            total+=data[0]\n",
    "            cnt+=1\n",
    "        else:\n",
    "            total+=data[1]\n",
    "            cnt=0\n",
    "        \n",
    "    return total"
   ]
  }
 ],
 "metadata": {
  "interpreter": {
   "hash": "7b34b089ce0dfc9935940e0a22050b2949fa617f7a2b73925623c261bed16aeb"
  },
  "kernelspec": {
   "display_name": "Python 3.8.5 64-bit ('base': conda)",
   "language": "python",
   "name": "python3"
  },
  "language_info": {
   "codemirror_mode": {
    "name": "ipython",
    "version": 3
   },
   "file_extension": ".py",
   "mimetype": "text/x-python",
   "name": "python",
   "nbconvert_exporter": "python",
   "pygments_lexer": "ipython3",
   "version": "3.8.5"
  },
  "orig_nbformat": 4
 },
 "nbformat": 4,
 "nbformat_minor": 2
}
