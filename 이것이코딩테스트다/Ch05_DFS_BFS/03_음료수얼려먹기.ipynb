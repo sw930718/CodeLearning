{
 "cells": [
  {
   "cell_type": "markdown",
   "metadata": {},
   "source": [
    "### DFS 문제 _ 재귀함수 이용"
   ]
  },
  {
   "cell_type": "code",
   "execution_count": 4,
   "metadata": {},
   "outputs": [],
   "source": [
    "N, M = map(int, input().split())\n",
    "rect=[] \n",
    "for _ in range(N):\n",
    "    rect.append(list(map(int, input())))"
   ]
  },
  {
   "cell_type": "code",
   "execution_count": 5,
   "metadata": {},
   "outputs": [
    {
     "name": "stdout",
     "output_type": "stream",
     "text": [
      "3\n"
     ]
    }
   ],
   "source": [
    "def operation(x,y):\n",
    "    if -1>=x or x>=N or -1>=y or y>=M:\n",
    "        return False\n",
    "    if rect[x][y]==0:\n",
    "        rect[x][y]=1\n",
    "        operation(x-1,y)\n",
    "        operation(x+1,y)\n",
    "        operation(x,y-1)\n",
    "        operation(x,y+1)\n",
    "        return True\n",
    "    return False\n",
    "\n",
    "cnt=0\n",
    "for i in range(N):\n",
    "    for j in range(M):\n",
    "        if operation(i, j)==True:\n",
    "            cnt+=1           \n",
    "\n",
    "print(cnt) "
   ]
  }
 ],
 "metadata": {
  "interpreter": {
   "hash": "7b34b089ce0dfc9935940e0a22050b2949fa617f7a2b73925623c261bed16aeb"
  },
  "kernelspec": {
   "display_name": "Python 3.8.5 64-bit ('base': conda)",
   "language": "python",
   "name": "python3"
  },
  "language_info": {
   "codemirror_mode": {
    "name": "ipython",
    "version": 3
   },
   "file_extension": ".py",
   "mimetype": "text/x-python",
   "name": "python",
   "nbconvert_exporter": "python",
   "pygments_lexer": "ipython3",
   "version": "3.8.5"
  },
  "orig_nbformat": 4
 },
 "nbformat": 4,
 "nbformat_minor": 2
}
