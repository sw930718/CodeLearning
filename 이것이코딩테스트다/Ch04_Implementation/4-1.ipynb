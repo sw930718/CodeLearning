{
 "cells": [
  {
   "cell_type": "code",
   "execution_count": 3,
   "metadata": {},
   "outputs": [],
   "source": [
    "N=5\n",
    "move=\"R R R U D D\""
   ]
  },
  {
   "cell_type": "code",
   "execution_count": 4,
   "metadata": {},
   "outputs": [
    {
     "name": "stdout",
     "output_type": "stream",
     "text": [
      "3 4\n"
     ]
    }
   ],
   "source": [
    "def solution(N, move):\n",
    "    x=1\n",
    "    y=1\n",
    "    goto=list(map(str, move.split()))\n",
    "    \n",
    "    for direc in goto:\n",
    "        if (direc == 'R') and (y!=N):\n",
    "            y+=1\n",
    "        elif (direc == 'L') and (y!=1):\n",
    "            y-=1\n",
    "        elif (direc == 'U') and (x!=1):\n",
    "            x-=1\n",
    "        elif (direc == 'D') and (x!=N):\n",
    "            x+=1\n",
    "        else:\n",
    "            continue\n",
    "    return x,y\n",
    "\n",
    "print(solution(N, move)[0],solution(N, move)[1])"
   ]
  }
 ],
 "metadata": {
  "interpreter": {
   "hash": "7b34b089ce0dfc9935940e0a22050b2949fa617f7a2b73925623c261bed16aeb"
  },
  "kernelspec": {
   "display_name": "Python 3.8.5 64-bit ('base': conda)",
   "language": "python",
   "name": "python3"
  },
  "language_info": {
   "codemirror_mode": {
    "name": "ipython",
    "version": 3
   },
   "file_extension": ".py",
   "mimetype": "text/x-python",
   "name": "python",
   "nbconvert_exporter": "python",
   "pygments_lexer": "ipython3",
   "version": "3.8.5"
  },
  "orig_nbformat": 4
 },
 "nbformat": 4,
 "nbformat_minor": 2
}
