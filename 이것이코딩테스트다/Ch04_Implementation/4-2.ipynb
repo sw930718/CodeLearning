{
 "cells": [
  {
   "cell_type": "code",
   "execution_count": 5,
   "metadata": {},
   "outputs": [],
   "source": [
    "def solution(n):\n",
    "    if n<3:\n",
    "        cnt=(n+1)*(5*9*5*9) # 3이 안들어가는 경우의 수 \n",
    "    elif n>=3 and n<13:\n",
    "         cnt=n*(5*9*5*9) # 3이 안들어가는 경우의 수 \n",
    "    elif n>=13 and n<23:\n",
    "        cnt=(n-1)*(5*9*5*9) # 3이 안들어가는 경우의 수\n",
    "    elif n==23:\n",
    "        cnt=(n-2)*(5*9*5*9) # 3이 안들어가는 경우의 수 \n",
    "        \n",
    "    return ((n+1)*60*60) - cnt"
   ]
  },
  {
   "cell_type": "code",
   "execution_count": 6,
   "metadata": {},
   "outputs": [
    {
     "data": {
      "text/plain": [
       "11475"
      ]
     },
     "execution_count": 6,
     "metadata": {},
     "output_type": "execute_result"
    }
   ],
   "source": [
    "solution(5)"
   ]
  }
 ],
 "metadata": {
  "interpreter": {
   "hash": "31f2aee4e71d21fbe5cf8b01ff0e069b9275f58929596ceb00d14d90e3e16cd6"
  },
  "kernelspec": {
   "display_name": "Python 3.8.2 64-bit",
   "language": "python",
   "name": "python3"
  },
  "language_info": {
   "codemirror_mode": {
    "name": "ipython",
    "version": 3
   },
   "file_extension": ".py",
   "mimetype": "text/x-python",
   "name": "python",
   "nbconvert_exporter": "python",
   "pygments_lexer": "ipython3",
   "version": "3.8.5"
  },
  "orig_nbformat": 4
 },
 "nbformat": 4,
 "nbformat_minor": 2
}
