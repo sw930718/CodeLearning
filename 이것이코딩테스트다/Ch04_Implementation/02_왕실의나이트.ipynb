{
 "cells": [
  {
   "cell_type": "code",
   "execution_count": 6,
   "metadata": {},
   "outputs": [],
   "source": [
    "def solution(move):\n",
    "    columns=[\"a\",\"b\",\"c\",\"d\",\"e\",\"f\",\"g\",\"h\"]\n",
    "    rows=[1,2,3,4,5,6,7,8]\n",
    "    col, row =columns.index(move[0]), rows.index(int(move[1]))\n",
    "    \n",
    "    cnt=0\n",
    "    if (0 <= col+2 <=7) and (0 <= row-1 <=7):\n",
    "        cnt+=1\n",
    "    if (0 <= col+2 <=7) and (0 <= row+1 <=7):\n",
    "        cnt+=1\n",
    "    if (0 <= col-2 <=7) and (0 <= row-1 <=7):\n",
    "        cnt+=1\n",
    "    if (0 <= col-2 <=7) and (0 <= row+1 <=7):\n",
    "        cnt+=1\n",
    "    if (0 <= col+1 <=7) and (0 <= row-2 <=7):\n",
    "        cnt+=1\n",
    "    if (0 <= col+1 <=7) and (0 <= row+2 <=7):\n",
    "        cnt+=1\n",
    "    if (0 <= col-1 <=7) and (0 <= row-2 <=7):\n",
    "        cnt+=1\n",
    "    if (0 <= col-1 <=7) and (0 <= row+2 <=7):\n",
    "        cnt+=1\n",
    "    \n",
    "    return cnt\n",
    "    "
   ]
  },
  {
   "cell_type": "code",
   "execution_count": 8,
   "metadata": {},
   "outputs": [
    {
     "data": {
      "text/plain": [
       "2"
      ]
     },
     "execution_count": 8,
     "metadata": {},
     "output_type": "execute_result"
    }
   ],
   "source": [
    "solution(\"a1\")"
   ]
  }
 ],
 "metadata": {
  "interpreter": {
   "hash": "7b34b089ce0dfc9935940e0a22050b2949fa617f7a2b73925623c261bed16aeb"
  },
  "kernelspec": {
   "display_name": "Python 3.8.5 64-bit ('base': conda)",
   "language": "python",
   "name": "python3"
  },
  "language_info": {
   "codemirror_mode": {
    "name": "ipython",
    "version": 3
   },
   "file_extension": ".py",
   "mimetype": "text/x-python",
   "name": "python",
   "nbconvert_exporter": "python",
   "pygments_lexer": "ipython3",
   "version": "3.8.5"
  },
  "orig_nbformat": 4
 },
 "nbformat": 4,
 "nbformat_minor": 2
}
