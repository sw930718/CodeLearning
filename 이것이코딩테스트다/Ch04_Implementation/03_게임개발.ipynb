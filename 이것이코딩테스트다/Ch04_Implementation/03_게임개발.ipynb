{
 "cells": [
  {
   "cell_type": "code",
   "execution_count": 10,
   "metadata": {},
   "outputs": [],
   "source": [
    "N, M = map(int, input().split())\n",
    "x, y, drc = map(int, input().split())\n",
    "seaorland=[]\n",
    "for _ in range(N):\n",
    "    data=list(map(int, input().split()))\n",
    "    seaorland.append(data)\n"
   ]
  },
  {
   "cell_type": "code",
   "execution_count": 11,
   "metadata": {},
   "outputs": [
    {
     "name": "stdout",
     "output_type": "stream",
     "text": [
      "3\n"
     ]
    }
   ],
   "source": [
    "cnt=1\n",
    "while True:\n",
    "    if (1<=x<=(N-1) and 0<=y<=(M-1)) and seaorland[x-1][y]==0:\n",
    "        x-=1   \n",
    "        seaorland[x][y]=1\n",
    "        cnt+=1\n",
    "    elif (0<=x<=(N-1) and 0<=y<=((M-1)-1)) and seaorland[x][y+1]==0:\n",
    "        y+=1\n",
    "        seaorland[x][y]=1\n",
    "        cnt+=1\n",
    "    elif (0<=x<=((N-1)-1) and 0<=y<=(M-1)) and seaorland[x+1][y]==0:\n",
    "        x+=1\n",
    "        seaorland[x][y]=1\n",
    "        cnt+=1\n",
    "    elif (0<=x<=(N-1) and 1<=y<=(M-1)) and seaorland[x][y-1]==0:\n",
    "        y-=1\n",
    "        seaorland[x][y]=1\n",
    "        cnt+=1\n",
    "    else:\n",
    "        break\n",
    "print(cnt)\n"
   ]
  }
 ],
 "metadata": {
  "interpreter": {
   "hash": "7b34b089ce0dfc9935940e0a22050b2949fa617f7a2b73925623c261bed16aeb"
  },
  "kernelspec": {
   "display_name": "Python 3.8.5 64-bit ('base': conda)",
   "language": "python",
   "name": "python3"
  },
  "language_info": {
   "codemirror_mode": {
    "name": "ipython",
    "version": 3
   },
   "file_extension": ".py",
   "mimetype": "text/x-python",
   "name": "python",
   "nbconvert_exporter": "python",
   "pygments_lexer": "ipython3",
   "version": "3.8.5"
  },
  "orig_nbformat": 4
 },
 "nbformat": 4,
 "nbformat_minor": 2
}
