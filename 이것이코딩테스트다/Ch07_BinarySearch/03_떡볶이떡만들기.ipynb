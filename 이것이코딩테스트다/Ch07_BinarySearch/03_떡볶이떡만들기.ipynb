{
 "cells": [
  {
   "cell_type": "code",
   "execution_count": null,
   "metadata": {},
   "outputs": [],
   "source": [
    "N, M = map(int, input().split())\n",
    "height=list(map(int, input().split()))"
   ]
  },
  {
   "cell_type": "code",
   "execution_count": null,
   "metadata": {},
   "outputs": [],
   "source": [
    "def solution(N,M,height):\n",
    "    m=0\n",
    "    def operation(N,M,height,h=max(height)//2):\n",
    "        if h < max(height): \n",
    "            height[cnt]\n",
    "            \n",
    "        elif sum(height) == M:\n",
    "            nonlocal m\n",
    "            if m < sum(height):\n",
    "                m=sum(height)\n",
    "                \n",
    "    operation(N,M,height)\n",
    "            \n",
    "    "
   ]
  },
  {
   "cell_type": "code",
   "execution_count": null,
   "metadata": {},
   "outputs": [],
   "source": [
    "def solution(numbers, target):\n",
    "    answer=0\n",
    "    def operator(numbers,target,cnt=0):\n",
    "        if cnt<len(numbers):\n",
    "            numbers[cnt]*=1\n",
    "            operator(numbers,target,cnt+1)\n",
    "            \n",
    "            numbers[cnt]*=-1 # 1과 -1 순서 바뀌면 안되는이유: -1이 면저나오면 뒤에 1곱해도 -(음수) \n",
    "            operator(numbers,target,cnt+1)\n",
    "        \n",
    "        elif sum(numbers)==target:\n",
    "            nonlocal answer\n",
    "            answer+=1\n",
    "    \n",
    "    operator(numbers,target)\n",
    "    return answer"
   ]
  }
 ],
 "metadata": {
  "language_info": {
   "name": "python"
  },
  "orig_nbformat": 4
 },
 "nbformat": 4,
 "nbformat_minor": 2
}
