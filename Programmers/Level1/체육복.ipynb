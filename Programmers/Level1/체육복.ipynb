{
 "cells": [
  {
   "cell_type": "markdown",
   "metadata": {},
   "source": [
    "## 코딩테스트 연습 > 탐욕법(Greedy) > 체육복"
   ]
  },
  {
   "cell_type": "code",
   "execution_count": 6,
   "metadata": {},
   "outputs": [],
   "source": [
    "n=5\n",
    "lost=[2, 4] \n",
    "reserve=[1, 3, 5]"
   ]
  },
  {
   "cell_type": "code",
   "execution_count": 7,
   "metadata": {},
   "outputs": [],
   "source": [
    "def solution(n, lost, reserve): \n",
    "    lost.sort()\n",
    "    reserve.sort() # test 13,14번 입력값 정렬 안되어있는 경우 제시 \n",
    "    answer=0\n",
    "    \n",
    "    student=[1 for _ in range(n)] #모두 1벌씩 가졌다고 가정 \n",
    "\n",
    "    for idx in reserve: # 여분 체육복 가진학생 \n",
    "        student[(idx-1)]+=1\n",
    "        \n",
    "    for idx in lost: # 따로 for문 빼준 이유: 여분 가져왔는데 도난당한 학생 옷 빌려주면 X므로 \n",
    "        student[(idx-1)]-=1 # 체육복 잃어버린 학생 \n",
    "\n",
    "    for idx in lost:  \n",
    "        if idx in reserve: # 여분가져온 학생은 빌릴 필요 없음\n",
    "            continue\n",
    "        if idx!=1 and student[(idx-1)-1]==2: \n",
    "                student[(idx-1)-1]-=1 # 앞번호 학생에게 빌린경우\n",
    "                student[(idx-1)]+=1\n",
    "                continue\n",
    "        if idx!=n and student[(idx-1)+1]==2:\n",
    "            student[(idx-1)+1]-=1 # 뒷번호 학생에게 빌린경우 \n",
    "            student[(idx-1)]+=1\n",
    "            continue\n",
    " \n",
    "    for i in range(n):\n",
    "        if student[i]>0:\n",
    "            answer+=1\n",
    "    \n",
    "    return answer\n",
    "    "
   ]
  },
  {
   "cell_type": "code",
   "execution_count": 8,
   "metadata": {},
   "outputs": [
    {
     "data": {
      "text/plain": [
       "5"
      ]
     },
     "execution_count": 8,
     "metadata": {},
     "output_type": "execute_result"
    }
   ],
   "source": [
    "solution(n, lost, reserve)"
   ]
  }
 ],
 "metadata": {
  "interpreter": {
   "hash": "7b34b089ce0dfc9935940e0a22050b2949fa617f7a2b73925623c261bed16aeb"
  },
  "kernelspec": {
   "display_name": "Python 3.8.5 64-bit ('base': conda)",
   "language": "python",
   "name": "python3"
  },
  "language_info": {
   "codemirror_mode": {
    "name": "ipython",
    "version": 3
   },
   "file_extension": ".py",
   "mimetype": "text/x-python",
   "name": "python",
   "nbconvert_exporter": "python",
   "pygments_lexer": "ipython3",
   "version": "3.8.5"
  },
  "orig_nbformat": 4
 },
 "nbformat": 4,
 "nbformat_minor": 2
}
