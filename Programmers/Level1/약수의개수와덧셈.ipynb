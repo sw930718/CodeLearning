{
 "cells": [
  {
   "cell_type": "markdown",
   "metadata": {},
   "source": [
    "## 코딩테스트 연습 > 월간 코드 챌린지 시즌2 > 약수의 개수와 덧셈  \n",
    "#### 문제설명 \n",
    "두 정수 left와 right가 매개변수로 주어집니다. left부터 right까지의 모든 수들 중에서, 약수의 개수가 짝수인 수는 더하고, 약수의 개수가 홀수인 수는 뺀 수를 return 하도록 solution 함수를 완성해주세요.   \n",
    "\n",
    "#### 제한 조건\n",
    "- 1 ≤ left ≤ right ≤ 1,000\n",
    "\n",
    "#### 입출력 예  \n",
    "left | right | result  \n",
    "--|--|--\n",
    "13 | 17 | 43  \n",
    "24 | 27 | 52  \n",
    "\n",
    "#### 입출력 예 설명 \n",
    "수\t| 약수 | 약수의 개수\n",
    "--|--|--\n",
    "13\t|1, 13\t|2\n",
    "14\t|1, 2, 7, 14\t|4\n",
    "15\t|1, 3, 5, 15\t|4\n",
    "16\t|1, 2, 4, 8, 16\t|5\n",
    "17\t|1, 17\t|2   \n",
    "\n",
    "return 값은 + 13 + 14 + 15 - 16 + 17 = 43"
   ]
  },
  {
   "cell_type": "code",
   "execution_count": 14,
   "metadata": {},
   "outputs": [],
   "source": [
    "left, right = 13, 17"
   ]
  },
  {
   "cell_type": "code",
   "execution_count": 15,
   "metadata": {},
   "outputs": [],
   "source": [
    "def solution(left, right):\n",
    "    answer=0\n",
    "    def divisor(x):\n",
    "        all=[]\n",
    "        for i in range(1,(x+1)):\n",
    "            if x%i==0:\n",
    "                all.append(i)\n",
    "        return all\n",
    "    \n",
    "    for num in range(left,(right+1)):\n",
    "        if len(divisor(num))%2==0:\n",
    "            answer+=num\n",
    "        else:\n",
    "            answer-=num\n",
    "    \n",
    "    return answer"
   ]
  },
  {
   "cell_type": "code",
   "execution_count": 16,
   "metadata": {},
   "outputs": [
    {
     "data": {
      "text/plain": [
       "43"
      ]
     },
     "execution_count": 16,
     "metadata": {},
     "output_type": "execute_result"
    }
   ],
   "source": [
    "solution(left, right)"
   ]
  }
 ],
 "metadata": {
  "interpreter": {
   "hash": "7b34b089ce0dfc9935940e0a22050b2949fa617f7a2b73925623c261bed16aeb"
  },
  "kernelspec": {
   "display_name": "Python 3.8.5 64-bit ('base': conda)",
   "language": "python",
   "name": "python3"
  },
  "language_info": {
   "codemirror_mode": {
    "name": "ipython",
    "version": 3
   },
   "file_extension": ".py",
   "mimetype": "text/x-python",
   "name": "python",
   "nbconvert_exporter": "python",
   "pygments_lexer": "ipython3",
   "version": "3.8.5"
  },
  "orig_nbformat": 4
 },
 "nbformat": 4,
 "nbformat_minor": 2
}
