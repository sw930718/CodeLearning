{
 "cells": [
  {
   "cell_type": "markdown",
   "metadata": {},
   "source": [
    "## 코딩테스트 연습 > 연습문제 > 소수 찾기"
   ]
  },
  {
   "cell_type": "code",
   "execution_count": null,
   "metadata": {},
   "outputs": [],
   "source": [
    "def solution(n):\n",
    "    answer = 0\n",
    "    def primenum(number):\n",
    "        for i in range(2,number):\n",
    "            if number%i==0:\n",
    "                return False\n",
    "        return True \n",
    "        \n",
    "    num = [i for i in range(2,(n+1))]\n",
    "    for n in num:\n",
    "        if primenum(n):\n",
    "            answer+=1\n",
    "\n",
    "    return answer"
   ]
  }
 ],
 "metadata": {
  "language_info": {
   "name": "python"
  },
  "orig_nbformat": 4
 },
 "nbformat": 4,
 "nbformat_minor": 2
}
