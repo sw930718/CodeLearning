{
 "cells": [
  {
   "cell_type": "markdown",
   "metadata": {},
   "source": [
    "## 코딩테스트 연습 > 연습문제 > 하샤드 수"
   ]
  },
  {
   "cell_type": "code",
   "execution_count": null,
   "metadata": {},
   "outputs": [],
   "source": [
    "def solution(x):\n",
    "    total=0\n",
    "    num=str(x)\n",
    "    for i in num:\n",
    "        total+=int(i)\n",
    "    if x%total==0:\n",
    "        return True\n",
    "    return False"
   ]
  }
 ],
 "metadata": {
  "language_info": {
   "name": "python"
  },
  "orig_nbformat": 4
 },
 "nbformat": 4,
 "nbformat_minor": 2
}
