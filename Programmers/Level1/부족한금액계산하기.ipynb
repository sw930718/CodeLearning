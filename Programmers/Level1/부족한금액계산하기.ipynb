{
 "cells": [
  {
   "cell_type": "code",
   "execution_count": null,
   "metadata": {},
   "outputs": [],
   "source": [
    "def solution(price, money, count):\n",
    "    total=0\n",
    "    for i in range(count):\n",
    "        total+=(price*i)\n",
    "        \n",
    "    lack=money-total\n",
    "    if lack>=0:\n",
    "        return 0\n",
    "    else:\n",
    "        return abs(lack)"
   ]
  }
 ],
 "metadata": {
  "language_info": {
   "name": "python"
  },
  "orig_nbformat": 4
 },
 "nbformat": 4,
 "nbformat_minor": 2
}
