{
 "cells": [
  {
   "cell_type": "markdown",
   "metadata": {},
   "source": [
    "## 코딩테스트 연습 > 2019 카카오 개발자 겨울 인턴십 > 크레인 인형뽑기 게임"
   ]
  },
  {
   "cell_type": "code",
   "execution_count": 1,
   "metadata": {},
   "outputs": [],
   "source": [
    "board=[[0,0,0,0,0],[0,0,1,0,3],[0,2,5,0,1],[4,2,4,4,2],[3,5,1,3,1]]\n",
    "moves=[1,5,3,5,1,2,1,4]"
   ]
  },
  {
   "cell_type": "code",
   "execution_count": 2,
   "metadata": {},
   "outputs": [],
   "source": [
    "from collections import deque\n",
    "\n",
    "def solution(board, moves):\n",
    "    crain=[0 for i in range(len(board))]\n",
    "    basket=[] #바구니\n",
    "    overlap=[] #중복개수 \n",
    "    # 인형 넣기 \n",
    "    for i in range(len(board)):\n",
    "        que=deque()\n",
    "        for j in range(len(board)):\n",
    "            if board[j][i]!=0:\n",
    "                que.append(board[j][i])\n",
    "        crain[i]=que\n",
    "        \n",
    "    # 바구니에 옮기기\n",
    "    for i in moves:\n",
    "        if len(crain[i-1])!=0:\n",
    "            doll=crain[i-1].popleft()\n",
    "        else:\n",
    "            continue\n",
    "            \n",
    "        if len(basket)==0:\n",
    "            basket.append(doll)\n",
    "        else:\n",
    "            if basket[-1]==doll:\n",
    "                overlap.append(doll)\n",
    "                overlap.append(basket.pop())\n",
    "            else:\n",
    "                basket.append(doll)\n",
    "    \n",
    "    answer=len(overlap)\n",
    "    return answer"
   ]
  },
  {
   "cell_type": "code",
   "execution_count": 3,
   "metadata": {},
   "outputs": [
    {
     "data": {
      "text/plain": [
       "4"
      ]
     },
     "execution_count": 3,
     "metadata": {},
     "output_type": "execute_result"
    }
   ],
   "source": [
    "solution(board, moves)"
   ]
  }
 ],
 "metadata": {
  "interpreter": {
   "hash": "7b34b089ce0dfc9935940e0a22050b2949fa617f7a2b73925623c261bed16aeb"
  },
  "kernelspec": {
   "display_name": "Python 3.8.5 64-bit ('base': conda)",
   "language": "python",
   "name": "python3"
  },
  "language_info": {
   "codemirror_mode": {
    "name": "ipython",
    "version": 3
   },
   "file_extension": ".py",
   "mimetype": "text/x-python",
   "name": "python",
   "nbconvert_exporter": "python",
   "pygments_lexer": "ipython3",
   "version": "3.8.5"
  },
  "orig_nbformat": 4
 },
 "nbformat": 4,
 "nbformat_minor": 2
}
