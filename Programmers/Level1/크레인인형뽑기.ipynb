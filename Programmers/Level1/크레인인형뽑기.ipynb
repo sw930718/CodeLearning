{
 "cells": [
  {
   "cell_type": "code",
   "execution_count": null,
   "metadata": {},
   "outputs": [],
   "source": [
    "from collections import deque\n",
    "\n",
    "def solution(board, moves):\n",
    "    crain=[0 for i in range(len(board))]\n",
    "    basket=[] #바구니\n",
    "    overlap=[] #중복개수 \n",
    "    # 인형 넣기 \n",
    "    for i in range(len(board)):\n",
    "        que=deque()\n",
    "        for j in range(len(board)):\n",
    "            if board[j][i]!=0:\n",
    "                que.append(board[j][i])\n",
    "        crain[i]=que\n",
    "        \n",
    "    # 바구니에 옮기기\n",
    "    for i in moves:\n",
    "        if len(crain[i-1])!=0:\n",
    "            doll=crain[i-1].popleft()\n",
    "        else:\n",
    "            continue\n",
    "            \n",
    "        if len(basket)==0:\n",
    "            basket.append(doll)\n",
    "        else:\n",
    "            if basket[-1]==doll:\n",
    "                overlap.append(doll)\n",
    "                overlap.append(basket.pop())\n",
    "            else:\n",
    "                basket.append(doll)\n",
    "    \n",
    "    answer=len(overlap)\n",
    "    return answer"
   ]
  }
 ],
 "metadata": {
  "language_info": {
   "name": "python"
  },
  "orig_nbformat": 4
 },
 "nbformat": 4,
 "nbformat_minor": 2
}
