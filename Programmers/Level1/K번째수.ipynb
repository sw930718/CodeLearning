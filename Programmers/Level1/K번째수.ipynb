{
 "cells": [
  {
   "cell_type": "markdown",
   "metadata": {},
   "source": [
    "## 정렬 > K번째수\n",
    "#### 문제설명 \n",
    "배열 array의 i번째 숫자부터 j번째 숫자까지 자르고 정렬했을 때, k번째에 있는 수를 구하려 한다.   \n",
    "배열 array, [i, j, k]를 원소로 가진 2차원 배열 commands가 매개변수로 주어질 때, commands의 모든 원소에 대한 결과k를 배열에 담아 return 하도록 solution 함수를 작성   \n",
    "\n",
    "ex. 예를 들어 array가 [1, 5, 2, 6, 3, 7, 4], i = 2, j = 5, k = 3이면, \n",
    "\n",
    "-> array의 2번째부터 5번째까지 자르면 [5, 2, 6, 3]   \n",
    "-> 배열을 정렬하면 [2, 3, 5, 6]   \n",
    "-> 배열의 3번째 숫자는 5   \n",
    "\n",
    "#### 제한 조건\n",
    "- array의 길이는 1 이상 100 이하입니다.   \n",
    "- array의 각 원소는 1 이상 100 이하입니다.   \n",
    "- commands의 길이는 1 이상 50 이하입니다.   \n",
    "- commands의 각 원소는 길이가 3입니다.   \n",
    "#### 입출력 예 \n",
    "array  |\tcommands | return     \n",
    "[1, 5, 2, 6, 3, 7, 4]\t[[2, 5, 3], [4, 4, 1], [1, 7, 3]]\t[5, 6, 3]"
   ]
  },
  {
   "cell_type": "code",
   "execution_count": 5,
   "metadata": {},
   "outputs": [],
   "source": [
    "def solution(array, commands):\n",
    "    answer=[]\n",
    "    for coms in commands:\n",
    "        i=coms[0]-1\n",
    "        j=coms[1]\n",
    "        k=coms[2]-1\n",
    "        num=sorted(array[i:j])[k]\n",
    "        answer.append(num)\n",
    "    return answer"
   ]
  }
 ],
 "metadata": {
  "interpreter": {
   "hash": "7b34b089ce0dfc9935940e0a22050b2949fa617f7a2b73925623c261bed16aeb"
  },
  "kernelspec": {
   "display_name": "Python 3.8.5 64-bit ('base': conda)",
   "language": "python",
   "name": "python3"
  },
  "language_info": {
   "codemirror_mode": {
    "name": "ipython",
    "version": 3
   },
   "file_extension": ".py",
   "mimetype": "text/x-python",
   "name": "python",
   "nbconvert_exporter": "python",
   "pygments_lexer": "ipython3",
   "version": "3.8.5"
  },
  "orig_nbformat": 4
 },
 "nbformat": 4,
 "nbformat_minor": 2
}
