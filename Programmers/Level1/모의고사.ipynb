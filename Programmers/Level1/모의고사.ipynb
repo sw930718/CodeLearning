{
 "cells": [
  {
   "cell_type": "markdown",
   "metadata": {},
   "source": [
    "## 코딩테스트 연습 > 완전탐색 > 모의고사"
   ]
  },
  {
   "cell_type": "code",
   "execution_count": 1,
   "metadata": {},
   "outputs": [],
   "source": [
    "answers=[1,3,2,4,2]"
   ]
  },
  {
   "cell_type": "code",
   "execution_count": 2,
   "metadata": {},
   "outputs": [],
   "source": [
    "def solution(answers):\n",
    "    spo1=[1, 2, 3, 4, 5]\n",
    "    spo2=[2, 1, 2, 3, 2, 4, 2, 5]\n",
    "    spo3=[3, 3, 1, 1, 2, 2, 4, 4, 5, 5]\n",
    "    correct=[0,0,0]\n",
    "    \n",
    "    for i , ans in enumerate(answers):\n",
    "        if spo1[i%len(spo1)]==ans: # 1번 수포자 정답 count\n",
    "            correct[0]+=1\n",
    "        if spo2[i%len(spo2)]==ans: # 2번 수포자 정답 count\n",
    "            correct[1]+=1\n",
    "        if spo3[i%len(spo3)]==ans: # 3번 수포자 정답 count\n",
    "            correct[2]+=1\n",
    "\n",
    "    return [i+1 for i, cnt in enumerate(correct) if cnt == max(correct)]"
   ]
  },
  {
   "cell_type": "code",
   "execution_count": 3,
   "metadata": {},
   "outputs": [
    {
     "data": {
      "text/plain": [
       "[1, 2, 3]"
      ]
     },
     "execution_count": 3,
     "metadata": {},
     "output_type": "execute_result"
    }
   ],
   "source": [
    "solution(answers)"
   ]
  }
 ],
 "metadata": {
  "interpreter": {
   "hash": "7b34b089ce0dfc9935940e0a22050b2949fa617f7a2b73925623c261bed16aeb"
  },
  "kernelspec": {
   "display_name": "Python 3.8.5 64-bit ('base': conda)",
   "language": "python",
   "name": "python3"
  },
  "language_info": {
   "codemirror_mode": {
    "name": "ipython",
    "version": 3
   },
   "file_extension": ".py",
   "mimetype": "text/x-python",
   "name": "python",
   "nbconvert_exporter": "python",
   "pygments_lexer": "ipython3",
   "version": "3.8.5"
  },
  "orig_nbformat": 4
 },
 "nbformat": 4,
 "nbformat_minor": 2
}
