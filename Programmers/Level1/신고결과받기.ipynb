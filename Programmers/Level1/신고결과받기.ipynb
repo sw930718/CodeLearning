{
 "cells": [
  {
   "cell_type": "markdown",
   "metadata": {},
   "source": [
    "## 코딩테스트 연습 > 2022 KAKAO BLIND RECRUITMENT > 신고 결과 받기\n"
   ]
  },
  {
   "cell_type": "code",
   "execution_count": null,
   "metadata": {},
   "outputs": [],
   "source": [
    "id_list=[\"muzi\", \"frodo\", \"apeach\", \"neo\"]\n",
    "report=[\"muzi frodo\",\"apeach frodo\",\"frodo neo\",\"muzi neo\",\"apeach muzi\"]\n",
    "k=2"
   ]
  },
  {
   "cell_type": "code",
   "execution_count": null,
   "metadata": {},
   "outputs": [],
   "source": [
    "from collections import OrderedDict, Counter\n",
    "def solution(id_list, report, k):\n",
    "    id_index=OrderedDict() # 유저id의 index값 알려주기위한 list \n",
    "    punish=[] # 유저id 순서에 맞춰 신고한 유저id 받을 list (각각의 요소는 set이용해 중복제거)\n",
    "    punish_total=[] # 전체 신고건수 list \n",
    "    answer = [0 for _ in range(len(id_list))] # 유저별 정지시킨 id수 list\n",
    "    \n",
    "    for i in range(len(id_list)):\n",
    "        id_index[id_list[i]]=i\n",
    "        punish.append(set([]))\n",
    "        \n",
    "    for rpt in report:\n",
    "        user, bad_user = map(str, rpt.split())\n",
    "        punish[id_index[user]].add(bad_user)\n",
    "    \n",
    "    for bad_user_set in punish:\n",
    "        punish_total+=list(bad_user_set)\n",
    "        \n",
    "    a=Counter(punish_total)   \n",
    "     \n",
    "    for i in range(len(id_list)):\n",
    "        for p_id in list(punish[i]):\n",
    "            if a[p_id]>=k:\n",
    "                answer[i]+=1\n",
    "    \n",
    "    return answer"
   ]
  },
  {
   "cell_type": "code",
   "execution_count": null,
   "metadata": {},
   "outputs": [],
   "source": [
    "solution(id_list, report, k)"
   ]
  }
 ],
 "metadata": {
  "language_info": {
   "name": "python"
  },
  "orig_nbformat": 4
 },
 "nbformat": 4,
 "nbformat_minor": 2
}
