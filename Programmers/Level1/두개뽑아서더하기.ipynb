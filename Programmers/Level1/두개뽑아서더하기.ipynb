{
 "cells": [
  {
   "cell_type": "markdown",
   "metadata": {},
   "source": [
    "## 코딩테스트 연습 > 월간 코드 챌린지 시즌1 > 두 개 뽑아서 더하기\n",
    "#### 문제설명 \n",
    "정수 배열 numbers가 주어집니다. numbers에서 서로 다른 인덱스에 있는 두 개의 수를 뽑아 더해서 만들 수 있는 모든 수를 배열에 오름차순으로 담아 return 하도록 solution 함수를 완성해주세요.  \n",
    "\n",
    "#### 제한 조건\n",
    "- numbers의 길이는 2 이상 100 이하입니다.   \n",
    "- numbers의 원소의 값은 0 이상 100 이하입니다.    \n",
    "\n",
    "#### 입출력 예   \n",
    "numbers\t| result\n",
    "--|--\n",
    "[2,1,3,4,1]\t| [2,3,4,5,6,7]\n",
    "[5,0,2,7] | [2,5,7,9,12]  "
   ]
  },
  {
   "cell_type": "code",
   "execution_count": 1,
   "metadata": {},
   "outputs": [],
   "source": [
    "numbers=[2,1,3,4,1]"
   ]
  },
  {
   "cell_type": "code",
   "execution_count": 2,
   "metadata": {},
   "outputs": [],
   "source": [
    "def solution(numbers):\n",
    "    answer=[]\n",
    "    for i in range(len(numbers)):\n",
    "        for j in range((i+1),len(numbers)):\n",
    "            answer.append(numbers[i]+numbers[j])\n",
    "    answer=list(set(answer))\n",
    "    answer.sort()\n",
    "    return answer"
   ]
  },
  {
   "cell_type": "code",
   "execution_count": 3,
   "metadata": {},
   "outputs": [
    {
     "data": {
      "text/plain": [
       "[2, 3, 4, 5, 6, 7]"
      ]
     },
     "execution_count": 3,
     "metadata": {},
     "output_type": "execute_result"
    }
   ],
   "source": [
    "solution(numbers)"
   ]
  }
 ],
 "metadata": {
  "interpreter": {
   "hash": "7b34b089ce0dfc9935940e0a22050b2949fa617f7a2b73925623c261bed16aeb"
  },
  "kernelspec": {
   "display_name": "Python 3.8.5 64-bit ('base': conda)",
   "language": "python",
   "name": "python3"
  },
  "language_info": {
   "codemirror_mode": {
    "name": "ipython",
    "version": 3
   },
   "file_extension": ".py",
   "mimetype": "text/x-python",
   "name": "python",
   "nbconvert_exporter": "python",
   "pygments_lexer": "ipython3",
   "version": "3.8.5"
  },
  "orig_nbformat": 4
 },
 "nbformat": 4,
 "nbformat_minor": 2
}
