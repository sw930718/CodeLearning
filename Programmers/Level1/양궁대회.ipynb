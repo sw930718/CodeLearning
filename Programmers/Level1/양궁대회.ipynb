{
 "cells": [
  {
   "cell_type": "code",
   "execution_count": 1,
   "metadata": {},
   "outputs": [],
   "source": [
    "n=5\n",
    "info=[2,1,1,1,0,0,0,0,0,0,0]\t\n",
    "# result : [0,2,2,0,1,0,0,0,0,0,0]"
   ]
  },
  {
   "cell_type": "code",
   "execution_count": 2,
   "metadata": {},
   "outputs": [],
   "source": [
    "from itertools import combinations_with_replacement\n",
    "\n",
    "def solution(n, info):\n",
    "  answer = [0 for _ in range(11)]\n",
    "  win = False\n",
    "  max_num = 0   # 라이언이 이길때 가장 큰 점수 차이\n",
    "  # 1. 중복 조합을 이용해 라이언의 점수를 만든다.\n",
    "  for res in list(combinations_with_replacement(range(0, 11), n)):\n",
    "    # ex. res (2, 4, 5, 5, 7)\n",
    "    lion_l = [0 for _ in range(11)] # [0,0,0,...,0]\n",
    "    for r in res:\n",
    "      lion_l[10 - r] += 1 #ex. res=(2, 4, 4, 4, 8) -> lion_l=[0,0,1,0,0,0,3,0,1,0,0]\n",
    "    # 점수 초기값 설정\n",
    "    lion=0\n",
    "    peach=0 \n",
    "    # 2. 라이언 점수와 어피치 점수 비교한다.\n",
    "    for i, (l, p) in enumerate(zip(lion_l, info)):\n",
    "      if l == p == 0:\n",
    "          continue\n",
    "      if p >= l: # 어피치의 점수가 높거나 같으면 \n",
    "          peach += (10 - i)\n",
    "      elif l > p: # 라이언의 점수가 높으면 \n",
    "          lion += (10 - i)\n",
    "    # 3. 총 점수를 비교해 라이언이 큰 경우 결과를 업데이트 해준다.\n",
    "    if lion > peach: # \n",
    "      win = True\n",
    "      if (lion - peach) > max_num: # 점수차이 : (lion - peach)\n",
    "          max_num = lion - peach # max_num update\n",
    "          answer = lion_l\n",
    "  if not win:\n",
    "    return [-1]\n",
    "  return answer"
   ]
  },
  {
   "cell_type": "code",
   "execution_count": 3,
   "metadata": {},
   "outputs": [
    {
     "data": {
      "text/plain": [
       "[0, 2, 2, 0, 1, 0, 0, 0, 0, 0, 0]"
      ]
     },
     "execution_count": 3,
     "metadata": {},
     "output_type": "execute_result"
    }
   ],
   "source": [
    "solution(n, info)"
   ]
  }
 ],
 "metadata": {
  "interpreter": {
   "hash": "7b34b089ce0dfc9935940e0a22050b2949fa617f7a2b73925623c261bed16aeb"
  },
  "kernelspec": {
   "display_name": "Python 3.8.5 64-bit ('base': conda)",
   "language": "python",
   "name": "python3"
  },
  "language_info": {
   "codemirror_mode": {
    "name": "ipython",
    "version": 3
   },
   "file_extension": ".py",
   "mimetype": "text/x-python",
   "name": "python",
   "nbconvert_exporter": "python",
   "pygments_lexer": "ipython3",
   "version": "3.8.5"
  },
  "orig_nbformat": 4
 },
 "nbformat": 4,
 "nbformat_minor": 2
}
