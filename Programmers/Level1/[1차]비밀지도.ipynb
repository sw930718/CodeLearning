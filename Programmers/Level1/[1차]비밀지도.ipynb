arr1=	[9, 20, 28, 18, 11]
arr2=	[30, 1, 21, 17, 28]
n=5

def solution(n,arr1,arr2):
  answer = []
  for i in range(n):
    map=''
    col1=int(bin(arr1[i])[2:])
    col2=int(bin(arr2[i])[2:])
    col=str(col1+col2).zfill(n)

    for j in col:
      if int(j) > 0 :
        map+='#'
      else :
        map+=' '
        
    answer.append(map)
  return answer

solution(n,arr1,arr2)
