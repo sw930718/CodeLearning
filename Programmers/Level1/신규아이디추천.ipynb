{
 "cells": [
  {
   "cell_type": "markdown",
   "metadata": {},
   "source": [
    "## 코딩테스트 연습 > 2021 KAKAO BLIND RECRUITMENT > 신규 아이디 추천"
   ]
  },
  {
   "cell_type": "markdown",
   "metadata": {},
   "source": [
    "채점결과 : 80 / 100 (테스트 15,20,21,22,25 미통과)"
   ]
  },
  {
   "cell_type": "code",
   "execution_count": 1,
   "metadata": {},
   "outputs": [],
   "source": [
    "new_id=\"...!@BaT#*..y.abcdefghijklm\""
   ]
  },
  {
   "cell_type": "code",
   "execution_count": 2,
   "metadata": {},
   "outputs": [],
   "source": [
    "import re\n",
    "def solution(new_id):\n",
    "    # 1단계 : new_id의 모든 대문자를 대응되는 소문자로 치환\n",
    "    new_id=new_id.lower() \n",
    "    # 2단계 : new_id에서 알파벳 소문자, 숫자, 빼기(-), 밑줄(_), 마침표(.)를 제외한 모든 문자를 제거\n",
    "    new_id = re.sub('[=+,#/\\?:^$@*\\\"~&%!\\\\(\\)\\[\\]\\<\\>`\\']','',new_id) \n",
    "    # 3단계 : new_id에서 마침표(.)가 2번 이상 연속된 부분을 하나의 마침표(.)로 치환\n",
    "    id_list=new_id.split('.')\n",
    "    while '' in id_list:\n",
    "        id_list.remove('')\n",
    "    new_id='.'.join(id_list)\n",
    "    # 4단계 : new_id에서 마침표(.)가 처음이나 끝에 위치한다면 제거\n",
    "    new_id = new_id.strip('.')\n",
    "    # 5단계 : new_id가 빈 문자열이라면, new_id에 \"a\"를 대입\n",
    "    if len(new_id)==0:\n",
    "        new_id='a'\n",
    "    # 6단계 : new_id의 길이가 16자 이상이면, new_id의 첫 15개의 문자를 제외한 나머지 문자들을 모두 제거\n",
    "    # 만약 제거 후 마침표(.)가 new_id의 끝에 위치한다면 끝에 위치한 마침표(.) 문자를 제거\n",
    "    if len(new_id)>=16:\n",
    "        if new_id[14] == '.':\n",
    "            new_id=new_id[:14]\n",
    "        else:\n",
    "            new_id=new_id[:15]\n",
    "    # 7단계 : new_id의 길이가 2자 이하라면, new_id의 마지막 문자를 new_id의 길이가 3이 될 때까지 반복해서 끝에 붙임 \n",
    "    if len(new_id)<=2:\n",
    "        for i in range(2):\n",
    "            new_id+=new_id[-1]\n",
    "        new_id=new_id[:3]\n",
    "    \n",
    "    return new_id"
   ]
  },
  {
   "cell_type": "code",
   "execution_count": 3,
   "metadata": {},
   "outputs": [
    {
     "data": {
      "text/plain": [
       "'bat.y.abcdefghi'"
      ]
     },
     "execution_count": 3,
     "metadata": {},
     "output_type": "execute_result"
    }
   ],
   "source": [
    "solution(new_id)"
   ]
  }
 ],
 "metadata": {
  "interpreter": {
   "hash": "7b34b089ce0dfc9935940e0a22050b2949fa617f7a2b73925623c261bed16aeb"
  },
  "kernelspec": {
   "display_name": "Python 3.8.5 64-bit ('base': conda)",
   "language": "python",
   "name": "python3"
  },
  "language_info": {
   "codemirror_mode": {
    "name": "ipython",
    "version": 3
   },
   "file_extension": ".py",
   "mimetype": "text/x-python",
   "name": "python",
   "nbconvert_exporter": "python",
   "pygments_lexer": "ipython3",
   "version": "3.8.5"
  },
  "orig_nbformat": 4
 },
 "nbformat": 4,
 "nbformat_minor": 2
}
