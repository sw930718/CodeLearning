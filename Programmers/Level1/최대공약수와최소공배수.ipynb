{
 "cells": [
  {
   "cell_type": "markdown",
   "metadata": {},
   "source": [
    "## 코딩테스트 연습 > 연습문제 > 최대공약수와 최소공배수"
   ]
  },
  {
   "cell_type": "code",
   "execution_count": 30,
   "metadata": {},
   "outputs": [
    {
     "name": "stdout",
     "output_type": "stream",
     "text": [
      "[1, 2, 2, 2, 3] , [1, 2, 2, 3]\n",
      "[12, 24]\n"
     ]
    }
   ],
   "source": [
    "def solution(n, m):\n",
    "    max_div=1\n",
    "    def divisor(x):\n",
    "        all=[1]\n",
    "        i=2\n",
    "        while x>1:\n",
    "            if x%i==0:\n",
    "                all.append(i)\n",
    "                x/=i\n",
    "            else:\n",
    "                i+=1\n",
    "        return all\n",
    "    n_list=divisor(n)\n",
    "    m_list=divisor(m)\n",
    "    \n",
    "    for i in n_list:\n",
    "        if i in m_list:\n",
    "            max_div*=i\n",
    "            m_list.remove(i)\n",
    "            \n",
    "    min_mul= int(max_div*(n/max_div)*(m/max_div))\n",
    "    answer = [max_div,min_mul]\n",
    "    return answer"
   ]
  },
  {
   "cell_type": "code",
   "execution_count": null,
   "metadata": {},
   "outputs": [],
   "source": [
    "n=24\n",
    "m=12\n",
    "solution(n, m)"
   ]
  }
 ],
 "metadata": {
  "interpreter": {
   "hash": "7b34b089ce0dfc9935940e0a22050b2949fa617f7a2b73925623c261bed16aeb"
  },
  "kernelspec": {
   "display_name": "Python 3.8.5 64-bit ('base': conda)",
   "language": "python",
   "name": "python3"
  },
  "language_info": {
   "codemirror_mode": {
    "name": "ipython",
    "version": 3
   },
   "file_extension": ".py",
   "mimetype": "text/x-python",
   "name": "python",
   "nbconvert_exporter": "python",
   "pygments_lexer": "ipython3",
   "version": "3.8.5"
  },
  "orig_nbformat": 4
 },
 "nbformat": 4,
 "nbformat_minor": 2
}
