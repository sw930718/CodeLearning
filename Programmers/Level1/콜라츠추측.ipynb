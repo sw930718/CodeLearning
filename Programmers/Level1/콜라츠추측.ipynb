{
 "cells": [
  {
   "cell_type": "code",
   "execution_count": 8,
   "metadata": {},
   "outputs": [
    {
     "data": {
      "text/plain": [
       "0"
      ]
     },
     "execution_count": 8,
     "metadata": {},
     "output_type": "execute_result"
    }
   ],
   "source": [
    "\n",
    "def solution(num):\n",
    "    l=[]\n",
    "    def operation(num, cnt=0):  \n",
    "        if num!=1:\n",
    "            if num%2 == 0 : \n",
    "                operation(num/2, cnt+1)\n",
    "            else :\n",
    "                operation(3*num+1, cnt+1)\n",
    "        else: \n",
    "            l.append(cnt)\n",
    "        return cnt\n",
    "        \n",
    "    operation(num)\n",
    "\n",
    "    return l[0]\n",
    "\n",
    "solution(6)"
   ]
  },
  {
   "cell_type": "code",
   "execution_count": null,
   "metadata": {},
   "outputs": [],
   "source": [
    "def solution(input):\n",
    "    n, k = map(int, input.split())\n",
    "    l=[]\n",
    "    def operation(n,k,cnt=0):\n",
    "        if n!=1:\n",
    "            operation(n-1, k, cnt+1)\n",
    "            if n%k==0:\n",
    "                operation(n/k, k, cnt+1)\n",
    "        else:\n",
    "            l.append(cnt)\n",
    "    \n",
    "    operation(n,k)\n",
    "    return min(l) "
   ]
  }
 ],
 "metadata": {
  "interpreter": {
   "hash": "7b34b089ce0dfc9935940e0a22050b2949fa617f7a2b73925623c261bed16aeb"
  },
  "kernelspec": {
   "display_name": "Python 3.8.5 64-bit ('base': conda)",
   "language": "python",
   "name": "python3"
  },
  "language_info": {
   "codemirror_mode": {
    "name": "ipython",
    "version": 3
   },
   "file_extension": ".py",
   "mimetype": "text/x-python",
   "name": "python",
   "nbconvert_exporter": "python",
   "pygments_lexer": "ipython3",
   "version": "3.8.5"
  },
  "orig_nbformat": 4
 },
 "nbformat": 4,
 "nbformat_minor": 2
}
