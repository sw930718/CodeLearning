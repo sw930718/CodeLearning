{
 "cells": [
  {
   "cell_type": "code",
   "execution_count": null,
   "metadata": {},
   "outputs": [],
   "source": [
    "from collections import deque\n",
    "\n",
    "def solution(priorities, location):\n",
    "    queList=deque(priorities)\n",
    "    importantList=deque([i for i in range(len(queList))])\n",
    "    loc=[]\n",
    "    while (len(queList)!=0):\n",
    "        doc=queList.popleft()\n",
    "        impt=importantList.popleft()\n",
    "        if len(queList)!=0 and doc<max(queList):\n",
    "            queList.append(doc)\n",
    "            importantList.append(impt)\n",
    "        else:\n",
    "            loc.append(impt)\n",
    "    \n",
    "    answer=loc.index(location)+1\n",
    "    return answer"
   ]
  }
 ],
 "metadata": {
  "language_info": {
   "name": "python"
  },
  "orig_nbformat": 4
 },
 "nbformat": 4,
 "nbformat_minor": 2
}
