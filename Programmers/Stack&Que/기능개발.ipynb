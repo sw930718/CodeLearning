{
 "cells": [
  {
   "cell_type": "code",
   "execution_count": 2,
   "metadata": {},
   "outputs": [],
   "source": [
    "import collections\n",
    "\n",
    "def solution(progresses, speeds):\n",
    "    days=[]\n",
    "    for i in range(len(progresses)):\n",
    "      for j in range(100):\n",
    "        progresses[i]+=speeds[i]\n",
    "        if progresses[i]>=100:\n",
    "            days.append((j+1))\n",
    "            break\n",
    "    for i in range(len(days)):\n",
    "      for j in range((i+1),len(days)):\n",
    "        if days[i]>days[j]:\n",
    "            days[j]=days[i]\n",
    "    answer=collections.Counter(days)\n",
    "    return list(answer.values())"
   ]
  }
 ],
 "metadata": {
  "interpreter": {
   "hash": "7b34b089ce0dfc9935940e0a22050b2949fa617f7a2b73925623c261bed16aeb"
  },
  "kernelspec": {
   "display_name": "Python 3.8.5 64-bit ('base': conda)",
   "language": "python",
   "name": "python3"
  },
  "language_info": {
   "codemirror_mode": {
    "name": "ipython",
    "version": 3
   },
   "file_extension": ".py",
   "mimetype": "text/x-python",
   "name": "python",
   "nbconvert_exporter": "python",
   "pygments_lexer": "ipython3",
   "version": "3.8.5"
  },
  "orig_nbformat": 4
 },
 "nbformat": 4,
 "nbformat_minor": 2
}
