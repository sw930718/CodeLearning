{
 "cells": [
  {
   "cell_type": "markdown",
   "metadata": {},
   "source": [
    "### 문제    \n",
    "//문제링크\n",
    "_    \n",
    "//문제설명    \n",
    "\n",
    "#### 입력  \n",
    "//입력설명 \n",
    "\n",
    "#### 출력  \n",
    "//출력설명 \n",
    "\n",
    "#### 예제 \n",
    "[input]   \n",
    "//입력값\n",
    "\n",
    "[output]    \n",
    "//출력값\n",
    "\n",
    "#### 조건 \n",
    "- 시간제한 : *초     \n",
    "- 메모리제한 : *MB\n",
    "\n",
    "#### 알고리즘 분류 \n",
    "//태그 작성   "
   ]
  },
  {
   "cell_type": "markdown",
   "metadata": {},
   "source": [
    "풀이1 (시간초과)) 주어진 다리 길이만큼의 0으로 이루어진 list(deque)를 만들고 truck_weights의 트럭 무게값을 하나씩 넣고(append) 왼쪽부터 하나씩 빼기(popleft)"
   ]
  },
  {
   "cell_type": "code",
   "execution_count": 8,
   "metadata": {},
   "outputs": [],
   "source": [
    "from collections import deque\n",
    "\n",
    "def solution(bridge_length, weight, truck_weights):\n",
    "    queue = deque([0]*bridge_length)\n",
    "    truckList = deque(truck_weights)\n",
    "    time = 0 \n",
    "    \n",
    "    while True:\n",
    "        if (sum(queue)==0) and (not truckList):\n",
    "            break \n",
    "        \n",
    "        queue.popleft()\n",
    "        if (truckList) and ((sum(queue)+truckList[0])<=weight):\n",
    "            queue.append(truckList.popleft())\n",
    "        else:\n",
    "            queue.append(0)\n",
    "        time += 1\n",
    "        \n",
    "    return time"
   ]
  },
  {
   "cell_type": "markdown",
   "metadata": {},
   "source": [
    "풀이2 (통과)) 방식은 동일 & sum()함수 미사용 "
   ]
  },
  {
   "cell_type": "code",
   "execution_count": null,
   "metadata": {},
   "outputs": [],
   "source": [
    "from collections import deque\n",
    "\n",
    "def solution(bridge_length, weight, truck_weights):\n",
    "    queue = deque([0]*bridge_length)\n",
    "    truckList = deque(truck_weights)\n",
    "    queueWeight = 0\n",
    "    time = 0 \n",
    "    \n",
    "    while True:\n",
    "        if (queueWeight==0) and (not truckList):\n",
    "            break \n",
    "        \n",
    "        queueWeight-=queue.popleft()\n",
    "        if (truckList) and ((queueWeight+truckList[0])<=weight):\n",
    "            truck = truckList.popleft()\n",
    "            queueWeight += truck\n",
    "            queue.append(truck)\n",
    "        else:\n",
    "            queue.append(0)\n",
    "        time += 1\n",
    "        \n",
    "    return time"
   ]
  },
  {
   "cell_type": "code",
   "execution_count": 9,
   "metadata": {},
   "outputs": [
    {
     "data": {
      "text/plain": [
       "8"
      ]
     },
     "execution_count": 9,
     "metadata": {},
     "output_type": "execute_result"
    }
   ],
   "source": [
    "bridge_length = 2\n",
    "weight = 10\n",
    "truck_weights = [7,4,5,6]\t\n",
    "\n",
    "solution(bridge_length, weight, truck_weights)"
   ]
  }
 ],
 "metadata": {
  "interpreter": {
   "hash": "7b34b089ce0dfc9935940e0a22050b2949fa617f7a2b73925623c261bed16aeb"
  },
  "kernelspec": {
   "display_name": "Python 3.8.5 ('base')",
   "language": "python",
   "name": "python3"
  },
  "language_info": {
   "codemirror_mode": {
    "name": "ipython",
    "version": 3
   },
   "file_extension": ".py",
   "mimetype": "text/x-python",
   "name": "python",
   "nbconvert_exporter": "python",
   "pygments_lexer": "ipython3",
   "version": "3.8.5"
  },
  "orig_nbformat": 4
 },
 "nbformat": 4,
 "nbformat_minor": 2
}
