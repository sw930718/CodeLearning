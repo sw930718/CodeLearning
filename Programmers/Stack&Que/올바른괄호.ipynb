{
 "cells": [
  {
   "cell_type": "markdown",
   "metadata": {},
   "source": [
    "### 문제    \n",
    "//문제링크\n",
    "_    \n",
    "//문제설명    \n",
    "\n",
    "#### 입력  \n",
    "//입력설명 \n",
    "\n",
    "#### 출력  \n",
    "//출력설명 \n",
    "\n",
    "#### 예제 \n",
    "[input]   \n",
    "//입력값\n",
    "\n",
    "[output]    \n",
    "//출력값\n",
    "\n",
    "#### 조건 \n",
    "- 시간제한 : *초     \n",
    "- 메모리제한 : *MB\n",
    "\n",
    "#### 알고리즘 분류 \n",
    "//태그 작성   "
   ]
  },
  {
   "cell_type": "markdown",
   "metadata": {},
   "source": [
    "풀이1 ) stack에 문자열 하나씩 넣고 '('와 ')'가 만나면 pop 시킴. 모두 시행 후 stack이 비어있으면 true "
   ]
  },
  {
   "cell_type": "code",
   "execution_count": 5,
   "metadata": {},
   "outputs": [
    {
     "ename": "IndexError",
     "evalue": "list index out of range",
     "output_type": "error",
     "traceback": [
      "\u001b[0;31m---------------------------------------------------------------------------\u001b[0m",
      "\u001b[0;31mIndexError\u001b[0m                                Traceback (most recent call last)",
      "\u001b[1;32m/Users/mac/CodeLearning/template.ipynb Cell 3'\u001b[0m in \u001b[0;36m<cell line: 4>\u001b[0;34m()\u001b[0m\n\u001b[1;32m      <a href='vscode-notebook-cell:/Users/mac/CodeLearning/template.ipynb#ch0000002?line=1'>2</a>\u001b[0m symbolList \u001b[39m=\u001b[39m []\n\u001b[1;32m      <a href='vscode-notebook-cell:/Users/mac/CodeLearning/template.ipynb#ch0000002?line=3'>4</a>\u001b[0m \u001b[39mfor\u001b[39;00m symbol \u001b[39min\u001b[39;00m s:\n\u001b[0;32m----> <a href='vscode-notebook-cell:/Users/mac/CodeLearning/template.ipynb#ch0000002?line=4'>5</a>\u001b[0m     \u001b[39mif\u001b[39;00m (\u001b[39mnot\u001b[39;00m symbolList) \u001b[39mand\u001b[39;00m (symbolList[\u001b[39m-\u001b[39;49m\u001b[39m1\u001b[39;49m]\u001b[39m==\u001b[39m\u001b[39m'\u001b[39m\u001b[39m(\u001b[39m\u001b[39m'\u001b[39m) \u001b[39mand\u001b[39;00m (symbol\u001b[39m==\u001b[39m\u001b[39m'\u001b[39m\u001b[39m)\u001b[39m\u001b[39m'\u001b[39m):\n\u001b[1;32m      <a href='vscode-notebook-cell:/Users/mac/CodeLearning/template.ipynb#ch0000002?line=5'>6</a>\u001b[0m         symbolList\u001b[39m.\u001b[39mpop()\n\u001b[1;32m      <a href='vscode-notebook-cell:/Users/mac/CodeLearning/template.ipynb#ch0000002?line=6'>7</a>\u001b[0m     \u001b[39melse\u001b[39;00m:\n",
      "\u001b[0;31mIndexError\u001b[0m: list index out of range"
     ]
    }
   ],
   "source": [
    "def solution(s):\n",
    "    symbolList = []\n",
    "    \n",
    "    for symbol in s:\n",
    "        if (symbolList) and (symbolList[-1]=='(') and (symbol==')'):\n",
    "            symbolList.pop()\n",
    "        else:\n",
    "            symbolList.append(symbol)\n",
    "    return not symbolList"
   ]
  }
 ],
 "metadata": {
  "interpreter": {
   "hash": "7b34b089ce0dfc9935940e0a22050b2949fa617f7a2b73925623c261bed16aeb"
  },
  "kernelspec": {
   "display_name": "Python 3.8.5 ('base')",
   "language": "python",
   "name": "python3"
  },
  "language_info": {
   "codemirror_mode": {
    "name": "ipython",
    "version": 3
   },
   "file_extension": ".py",
   "mimetype": "text/x-python",
   "name": "python",
   "nbconvert_exporter": "python",
   "pygments_lexer": "ipython3",
   "version": "3.8.5"
  },
  "orig_nbformat": 4
 },
 "nbformat": 4,
 "nbformat_minor": 2
}
