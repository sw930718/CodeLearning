{
 "cells": [
  {
   "cell_type": "markdown",
   "metadata": {},
   "source": [
    "## 코딩테스트 연습 > 2021 카카오 채용연계형 인턴십 > 거리두기 확인하기"
   ]
  },
  {
   "cell_type": "code",
   "execution_count": 1,
   "metadata": {},
   "outputs": [],
   "source": [
    "places=[[\"POOOP\", \"OXXOX\", \"OPXPX\", \"OOXOX\", \"POXXP\"], [\"POOPX\", \"OXPXP\", \"PXXXO\", \"OXXXO\", \"OOOPP\"], [\"PXOPX\", \"OXOXP\", \"OXPOX\", \"OXXOP\", \"PXPOX\"], [\"OOOXX\", \"XOOOX\", \"OOOXX\", \"OXOOX\", \"OOOOO\"], [\"PXPXP\", \"XPXPX\", \"PXPXP\", \"XPXPX\", \"PXPXP\"]]"
   ]
  },
  {
   "cell_type": "code",
   "execution_count": 2,
   "metadata": {},
   "outputs": [],
   "source": [
    "import itertools\n",
    "\n",
    "def solution(places):\n",
    "    def personal_dist(lst):\n",
    "        examinee = []\n",
    "        for i in range(5):\n",
    "            for j in range(5):\n",
    "                if lst[i][j] == 'P':\n",
    "                    examinee.append((i,j))\n",
    "                           \n",
    "        a=list(itertools.combinations(examinee,2))\n",
    "        for comb in a:\n",
    "            dist=abs(comb[0][0]-comb[1][0])+abs(comb[0][1]-comb[1][1])\n",
    "            if dist>2:\n",
    "                return 1\n",
    "            elif dist==2:\n",
    "                minX=min(comb[0][0],comb[1][0])\n",
    "                maxX=max(comb[0][0],comb[1][0])\n",
    "                minY=min(comb[0][1],comb[1][1])\n",
    "                maxY=max(comb[0][1],comb[1][1])\n",
    "                for i in range(minX,maxX+1):\n",
    "                    for j in range(minY,maxY+1):\n",
    "                        if lst[i][j] == 'X':\n",
    "                            return 1\n",
    "                        return 0\n",
    "            else:\n",
    "                return 0\n",
    "    answer=[personal_dist(lst) for lst in places]\n",
    "                            \n",
    "    return answer"
   ]
  },
  {
   "cell_type": "code",
   "execution_count": 3,
   "metadata": {},
   "outputs": [
    {
     "data": {
      "text/plain": [
       "[1, 1, 1, None, 0]"
      ]
     },
     "execution_count": 3,
     "metadata": {},
     "output_type": "execute_result"
    }
   ],
   "source": [
    "# 정답 : [1, 0, 1, 1, 1] 오류 찾는 중\n",
    "solution(places)"
   ]
  }
 ],
 "metadata": {
  "interpreter": {
   "hash": "7b34b089ce0dfc9935940e0a22050b2949fa617f7a2b73925623c261bed16aeb"
  },
  "kernelspec": {
   "display_name": "Python 3.8.5 64-bit ('base': conda)",
   "language": "python",
   "name": "python3"
  },
  "language_info": {
   "codemirror_mode": {
    "name": "ipython",
    "version": 3
   },
   "file_extension": ".py",
   "mimetype": "text/x-python",
   "name": "python",
   "nbconvert_exporter": "python",
   "pygments_lexer": "ipython3",
   "version": "3.8.5"
  },
  "orig_nbformat": 4
 },
 "nbformat": 4,
 "nbformat_minor": 2
}
