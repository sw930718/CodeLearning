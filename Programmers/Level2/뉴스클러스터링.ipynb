{
 "cells": [
  {
   "cell_type": "markdown",
   "metadata": {},
   "source": [
    "## 코딩테스트 연습 > 2018 KAKAO BLIND RECRUITMENT > [1차] 뉴스 클러스터링"
   ]
  },
  {
   "cell_type": "code",
   "execution_count": null,
   "metadata": {},
   "outputs": [],
   "source": [
    "def solution(str1, str2):\n",
    "    def make_set(str):\n",
    "        sett=set()\n",
    "        for i in range(len(str)-1):\n",
    "            piece=str[i:(i+2)]\n",
    "            if piece[0].isalpha() and piece[1].isalpha():\n",
    "                piece=piece.upper()\n",
    "                sett.add(piece)\n",
    "            else:\n",
    "                continue\n",
    "        return sett\n",
    "    \n",
    "    one=make_set(str1)\n",
    "    two=make_set(str2)\n",
    "    intersec=len(list(one & two))\n",
    "    union=len(list(one | two))\n",
    "    if union!=0:\n",
    "        answer=intersec/union\n",
    "    else : \n",
    "        answer=1\n",
    "    return int(answer*65536)"
   ]
  },
  {
   "cell_type": "code",
   "execution_count": null,
   "metadata": {},
   "outputs": [],
   "source": [
    "# str1 = \"aa1+aa2\", str2 = \"AAAA12\" 경우 미해결 "
   ]
  }
 ],
 "metadata": {
  "language_info": {
   "name": "python"
  },
  "orig_nbformat": 4
 },
 "nbformat": 4,
 "nbformat_minor": 2
}
