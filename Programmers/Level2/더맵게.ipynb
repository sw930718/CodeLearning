{
 "cells": [
  {
   "cell_type": "markdown",
   "metadata": {},
   "source": [
    "## 코딩테스트 연습 > 힙(Heap) > 더 맵게"
   ]
  },
  {
   "cell_type": "code",
   "execution_count": null,
   "metadata": {},
   "outputs": [],
   "source": [
    "import heapq\n",
    "def solution(scoville, K):\n",
    "    heap=[]\n",
    "    mix_cnt=0\n",
    "    for i in scoville:\n",
    "        heapq.heappush(heap, i)\n",
    "    while heap[0]<K: \n",
    "        try:\n",
    "            heapq.heappush(heap, heapq.heappop(heap)+(heapq.heappop(heap))*2)\n",
    "            mix_cnt+=1\n",
    "        except:\n",
    "            return -1\n",
    "    return mix_cnt"
   ]
  },
  {
   "cell_type": "code",
   "execution_count": null,
   "metadata": {},
   "outputs": [],
   "source": [
    "scoville=[1, 2, 3, 9, 10, 12]\n",
    "K=7\n",
    "solution(scoville, K)"
   ]
  }
 ],
 "metadata": {
  "interpreter": {
   "hash": "7b34b089ce0dfc9935940e0a22050b2949fa617f7a2b73925623c261bed16aeb"
  },
  "kernelspec": {
   "display_name": "Python 3.8.5 64-bit ('base': conda)",
   "language": "python",
   "name": "python3"
  },
  "language_info": {
   "codemirror_mode": {
    "name": "ipython",
    "version": 3
   },
   "file_extension": ".py",
   "mimetype": "text/x-python",
   "name": "python",
   "nbconvert_exporter": "python",
   "pygments_lexer": "ipython3",
   "version": "3.8.5"
  },
  "orig_nbformat": 4
 },
 "nbformat": 4,
 "nbformat_minor": 2
}
