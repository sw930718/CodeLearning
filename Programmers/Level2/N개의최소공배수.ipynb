{
 "cells": [
  {
   "cell_type": "code",
   "execution_count": null,
   "metadata": {},
   "outputs": [],
   "source": [
    "# 미완성 (일부 예시 실패) \n",
    "from fractions import gcd\n",
    "def solution(arr):\n",
    "    all_gcd=arr[0]\n",
    "    answer=1\n",
    "    for num in arr:\n",
    "        all_gcd=gcd(all_gcd,num)\n",
    "        answer*=(num/all_gcd)\n",
    "    if all_gcd ==1:\n",
    "        return answer\n",
    "    else:\n",
    "        return all_gcd*answer"
   ]
  }
 ],
 "metadata": {
  "language_info": {
   "name": "python"
  },
  "orig_nbformat": 4
 },
 "nbformat": 4,
 "nbformat_minor": 2
}
