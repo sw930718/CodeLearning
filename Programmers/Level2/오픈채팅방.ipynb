{
 "cells": [
  {
   "cell_type": "markdown",
   "metadata": {},
   "source": [
    "## 코딩테스트 연습 > 2019 KAKAO BLIND RECRUITMENT > 오픈채팅방\n"
   ]
  },
  {
   "cell_type": "code",
   "execution_count": 3,
   "metadata": {},
   "outputs": [
    {
     "data": {
      "text/plain": [
       "['a', 'b']"
      ]
     },
     "execution_count": 3,
     "metadata": {},
     "output_type": "execute_result"
    }
   ],
   "source": [
    "from collections import OrderedDict # 순서가 있는 dict \n",
    "\n",
    "def solution(record):\n",
    "    answer = []\n",
    "    \n",
    "    id_code=OrderedDict()\n",
    "    what=OrderedDict()\n",
    "    for msg in record:\n",
    "        what, id_who = map(msg.split(' '))\n",
    "        if what == \"Enter\":\n",
    "            id, who = map(id_who.split(' '))\n",
    "            id_code[id]=who\n",
    "            what[id]=\"들어왔습니다.\"\n",
    "        elif what == \"Leave\":\n",
    "            what[id_who]=\"나갔습니다.\"\n",
    "        elif what == \"Change\":\n",
    "            id, who = map(id_who.split(' '))\n",
    "            id_code[id]=who\n",
    "    \n",
    "    for idd in list(what.keys()):\n",
    "        answer.append(id_code[idd]+\"님이 \"+what[idd])\n",
    "    \n",
    "    return answer"
   ]
  },
  {
   "cell_type": "code",
   "execution_count": null,
   "metadata": {},
   "outputs": [],
   "source": [
    "record = [\"Enter uid1234 Muzi\", \"Enter uid4567 Prodo\",\"Leave uid1234\",\"Enter uid1234 Prodo\",\"Change uid4567 Ryan\"]\n",
    "solution(record)"
   ]
  }
 ],
 "metadata": {
  "interpreter": {
   "hash": "7b34b089ce0dfc9935940e0a22050b2949fa617f7a2b73925623c261bed16aeb"
  },
  "kernelspec": {
   "display_name": "Python 3.8.5 64-bit ('base': conda)",
   "language": "python",
   "name": "python3"
  },
  "language_info": {
   "codemirror_mode": {
    "name": "ipython",
    "version": 3
   },
   "file_extension": ".py",
   "mimetype": "text/x-python",
   "name": "python",
   "nbconvert_exporter": "python",
   "pygments_lexer": "ipython3",
   "version": "3.8.5"
  },
  "orig_nbformat": 4
 },
 "nbformat": 4,
 "nbformat_minor": 2
}
