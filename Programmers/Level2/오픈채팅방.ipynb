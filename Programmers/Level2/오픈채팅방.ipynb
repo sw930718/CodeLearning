{
 "cells": [
  {
   "cell_type": "markdown",
   "metadata": {},
   "source": [
    "## 코딩테스트 연습 > 2019 KAKAO BLIND RECRUITMENT > 오픈채팅방\n"
   ]
  },
  {
   "cell_type": "code",
   "execution_count": 33,
   "metadata": {},
   "outputs": [],
   "source": [
    "from collections import OrderedDict # 순서가 있는 dict \n",
    "\n",
    "def solution(record):\n",
    "    answer = []\n",
    "    \n",
    "    id_code=OrderedDict()\n",
    "    idd=[]\n",
    "    what=[]\n",
    "    for msg in record:\n",
    "        if msg.split()[0] == \"Enter\":\n",
    "            _, id, who = map(str, msg.split())\n",
    "            id_code[id]=who\n",
    "            idd.append(id)\n",
    "            what.append(\"들어왔습니다.\")\n",
    "        elif msg.split()[0] == \"Leave\":\n",
    "            _, id = map(str, msg.split())\n",
    "            idd.append(id)           \n",
    "            what.append(\"나갔습니다.\")\n",
    "        elif msg.split()[0] == \"Change\":\n",
    "            _, id, who = map(str, msg.split(' '))\n",
    "            id_code[id]=who\n",
    "    \n",
    "    for i in range(len(what)):\n",
    "        answer.append(id_code[idd[i]]+\"님이 \"+what[i])\n",
    "    \n",
    "    return answer"
   ]
  },
  {
   "cell_type": "code",
   "execution_count": 34,
   "metadata": {},
   "outputs": [
    {
     "data": {
      "text/plain": [
       "['Prodo님이 들어왔습니다.', 'Ryan님이 들어왔습니다.', 'Prodo님이 나갔습니다.', 'Prodo님이 들어왔습니다.']"
      ]
     },
     "execution_count": 34,
     "metadata": {},
     "output_type": "execute_result"
    }
   ],
   "source": [
    "record = [\"Enter uid1234 Muzi\", \"Enter uid4567 Prodo\",\"Leave uid1234\",\"Enter uid1234 Prodo\",\"Change uid4567 Ryan\"]\n",
    "solution(record)"
   ]
  }
 ],
 "metadata": {
  "interpreter": {
   "hash": "7b34b089ce0dfc9935940e0a22050b2949fa617f7a2b73925623c261bed16aeb"
  },
  "kernelspec": {
   "display_name": "Python 3.8.5 64-bit ('base': conda)",
   "language": "python",
   "name": "python3"
  },
  "language_info": {
   "codemirror_mode": {
    "name": "ipython",
    "version": 3
   },
   "file_extension": ".py",
   "mimetype": "text/x-python",
   "name": "python",
   "nbconvert_exporter": "python",
   "pygments_lexer": "ipython3",
   "version": "3.8.5"
  },
  "orig_nbformat": 4
 },
 "nbformat": 4,
 "nbformat_minor": 2
}
