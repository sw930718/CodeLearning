{
 "cells": [
  {
   "cell_type": "code",
   "execution_count": null,
   "metadata": {},
   "outputs": [],
   "source": [
    "def solution(numbers, target):\n",
    "    answer=0\n",
    "    def operator(numbers,target,cnt=0):\n",
    "        if cnt<len(numbers):\n",
    "            numbers[cnt]*=1\n",
    "            operator(numbers,target,cnt+1)\n",
    "            \n",
    "            numbers[cnt]*=-1 # 1과 -1 순서 바뀌면 안되는이유: -1이 면저나오면 뒤에 1곱해도 -(음수) \n",
    "            operator(numbers,target,cnt+1)\n",
    "        \n",
    "        elif sum(numbers)==target:\n",
    "            nonlocal answer\n",
    "            answer+=1\n",
    "    \n",
    "    operator(numbers,target)\n",
    "    return answer"
   ]
  }
 ],
 "metadata": {
  "language_info": {
   "name": "python"
  },
  "orig_nbformat": 4
 },
 "nbformat": 4,
 "nbformat_minor": 2
}
