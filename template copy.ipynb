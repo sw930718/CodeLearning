{
 "cells": [
  {
   "cell_type": "markdown",
   "metadata": {},
   "source": [
    "### 문제    \n",
    "//문제링크\n",
    "_    \n",
    "//문제설명    \n",
    "\n",
    "#### 입력  \n",
    "//입력설명 \n",
    "\n",
    "#### 출력  \n",
    "//출력설명 \n",
    "\n",
    "#### 예제 \n",
    "[input]   \n",
    "//입력값\n",
    "\n",
    "[output]    \n",
    "//출력값\n",
    "\n",
    "#### 조건 \n",
    "- 시간제한 : *초     \n",
    "- 메모리제한 : *MB\n",
    "\n",
    "#### 알고리즘 분류 \n",
    "//태그 작성   "
   ]
  },
  {
   "cell_type": "markdown",
   "metadata": {},
   "source": [
    "풀이1 ) //구현 아이디어"
   ]
  },
  {
   "cell_type": "code",
   "execution_count": 35,
   "metadata": {},
   "outputs": [
    {
     "name": "stdout",
     "output_type": "stream",
     "text": [
      "0\n",
      "3 \n"
     ]
    }
   ],
   "source": [
    "from itertools import combinations\n",
    "\n",
    "N = int(input())\n",
    "mp, mf, ms, mv = map(int, input().split())\n",
    "\n",
    "ingredient = [[0,0,0,0,0]]\n",
    "\n",
    "for _ in range(N):\n",
    "    ingredient.append(list(map(int, input().split())))\n",
    "    \n",
    "cost = 500*(N+1)\n",
    "answer = None\n",
    "listN = [i for i in range(1, N+1)] # 선택할 식재료 \n",
    "\n",
    "# 최적 조합 찾기\n",
    "for k in range(1, N+1):\n",
    "    for combi in combinations(listN,k):\n",
    "        pi=fi=si=vi=ci=0\n",
    "        # print(combi)\n",
    "        for comb_n in combi : # 나온 조합으로 영양성분, 가격 별로 더하기 \n",
    "            # print(comb_n)\n",
    "            pi += ingredient[comb_n][0]\n",
    "            fi += ingredient[comb_n][1]\n",
    "            si += ingredient[comb_n][2]\n",
    "            vi += ingredient[comb_n][3]\n",
    "            ci += ingredient[comb_n][4]\n",
    "        \n",
    "        if mp<=pi and mf<=fi and ms<=si and mv<=vi and cost>ci: # 조건 확인 \n",
    "            cost = ci \n",
    "            answer = combi\n",
    "    \n",
    "    if answer: # 조합의 수가 작을때 정답이 나왔으면 더 큰 조합수를 시도할 필요가 없음 \n",
    "        break\n",
    "    else:\n",
    "        continue\n",
    "    \n",
    "if cost >= 500*(N+1):\n",
    "    print(-1)\n",
    "else:\n",
    "    print(cost)\n",
    "    arr = \"\"\n",
    "    for i in sorted(answer):\n",
    "        arr += (str(i)+ ' ')           \n",
    "    print(arr)"
   ]
  },
  {
   "cell_type": "markdown",
   "metadata": {},
   "source": [
    "### 반례    \n",
    "input :\n",
    "\n",
    "3\n",
    "\n",
    "0 0 0 1\n",
    "\n",
    "0 0 0 0 0\n",
    "\n",
    "0 0 0 0 0\n",
    "\n",
    "0 0 0 1 0\n",
    "\n",
    "output :\n",
    "\n",
    "0\n",
    "\n",
    "3\n",
    "\n",
    "answer :\n",
    "\n",
    "0\n",
    "\n",
    "1 2 3"
   ]
  },
  {
   "cell_type": "markdown",
   "metadata": {},
   "source": []
  },
  {
   "cell_type": "markdown",
   "metadata": {},
   "source": []
  }
 ],
 "metadata": {
  "interpreter": {
   "hash": "7b34b089ce0dfc9935940e0a22050b2949fa617f7a2b73925623c261bed16aeb"
  },
  "kernelspec": {
   "display_name": "Python 3.8.5 ('base')",
   "language": "python",
   "name": "python3"
  },
  "language_info": {
   "codemirror_mode": {
    "name": "ipython",
    "version": 3
   },
   "file_extension": ".py",
   "mimetype": "text/x-python",
   "name": "python",
   "nbconvert_exporter": "python",
   "pygments_lexer": "ipython3",
   "version": "3.8.5"
  },
  "orig_nbformat": 4
 },
 "nbformat": 4,
 "nbformat_minor": 2
}
