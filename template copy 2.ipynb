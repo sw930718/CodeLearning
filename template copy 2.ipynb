{
 "cells": [
  {
   "cell_type": "markdown",
   "metadata": {},
   "source": [
    "### 문제    \n",
    "//문제링크\n",
    "_    \n",
    "//문제설명    \n",
    "\n",
    "#### 입력  \n",
    "//입력설명 \n",
    "\n",
    "#### 출력  \n",
    "//출력설명 \n",
    "\n",
    "#### 예제 \n",
    "[input]   \n",
    "//입력값\n",
    "\n",
    "[output]    \n",
    "//출력값\n",
    "\n",
    "#### 조건 \n",
    "- 시간제한 : *초     \n",
    "- 메모리제한 : *MB\n",
    "\n",
    "#### 알고리즘 분류 \n",
    "//태그 작성   "
   ]
  },
  {
   "cell_type": "markdown",
   "metadata": {},
   "source": [
    "풀이1 ) //구현 아이디어"
   ]
  },
  {
   "cell_type": "code",
   "execution_count": null,
   "metadata": {},
   "outputs": [],
   "source": [
    "N, M, T = map(int, input().split())\n",
    "maze = []\n",
    "for _ in range(N):\n",
    "    maze.append(list(map(int, input().split())))\n",
    "    \n",
    "dx = [0,1,0,-1]\n",
    "dy = [1,0,-1,0]\n",
    "\n",
    "visited = [[0]*M for _ in range(N)]\n",
    "knife = 9999999\n",
    "\n",
    "def bfs():\n",
    "    global knife\n",
    "    q = []\n",
    "    visited[0][0] = 1 \n",
    "    q.append((0,0))\n",
    "    \n",
    "    while len(q)>0:\n",
    "        x, y  = q.pop(0)\n",
    "        if maze[x][y] == 2 : # 칼이 있는 위치 \n",
    "            knife = visited[x][y]-1 + (N-1-x + M-1-y) # 시작 ~ 칼까지 걸린 시간(=거리) + 칼 ~ 공주까지 걸린 거리 \n",
    "            ## knife를 여기서 바로 반환하면 안되는 이유 : knife를 지나는게 반드시 최단 거리는 아닐것이다 ??!\n",
    "    \n",
    "        if x == N-1 and y == M-1 : # 공주 위치 (도착위치) \n",
    "            return min(visited[x][y]-1, knife) \n",
    "        \n",
    "        for i in range(4): # 상하좌우 \n",
    "            nx = x + dx[i]\n",
    "            ny = y + dy[i]\n",
    "            if 0 <= nx < N and 0 <= ny < M and maze[nx][ny] != 1 : # 이동 가능한 경우 \n",
    "                if visited[nx][ny] == 0 :\n",
    "                    q.append((nx,ny))\n",
    "                    visited[nx][ny] = visited[x][y] + 1 \n",
    "        \n",
    "    return knife # 공주(도착 위치)까지 못 간 경우 # 일반적인 경우는 X - 칼이 갈수없는 위치에 있고, 벽을 뚫지않고는 공주에게 못가는 경우 \n",
    "    \n",
    "    \n",
    "short = bfs()\n",
    "if short > T :\n",
    "    print(\"Fail\")\n",
    "else:\n",
    "    print(short)"
   ]
  }
 ],
 "metadata": {
  "interpreter": {
   "hash": "7b34b089ce0dfc9935940e0a22050b2949fa617f7a2b73925623c261bed16aeb"
  },
  "kernelspec": {
   "display_name": "Python 3.8.5 ('base')",
   "language": "python",
   "name": "python3"
  },
  "language_info": {
   "codemirror_mode": {
    "name": "ipython",
    "version": 3
   },
   "file_extension": ".py",
   "mimetype": "text/x-python",
   "name": "python",
   "nbconvert_exporter": "python",
   "pygments_lexer": "ipython3",
   "version": "3.8.5"
  },
  "orig_nbformat": 4
 },
 "nbformat": 4,
 "nbformat_minor": 2
}
